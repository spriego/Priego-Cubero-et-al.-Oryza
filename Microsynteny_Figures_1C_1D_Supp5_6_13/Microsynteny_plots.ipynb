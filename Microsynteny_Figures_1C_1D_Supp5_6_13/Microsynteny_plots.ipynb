{
 "cells": [
  {
   "attachments": {},
   "cell_type": "markdown",
   "id": "5e4abc7a",
   "metadata": {},
   "source": [
    "# MBGC microsynteny plot in Oryza (Figure 1C)"
   ]
  },
  {
   "cell_type": "markdown",
   "id": "2b30684c",
   "metadata": {},
   "source": [
    "Download proteomes and annotations in fasta format from the sources specified in the manuscript.\n",
    "Add them into two separate folders: \n",
    "    proteomes\n",
    "    annotation\n",
    "\n",
    "Links: \n",
    "O. sativa - Annotation and proteome \n",
    "\n",
    "https://data.jgi.doe.gov/refine-download/phytozome?genome_id=323&_gl=1*d6rwwo*_ga*Nzc0NDYxMTE4LjE2OTUzODAyNTk.*_ga_YBLMHYR3C2*MTcwMjI5OTkwNi4zLjAuMTcwMjI5OTkwNi4wLjAuMA..&expanded=Phytozome-323\n",
    "\n",
    "O. punctata - Annotation and proteome \n",
    "\n",
    "https://ftp.ensemblgenomes.ebi.ac.uk/pub/plants/release-57/gff3/oryza_punctata/\n",
    "https://ftp.ensemblgenomes.ebi.ac.uk/pub/plants/release-57/fasta/oryza_punctata/pep/\n",
    "\n",
    "O. officinalis - Annotation and genome assembly \n",
    "\n",
    "https://datacommons.cyverse.org/browse/iplant/home/shared/commons_repo/curated/Shenton_OofficinalisAnnotation_2019\n",
    "https://www.ncbi.nlm.nih.gov/datasets/genome/GCA_008326285.1/\n",
    "\n",
    "Proteome (provided in the repository) obteined with gffread (see Figure_4E_SNP_calling_code.md)\n",
    "\n",
    "O. alta - Annotation and genome assembly \n",
    "\n",
    "https://download.cncb.ac.cn/gwh/Plants/Oryza_PPR1_GWHAZTO00000000/GWHAZTO00000000.Protein.faa.gz\n",
    "https://download.cncb.ac.cn/gwh/Plants/Oryza_PPR1_GWHAZTO00000000/GWHAZTO00000000.gff.gz\n",
    "\n",
    "O. coarctata - Zhao, H. A high-quality chromosome-level wild rice genome of Oryza coarctata. figshare. https://doi.org/10.6084/m9.figshare.23938590.v1 (2023).\n",
    "\n",
    "O. brachyantha - Annotation and proteome \n",
    "\n",
    "https://www.ncbi.nlm.nih.gov/datasets/genome/GCF_000231095.2/\n",
    "\n",
    "L. perrieri - Annotation and proteome\n",
    "\n",
    "https://ftp.gramene.org/release-68/gff3/leersia_perrieri/\n",
    "https://ftp.gramene.org/release-68/fasta/leersia_perrieri/pep/\n",
    "\n"
   ]
  },
  {
   "cell_type": "markdown",
   "id": "ff0ca88f",
   "metadata": {},
   "source": [
    "## Reformating files"
   ]
  },
  {
   "cell_type": "markdown",
   "id": "0118e51d",
   "metadata": {},
   "source": [
    "### Oryza alta"
   ]
  },
  {
   "cell_type": "markdown",
   "id": "7d4e60d8",
   "metadata": {},
   "source": [
    "Oryza alta is a tetraploid with subgenomes C and D. It is noteworthy that subgenome D lacks a Momilactone Biosynthetic Gene Cluster (MBGC). While illustrating the microsynteny pattern of both subgenomes could be informative, the inherent plot structure poses challenges. The disappearance of orthologous lines from the MBGC in the middle of the plot within subgenome D and the next genome might compromise visual clarity and aesthetics. That's why, I will only include subgenome C. \n",
    "\n",
    "The proteome file includes both subgenome C and D protein models. I will select these from subgenome C."
   ]
  },
  {
   "cell_type": "code",
   "execution_count": null,
   "id": "c10e9083",
   "metadata": {},
   "outputs": [],
   "source": [
    "# Selecting O. alta subgenome C\n",
    "\n",
    "from Bio import SeqIO\n",
    "\n",
    "\n",
    "# Load Proteome\n",
    "Oalta = list(SeqIO.parse(\"oalta_GWHAZTO00000000.Protein.faa\", \"fasta\"))\n",
    "\n",
    "# Filter ChrC\n",
    "ChrC = []\n",
    "for seqs in range(len(Oalta)):\n",
    "    if 'ChrC' in Oalta[seqs].description:\n",
    "        ChrC.append(Oalta[seqs])\n",
    "    \n",
    "SeqIO.write(ChrC, \"Oalta_ChrC_prot\", \"fasta\")"
   ]
  },
  {
   "cell_type": "markdown",
   "id": "0fb65290",
   "metadata": {},
   "source": [
    "### Oryza officinalis"
   ]
  },
  {
   "cell_type": "markdown",
   "id": "79a71886",
   "metadata": {},
   "source": [
    "In Oryza officinalis, a difference is observed downstream of the Momilactone Biosynthetic Gene Cluster (MBGC) compared to other Oryza species, as depicted in Figure 1B. Following the MBGC in O. officinalis, there is a substantial deletion, creating a gap until the next syntenic gene with O. sativa. This deleted region in O. officinalis is found to be syntenic to a group of approximately 30 genes on O. officinalis chromosome 7 (it could be due to a translocation event).\n",
    "\n",
    "To facilitate a clearer representation of the synteny pattern in O. officinalis, I will only utilize protein models derived from O. officinalis chromosome 4. This focused approach is to prevent visual clutter in the plot that would arise as the software would include the whole chr05, 06 and part of 07 for officinalis (until the syntenic genes of o. sativa region appear in o. officinalis). \n",
    "\n",
    "The rest of O. officinalis chr4 is syntenic to rice chr04. "
   ]
  },
  {
   "cell_type": "code",
   "execution_count": null,
   "id": "a07dd484",
   "metadata": {},
   "outputs": [],
   "source": [
    "# Select O. officinalis Chromosome 4\n",
    "\n",
    "from Bio import SeqIO\n",
    "\n",
    "\n",
    "# Load Proteome\n",
    "Ooffi = list(SeqIO.parse(\"proteomes/Ooffi.prot.fa\", \"fasta\"))\n",
    "\n",
    "# Filter ChrC\n",
    "Chr4 = []\n",
    "for seqs in range(len(Ooffi)):\n",
    "    if 'Chr04' in Ooffi[seqs].description:\n",
    "        Chr4.append(Ooffi[seqs])\n",
    "    \n",
    "SeqIO.write(Chr4, \"Ooffi_Chr4_prot\", \"fasta\")"
   ]
  },
  {
   "cell_type": "markdown",
   "id": "0fc03fa4",
   "metadata": {},
   "source": [
    "## Reformating annotation for MCscan"
   ]
  },
  {
   "cell_type": "code",
   "execution_count": null,
   "id": "b9350e70",
   "metadata": {
    "collapsed": true,
    "jupyter": {
     "outputs_hidden": true
    },
    "tags": []
   },
   "outputs": [],
   "source": [
    "!python3.9 -m jcvi.formats.gff bed --type=mRNA --key=Name --primary_only Osativa_323_v7.0.gene.gff -o rice_prot.bed\n",
    "!python3.9 -m jcvi.formats.gff bed --type=mRNA --key=Name --primary_only oalta_GWHAZTO00000000.gff -o oalta_prot.bed\n",
    "!python3.9 -m jcvi.formats.gff bed --type=mRNA --key=Name --primary_only Ooffi_maker_gene_annotation.gff -o ooffi_prot.bed\n",
    "!python3.9 -m jcvi.formats.gff bed --type=transcript --key=ID --primary_only Ocoarctata_scaffold26.gff3 -o ocoarc_prot.bed\n",
    "!python3.9 -m jcvi.formats.gff bed --type=mRNA --key=ID --primary_only Obra.GCF_000231095.2_ObraRS2_genomic.gff -o obra_prot.bed\n",
    "!python3.9 -m jcvi.formats.gff bed --type=mRNA --key=transcript_id --primary_only Leersia_perrieri.Lperr_V1.4.51.gff3 -o lpe_prot.bed\n",
    "!python3.9 -m jcvi.formats.gff bed --type=mRNA --key=transcript_id --primary_only Oryza_punctata.Oryza_punctata_v1.2.53.gff3 -o Opun_prot.bed\n",
    "\n",
    "!python3.9 -m jcvi.formats.gff bed --type=mRNA --key=ID --primary_only /Users/ra57rut/Desktop/projects/wild_genomes/MCScan/oryza_clean/annotation/Oco_Chr_genome_all.gff -o ocoL_prot.bed\n",
    "!python3.9 -m jcvi.formats.gff bed --type=mRNA --key=ID --primary_only /Users/ra57rut/Desktop/projects/wild_genomes/MCScan/oryza_clean/annotation/Oco_Chr_genome_all.gff -o ocoK_prot.bed"
   ]
  },
  {
   "cell_type": "markdown",
   "id": "118722f9",
   "metadata": {},
   "source": [
    "## Reformating proteomes for MCscan"
   ]
  },
  {
   "cell_type": "code",
   "execution_count": null,
   "id": "3a8ae200",
   "metadata": {
    "collapsed": true,
    "jupyter": {
     "outputs_hidden": true
    },
    "tags": []
   },
   "outputs": [],
   "source": [
    "!python3.9 -m jcvi.formats.fasta format Osativa_323_v7.0.protein_primaryTranscriptOnly.fa rice_prot.pep\n",
    "!python3.9 -m jcvi.formats.fasta format Ooffi.prot.fa ooffi_prot.pep\n",
    "!python3.9 -m jcvi.formats.fasta format oalta_GWHAZTO00000000.Protein.faa oalta_prot.pep --sep=OriID= --index=1 --minlength=100\n",
    "!python3.9 -m jcvi.formats.fasta format Oalta_ChrC_prot oalta_prot_ChrC.pep --sep=OriID= --index=1 --minlength=100\n",
    "!python3.9 -m jcvi.formats.fasta format O_coarctata_K.fa ocoK_prot.pep\n",
    "!python3.9 -m jcvi.formats.fasta format O_coarctata_L.fa ocoL_prot.pep\n",
    "!python3.9 -m jcvi.formats.fasta format Obra.prot.fa obra_prot.pep\n",
    "!python3.9 -m jcvi.formats.fasta format Leersia_perrieri.Lperr_V1.4.pep.all.fa lpe_prot.pep\n",
    "!python3.9 -m jcvi.formats.fasta format Oryza_punctata.Oryza_punctata_v1.2.pep.all.fa Opun_prot.pep"
   ]
  },
  {
   "cell_type": "markdown",
   "id": "caa951ee",
   "metadata": {},
   "source": [
    "## Find orthologs between species"
   ]
  },
  {
   "cell_type": "markdown",
   "id": "acd176ed",
   "metadata": {},
   "source": [
    "Take into account that the order matters. The first species is considered as your 'reference'. In figure 1A, O. sativa was alwasy the reference. "
   ]
  },
  {
   "cell_type": "code",
   "execution_count": null,
   "id": "f025528c",
   "metadata": {},
   "outputs": [],
   "source": [
    "!python3.9 -m jcvi.compara.catalog ortholog rice_prot ooffi_prot_chr4 --dbtype=prot --no_strip_names --liftover_dist=5 --cscore=0.99\n",
    "!python3.9 -m jcvi.compara.catalog ortholog rice_prot oalta_prot_ChrC --dbtype=prot --no_strip_names --liftover_dist=5 --cscore=0.99\n",
    "!python3.9 -m jcvi.compara.catalog ortholog rice_prot obra_prot --dbtype=prot --no_strip_names --liftover_dist=5 --cscore=0.99\n",
    "!python3.9 -m jcvi.compara.catalog ortholog rice_prot lpe_prot --dbtype=prot --no_strip_names --liftover_dist=5 --cscore=0.99\n",
    "!python3.9 -m jcvi.compara.catalog ortholog rice_prot Opun_prot --dbtype=prot --no_strip_names --liftover_dist=5 --cscore=0.99\n",
    "!python3.9 -m jcvi.compara.catalog ortholog rice_prot ocoL_prot --dbtype=prot --no_strip_names --liftover_dist=5 --cscore=0.99"
   ]
  },
  {
   "cell_type": "markdown",
   "id": "812a7ad2",
   "metadata": {},
   "source": [
    "## Create synteny files running MCscan"
   ]
  },
  {
   "cell_type": "code",
   "execution_count": null,
   "id": "85438126-5dff-497f-8c39-3557d17d19fe",
   "metadata": {
    "tags": []
   },
   "outputs": [],
   "source": [
    "!python3.9 -m jcvi.compara.synteny mcscan rice_prot.bed rice_prot.ooffi_prot_chr4.lifted.anchors --iter=1 -o rice_prot.ooffi_prot_chr4.i1.blocks\n",
    "!python3.9 -m jcvi.compara.synteny mcscan rice_prot.bed rice_prot.oalta_prot_ChrC.lifted.anchors --iter=1 -o rice_prot.oalta_prot_ChrC.i1.blocks\n",
    "!python3.9 -m jcvi.compara.synteny mcscan rice_prot.bed rice_prot.obra_prot.lifted.anchors --iter=1 -o rice_prot.obra_prot.i1.blocks\n",
    "!python3.9 -m jcvi.compara.synteny mcscan rice_prot.bed rice_prot.lpe_prot.lifted.anchors --iter=1 -o rice_prot.lpe_prot.i1.blocks\n",
    "!python3.9 -m jcvi.compara.synteny mcscan rice_prot.bed rice_prot.Opun_prot.lifted.anchors --iter=1 -o rice_prot.Opun_prot.i1.blocks\n",
    "!python3.9 -m jcvi.compara.synteny mcscan rice_prot.bed rice_prot.ocoL_prot.lifted.anchors --iter=1 -o rice_prot.ocoL_prot.i1.blocks"
   ]
  },
  {
   "cell_type": "markdown",
   "id": "3ce6cbd0",
   "metadata": {},
   "source": [
    "## Joined syntenic blocks"
   ]
  },
  {
   "cell_type": "markdown",
   "id": "af8f676c",
   "metadata": {},
   "source": [
    "Generate a consolidated file containing all syntenic blocks obtained from pairwise comparisons of O. sativa with the rest of the Oryza species.\n",
    "The first column comprises all O. sativa proteins in sequential order. The subsequent columns represent the best ortholog match to each O. sativa protein in the remaining Oryza species "
   ]
  },
  {
   "cell_type": "code",
   "execution_count": null,
   "id": "1eeeb557-4516-4996-9c82-91ddb6b81aa1",
   "metadata": {
    "tags": []
   },
   "outputs": [],
   "source": [
    "!python3.9 -m jcvi.formats.base join rice_prot.Opun_prot.i1.blocks rice_prot.ooffi_prot_chr4.i1.blocks rice_prot.oalta_prot_ChrC.i1.blocks rice_prot.ocoL_prot.i1.blocks rice_prot.obra_prot.i1.blocks rice_prot.lpe_prot.i1.blocks --noheader | cut -f1,2,4,6,8,10,12 > rice_oryza_lpe_Opun.blocks"
   ]
  },
  {
   "cell_type": "markdown",
   "id": "940bae27",
   "metadata": {},
   "source": [
    "## Microsynteny plot"
   ]
  },
  {
   "cell_type": "markdown",
   "id": "c730ee9b",
   "metadata": {},
   "source": [
    "Select the genomic region of our interest. In this case, the genomic region span around 300 genes that include the momilactones cluster (I tried to have it in the middle of the region)"
   ]
  },
  {
   "cell_type": "code",
   "execution_count": 1,
   "id": "f2b073e2",
   "metadata": {},
   "outputs": [],
   "source": [
    "!sed -n 14658,14947p rice_oryza_lpe_Opun.blocks > rice_oryza_lpe_Opun_blocks"
   ]
  },
  {
   "cell_type": "markdown",
   "id": "1a4795ca",
   "metadata": {},
   "source": [
    "Design the layout of our plot and write a file with this layout"
   ]
  },
  {
   "cell_type": "code",
   "execution_count": 88,
   "id": "d972ccd2",
   "metadata": {
    "jupyter": {
     "source_hidden": true
    },
    "tags": []
   },
   "outputs": [],
   "source": [
    "oryza_lpe_Opun_blocks='''# x,   y, rotation,     ha,     va, color, ratio,            label\n",
    "0.5, 0.7,        0, right,    center,      ,     1,       Osativa Chr4\n",
    "0.5, 0.65,        0, right, center,      ,    .5, Opun Chr4\n",
    "0.5, 0.6,        0, right, center,      ,    .5, Ooff Chr4\n",
    "0.5, 0.55,        0, right, center,      ,    .5, Oalta Chr4\n",
    "0.5, 0.5,        0, right, center,      ,    .5, Ocoarc Chr8G\n",
    "0.5, 0.45,        0, right, center,      ,    .5, Obra Chr4\n",
    "0.5, 0.4,        0, right, center,      ,    .5, Lperr Chr4\n",
    "# edges\n",
    "e, 0, 1\n",
    "e, 1, 2\n",
    "e, 2, 3\n",
    "e, 3, 4\n",
    "e, 4, 5\n",
    "e, 5, 6'''\n",
    "!echo \"{oryza_lpe_Opun_blocks}\">oryza_lpe_Opun_blocks.layout"
   ]
  },
  {
   "cell_type": "markdown",
   "id": "7db684ab",
   "metadata": {},
   "source": [
    "Combine all the annotation files of each species"
   ]
  },
  {
   "cell_type": "code",
   "execution_count": 13,
   "id": "3e33702f",
   "metadata": {},
   "outputs": [],
   "source": [
    "!cat rice_prot.bed ooffi_prot.bed oalta_prot_ChrC.bed ocoL_prot.bed obra_prot.bed lpe_prot.bed Opun_prot.bed > oryza_lpe_Opun.bed"
   ]
  },
  {
   "cell_type": "markdown",
   "id": "72e4a501",
   "metadata": {},
   "source": [
    "Add color edges"
   ]
  },
  {
   "cell_type": "code",
   "execution_count": null,
   "id": "e0dd20ec",
   "metadata": {},
   "outputs": [],
   "source": [
    "!sed -i '' \"/^LOC_Os04g09900/s/^/#EE8866*/\" rice_oryza_lpe_Opun_blocks\n",
    "!sed -i '' \"/^LOC_Os04g09920/s/^/#44BB99*/\" rice_oryza_lpe_Opun_blocks\n",
    "!sed -i '' \"/^LOC_Os04g10000/s/^/#99DDFF*/\" rice_oryza_lpe_Opun_blocks\n",
    "!sed -i '' \"/^LOC_Os04g10010/s/^/#99DDFF*/\" rice_oryza_lpe_Opun_blocks\n",
    "!sed -i '' \"/^LOC_Os04g10060/s/^/#EEDD88*/\" rice_oryza_lpe_Opun_blocks\n",
    "!sed -i '' \"/^LOC_Os04g10160/s/^/#44BB99*/\" rice_oryza_lpe_Opun_blocks"
   ]
  },
  {
   "cell_type": "code",
   "execution_count": null,
   "id": "8f48ab23-d44e-4cf1-a6be-b60133466350",
   "metadata": {},
   "outputs": [],
   "source": [
    "# Microsynteny plot\n",
    "\n",
    "!python3.9 -m jcvi.graphics.synteny rice_oryza_lpe_Opun_blocks oryza_lpe_Opun.bed oryza_lpe_Opun_blocks.layout"
   ]
  },
  {
   "cell_type": "markdown",
   "id": "f01d62cd",
   "metadata": {},
   "source": [
    "# Microsynteny between O. sativa, O. coarctata KK, O. australiensis, O. alta DD, O. granulata and O. brachyantha (SupFig 5)"
   ]
  },
  {
   "cell_type": "markdown",
   "id": "125dfde3",
   "metadata": {},
   "source": [
    "First, get O. alta subgenome D\n"
   ]
  },
  {
   "cell_type": "code",
   "execution_count": null,
   "id": "a74af1da",
   "metadata": {},
   "outputs": [],
   "source": [
    "from Bio import SeqIO\n",
    "\n",
    "# Load Proteome\n",
    "Oalta = list(SeqIO.parse(\"oalta_GWHAZTO00000000.Protein.faa\", \"fasta\"))\n",
    "\n",
    "# Filter ChrC\n",
    "ChrD = []\n",
    "for seqs in range(len(Oalta)):\n",
    "    if 'ChrD' in Oalta[seqs].description:\n",
    "        ChrD.append(Oalta[seqs])\n",
    "    \n",
    "SeqIO.write(ChrD, \"Oalta_ChrD.fa\", \"fasta\")"
   ]
  },
  {
   "cell_type": "code",
   "execution_count": null,
   "id": "e5d91f8a",
   "metadata": {},
   "outputs": [],
   "source": [
    "# Set the proteins ID to OriTranscriptID\n",
    "\n",
    "def get_transcript_id(description):\n",
    "    from Bio import SeqIO\n",
    "    import regex as re\n",
    "\n",
    "    new_id = re.search(r'\\bOriTrascriptID=([\\w.]+)\\b', description).group(1)\n",
    "    trimmed_new_id = new_id.replace('OriTrascriptID', '')\n",
    "    return(trimmed_new_id)\n",
    "\n",
    "# Load Genome\n",
    "Oalta = list(SeqIO.parse(\"proteomes/Oalta_ChrD.fa\", \"fasta\"))\n",
    "\n",
    "# Change Genome ID \n",
    "for seqs in range(len(Oalta)):\n",
    "    Oalta[seqs].id = get_transcript_id(Oalta[seqs].description)\n",
    "\n",
    "SeqIO.write(Oalta, \"proteomes/Oalta_ChrD_renamed.fa\", \"fasta\")"
   ]
  },
  {
   "cell_type": "markdown",
   "id": "deb01dd6",
   "metadata": {},
   "source": [
    "Reformat annotation"
   ]
  },
  {
   "cell_type": "code",
   "execution_count": null,
   "id": "c764a0b7",
   "metadata": {},
   "outputs": [],
   "source": [
    "!python3.9 -m jcvi.formats.gff bed --type=mRNA --key=ID --primary_only oalta_GWHAZTO00000000.gff -o Oalta_ChrD.bed\n",
    "!python3.9 -m jcvi.formats.gff bed --type=transcript --key=ID --primary_only Oaustr.gff -o Oaus.bed\n",
    "!python3.9 -m jcvi.formats.gff bed --type=mRNA --key=ID --primary_only Ogra_GWHAAKB00000000.gff -o ogra_prot.bed"
   ]
  },
  {
   "cell_type": "markdown",
   "id": "8faa90d0",
   "metadata": {},
   "source": [
    "Reformat fasta"
   ]
  },
  {
   "cell_type": "code",
   "execution_count": null,
   "id": "d1ac6c1f",
   "metadata": {},
   "outputs": [],
   "source": [
    "!python3.9 -m jcvi.formats.fasta format Oaustr.fa working_directory/Oaus.pep\n",
    "!python3.9 -m jcvi.formats.fasta format Oalta_ChrD_renamed.fa working_directory/Oalta_ChrD.pep\n",
    "!python3.9 -m jcvi.formats.fasta format Ogra.fa ogra_prot.pep"
   ]
  },
  {
   "cell_type": "markdown",
   "id": "3c6909cc",
   "metadata": {},
   "source": [
    "Find orthologs"
   ]
  },
  {
   "cell_type": "code",
   "execution_count": null,
   "id": "8d78e141",
   "metadata": {},
   "outputs": [],
   "source": [
    "!python3.9 -m jcvi.compara.catalog ortholog Oalta_ChrD rice_prot --dbtype=prot --no_strip_names --liftover_dist=5 --cscore=0.99\n",
    "!python3.9 -m jcvi.compara.catalog ortholog Oalta_ChrD Oaus --dbtype=prot --no_strip_names --liftover_dist=5 --cscore=0.99\n",
    "!python3.9 -m jcvi.compara.catalog ortholog Oalta_ChrD obra_prot --dbtype=prot --no_strip_names --liftover_dist=5 --cscore=0.99\n",
    "!python3.9 -m jcvi.compara.catalog ortholog Oalta_ChrD ogra_prot --dbtype=prot --no_strip_names --liftover_dist=5 --cscore=0.99\n",
    "!python3.9 -m jcvi.compara.catalog ortholog Oalta_ChrD ocoK_prot --dbtype=prot --no_strip_names --liftover_dist=5 --cscore=0.99"
   ]
  },
  {
   "cell_type": "markdown",
   "id": "dfea5cf3",
   "metadata": {},
   "source": [
    "MCScan"
   ]
  },
  {
   "cell_type": "code",
   "execution_count": null,
   "id": "b5a7e55a",
   "metadata": {},
   "outputs": [],
   "source": [
    "!python3.9 -m jcvi.compara.synteny mcscan Oalta_ChrD.bed Oalta_ChrD.rice_prot.lifted.anchors --iter=1 -o Oalta_ChrD.rice_prot.i1.blocks\n",
    "!python3.9 -m jcvi.compara.synteny mcscan Oalta_ChrD.bed Oalta_ChrD.Oaus.lifted.anchors --iter=1 -o Oalta_ChrD.Oaus.i1.blocks\n",
    "!python3.9 -m jcvi.compara.synteny mcscan Oalta_ChrD.bed Oalta_ChrD.obra_prot.lifted.anchors --iter=1 -o Oalta_ChrD.obra_prot.i1.blocks\n",
    "!python3.9 -m jcvi.compara.synteny mcscan Oalta_ChrD.bed Oalta_ChrD.ogra_prot.lifted.anchors --iter=1 -o Oalta_ChrD.ogra_prot.i1.blocks\n",
    "!python3.9 -m jcvi.compara.synteny mcscan Oalta_ChrD.bed Oalta_ChrD.ocoK_prot.lifted.anchors --iter=1 -o Oalta_ChrD.ocoK_prot.i1.blocks"
   ]
  },
  {
   "cell_type": "markdown",
   "id": "528a9e73",
   "metadata": {},
   "source": [
    "Join syntenic blocks"
   ]
  },
  {
   "cell_type": "code",
   "execution_count": null,
   "id": "d1f6e258",
   "metadata": {},
   "outputs": [],
   "source": [
    "!python3.9 -m jcvi.formats.base join Oalta_ChrD.Oaus.i1.blocks Oalta_ChrD.obra_prot.i1.blocks Oalta_ChrD.ogra_prot.i1.blocks Oalta_ChrD.rice_prot.i1.blocks Oalta_ChrD.ocoK_prot.i1.blocks --noheader | cut -f1,2,4,6,8,10 > altaD_rice_aus.blocks"
   ]
  },
  {
   "cell_type": "markdown",
   "id": "ef7c15cf",
   "metadata": {},
   "source": [
    "Region of interest"
   ]
  },
  {
   "cell_type": "code",
   "execution_count": null,
   "id": "d08fcda0",
   "metadata": {},
   "outputs": [],
   "source": [
    "# the cluster is in between OalD04g140070.1 and OalD04g139870.1\n",
    "!sed -n 69532,69582p altaD_rice_aus.blocks > altaD_rice_aus_blocks"
   ]
  },
  {
   "cell_type": "markdown",
   "id": "b66745ce",
   "metadata": {},
   "source": [
    "Combine annotation"
   ]
  },
  {
   "cell_type": "code",
   "execution_count": null,
   "id": "72da0f05",
   "metadata": {},
   "outputs": [],
   "source": [
    "!cat Oalta_ChrD.bed rice_prot.bed Oaus.bed ocoK_prot.bed obra_prot.bed ogra_prot.bed > altaD_rice_aus.bed"
   ]
  },
  {
   "cell_type": "markdown",
   "id": "05e9ce3f",
   "metadata": {},
   "source": [
    "Layout"
   ]
  },
  {
   "cell_type": "code",
   "execution_count": null,
   "id": "5f1f9a1e",
   "metadata": {},
   "outputs": [],
   "source": [
    "altaD_rice_aus='''# x,   y, rotation,     ha,     va, color, ratio,            label\n",
    "0.5, 0.8,        0, right,    center,      ,     .8,       O_alta Chr4D\n",
    "0.5, 0.75,        0, right, center,      ,    .8, O_aus Scf\n",
    "0.5, 0.7,        0, right, center,      ,    .8, O_bra Chr04\n",
    "0.5, 0.65,        0, right, center,      ,    .8, O_gra Scf\n",
    "0.5, 0.6,        0, right, center,      ,    .8, O_sativa Chr04\n",
    "0.5, 0.55,        0, right, center,      ,    .8, O_coarctata Chr08\n",
    "# edges\n",
    "e, 0, 1\n",
    "e, 1, 2\n",
    "e, 2, 3\n",
    "e, 3, 4\n",
    "e, 4, 5'''\n",
    "!echo \"{altaD_rice_aus}\">altaD_rice_aus.layout"
   ]
  },
  {
   "cell_type": "markdown",
   "id": "97eee64a",
   "metadata": {},
   "source": [
    "Microsynteny"
   ]
  },
  {
   "cell_type": "code",
   "execution_count": null,
   "id": "0b41a3b3",
   "metadata": {},
   "outputs": [],
   "source": [
    "!python3.9 -m jcvi.graphics.synteny altaD_rice_aus_blocks altaD_rice_aus.bed altaD_rice_aus.layout --glyphcolor=orthogroup --genelabelsize=1 --genelabels=LOC_Os04g09900.1,LOC_Os04g10160.1,rna-XM_006653110.3,rna-XM_040523537.1"
   ]
  },
  {
   "attachments": {},
   "cell_type": "markdown",
   "id": "03f2573c",
   "metadata": {},
   "source": [
    "# Microsynteny between MBGC in O. coarctata and E. crus-galli (Figure 1D)"
   ]
  },
  {
   "attachments": {},
   "cell_type": "markdown",
   "id": "8dde9d05",
   "metadata": {},
   "source": [
    "Download E. crus-galli prot and annotation\n",
    "\n",
    "https://download.cncb.ac.cn/gwh/Plants/Echinochloa_crus-galli_ec_v3_GWHBDNR00000000/GWHBDNR00000000.Protein.faa.gz\n",
    "https://download.cncb.ac.cn/gwh/Plants/Echinochloa_crus-galli_ec_v3_GWHBDNR00000000/GWHBDNR00000000.gff.gz"
   ]
  },
  {
   "attachments": {},
   "cell_type": "markdown",
   "id": "a2a8220e",
   "metadata": {},
   "source": [
    "Formating annotation"
   ]
  },
  {
   "cell_type": "code",
   "execution_count": 36,
   "id": "469b051f",
   "metadata": {},
   "outputs": [],
   "source": [
    "# Select E. crus-galli subgenome CH where momilactones cluster is found\n",
    "\n",
    "!awk '/ID=CH/' annotation/GWHBDNR00000000.gff > annotation/GWHBDNR00000000_CH.gff"
   ]
  },
  {
   "cell_type": "code",
   "execution_count": null,
   "id": "f5375af4",
   "metadata": {},
   "outputs": [],
   "source": [
    "!python3.9 -m jcvi.formats.gff bed --type=mRNA --key=ID --primary_only annotation/GWHBDNR00000000_CH.gff -o EC_CH.bed"
   ]
  },
  {
   "attachments": {},
   "cell_type": "markdown",
   "id": "78114233",
   "metadata": {},
   "source": [
    "Formating proteome"
   ]
  },
  {
   "cell_type": "code",
   "execution_count": 42,
   "id": "e6cea1a0",
   "metadata": {},
   "outputs": [],
   "source": [
    "!python3.9 -m jcvi.formats.fasta format proteomes/GWHBDNR00000000.Protein.faa EC.pep"
   ]
  },
  {
   "attachments": {},
   "cell_type": "markdown",
   "id": "092a5697",
   "metadata": {},
   "source": [
    "Proteins IDs do not match annotation. \n",
    "I will reformat them: \n",
    "We want to have the OriID (AH01.1.mRNA1) after > and not the id GWHPBDNR000001 "
   ]
  },
  {
   "cell_type": "code",
   "execution_count": 43,
   "id": "396c796c",
   "metadata": {},
   "outputs": [
    {
     "data": {
      "text/plain": [
       "104774"
      ]
     },
     "execution_count": 43,
     "metadata": {},
     "output_type": "execute_result"
    }
   ],
   "source": [
    "from Bio import SeqIO\n",
    "\n",
    "def get_GeneID(description):\n",
    "    \n",
    "    \"\"\"\"Given a SeqRecord description string, return the gene name as a string.\n",
    "    \n",
    "    \"\"\"\n",
    "    from Bio import SeqIO\n",
    "    import regex as re\n",
    "    \n",
    "    new_id = re.search(r'\\tOriID=([^\\t]+)', description).group(1)\n",
    "\n",
    "    return(new_id)\n",
    "\n",
    "# Load Proteome\n",
    "Egalli = list(SeqIO.parse(\"EC.pep\", \"fasta\"))\n",
    "\n",
    "# Change Proteins ID \n",
    "for seqs in range(len(Egalli)):\n",
    "    Egalli[seqs].id = get_GeneID(Egalli[seqs].description)\n",
    "    \n",
    "SeqIO.write(Egalli, \"EC.pep\", \"fasta\")"
   ]
  },
  {
   "attachments": {},
   "cell_type": "markdown",
   "id": "1accaf09",
   "metadata": {},
   "source": [
    "regex expression: \n",
    "\\tOriID=([^\\t]+) \n",
    "\n",
    "    \\t matches the tab character, \n",
    "    OriID= matches the literal string \"OriID=\"\n",
    "    ([^\\t]+) captures one or more characters that are not a tab and saves it in a capturing group. \n",
    "    \n",
    "    This pattern ensures that only the desired string \"AH01.2.mRNA1\" is extracted from the section between two tab characters starting with OriID"
   ]
  },
  {
   "attachments": {},
   "cell_type": "markdown",
   "id": "c5c9b759",
   "metadata": {},
   "source": [
    "We need to reformat a bit more the protein header with the next line of code.\n",
    "Explanation:\n",
    "\n",
    "1. Each protein header looks like '>CH04.2371.mRNA1 GWHPBDNR084997 mRNA=GWHTBDNR084997\tGene=GWHGBDNR084997'. This command will simplify it and remove everything after the first space.\n",
    "\n",
    "2. Linearize the fasta file to filter by line with awk\n",
    "\n",
    "3. Filter with awk each line that contains 'CH', meaning that belongs to subgenome CH\n",
    "\n",
    "4. Delinearize"
   ]
  },
  {
   "cell_type": "code",
   "execution_count": 44,
   "id": "a9a9d21a",
   "metadata": {},
   "outputs": [],
   "source": [
    "# Reformat more the proteins header\n",
    "\n",
    "\n",
    "!sed -E 's/^>([^ ]+).*/>\\1/' EC.pep | awk '{ if ((NR>1)&&($0~/^>/)) { printf(\"\\n%s\", $0); } else if (NR==1) { printf(\"%s\", $0); } else { printf(\"\\t%s\", $0); } }' | awk '/>CH/' | tr \"\\t\" \"\\n\" > EC_CH.pep\n",
    "\n",
    "\n"
   ]
  },
  {
   "attachments": {},
   "cell_type": "markdown",
   "id": "1655c343",
   "metadata": {},
   "source": [
    "Find orthologs between O. coarctata L and E. crus-galli CH"
   ]
  },
  {
   "cell_type": "code",
   "execution_count": 48,
   "id": "32216aed",
   "metadata": {
    "collapsed": true,
    "jupyter": {
     "outputs_hidden": true
    },
    "tags": []
   },
   "outputs": [],
   "source": [
    "!python3.9 -m jcvi.compara.catalog ortholog ocoL_prot EC_CH --dbtype=prot --no_strip_names --liftover_dist=4 --cscore=.99"
   ]
  },
  {
   "attachments": {},
   "cell_type": "markdown",
   "id": "d71d91c2",
   "metadata": {},
   "source": [
    "Running MCScan"
   ]
  },
  {
   "cell_type": "code",
   "execution_count": null,
   "id": "1b51dd49",
   "metadata": {},
   "outputs": [],
   "source": [
    "!python3.9 -m jcvi.compara.synteny mcscan ocoL_prot.bed ocoL_prot.EC_CH.lifted.anchors --iter=4 -o ocoL_prot.EC_CH.i4.blocks"
   ]
  },
  {
   "cell_type": "markdown",
   "id": "34b65ad9",
   "metadata": {},
   "source": [
    "Select the region containing the MBGC. In this case, nothing else but the cluster is syntenic."
   ]
  },
  {
   "cell_type": "code",
   "execution_count": 55,
   "id": "ec0629ca",
   "metadata": {},
   "outputs": [],
   "source": [
    "!sed -n 19938,19943p ocoL_prot.EC_CH.i4.blocks | cut -f1,3 > ocoL_EC.blocks"
   ]
  },
  {
   "cell_type": "markdown",
   "id": "ead4d58a",
   "metadata": {},
   "source": [
    "Design layout"
   ]
  },
  {
   "cell_type": "code",
   "execution_count": 52,
   "id": "c5e02fb1",
   "metadata": {},
   "outputs": [],
   "source": [
    "ocoL_EC_layout='''# x,   y, rotation,   ha,     va,   color, ratio,            label\n",
    "0.5, 0.6,        0, left, center,       m,     1,       O_coarctata Chr08\n",
    "0.5, 0.45,        0, left, center, #fc8d62,     1, Ecrus-galli Chr04C\n",
    "# edges\n",
    "e, 0, 1'''\n",
    "!echo \"{ocoL_EC_layout}\">ocoL_EC.layout"
   ]
  },
  {
   "cell_type": "markdown",
   "id": "ee4ce2ec",
   "metadata": {},
   "source": [
    "Combine annotations"
   ]
  },
  {
   "cell_type": "code",
   "execution_count": 53,
   "id": "f3ce940e",
   "metadata": {},
   "outputs": [],
   "source": [
    "!cat ocoL_prot.bed EC_CH.bed > ocoL_EC.bed"
   ]
  },
  {
   "cell_type": "markdown",
   "id": "c46f0bd9",
   "metadata": {},
   "source": [
    "Draw microsynteny plot"
   ]
  },
  {
   "cell_type": "code",
   "execution_count": null,
   "id": "867bff30",
   "metadata": {},
   "outputs": [],
   "source": [
    "!python3.9 -m jcvi.graphics.synteny ocoL_EC.blocks ocoL_EC.bed ocoL_EC.layout --glyphcolor=orthogroup --glyphstyle=arrow --genelabelsize=4"
   ]
  },
  {
   "attachments": {},
   "cell_type": "markdown",
   "id": "0ade7f44",
   "metadata": {},
   "source": [
    "# Triticeae Oryza MBGC microsynteny (Supplementary Figure 13) "
   ]
  },
  {
   "cell_type": "markdown",
   "id": "f211d380",
   "metadata": {},
   "source": [
    "Wheat - proteome and annotation\n",
    "\n",
    "https://wheat-urgi.versailles.inrae.fr/Seq-Repository/Annotations \n",
    "From the annotation .zip file, I used the .HC.gff3 (High Confidence) and the iwgsc_refseqv2.1_annotation_200916_HC_pep.fasta\n",
    "\n",
    "H. vulgare\n",
    "\n",
    "https://data.jgi.doe.gov/refine-download/phytozome?genome_id=702&_gl=1*1wsa393*_ga*Nzc0NDYxMTE4LjE2OTUzODAyNTk.*_ga_YBLMHYR3C2*MTcwMjY0OTE3NC41LjEuMTcwMjY1MDgzOC4wLjAuMA..&expanded=Phytozome-702\n",
    "\n",
    "\n",
    "ATTENTION: the genome annotation in Phytozome and EnsemblPlants lack some of the genes reported to be in barley's BGC by Liu et al. 2021\n",
    "\n",
    "The right version can be found here: https://doi.ipk-gatersleben.de/DOI/b2f47dfb-47ff-4114-89ae-bad8dcc515a1/21172880-2956-4cbb-ab2c-5c00bceb08a2/0\n",
    "Proteome: https://doi.ipk-gatersleben.de/DOI/b2f47dfb-47ff-4114-89ae-bad8dcc515a1/030c72f7-32ae-443a-9b3c-1a7fcf8e306f/1\n",
    "Annotation: https://doi.ipk-gatersleben.de/DOI/b2f47dfb-47ff-4114-89ae-bad8dcc515a1/5d16cc17-c37f-417f-855d-c5e72c721f6c/1\n"
   ]
  },
  {
   "cell_type": "markdown",
   "id": "023b03e4",
   "metadata": {},
   "source": [
    " Reformating proteome\n"
   ]
  },
  {
   "cell_type": "code",
   "execution_count": null,
   "id": "df880366",
   "metadata": {},
   "outputs": [],
   "source": [
    "# Select Wheat subgenome A\n",
    "!awk '/^>/ {P=match($0, /TraesCS[0-9]+A/)>0} {if(P) print}' iwgsc_refseqv2.1_annotation_200916_HC_pep.fasta > iwgsc2.1_A.HC.fasta\n",
    "# Select Wheat subgenome D\n",
    "!awk '/^>/ {P=match($0, /TraesCS[0-9]+D/)>0} {if(P) print}' iwgsc_refseqv2.1_annotation_200916_HC_pep.fasta > iwgsc2.1_D.HC.fasta"
   ]
  },
  {
   "cell_type": "code",
   "execution_count": null,
   "id": "13d7bff1",
   "metadata": {},
   "outputs": [],
   "source": [
    "!python3.9 -m jcvi.formats.fasta format iwgsc2.1_A.HC.fasta wheat_A.pep\n",
    "!python3.9 -m jcvi.formats.fasta format iwgsc2.1_D.HC.fasta wheat_D.pep\n",
    "!python3.9 -m jcvi.formats.fasta format Hv_Morex.pgsb.Jul2020.aa.fa Hvu.pep\n",
    "\n",
    "# O. sativa and O. coarctata are already formated from the code used for figure 1b"
   ]
  },
  {
   "cell_type": "markdown",
   "id": "6f4d484f",
   "metadata": {},
   "source": [
    " Reformating annotation"
   ]
  },
  {
   "cell_type": "code",
   "execution_count": null,
   "id": "19ead3b0",
   "metadata": {},
   "outputs": [],
   "source": [
    "# Select Wheat subgenome A gff\n",
    "!awk '/Chr[0-9]A/' iwgsc_refseqv2.1_annotation_200916_HC.gff3 > iwgsc2.1_A.HC.gff3\n",
    "# Select Wheat subgenome D gff\n",
    "!awk '/Chr[0-9]D/' iwgsc_refseqv2.1_annotation_200916_HC.gff3 > iwgsc2.1_D.HC.gff3"
   ]
  },
  {
   "cell_type": "code",
   "execution_count": null,
   "id": "382e2efe",
   "metadata": {},
   "outputs": [],
   "source": [
    "!python3.9 -m jcvi.formats.gff bed --type=mRNA --key=ID --primary_only iwgsc2.1_A.HC.gff3 -o working_directory/wheat_A.bed\n",
    "!python3.9 -m jcvi.formats.gff bed --type=mRNA --key=ID --primary_only iwgsc2.1_D.HC.gff3 -o working_directory/wheat_D.bed\n",
    "!python3.9 -m jcvi.formats.gff bed --type=mRNA --key=ID --primary_only Hv_Morex.pgsb.Jul2020.gff3 -o Hvu.bed\n",
    "\n",
    "# O. sativa, O. coarctata and E. crus-galli are already formated from the code used for figure 1b"
   ]
  },
  {
   "cell_type": "markdown",
   "id": "cd5f2add",
   "metadata": {},
   "source": [
    "Whole subgenome comparisons"
   ]
  },
  {
   "cell_type": "code",
   "execution_count": null,
   "id": "1fea0722",
   "metadata": {},
   "outputs": [],
   "source": [
    "!python3.9 -m jcvi.compara.catalog ortholog wheat_A wheat_D --dbtype=prot --no_strip_names --cscore=.99 --liftover_dist=5\n",
    "!python3.9 -m jcvi.compara.catalog ortholog wheat_A Hvu --dbtype=prot --no_strip_names --cscore=.99 --liftover_dist=5\n",
    "!python3.9 -m jcvi.compara.catalog ortholog wheat_A ocoL_prot --dbtype=prot --no_strip_names --cscore=.99 --liftover_dist=5\n",
    "!python3.9 -m jcvi.compara.catalog ortholog wheat_A rice_prot --dbtype=prot --no_strip_names --cscore=.99 --liftover_dist=5\n",
    "!python3.9 -m jcvi.compara.catalog ortholog wheat_A EC_CH --dbtype=prot --no_strip_names --cscore=.99 --liftover_dist=5"
   ]
  },
  {
   "cell_type": "markdown",
   "id": "0b4d25f8",
   "metadata": {},
   "source": [
    " Synteny MCscan"
   ]
  },
  {
   "cell_type": "code",
   "execution_count": null,
   "id": "5ac44796",
   "metadata": {},
   "outputs": [],
   "source": [
    "!python3.9 -m jcvi.compara.synteny mcscan wheat_A.bed wheat_A.wheat_D.lifted.anchors --iter=1 -o wheat_A.wheat_D.i1.blocks\n",
    "!python3.9 -m jcvi.compara.synteny mcscan wheat_A.bed wheat_A.Hvu.lifted.anchors --iter=1 -o wheat_A.Hvu.i1.blocks\n",
    "!python3.9 -m jcvi.compara.synteny mcscan wheat_A.bed wheat_A.ocoL_prot.lifted.anchors --iter=1 -o wheat_A.ocoL.i1.blocks\n",
    "!python3.9 -m jcvi.compara.synteny mcscan wheat_A.bed wheat_A.rice_prot.lifted.anchors --iter=1 -o wheat_A.rice_prot.i1.blocks\n",
    "!python3.9 -m jcvi.compara.synteny mcscan wheat_A.bed wheat_A.EC_CH.lifted.anchors --iter=1 -o wheat_A.EC_CH.i1.blocks"
   ]
  },
  {
   "cell_type": "markdown",
   "id": "7cfcc763",
   "metadata": {},
   "source": [
    "Join synteny blocks"
   ]
  },
  {
   "cell_type": "code",
   "execution_count": null,
   "id": "3649cf06",
   "metadata": {},
   "outputs": [],
   "source": [
    "!python3.9 -m jcvi.formats.base join wheat_A.wheat_D.i1.blocks wheat_A.Hvu.i1.blocks wheat_A.ocoL.i1.blocks wheat_A.rice_prot.i1.blocks wheat_A.EC_CH.i1.blocks --noheader | cut -f1,2,4,6,8,10 > wheat_A.blocks"
   ]
  },
  {
   "cell_type": "markdown",
   "id": "71707f01",
   "metadata": {},
   "source": [
    " Select region of interest"
   ]
  },
  {
   "cell_type": "code",
   "execution_count": null,
   "id": "db87b8eb",
   "metadata": {},
   "outputs": [],
   "source": [
    "!sed -n 4360,5093p wheat_A.blocks > wheat_A_blocks"
   ]
  },
  {
   "cell_type": "code",
   "execution_count": null,
   "id": "97d56bcb",
   "metadata": {},
   "outputs": [],
   "source": [
    "# color genes\n",
    "# CPS4\n",
    "!sed -i '' '/LOC_Os04g09900.1/s/^/#EE8866*/p' wheat_A_blocks\n",
    "!sed -i '' '/LOC_Os04g09900.1/s/^/#EE8866*/p' wheat_A_blocks_zoom\n",
    "# CYP992/3\n",
    "!sed -i '' '/LOC_Os04g09920.1/s/^/#44BB99*/p' wheat_A_blocks\n",
    "!sed -i '' '/LOC_Os04g10160.1/s/^/#44BB99*/p' wheat_A_blocks\n",
    "!sed -i '' '/LOC_Os04g09920.1/s/^/#44BB99*/p' wheat_A_blocks_zoom\n",
    "!sed -i '' '/LOC_Os04g10160.1/s/^/#44BB99*/p' wheat_A_blocks_zoom\n",
    "# KSL4\n",
    "!sed -i '' '/LOC_Os04g10060.1/s/^/#EEDD88*/p' wheat_A_blocks\n",
    "!sed -i '' '/LOC_Os04g10060.1/s/^/#EEDD88*/p' wheat_A_blocks_zoom"
   ]
  },
  {
   "cell_type": "markdown",
   "id": "abb708de",
   "metadata": {},
   "source": [
    "Combine annotation"
   ]
  },
  {
   "cell_type": "code",
   "execution_count": null,
   "id": "caa97e0d",
   "metadata": {},
   "outputs": [],
   "source": [
    "!cat wheat_A.bed wheat_D.bed Hvu.bed ocoL_prot.bed rice_prot.bed EC.bed > wheat_A_blocks.bed"
   ]
  },
  {
   "cell_type": "markdown",
   "id": "284e43e0",
   "metadata": {},
   "source": [
    "Plot layout"
   ]
  },
  {
   "cell_type": "code",
   "execution_count": null,
   "id": "7c90b12e",
   "metadata": {},
   "outputs": [],
   "source": [
    "wheat_A_blocks='''# x,   y, rotation,     ha,     va, color, ratio,            label\n",
    "0.5, 0.8,        0, right,    top,      ,     .8,       Wheat Chr2A\n",
    "0.5, 0.75,        0, right, top,      ,    .8, Wheat Chr2D\n",
    "0.5, 0.7,        0, right, top,      ,    .8, H. vulgare Chr2\n",
    "0.5, 0.65,        0, right, top,      ,    .8, O. coarctata Chr08\n",
    "0.5, 0.6,        0, right, top,      ,    .8, O. sativa Chr4\n",
    "0.5, 0.55,        0, right, top,      ,    .8, EC CH09\n",
    "# edges\n",
    "e, 0, 1\n",
    "e, 1, 2\n",
    "e, 2, 3\n",
    "e, 3, 4\n",
    "e, 4, 5'''\n",
    "!echo \"{wheat_A_blocks}\">wheat_A_blocks.layout\n"
   ]
  },
  {
   "cell_type": "markdown",
   "id": "f3b555c6",
   "metadata": {},
   "source": [
    "Microsynteny plot"
   ]
  },
  {
   "cell_type": "code",
   "execution_count": null,
   "id": "02975f8b",
   "metadata": {},
   "outputs": [],
   "source": [
    "!python3.9 -m jcvi.graphics.synteny wheat_A_blocks wheat_A_blocks.bed wheat_A_blocks.layout --glyphcolor=orthogroup"
   ]
  },
  {
   "cell_type": "markdown",
   "id": "eac06919",
   "metadata": {},
   "source": [
    "# Synteny O. coarctata vs E. crus-galli (Supplementary Figure 6) "
   ]
  },
  {
   "cell_type": "markdown",
   "id": "80cb992b",
   "metadata": {},
   "source": [
    "Prepare annotation just for the LL subgenome"
   ]
  },
  {
   "cell_type": "code",
   "execution_count": null,
   "id": "7f3c6cf5",
   "metadata": {},
   "outputs": [],
   "source": [
    "!awk '$1 ~ /^LG(02|04|06|08|10|12|14|16|18|20|22|24)$/' Oco_Chr_genome_all.gff > Oco_LL.gff\n",
    "!python3.9 -m jcvi.formats.gff bed --type=mRNA --key=ID --primary_only Oco_LL.gff -o Oco_LL_subgenome.bed"
   ]
  },
  {
   "cell_type": "markdown",
   "id": "ee89f48f",
   "metadata": {},
   "source": [
    "I will repeat the next line because annotation and protein files need the same name "
   ]
  },
  {
   "cell_type": "code",
   "execution_count": null,
   "id": "e62442be",
   "metadata": {},
   "outputs": [],
   "source": [
    "!python3.9 -m jcvi.formats.fasta format O_coarctata_L.fa Oco_LL_subgenome.pep"
   ]
  },
  {
   "cell_type": "markdown",
   "id": "89dab1a8",
   "metadata": {},
   "source": [
    "Find orthologs"
   ]
  },
  {
   "cell_type": "code",
   "execution_count": null,
   "id": "5c57d76c",
   "metadata": {},
   "outputs": [],
   "source": [
    "# coarctata anchor species\n",
    "!python3.9 -m jcvi.compara.catalog ortholog Oco_LL_subgenome EC_CH --dbtype=prot --no_strip_names --liftover_dist=5 --cscore=0.99\n",
    "\n",
    "# echinochloa anchor species\n",
    "!python3.9 -m jcvi.compara.catalog ortholog EC_CH Oco_LL_subgenome --dbtype=prot --no_strip_names --liftover_dist=5 --cscore=0.99"
   ]
  },
  {
   "cell_type": "markdown",
   "id": "ef9d3c16",
   "metadata": {},
   "source": [
    "Find blocks"
   ]
  },
  {
   "cell_type": "code",
   "execution_count": null,
   "id": "b5ec64d4",
   "metadata": {},
   "outputs": [],
   "source": [
    "# O. coarctata (sub-genome L) as anchor species\n",
    "!python3.9 -m jcvi.compara.synteny mcscan Oco_LL_subgenome.bed Oco_LL_subgenome.EC_CH.lifted.anchors --iter=5 -o Oco_LL_subgenome.EC_CH.i5.blocks\n",
    "# E. crus-galli (sub-genome C) as anchor species\n",
    "!python3.9 -m jcvi.compara.synteny mcscan EC_CH.bed EC_CH.Oco_LL_subgenome.lifted.anchors --iter=5 -o EC_CH.Oco_LL_subgenome.i5.blocks"
   ]
  },
  {
   "cell_type": "markdown",
   "id": "4b8aeac7",
   "metadata": {},
   "source": [
    "Microsynteny"
   ]
  },
  {
   "cell_type": "code",
   "execution_count": null,
   "id": "7358782c",
   "metadata": {},
   "outputs": [],
   "source": [
    "# coarctata as anchor species\n",
    "!sed -n 9010,9250p Oco_LL_subgenome.EC_CH.i5.blocks | cut -f1,2 > Oco_LL_subgenome.EC_CH\n",
    "!sed -n 9130,9220p Oco_LL_subgenome.EC_CH.i5.blocks | cut -f1,2 > Oco_LL_subgenome_ZOOM.EC_CH\n",
    "# echinocloa as anchor species\n",
    "!sed -n 17682,17972p EC_CH.Oco_LL_subgenome.i5.blocks | cut -f1,2 > EC_CH.Oco_LL_subgenome\n",
    "!sed -n 17822,17920p EC_CH.Oco_LL_subgenome.i5.blocks | cut -f1,2 > EC_CH_ZOOM.Oco_LL_subgenome"
   ]
  },
  {
   "cell_type": "code",
   "execution_count": null,
   "id": "3b4b92b6",
   "metadata": {},
   "outputs": [],
   "source": [
    "!cat Oco_LL_subgenome.bed EC_CH.bed> Oco_LL.EC_CH.bed\n",
    "!cat EC_CH.bed Oco_LL_subgenome.bed > EC_CH.Oco_LL.bed"
   ]
  },
  {
   "cell_type": "code",
   "execution_count": null,
   "id": "dc37a809",
   "metadata": {},
   "outputs": [],
   "source": [
    "Oco_LL_EC_CH='''# x,   y, rotation,     ha,     va, color, ratio,            label\n",
    "0.5, 0.8,        0, right,    center,      ,     .5,       Ocoarctata Chr04LL\n",
    "0.5, 0.7,        0, right, center,      ,    .5, E_crus-galli CH09\n",
    "# edges\n",
    "e, 0, 1'''\n",
    "!echo \"{Oco_LL_EC_CH}\">Oco_LL_EC_CH.layout\n",
    "\n",
    "EC_CH_Oco_LL='''# x,   y, rotation,     ha,     va, color, ratio,            label\n",
    "0.5, 0.8,        0, right,    center,      ,     .5,       E_crus-galli CH04\n",
    "0.5, 0.7,        0, right, center,      ,    .5, Ocoarctata Chr11LL\n",
    "# edges\n",
    "e, 0, 1'''\n",
    "!echo \"{EC_CH_Oco_LL}\">EC_CH_Oco_LL.layout"
   ]
  },
  {
   "cell_type": "code",
   "execution_count": null,
   "id": "b77326b3",
   "metadata": {},
   "outputs": [],
   "source": [
    "# O. coarctata as anchor\n",
    "!python3.9 -m jcvi.graphics.synteny Oco_LL_subgenome.EC_CH Oco_LL.EC_CH.bed Oco_LL_EC_CH.layout --glyphcolor=orthogroup --genelabelsize=1 --genelabels=Oco08G001460.1,Oco08G001510.1\n",
    "## zoom\n",
    "!python3.9 -m jcvi.graphics.synteny Oco_LL_subgenome_ZOOM.EC_CH Oco_LL.EC_CH.bed Oco_LL_EC_CH.layout --glyphcolor=orthogroup --genelabelsize=1 --genelabels=Oco08G001460.1,Oco08G001510.1\n",
    "\n",
    "# E. crus-galli as anchor\n",
    "!python3.9 -m jcvi.graphics.synteny EC_CH.Oco_LL_subgenome EC_CH.Oco_LL.bed EC_CH_Oco_LL.layout --glyphcolor=orthogroup --genelabelsize=1 --genelabels=CH04.2638.mRNA1,CH04.2643.mRNA1\n",
    "## zoom \n",
    "!python3.9 -m jcvi.graphics.synteny EC_CH_ZOOM.Oco_LL_subgenome EC_CH.Oco_LL.bed EC_CH_Oco_LL.layout --glyphcolor=orthogroup --genelabelsize=1 --genelabels=CH04.2638.mRNA1,CH04.2643.mRNA1\n"
   ]
  }
 ],
 "metadata": {
  "kernelspec": {
   "display_name": "lastal",
   "language": "python",
   "name": "python3"
  },
  "language_info": {
   "codemirror_mode": {
    "name": "ipython",
    "version": 3
   },
   "file_extension": ".py",
   "mimetype": "text/x-python",
   "name": "python",
   "nbconvert_exporter": "python",
   "pygments_lexer": "ipython3",
   "version": "3.9.4"
  }
 },
 "nbformat": 4,
 "nbformat_minor": 5
}
