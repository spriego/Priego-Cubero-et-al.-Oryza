{
 "cells": [
  {
   "attachments": {},
   "cell_type": "markdown",
   "id": "5e4abc7a",
   "metadata": {},
   "source": [
    "# MBGC microsynteny plot in Oryza (Figure 1B)"
   ]
  },
  {
   "cell_type": "markdown",
   "id": "2b30684c",
   "metadata": {},
   "source": [
    "Download proteomes and annotations in fasta format from the sources specified in the manuscript.\n",
    "Add them into two separate folders: \n",
    "    proteomes\n",
    "    annotation\n",
    "\n",
    "Links: \n",
    "O. sativa - Annotation and proteome \n",
    "\n",
    "https://data.jgi.doe.gov/refine-download/phytozome?genome_id=323&_gl=1*d6rwwo*_ga*Nzc0NDYxMTE4LjE2OTUzODAyNTk.*_ga_YBLMHYR3C2*MTcwMjI5OTkwNi4zLjAuMTcwMjI5OTkwNi4wLjAuMA..&expanded=Phytozome-323\n",
    "\n",
    "O. punctata - Annotation and proteome \n",
    "\n",
    "https://ftp.ensemblgenomes.ebi.ac.uk/pub/plants/release-57/gff3/oryza_punctata/\n",
    "https://ftp.ensemblgenomes.ebi.ac.uk/pub/plants/release-57/fasta/oryza_punctata/pep/\n",
    "\n",
    "O. officinalis - Annotation and genome assembly \n",
    "\n",
    "https://datacommons.cyverse.org/browse/iplant/home/shared/commons_repo/curated/Shenton_OofficinalisAnnotation_2019\n",
    "https://www.ncbi.nlm.nih.gov/datasets/genome/GCA_008326285.1/\n",
    "\n",
    "Proteome (provided in the repository) obteined with gffread (see Figure_4E_SNP_calling_code.md)\n",
    "\n",
    "O. alta - Annotation and genome assembly \n",
    "\n",
    "https://download.cncb.ac.cn/gwh/Plants/Oryza_PPR1_GWHAZTO00000000/GWHAZTO00000000.Protein.faa.gz\n",
    "https://download.cncb.ac.cn/gwh/Plants/Oryza_PPR1_GWHAZTO00000000/GWHAZTO00000000.gff.gz\n",
    "\n",
    "O. coarctata - Annotation and proteome (scaffold 26) provided in the repository\n",
    "\n",
    "O. brachyantha - Annotation and proteome \n",
    "\n",
    "https://www.ncbi.nlm.nih.gov/datasets/genome/GCF_000231095.2/\n",
    "\n",
    "L. perrieri - Annotation and proteome\n",
    "\n",
    "https://ftp.gramene.org/release-68/gff3/leersia_perrieri/\n",
    "https://ftp.gramene.org/release-68/fasta/leersia_perrieri/pep/\n",
    "\n"
   ]
  },
  {
   "cell_type": "markdown",
   "id": "ff0ca88f",
   "metadata": {},
   "source": [
    "## Reformating files"
   ]
  },
  {
   "cell_type": "markdown",
   "id": "0118e51d",
   "metadata": {},
   "source": [
    "### Oryza alta"
   ]
  },
  {
   "cell_type": "markdown",
   "id": "7d4e60d8",
   "metadata": {},
   "source": [
    "Oryza alta is a tetraploid with subgenomes C and D. It is noteworthy that subgenome D lacks a Momilactone Biosynthetic Gene Cluster (MBGC). While illustrating the microsynteny pattern of both subgenomes could be informative, the inherent plot structure poses challenges. The disappearance of orthologous lines from the MBGC in the middle of the plot within subgenome D and the next genome might compromise visual clarity and aesthetics. That's why, I will only include subgenome C. \n",
    "\n",
    "The proteome file includes both subgenome C and D protein models. I will select these from subgenome C."
   ]
  },
  {
   "cell_type": "code",
   "execution_count": null,
   "id": "c10e9083",
   "metadata": {},
   "outputs": [],
   "source": [
    "# Selecting O. alta subgenome C\n",
    "\n",
    "from Bio import SeqIO\n",
    "\n",
    "\n",
    "# Load Proteome\n",
    "Oalta = list(SeqIO.parse(\"proteomes/oalta_GWHAZTO00000000.Protein.faa\", \"fasta\"))\n",
    "\n",
    "# Filter ChrC\n",
    "ChrC = []\n",
    "for seqs in range(len(Oalta)):\n",
    "    if 'ChrC' in Oalta[seqs].description:\n",
    "        ChrC.append(Oalta[seqs])\n",
    "    \n",
    "SeqIO.write(ChrC, \"Oalta_ChrC_prot\", \"fasta\")"
   ]
  },
  {
   "cell_type": "markdown",
   "id": "0fb65290",
   "metadata": {},
   "source": [
    "### Oryza officinalis"
   ]
  },
  {
   "cell_type": "markdown",
   "id": "79a71886",
   "metadata": {},
   "source": [
    "In Oryza officinalis, an apparent large deletion downstream of the Momilactone Biosynthetic Gene Cluster (MBGC) suggests a deviation compared to other Oryza species illustrated in Figure 1A. This discrepancy could potentially be attributed to an assembly error. Consequently, the orthologous genes in other oryza species to the few genes in that region, before the next orthologous in chromosome 4, are situated on a different chromosome. To facilitate a clearer representation of the synteny pattern in O. officinalis, I will exclusively utilize protein models from chromosome 4."
   ]
  },
  {
   "cell_type": "code",
   "execution_count": null,
   "id": "a07dd484",
   "metadata": {},
   "outputs": [],
   "source": [
    "# Select O. officinalis Chromosome 4\n",
    "\n",
    "from Bio import SeqIO\n",
    "\n",
    "\n",
    "# Load Proteome\n",
    "Ooffi = list(SeqIO.parse(\"proteomes/Ooffi.prot.fa\", \"fasta\"))\n",
    "\n",
    "# Filter ChrC\n",
    "Chr4 = []\n",
    "for seqs in range(len(Ooffi)):\n",
    "    if 'Chr04' in Ooffi[seqs].description:\n",
    "        Chr4.append(Ooffi[seqs])\n",
    "    \n",
    "SeqIO.write(Chr4, \"Ooffi_Chr4_prot\", \"fasta\")"
   ]
  },
  {
   "cell_type": "markdown",
   "id": "0fc03fa4",
   "metadata": {},
   "source": [
    "## Reformating annotation for MCscan"
   ]
  },
  {
   "cell_type": "code",
   "execution_count": 54,
   "id": "b9350e70",
   "metadata": {
    "collapsed": true,
    "jupyter": {
     "outputs_hidden": true
    },
    "tags": []
   },
   "outputs": [
    {
     "name": "stdout",
     "output_type": "stream",
     "text": [
      "\u001b[2;36m[14:32:19]\u001b[0m\u001b[2;36m \u001b[0m\u001b[32mDEBUG   \u001b[0m Load file `Osativa_323_v7.\u001b[1;36m0.\u001b[0mgene.gff`                                                                                         \u001b]8;id=1639056739.320949-83334;file:///Users/ra57rut/.conda/envs/lastal/lib/python3.9/site-packages/jcvi/formats/base.py\u001b\\\u001b[2mbase.py\u001b[0m\u001b]8;;\u001b\\\u001b[2m:37\u001b[0m\n",
      "\u001b[2;36m[14:32:26]\u001b[0m\u001b[2;36m \u001b[0m\u001b[32mDEBUG   \u001b[0m Extracted \u001b[1;36m42189\u001b[0m features \u001b[1m(\u001b[0m\u001b[33mtype\u001b[0m=\u001b[35mmRNA\u001b[0m \u001b[33mid\u001b[0m=\u001b[35mName\u001b[0m\u001b[1m)\u001b[0m                                                                                 \u001b]8;id=1639056746.608259-685147;file:///Users/ra57rut/.conda/envs/lastal/lib/python3.9/site-packages/jcvi/formats/gff.py\u001b\\\u001b[2mgff.py\u001b[0m\u001b]8;;\u001b\\\u001b[2m:3052\u001b[0m\n",
      "\u001b[2;36m          \u001b[0m\u001b[2;36m \u001b[0m\u001b[32mDEBUG   \u001b[0m Skipped non-primary: \u001b[1;36m10235\u001b[0m                                                                                                   \u001b]8;id=1639056746.60923-574698;file:///Users/ra57rut/.conda/envs/lastal/lib/python3.9/site-packages/jcvi/formats/gff.py\u001b\\\u001b[2mgff.py\u001b[0m\u001b]8;;\u001b\\\u001b[2m:3056\u001b[0m\n",
      "\u001b[2;36m[14:32:27]\u001b[0m\u001b[2;36m \u001b[0m\u001b[32mDEBUG   \u001b[0m Load file `oalta_GWHAZTO00000000.gff`                                                                                         \u001b]8;id=1639056747.1963148-111822;file:///Users/ra57rut/.conda/envs/lastal/lib/python3.9/site-packages/jcvi/formats/base.py\u001b\\\u001b[2mbase.py\u001b[0m\u001b]8;;\u001b\\\u001b[2m:37\u001b[0m\n",
      "\u001b[2;36m[14:32:53]\u001b[0m\u001b[2;36m \u001b[0m\u001b[32mDEBUG   \u001b[0m Extracted \u001b[1;36m99312\u001b[0m features \u001b[1m(\u001b[0m\u001b[33mtype\u001b[0m=\u001b[35mmRNA\u001b[0m \u001b[33mid\u001b[0m=\u001b[35mName\u001b[0m\u001b[1m)\u001b[0m                                                                                 \u001b]8;id=1639056773.6726851-210186;file:///Users/ra57rut/.conda/envs/lastal/lib/python3.9/site-packages/jcvi/formats/gff.py\u001b\\\u001b[2mgff.py\u001b[0m\u001b]8;;\u001b\\\u001b[2m:3052\u001b[0m\n",
      "\u001b[2;36m          \u001b[0m\u001b[2;36m \u001b[0m\u001b[32mDEBUG   \u001b[0m Skipped non-primary: \u001b[1;36m15381\u001b[0m                                                                                                   \u001b]8;id=1639056773.6739368-788777;file:///Users/ra57rut/.conda/envs/lastal/lib/python3.9/site-packages/jcvi/formats/gff.py\u001b\\\u001b[2mgff.py\u001b[0m\u001b]8;;\u001b\\\u001b[2m:3056\u001b[0m\n",
      "\u001b[2;36m[14:32:55]\u001b[0m\u001b[2;36m \u001b[0m\u001b[32mDEBUG   \u001b[0m Load file `Ooffi_maker_gene_annotation.gff`                                                                                   \u001b]8;id=1639056775.010495-57588;file:///Users/ra57rut/.conda/envs/lastal/lib/python3.9/site-packages/jcvi/formats/base.py\u001b\\\u001b[2mbase.py\u001b[0m\u001b]8;;\u001b\\\u001b[2m:37\u001b[0m\n",
      "\u001b[2;36m[14:33:04]\u001b[0m\u001b[2;36m \u001b[0m\u001b[32mDEBUG   \u001b[0m Extracted \u001b[1;36m29930\u001b[0m features \u001b[1m(\u001b[0m\u001b[33mtype\u001b[0m=\u001b[35mmRNA\u001b[0m \u001b[33mid\u001b[0m=\u001b[35mName\u001b[0m\u001b[1m)\u001b[0m                                                                                 \u001b]8;id=1639056784.3985019-263477;file:///Users/ra57rut/.conda/envs/lastal/lib/python3.9/site-packages/jcvi/formats/gff.py\u001b\\\u001b[2mgff.py\u001b[0m\u001b]8;;\u001b\\\u001b[2m:3052\u001b[0m\n",
      "\u001b[2;36m          \u001b[0m\u001b[2;36m \u001b[0m\u001b[32mDEBUG   \u001b[0m Skipped non-primary: \u001b[1;36m14908\u001b[0m                                                                                                   \u001b]8;id=1639056784.399458-573333;file:///Users/ra57rut/.conda/envs/lastal/lib/python3.9/site-packages/jcvi/formats/gff.py\u001b\\\u001b[2mgff.py\u001b[0m\u001b]8;;\u001b\\\u001b[2m:3056\u001b[0m\n",
      "\u001b[2;36m[14:33:05]\u001b[0m\u001b[2;36m \u001b[0m\u001b[32mDEBUG   \u001b[0m Load file `Ocoarctata_scaffold26.gff3`                                                                                        \u001b]8;id=1639056785.188308-991199;file:///Users/ra57rut/.conda/envs/lastal/lib/python3.9/site-packages/jcvi/formats/base.py\u001b\\\u001b[2mbase.py\u001b[0m\u001b]8;;\u001b\\\u001b[2m:37\u001b[0m\n",
      "\u001b[2;36m          \u001b[0m\u001b[2;36m \u001b[0m\u001b[32mDEBUG   \u001b[0m Extracted \u001b[1;36m274\u001b[0m features \u001b[1m(\u001b[0m\u001b[33mtype\u001b[0m=\u001b[35mtranscript\u001b[0m \u001b[33mid\u001b[0m=\u001b[35mID\u001b[0m\u001b[1m)\u001b[0m                                                                               \u001b]8;id=1639056785.2558012-998292;file:///Users/ra57rut/.conda/envs/lastal/lib/python3.9/site-packages/jcvi/formats/gff.py\u001b\\\u001b[2mgff.py\u001b[0m\u001b]8;;\u001b\\\u001b[2m:3052\u001b[0m\n",
      "\u001b[2;36m          \u001b[0m\u001b[2;36m \u001b[0m\u001b[32mDEBUG   \u001b[0m Skipped non-primary: \u001b[1;36m0\u001b[0m                                                                                                       \u001b]8;id=1639056785.256969-391082;file:///Users/ra57rut/.conda/envs/lastal/lib/python3.9/site-packages/jcvi/formats/gff.py\u001b\\\u001b[2mgff.py\u001b[0m\u001b]8;;\u001b\\\u001b[2m:3056\u001b[0m\n",
      "\u001b[2;36m[14:33:05]\u001b[0m\u001b[2;36m \u001b[0m\u001b[32mDEBUG   \u001b[0m Load file `Obra.GCF_000231095.2_ObraRS2_genomic.gff`                                                                          \u001b]8;id=1639056785.855718-754827;file:///Users/ra57rut/.conda/envs/lastal/lib/python3.9/site-packages/jcvi/formats/base.py\u001b\\\u001b[2mbase.py\u001b[0m\u001b]8;;\u001b\\\u001b[2m:37\u001b[0m\n",
      "\u001b[2;36m[14:33:20]\u001b[0m\u001b[2;36m \u001b[0m\u001b[32mDEBUG   \u001b[0m Extracted \u001b[1;36m23251\u001b[0m features \u001b[1m(\u001b[0m\u001b[33mtype\u001b[0m=\u001b[35mmRNA\u001b[0m \u001b[33mid\u001b[0m=\u001b[35mID\u001b[0m\u001b[1m)\u001b[0m                                                                                   \u001b]8;id=1639056800.819204-535561;file:///Users/ra57rut/.conda/envs/lastal/lib/python3.9/site-packages/jcvi/formats/gff.py\u001b\\\u001b[2mgff.py\u001b[0m\u001b]8;;\u001b\\\u001b[2m:3052\u001b[0m\n",
      "\u001b[2;36m          \u001b[0m\u001b[2;36m \u001b[0m\u001b[32mDEBUG   \u001b[0m Skipped non-primary: \u001b[1;36m6756\u001b[0m                                                                                                    \u001b]8;id=1639056800.820251-266362;file:///Users/ra57rut/.conda/envs/lastal/lib/python3.9/site-packages/jcvi/formats/gff.py\u001b\\\u001b[2mgff.py\u001b[0m\u001b]8;;\u001b\\\u001b[2m:3056\u001b[0m\n",
      "\u001b[2;36m[14:33:21]\u001b[0m\u001b[2;36m \u001b[0m\u001b[32mDEBUG   \u001b[0m Load file `ogra.GWHAAEL00000000.gff`                                                                                          \u001b]8;id=1639056801.672676-167652;file:///Users/ra57rut/.conda/envs/lastal/lib/python3.9/site-packages/jcvi/formats/base.py\u001b\\\u001b[2mbase.py\u001b[0m\u001b]8;;\u001b\\\u001b[2m:37\u001b[0m\n",
      "\u001b[2;36m[14:33:27]\u001b[0m\u001b[2;36m \u001b[0m\u001b[32mDEBUG   \u001b[0m Extracted \u001b[1;36m52499\u001b[0m features \u001b[1m(\u001b[0m\u001b[33mtype\u001b[0m=\u001b[35mgene\u001b[0m \u001b[33mid\u001b[0m=\u001b[35mAccession\u001b[0m\u001b[1m)\u001b[0m                                                                            \u001b]8;id=1639056807.712042-231117;file:///Users/ra57rut/.conda/envs/lastal/lib/python3.9/site-packages/jcvi/formats/gff.py\u001b\\\u001b[2mgff.py\u001b[0m\u001b]8;;\u001b\\\u001b[2m:3052\u001b[0m\n",
      "\u001b[2;36m          \u001b[0m\u001b[2;36m \u001b[0m\u001b[32mDEBUG   \u001b[0m Skipped non-primary: \u001b[1;36m0\u001b[0m                                                                                                       \u001b]8;id=1639056807.713193-65988;file:///Users/ra57rut/.conda/envs/lastal/lib/python3.9/site-packages/jcvi/formats/gff.py\u001b\\\u001b[2mgff.py\u001b[0m\u001b]8;;\u001b\\\u001b[2m:3056\u001b[0m\n"
     ]
    }
   ],
   "source": [
    "!python3.9 -m jcvi.formats.gff bed --type=mRNA --key=Name --primary_only Osativa_323_v7.0.gene.gff -o rice_prot.bed\n",
    "!python3.9 -m jcvi.formats.gff bed --type=mRNA --key=Name --primary_only oalta_GWHAZTO00000000.gff -o oalta_prot.bed\n",
    "!python3.9 -m jcvi.formats.gff bed --type=mRNA --key=Name --primary_only Ooffi_maker_gene_annotation.gff -o ooffi_prot.bed\n",
    "!python3.9 -m jcvi.formats.gff bed --type=transcript --key=ID --primary_only Ocoarctata_scaffold26.gff3 -o ocoarc_prot.bed\n",
    "!python3.9 -m jcvi.formats.gff bed --type=mRNA --key=ID --primary_only Obra.GCF_000231095.2_ObraRS2_genomic.gff -o obra_prot.bed\n",
    "!python3.9 -m jcvi.formats.gff bed --type=mRNA --key=transcript_id --primary_only Leersia_perrieri.Lperr_V1.4.51.gff3 -o lpe_prot.bed\n",
    "!python3.9 -m jcvi.formats.gff bed --type=mRNA --key=transcript_id --primary_only Oryza_punctata.Oryza_punctata_v1.2.53.gff3 -o Opun_prot.bed"
   ]
  },
  {
   "cell_type": "markdown",
   "id": "118722f9",
   "metadata": {},
   "source": [
    "## Reformating proteomes for MCscan"
   ]
  },
  {
   "cell_type": "code",
   "execution_count": 2,
   "id": "3a8ae200",
   "metadata": {
    "collapsed": true,
    "jupyter": {
     "outputs_hidden": true
    },
    "tags": []
   },
   "outputs": [
    {
     "name": "stdout",
     "output_type": "stream",
     "text": [
      "\u001b[2;36m[11:48:02]\u001b[0m\u001b[2;36m \u001b[0m\u001b[32mDEBUG   \u001b[0m Removed \u001b[1;36m10169\u001b[0m sequences with length < \u001b[1;36m100\u001b[0m                                                                                  \u001b]8;id=1639046882.043201-703543;file:///Users/ra57rut/.conda/envs/lastal/lib/python3.9/site-packages/jcvi/formats/fasta.py\u001b\\\u001b[2mfasta.py\u001b[0m\u001b]8;;\u001b\\\u001b[2m:1446\u001b[0m\n",
      "\u001b[2;36m[11:48:02]\u001b[0m\u001b[2;36m \u001b[0m\u001b[32mDEBUG   \u001b[0m Removed \u001b[1;36m19\u001b[0m sequences with length < \u001b[1;36m100\u001b[0m                                                                                     \u001b]8;id=1639046882.7196832-624644;file:///Users/ra57rut/.conda/envs/lastal/lib/python3.9/site-packages/jcvi/formats/fasta.py\u001b\\\u001b[2mfasta.py\u001b[0m\u001b]8;;\u001b\\\u001b[2m:1446\u001b[0m\n"
     ]
    }
   ],
   "source": [
    "!python3.9 -m jcvi.formats.fasta format Osativa_323_v7.0.protein_primaryTranscriptOnly.fa rice_prot.pep\n",
    "!python3.9 -m jcvi.formats.fasta format Ooffi.prot.fa ooffi_prot.pep\n",
    "!python3.9 -m jcvi.formats.fasta format oalta_GWHAZTO00000000.Protein.faa oalta_prot.pep --sep=OriID= --index=1 --minlength=100\n",
    "!python3.9 -m jcvi.formats.fasta format Oalta_ChrC_prot oalta_prot_ChrC.pep --sep=OriID= --index=1 --minlength=100\n",
    "!python3.9 -m jcvi.formats.fasta format Ocoarc.predicted.prot.fa ocoarc_prot.pep --minlength=100\n",
    "!python3.9 -m jcvi.formats.fasta format Obra.prot.fa obra_prot.pep\n",
    "!python3.9 -m jcvi.formats.fasta format Leersia_perrieri.Lperr_V1.4.pep.all.fa lpe_prot.pep\n",
    "!python3.9 -m jcvi.formats.fasta format Oryza_punctata.Oryza_punctata_v1.2.pep.all.fa Opun_prot.pep"
   ]
  },
  {
   "cell_type": "markdown",
   "id": "caa951ee",
   "metadata": {},
   "source": [
    "## Find orthologs between species"
   ]
  },
  {
   "cell_type": "markdown",
   "id": "acd176ed",
   "metadata": {},
   "source": [
    "Take into account that the order matters. The first species is considered as your 'reference'. In figure 1A, O. sativa was alwasy the reference. "
   ]
  },
  {
   "cell_type": "markdown",
   "id": "50072107",
   "metadata": {},
   "source": [
    "### O. sativa vs O. officinalis"
   ]
  },
  {
   "cell_type": "code",
   "execution_count": 101,
   "id": "e43e2e2c",
   "metadata": {
    "collapsed": true,
    "jupyter": {
     "outputs_hidden": true
    },
    "tags": []
   },
   "outputs": [
    {
     "name": "stdout",
     "output_type": "stream",
     "text": [
      "\u001b[2;36m[16:26:34]\u001b[0m\u001b[2;36m \u001b[0m\u001b[32mDEBUG   \u001b[0m lastdb -p ooffi_prot_chr4 ooffi_prot_chr4.pep                                                                               \u001b]8;id=1639063594.837157-354791;file:///Users/ra57rut/.conda/envs/lastal/lib/python3.9/site-packages/jcvi/apps/base.py\u001b\\\u001b[2mbase.py\u001b[0m\u001b]8;;\u001b\\\u001b[2m:1185\u001b[0m\n",
      "\u001b[2;36m[16:26:35]\u001b[0m\u001b[2;36m \u001b[0m\u001b[32mDEBUG   \u001b[0m lastal -u \u001b[1;36m0\u001b[0m -P \u001b[1;36m8\u001b[0m -i3G -f BlastTab ooffi_prot_chr4 rice_prot.pep >.\u001b[35m/\u001b[0m\u001b[95mrice_prot.ooffi_prot_chr4.last\u001b[0m                           \u001b]8;id=1639063595.458786-996227;file:///Users/ra57rut/.conda/envs/lastal/lib/python3.9/site-packages/jcvi/apps/base.py\u001b\\\u001b[2mbase.py\u001b[0m\u001b]8;;\u001b\\\u001b[2m:1185\u001b[0m\n",
      "\u001b[2;36m[16:26:41]\u001b[0m\u001b[2;36m \u001b[0m\u001b[32mDEBUG   \u001b[0m Assuming --\u001b[33mqbed\u001b[0m=\u001b[35mrice_prot\u001b[0m.bed --\u001b[33msbed\u001b[0m=\u001b[35mooffi_prot_chr4\u001b[0m.bed                                                                  \u001b]8;id=1639063601.1855612-913653;file:///Users/ra57rut/.conda/envs/lastal/lib/python3.9/site-packages/jcvi/compara/synteny.py\u001b\\\u001b[2msynteny.py\u001b[0m\u001b]8;;\u001b\\\u001b[2m:500\u001b[0m\n",
      "\u001b[2;36m          \u001b[0m\u001b[2;36m \u001b[0m\u001b[32mDEBUG   \u001b[0m Load file `rice_prot.bed`                                                                                                     \u001b]8;id=1639063601.1867242-150383;file:///Users/ra57rut/.conda/envs/lastal/lib/python3.9/site-packages/jcvi/formats/base.py\u001b\\\u001b[2mbase.py\u001b[0m\u001b]8;;\u001b\\\u001b[2m:37\u001b[0m\n",
      "\u001b[2;36m          \u001b[0m\u001b[2;36m \u001b[0m\u001b[32mDEBUG   \u001b[0m Load file `ooffi_prot_chr4.bed`                                                                                               \u001b]8;id=1639063601.528515-402451;file:///Users/ra57rut/.conda/envs/lastal/lib/python3.9/site-packages/jcvi/formats/base.py\u001b\\\u001b[2mbase.py\u001b[0m\u001b]8;;\u001b\\\u001b[2m:37\u001b[0m\n",
      "\u001b[2;36m          \u001b[0m\u001b[2;36m \u001b[0m\u001b[32mDEBUG   \u001b[0m Load BLAST file `rice_prot.ooffi_prot_chr4.last` \u001b[1m(\u001b[0mtotal \u001b[1;36m205480\u001b[0m lines\u001b[1m)\u001b[0m                                                  \u001b]8;id=1639063601.821235-749833;file:///Users/ra57rut/.conda/envs/lastal/lib/python3.9/site-packages/jcvi/compara/blastfilter.py\u001b\\\u001b[2mblastfilter.py\u001b[0m\u001b]8;;\u001b\\\u001b[2m:48\u001b[0m\n",
      "\u001b[2;36m          \u001b[0m\u001b[2;36m \u001b[0m\u001b[32mDEBUG   \u001b[0m Load file `rice_prot.ooffi_prot_chr4.last`                                                                                    \u001b]8;id=1639063601.8221052-173249;file:///Users/ra57rut/.conda/envs/lastal/lib/python3.9/site-packages/jcvi/formats/base.py\u001b\\\u001b[2mbase.py\u001b[0m\u001b]8;;\u001b\\\u001b[2m:37\u001b[0m\n",
      "\u001b[2;36m[16:26:42]\u001b[0m\u001b[2;36m \u001b[0m\u001b[31mWARNING \u001b[0m OoffiChr04g01425.\u001b[1;36m4\u001b[0m not in ooffi_prot_chr4.bed                                                                          \u001b]8;id=1639063602.35971-165031;file:///Users/ra57rut/.conda/envs/lastal/lib/python3.9/site-packages/jcvi/compara/blastfilter.py\u001b\\\u001b[2mblastfilter.py\u001b[0m\u001b]8;;\u001b\\\u001b[2m:74\u001b[0m\n",
      "\u001b[2;36m          \u001b[0m\u001b[2;36m \u001b[0m\u001b[31mWARNING \u001b[0m OoffiChr04g01425.\u001b[1;36m2\u001b[0m not in ooffi_prot_chr4.bed                                                                          \u001b]8;id=1639063602.360954-599757;file:///Users/ra57rut/.conda/envs/lastal/lib/python3.9/site-packages/jcvi/compara/blastfilter.py\u001b\\\u001b[2mblastfilter.py\u001b[0m\u001b]8;;\u001b\\\u001b[2m:74\u001b[0m\n",
      "\u001b[2;36m          \u001b[0m\u001b[2;36m \u001b[0m\u001b[31mWARNING \u001b[0m OoffiChr04g01865.\u001b[1;36m1\u001b[0m not in ooffi_prot_chr4.bed                                                                          \u001b]8;id=1639063602.362143-96261;file:///Users/ra57rut/.conda/envs/lastal/lib/python3.9/site-packages/jcvi/compara/blastfilter.py\u001b\\\u001b[2mblastfilter.py\u001b[0m\u001b]8;;\u001b\\\u001b[2m:74\u001b[0m\n",
      "\u001b[2;36m          \u001b[0m\u001b[2;36m \u001b[0m\u001b[31mWARNING \u001b[0m OoffiChr04g01829.\u001b[1;36m2\u001b[0m not in ooffi_prot_chr4.bed                                                                          \u001b]8;id=1639063602.363195-98618;file:///Users/ra57rut/.conda/envs/lastal/lib/python3.9/site-packages/jcvi/compara/blastfilter.py\u001b\\\u001b[2mblastfilter.py\u001b[0m\u001b]8;;\u001b\\\u001b[2m:74\u001b[0m\n",
      "\u001b[2;36m          \u001b[0m\u001b[2;36m \u001b[0m\u001b[31mWARNING \u001b[0m OoffiChr04g01829.\u001b[1;36m4\u001b[0m not in ooffi_prot_chr4.bed                                                                          \u001b]8;id=1639063602.3641448-433239;file:///Users/ra57rut/.conda/envs/lastal/lib/python3.9/site-packages/jcvi/compara/blastfilter.py\u001b\\\u001b[2mblastfilter.py\u001b[0m\u001b]8;;\u001b\\\u001b[2m:74\u001b[0m\n",
      "\u001b[2;36m          \u001b[0m\u001b[2;36m \u001b[0m\u001b[31mWARNING \u001b[0m OoffiChr04g01829.\u001b[1;36m8\u001b[0m not in ooffi_prot_chr4.bed                                                                          \u001b]8;id=1639063602.370732-146773;file:///Users/ra57rut/.conda/envs/lastal/lib/python3.9/site-packages/jcvi/compara/blastfilter.py\u001b\\\u001b[2mblastfilter.py\u001b[0m\u001b]8;;\u001b\\\u001b[2m:74\u001b[0m\n",
      "\u001b[2;36m          \u001b[0m\u001b[2;36m \u001b[0m\u001b[31mWARNING \u001b[0m OoffiChr04g01829.\u001b[1;36m10\u001b[0m not in ooffi_prot_chr4.bed                                                                         \u001b]8;id=1639063602.371754-519050;file:///Users/ra57rut/.conda/envs/lastal/lib/python3.9/site-packages/jcvi/compara/blastfilter.py\u001b\\\u001b[2mblastfilter.py\u001b[0m\u001b]8;;\u001b\\\u001b[2m:74\u001b[0m\n",
      "\u001b[2;36m          \u001b[0m\u001b[2;36m \u001b[0m\u001b[31mWARNING \u001b[0m OoffiChr04g01829.\u001b[1;36m6\u001b[0m not in ooffi_prot_chr4.bed                                                                          \u001b]8;id=1639063602.372685-304104;file:///Users/ra57rut/.conda/envs/lastal/lib/python3.9/site-packages/jcvi/compara/blastfilter.py\u001b\\\u001b[2mblastfilter.py\u001b[0m\u001b]8;;\u001b\\\u001b[2m:74\u001b[0m\n",
      "\u001b[2;36m          \u001b[0m\u001b[2;36m \u001b[0m\u001b[31mWARNING \u001b[0m OoffiChr04g01829.\u001b[1;36m9\u001b[0m not in ooffi_prot_chr4.bed                                                                          \u001b]8;id=1639063602.37359-641438;file:///Users/ra57rut/.conda/envs/lastal/lib/python3.9/site-packages/jcvi/compara/blastfilter.py\u001b\\\u001b[2mblastfilter.py\u001b[0m\u001b]8;;\u001b\\\u001b[2m:74\u001b[0m\n",
      "\u001b[2;36m          \u001b[0m\u001b[2;36m \u001b[0m\u001b[31mWARNING \u001b[0m OoffiChr04g02005.\u001b[1;36m2\u001b[0m not in ooffi_prot_chr4.bed                                                                          \u001b]8;id=1639063602.374534-20868;file:///Users/ra57rut/.conda/envs/lastal/lib/python3.9/site-packages/jcvi/compara/blastfilter.py\u001b\\\u001b[2mblastfilter.py\u001b[0m\u001b]8;;\u001b\\\u001b[2m:74\u001b[0m\n",
      "\u001b[2;36m          \u001b[0m\u001b[2;36m \u001b[0m\u001b[31mWARNING \u001b[0m OoffiChr04g01829.\u001b[1;36m1\u001b[0m not in ooffi_prot_chr4.bed                                                                          \u001b]8;id=1639063602.3754392-748037;file:///Users/ra57rut/.conda/envs/lastal/lib/python3.9/site-packages/jcvi/compara/blastfilter.py\u001b\\\u001b[2mblastfilter.py\u001b[0m\u001b]8;;\u001b\\\u001b[2m:74\u001b[0m\n",
      "\u001b[2;36m          \u001b[0m\u001b[2;36m \u001b[0m\u001b[31mWARNING \u001b[0m OoffiChr04g00273.\u001b[1;36m2\u001b[0m not in ooffi_prot_chr4.bed                                                                          \u001b]8;id=1639063602.376391-154375;file:///Users/ra57rut/.conda/envs/lastal/lib/python3.9/site-packages/jcvi/compara/blastfilter.py\u001b\\\u001b[2mblastfilter.py\u001b[0m\u001b]8;;\u001b\\\u001b[2m:74\u001b[0m\n",
      "\u001b[2;36m          \u001b[0m\u001b[2;36m \u001b[0m\u001b[31mWARNING \u001b[0m OoffiChr04g01196.\u001b[1;36m3\u001b[0m not in ooffi_prot_chr4.bed                                                                          \u001b]8;id=1639063602.377389-928282;file:///Users/ra57rut/.conda/envs/lastal/lib/python3.9/site-packages/jcvi/compara/blastfilter.py\u001b\\\u001b[2mblastfilter.py\u001b[0m\u001b]8;;\u001b\\\u001b[2m:74\u001b[0m\n",
      "\u001b[2;36m          \u001b[0m\u001b[2;36m \u001b[0m\u001b[31mWARNING \u001b[0m OoffiChr04g01788.\u001b[1;36m2\u001b[0m not in ooffi_prot_chr4.bed                                                                          \u001b]8;id=1639063602.3783581-363530;file:///Users/ra57rut/.conda/envs/lastal/lib/python3.9/site-packages/jcvi/compara/blastfilter.py\u001b\\\u001b[2mblastfilter.py\u001b[0m\u001b]8;;\u001b\\\u001b[2m:74\u001b[0m\n",
      "\u001b[2;36m          \u001b[0m\u001b[2;36m \u001b[0m\u001b[31mWARNING \u001b[0m OoffiChr04g01178.\u001b[1;36m1\u001b[0m not in ooffi_prot_chr4.bed                                                                          \u001b]8;id=1639063602.379282-706070;file:///Users/ra57rut/.conda/envs/lastal/lib/python3.9/site-packages/jcvi/compara/blastfilter.py\u001b\\\u001b[2mblastfilter.py\u001b[0m\u001b]8;;\u001b\\\u001b[2m:74\u001b[0m\n",
      "\u001b[2;36m          \u001b[0m\u001b[2;36m \u001b[0m\u001b[31mWARNING \u001b[0m OoffiChr04g01196.\u001b[1;36m4\u001b[0m not in ooffi_prot_chr4.bed                                                                          \u001b]8;id=1639063602.380255-828092;file:///Users/ra57rut/.conda/envs/lastal/lib/python3.9/site-packages/jcvi/compara/blastfilter.py\u001b\\\u001b[2mblastfilter.py\u001b[0m\u001b]8;;\u001b\\\u001b[2m:74\u001b[0m\n",
      "\u001b[2;36m          \u001b[0m\u001b[2;36m \u001b[0m\u001b[31mWARNING \u001b[0m OoffiChr04g01178.\u001b[1;36m2\u001b[0m not in ooffi_prot_chr4.bed                                                                          \u001b]8;id=1639063602.3811798-49265;file:///Users/ra57rut/.conda/envs/lastal/lib/python3.9/site-packages/jcvi/compara/blastfilter.py\u001b\\\u001b[2mblastfilter.py\u001b[0m\u001b]8;;\u001b\\\u001b[2m:74\u001b[0m\n",
      "\u001b[2;36m          \u001b[0m\u001b[2;36m \u001b[0m\u001b[31mWARNING \u001b[0m OoffiChr04g02090.\u001b[1;36m6\u001b[0m not in ooffi_prot_chr4.bed                                                                          \u001b]8;id=1639063602.382117-572565;file:///Users/ra57rut/.conda/envs/lastal/lib/python3.9/site-packages/jcvi/compara/blastfilter.py\u001b\\\u001b[2mblastfilter.py\u001b[0m\u001b]8;;\u001b\\\u001b[2m:74\u001b[0m\n",
      "\u001b[2;36m          \u001b[0m\u001b[2;36m \u001b[0m\u001b[31mWARNING \u001b[0m OoffiChr04g02090.\u001b[1;36m3\u001b[0m not in ooffi_prot_chr4.bed                                                                          \u001b]8;id=1639063602.382978-346118;file:///Users/ra57rut/.conda/envs/lastal/lib/python3.9/site-packages/jcvi/compara/blastfilter.py\u001b\\\u001b[2mblastfilter.py\u001b[0m\u001b]8;;\u001b\\\u001b[2m:74\u001b[0m\n",
      "\u001b[2;36m          \u001b[0m\u001b[2;36m \u001b[0m\u001b[31mWARNING \u001b[0m OoffiChr04g02090.\u001b[1;36m5\u001b[0m not in ooffi_prot_chr4.bed                                                                          \u001b]8;id=1639063602.38408-912889;file:///Users/ra57rut/.conda/envs/lastal/lib/python3.9/site-packages/jcvi/compara/blastfilter.py\u001b\\\u001b[2mblastfilter.py\u001b[0m\u001b]8;;\u001b\\\u001b[2m:74\u001b[0m\n",
      "\u001b[2;36m          \u001b[0m\u001b[2;36m \u001b[0m\u001b[31mWARNING \u001b[0m OoffiChr04g01976.\u001b[1;36m2\u001b[0m not in ooffi_prot_chr4.bed                                                                          \u001b]8;id=1639063602.3851259-419729;file:///Users/ra57rut/.conda/envs/lastal/lib/python3.9/site-packages/jcvi/compara/blastfilter.py\u001b\\\u001b[2mblastfilter.py\u001b[0m\u001b]8;;\u001b\\\u001b[2m:74\u001b[0m\n",
      "\u001b[2;36m          \u001b[0m\u001b[2;36m \u001b[0m\u001b[31mWARNING \u001b[0m OoffiChr04g01418.\u001b[1;36m3\u001b[0m not in ooffi_prot_chr4.bed                                                                          \u001b]8;id=1639063602.386487-276876;file:///Users/ra57rut/.conda/envs/lastal/lib/python3.9/site-packages/jcvi/compara/blastfilter.py\u001b\\\u001b[2mblastfilter.py\u001b[0m\u001b]8;;\u001b\\\u001b[2m:74\u001b[0m\n",
      "\u001b[2;36m          \u001b[0m\u001b[2;36m \u001b[0m\u001b[31mWARNING \u001b[0m OoffiChr04g01084.\u001b[1;36m2\u001b[0m not in ooffi_prot_chr4.bed                                                                          \u001b]8;id=1639063602.387902-217405;file:///Users/ra57rut/.conda/envs/lastal/lib/python3.9/site-packages/jcvi/compara/blastfilter.py\u001b\\\u001b[2mblastfilter.py\u001b[0m\u001b]8;;\u001b\\\u001b[2m:74\u001b[0m\n",
      "\u001b[2;36m          \u001b[0m\u001b[2;36m \u001b[0m\u001b[31mWARNING \u001b[0m OoffiChr04g01425.\u001b[1;36m1\u001b[0m not in ooffi_prot_chr4.bed                                                                          \u001b]8;id=1639063602.389386-73660;file:///Users/ra57rut/.conda/envs/lastal/lib/python3.9/site-packages/jcvi/compara/blastfilter.py\u001b\\\u001b[2mblastfilter.py\u001b[0m\u001b]8;;\u001b\\\u001b[2m:74\u001b[0m\n",
      "\u001b[2;36m          \u001b[0m\u001b[2;36m \u001b[0m\u001b[31mWARNING \u001b[0m OoffiChr04g01045.\u001b[1;36m2\u001b[0m not in ooffi_prot_chr4.bed                                                                          \u001b]8;id=1639063602.39053-798271;file:///Users/ra57rut/.conda/envs/lastal/lib/python3.9/site-packages/jcvi/compara/blastfilter.py\u001b\\\u001b[2mblastfilter.py\u001b[0m\u001b]8;;\u001b\\\u001b[2m:74\u001b[0m\n",
      "\u001b[2;36m          \u001b[0m\u001b[2;36m \u001b[0m\u001b[31mWARNING \u001b[0m OoffiChr04g01045.\u001b[1;36m3\u001b[0m not in ooffi_prot_chr4.bed                                                                          \u001b]8;id=1639063602.391572-227423;file:///Users/ra57rut/.conda/envs/lastal/lib/python3.9/site-packages/jcvi/compara/blastfilter.py\u001b\\\u001b[2mblastfilter.py\u001b[0m\u001b]8;;\u001b\\\u001b[2m:74\u001b[0m\n",
      "\u001b[2;36m          \u001b[0m\u001b[2;36m \u001b[0m\u001b[31mWARNING \u001b[0m OoffiChr04g02105.\u001b[1;36m3\u001b[0m not in ooffi_prot_chr4.bed                                                                          \u001b]8;id=1639063602.392628-63867;file:///Users/ra57rut/.conda/envs/lastal/lib/python3.9/site-packages/jcvi/compara/blastfilter.py\u001b\\\u001b[2mblastfilter.py\u001b[0m\u001b]8;;\u001b\\\u001b[2m:74\u001b[0m\n",
      "\u001b[2;36m          \u001b[0m\u001b[2;36m \u001b[0m\u001b[31mWARNING \u001b[0m OoffiChr04g00811.\u001b[1;36m3\u001b[0m not in ooffi_prot_chr4.bed                                                                          \u001b]8;id=1639063602.393692-393461;file:///Users/ra57rut/.conda/envs/lastal/lib/python3.9/site-packages/jcvi/compara/blastfilter.py\u001b\\\u001b[2mblastfilter.py\u001b[0m\u001b]8;;\u001b\\\u001b[2m:74\u001b[0m\n",
      "\u001b[2;36m          \u001b[0m\u001b[2;36m \u001b[0m\u001b[31mWARNING \u001b[0m OoffiChr04g00811.\u001b[1;36m4\u001b[0m not in ooffi_prot_chr4.bed                                                                          \u001b]8;id=1639063602.394748-545708;file:///Users/ra57rut/.conda/envs/lastal/lib/python3.9/site-packages/jcvi/compara/blastfilter.py\u001b\\\u001b[2mblastfilter.py\u001b[0m\u001b]8;;\u001b\\\u001b[2m:74\u001b[0m\n",
      "\u001b[2;36m          \u001b[0m\u001b[2;36m \u001b[0m\u001b[31mWARNING \u001b[0m OoffiChr04g01859.\u001b[1;36m1\u001b[0m not in ooffi_prot_chr4.bed                                                                          \u001b]8;id=1639063602.395848-287091;file:///Users/ra57rut/.conda/envs/lastal/lib/python3.9/site-packages/jcvi/compara/blastfilter.py\u001b\\\u001b[2mblastfilter.py\u001b[0m\u001b]8;;\u001b\\\u001b[2m:74\u001b[0m\n",
      "\u001b[2;36m          \u001b[0m\u001b[2;36m \u001b[0m\u001b[31mWARNING \u001b[0m OoffiChr04g01148.\u001b[1;36m3\u001b[0m not in ooffi_prot_chr4.bed                                                                          \u001b]8;id=1639063602.396929-910746;file:///Users/ra57rut/.conda/envs/lastal/lib/python3.9/site-packages/jcvi/compara/blastfilter.py\u001b\\\u001b[2mblastfilter.py\u001b[0m\u001b]8;;\u001b\\\u001b[2m:74\u001b[0m\n",
      "\u001b[2;36m          \u001b[0m\u001b[2;36m \u001b[0m\u001b[31mWARNING \u001b[0m OoffiChr04g02105.\u001b[1;36m1\u001b[0m not in ooffi_prot_chr4.bed                                                                          \u001b]8;id=1639063602.3979762-449968;file:///Users/ra57rut/.conda/envs/lastal/lib/python3.9/site-packages/jcvi/compara/blastfilter.py\u001b\\\u001b[2mblastfilter.py\u001b[0m\u001b]8;;\u001b\\\u001b[2m:74\u001b[0m\n",
      "\u001b[2;36m          \u001b[0m\u001b[2;36m \u001b[0m\u001b[31mWARNING \u001b[0m OoffiChr04g01425.\u001b[1;36m1\u001b[0m not in ooffi_prot_chr4.bed                                                                          \u001b]8;id=1639063602.3990011-408278;file:///Users/ra57rut/.conda/envs/lastal/lib/python3.9/site-packages/jcvi/compara/blastfilter.py\u001b\\\u001b[2mblastfilter.py\u001b[0m\u001b]8;;\u001b\\\u001b[2m:74\u001b[0m\n",
      "\u001b[2;36m          \u001b[0m\u001b[2;36m \u001b[0m\u001b[31mWARNING \u001b[0m OoffiChr04g00819.\u001b[1;36m1\u001b[0m not in ooffi_prot_chr4.bed                                                                          \u001b]8;id=1639063602.4001122-517467;file:///Users/ra57rut/.conda/envs/lastal/lib/python3.9/site-packages/jcvi/compara/blastfilter.py\u001b\\\u001b[2mblastfilter.py\u001b[0m\u001b]8;;\u001b\\\u001b[2m:74\u001b[0m\n",
      "\u001b[2;36m          \u001b[0m\u001b[2;36m \u001b[0m\u001b[31mWARNING \u001b[0m OoffiChr04g01425.\u001b[1;36m2\u001b[0m not in ooffi_prot_chr4.bed                                                                          \u001b]8;id=1639063602.4010618-494285;file:///Users/ra57rut/.conda/envs/lastal/lib/python3.9/site-packages/jcvi/compara/blastfilter.py\u001b\\\u001b[2mblastfilter.py\u001b[0m\u001b]8;;\u001b\\\u001b[2m:74\u001b[0m\n",
      "\u001b[2;36m          \u001b[0m\u001b[2;36m \u001b[0m\u001b[31mWARNING \u001b[0m OoffiChr04g01829.\u001b[1;36m3\u001b[0m not in ooffi_prot_chr4.bed                                                                          \u001b]8;id=1639063602.4020329-255138;file:///Users/ra57rut/.conda/envs/lastal/lib/python3.9/site-packages/jcvi/compara/blastfilter.py\u001b\\\u001b[2mblastfilter.py\u001b[0m\u001b]8;;\u001b\\\u001b[2m:74\u001b[0m\n",
      "\u001b[2;36m          \u001b[0m\u001b[2;36m \u001b[0m\u001b[31mWARNING \u001b[0m OoffiChr04g01175.\u001b[1;36m4\u001b[0m not in ooffi_prot_chr4.bed                                                                          \u001b]8;id=1639063602.4031942-212120;file:///Users/ra57rut/.conda/envs/lastal/lib/python3.9/site-packages/jcvi/compara/blastfilter.py\u001b\\\u001b[2mblastfilter.py\u001b[0m\u001b]8;;\u001b\\\u001b[2m:74\u001b[0m\n",
      "\u001b[2;36m          \u001b[0m\u001b[2;36m \u001b[0m\u001b[31mWARNING \u001b[0m OoffiChr04g01196.\u001b[1;36m1\u001b[0m not in ooffi_prot_chr4.bed                                                                          \u001b]8;id=1639063602.404723-445188;file:///Users/ra57rut/.conda/envs/lastal/lib/python3.9/site-packages/jcvi/compara/blastfilter.py\u001b\\\u001b[2mblastfilter.py\u001b[0m\u001b]8;;\u001b\\\u001b[2m:74\u001b[0m\n",
      "\u001b[2;36m          \u001b[0m\u001b[2;36m \u001b[0m\u001b[31mWARNING \u001b[0m OoffiChr04g02237.\u001b[1;36m3\u001b[0m not in ooffi_prot_chr4.bed                                                                          \u001b]8;id=1639063602.405878-313617;file:///Users/ra57rut/.conda/envs/lastal/lib/python3.9/site-packages/jcvi/compara/blastfilter.py\u001b\\\u001b[2mblastfilter.py\u001b[0m\u001b]8;;\u001b\\\u001b[2m:74\u001b[0m\n",
      "\u001b[2;36m          \u001b[0m\u001b[2;36m \u001b[0m\u001b[31mWARNING \u001b[0m OoffiChr04g01000.\u001b[1;36m3\u001b[0m not in ooffi_prot_chr4.bed                                                                          \u001b]8;id=1639063602.407103-877456;file:///Users/ra57rut/.conda/envs/lastal/lib/python3.9/site-packages/jcvi/compara/blastfilter.py\u001b\\\u001b[2mblastfilter.py\u001b[0m\u001b]8;;\u001b\\\u001b[2m:74\u001b[0m\n",
      "\u001b[2;36m          \u001b[0m\u001b[2;36m \u001b[0m\u001b[31mWARNING \u001b[0m OoffiChr04g02237.\u001b[1;36m2\u001b[0m not in ooffi_prot_chr4.bed                                                                          \u001b]8;id=1639063602.408764-834478;file:///Users/ra57rut/.conda/envs/lastal/lib/python3.9/site-packages/jcvi/compara/blastfilter.py\u001b\\\u001b[2mblastfilter.py\u001b[0m\u001b]8;;\u001b\\\u001b[2m:74\u001b[0m\n",
      "\u001b[2;36m          \u001b[0m\u001b[2;36m \u001b[0m\u001b[31mWARNING \u001b[0m OoffiChr04g02237.\u001b[1;36m5\u001b[0m not in ooffi_prot_chr4.bed                                                                          \u001b]8;id=1639063602.410686-788375;file:///Users/ra57rut/.conda/envs/lastal/lib/python3.9/site-packages/jcvi/compara/blastfilter.py\u001b\\\u001b[2mblastfilter.py\u001b[0m\u001b]8;;\u001b\\\u001b[2m:74\u001b[0m\n",
      "\u001b[2;36m          \u001b[0m\u001b[2;36m \u001b[0m\u001b[31mWARNING \u001b[0m OoffiChr04g00771.\u001b[1;36m1\u001b[0m not in ooffi_prot_chr4.bed                                                                          \u001b]8;id=1639063602.412152-175127;file:///Users/ra57rut/.conda/envs/lastal/lib/python3.9/site-packages/jcvi/compara/blastfilter.py\u001b\\\u001b[2mblastfilter.py\u001b[0m\u001b]8;;\u001b\\\u001b[2m:74\u001b[0m\n",
      "\u001b[2;36m          \u001b[0m\u001b[2;36m \u001b[0m\u001b[31mWARNING \u001b[0m OoffiChr04g02237.\u001b[1;36m7\u001b[0m not in ooffi_prot_chr4.bed                                                                          \u001b]8;id=1639063602.413457-837495;file:///Users/ra57rut/.conda/envs/lastal/lib/python3.9/site-packages/jcvi/compara/blastfilter.py\u001b\\\u001b[2mblastfilter.py\u001b[0m\u001b]8;;\u001b\\\u001b[2m:74\u001b[0m\n",
      "\u001b[2;36m          \u001b[0m\u001b[2;36m \u001b[0m\u001b[31mWARNING \u001b[0m OoffiChr04g01700.\u001b[1;36m1\u001b[0m not in ooffi_prot_chr4.bed                                                                          \u001b]8;id=1639063602.414541-835772;file:///Users/ra57rut/.conda/envs/lastal/lib/python3.9/site-packages/jcvi/compara/blastfilter.py\u001b\\\u001b[2mblastfilter.py\u001b[0m\u001b]8;;\u001b\\\u001b[2m:74\u001b[0m\n",
      "\u001b[2;36m          \u001b[0m\u001b[2;36m \u001b[0m\u001b[31mWARNING \u001b[0m OoffiChr04g01829.\u001b[1;36m5\u001b[0m not in ooffi_prot_chr4.bed                                                                          \u001b]8;id=1639063602.415543-52783;file:///Users/ra57rut/.conda/envs/lastal/lib/python3.9/site-packages/jcvi/compara/blastfilter.py\u001b\\\u001b[2mblastfilter.py\u001b[0m\u001b]8;;\u001b\\\u001b[2m:74\u001b[0m\n",
      "\u001b[2;36m          \u001b[0m\u001b[2;36m \u001b[0m\u001b[31mWARNING \u001b[0m OoffiChr04g01175.\u001b[1;36m3\u001b[0m not in ooffi_prot_chr4.bed                                                                          \u001b]8;id=1639063602.4164941-526894;file:///Users/ra57rut/.conda/envs/lastal/lib/python3.9/site-packages/jcvi/compara/blastfilter.py\u001b\\\u001b[2mblastfilter.py\u001b[0m\u001b]8;;\u001b\\\u001b[2m:74\u001b[0m\n",
      "\u001b[2;36m          \u001b[0m\u001b[2;36m \u001b[0m\u001b[31mWARNING \u001b[0m OoffiChr04g01418.\u001b[1;36m6\u001b[0m not in ooffi_prot_chr4.bed                                                                          \u001b]8;id=1639063602.4174871-374208;file:///Users/ra57rut/.conda/envs/lastal/lib/python3.9/site-packages/jcvi/compara/blastfilter.py\u001b\\\u001b[2mblastfilter.py\u001b[0m\u001b]8;;\u001b\\\u001b[2m:74\u001b[0m\n",
      "\u001b[2;36m          \u001b[0m\u001b[2;36m \u001b[0m\u001b[31mWARNING \u001b[0m OoffiChr04g01178.\u001b[1;36m5\u001b[0m not in ooffi_prot_chr4.bed                                                                          \u001b]8;id=1639063602.418509-516905;file:///Users/ra57rut/.conda/envs/lastal/lib/python3.9/site-packages/jcvi/compara/blastfilter.py\u001b\\\u001b[2mblastfilter.py\u001b[0m\u001b]8;;\u001b\\\u001b[2m:74\u001b[0m\n",
      "\u001b[2;36m          \u001b[0m\u001b[2;36m \u001b[0m\u001b[31mWARNING \u001b[0m OoffiChr04g01178.\u001b[1;36m3\u001b[0m not in ooffi_prot_chr4.bed                                                                          \u001b]8;id=1639063602.419544-956947;file:///Users/ra57rut/.conda/envs/lastal/lib/python3.9/site-packages/jcvi/compara/blastfilter.py\u001b\\\u001b[2mblastfilter.py\u001b[0m\u001b]8;;\u001b\\\u001b[2m:74\u001b[0m\n",
      "\u001b[2;36m          \u001b[0m\u001b[2;36m \u001b[0m\u001b[31mWARNING \u001b[0m OoffiChr04g01914.\u001b[1;36m3\u001b[0m not in ooffi_prot_chr4.bed                                                                          \u001b]8;id=1639063602.420568-924014;file:///Users/ra57rut/.conda/envs/lastal/lib/python3.9/site-packages/jcvi/compara/blastfilter.py\u001b\\\u001b[2mblastfilter.py\u001b[0m\u001b]8;;\u001b\\\u001b[2m:74\u001b[0m\n",
      "\u001b[2;36m          \u001b[0m\u001b[2;36m \u001b[0m\u001b[31mWARNING \u001b[0m OoffiChr04g00126.\u001b[1;36m2\u001b[0m not in ooffi_prot_chr4.bed                                                                          \u001b]8;id=1639063602.4218009-642186;file:///Users/ra57rut/.conda/envs/lastal/lib/python3.9/site-packages/jcvi/compara/blastfilter.py\u001b\\\u001b[2mblastfilter.py\u001b[0m\u001b]8;;\u001b\\\u001b[2m:74\u001b[0m\n",
      "\u001b[2;36m          \u001b[0m\u001b[2;36m \u001b[0m\u001b[31mWARNING \u001b[0m OoffiChr04g00350.\u001b[1;36m1\u001b[0m not in ooffi_prot_chr4.bed                                                                          \u001b]8;id=1639063602.423241-196129;file:///Users/ra57rut/.conda/envs/lastal/lib/python3.9/site-packages/jcvi/compara/blastfilter.py\u001b\\\u001b[2mblastfilter.py\u001b[0m\u001b]8;;\u001b\\\u001b[2m:74\u001b[0m\n",
      "\u001b[2;36m          \u001b[0m\u001b[2;36m \u001b[0m\u001b[31mWARNING \u001b[0m OoffiChr04g00273.\u001b[1;36m3\u001b[0m not in ooffi_prot_chr4.bed                                                                          \u001b]8;id=1639063602.424393-276624;file:///Users/ra57rut/.conda/envs/lastal/lib/python3.9/site-packages/jcvi/compara/blastfilter.py\u001b\\\u001b[2mblastfilter.py\u001b[0m\u001b]8;;\u001b\\\u001b[2m:74\u001b[0m\n",
      "\u001b[2;36m          \u001b[0m\u001b[2;36m \u001b[0m\u001b[31mWARNING \u001b[0m OoffiChr04g02164.\u001b[1;36m2\u001b[0m not in ooffi_prot_chr4.bed                                                                          \u001b]8;id=1639063602.42557-287341;file:///Users/ra57rut/.conda/envs/lastal/lib/python3.9/site-packages/jcvi/compara/blastfilter.py\u001b\\\u001b[2mblastfilter.py\u001b[0m\u001b]8;;\u001b\\\u001b[2m:74\u001b[0m\n",
      "\u001b[2;36m          \u001b[0m\u001b[2;36m \u001b[0m\u001b[31mWARNING \u001b[0m OoffiChr04g01693.\u001b[1;36m2\u001b[0m not in ooffi_prot_chr4.bed                                                                          \u001b]8;id=1639063602.426985-114877;file:///Users/ra57rut/.conda/envs/lastal/lib/python3.9/site-packages/jcvi/compara/blastfilter.py\u001b\\\u001b[2mblastfilter.py\u001b[0m\u001b]8;;\u001b\\\u001b[2m:74\u001b[0m\n",
      "\u001b[2;36m          \u001b[0m\u001b[2;36m \u001b[0m\u001b[31mWARNING \u001b[0m OoffiChr04g01693.\u001b[1;36m5\u001b[0m not in ooffi_prot_chr4.bed                                                                          \u001b]8;id=1639063602.428007-253322;file:///Users/ra57rut/.conda/envs/lastal/lib/python3.9/site-packages/jcvi/compara/blastfilter.py\u001b\\\u001b[2mblastfilter.py\u001b[0m\u001b]8;;\u001b\\\u001b[2m:74\u001b[0m\n",
      "\u001b[2;36m          \u001b[0m\u001b[2;36m \u001b[0m\u001b[31mWARNING \u001b[0m OoffiChr04g00293.\u001b[1;36m2\u001b[0m not in ooffi_prot_chr4.bed                                                                          \u001b]8;id=1639063602.428985-504273;file:///Users/ra57rut/.conda/envs/lastal/lib/python3.9/site-packages/jcvi/compara/blastfilter.py\u001b\\\u001b[2mblastfilter.py\u001b[0m\u001b]8;;\u001b\\\u001b[2m:74\u001b[0m\n",
      "\u001b[2;36m          \u001b[0m\u001b[2;36m \u001b[0m\u001b[31mWARNING \u001b[0m OoffiChr04g00293.\u001b[1;36m4\u001b[0m not in ooffi_prot_chr4.bed                                                                          \u001b]8;id=1639063602.429877-20539;file:///Users/ra57rut/.conda/envs/lastal/lib/python3.9/site-packages/jcvi/compara/blastfilter.py\u001b\\\u001b[2mblastfilter.py\u001b[0m\u001b]8;;\u001b\\\u001b[2m:74\u001b[0m\n",
      "\u001b[2;36m          \u001b[0m\u001b[2;36m \u001b[0m\u001b[31mWARNING \u001b[0m OoffiChr04g01445.\u001b[1;36m1\u001b[0m not in ooffi_prot_chr4.bed                                                                          \u001b]8;id=1639063602.430811-506443;file:///Users/ra57rut/.conda/envs/lastal/lib/python3.9/site-packages/jcvi/compara/blastfilter.py\u001b\\\u001b[2mblastfilter.py\u001b[0m\u001b]8;;\u001b\\\u001b[2m:74\u001b[0m\n",
      "\u001b[2;36m          \u001b[0m\u001b[2;36m \u001b[0m\u001b[31mWARNING \u001b[0m OoffiChr04g01445.\u001b[1;36m2\u001b[0m not in ooffi_prot_chr4.bed                                                                          \u001b]8;id=1639063602.431703-190183;file:///Users/ra57rut/.conda/envs/lastal/lib/python3.9/site-packages/jcvi/compara/blastfilter.py\u001b\\\u001b[2mblastfilter.py\u001b[0m\u001b]8;;\u001b\\\u001b[2m:74\u001b[0m\n",
      "\u001b[2;36m          \u001b[0m\u001b[2;36m \u001b[0m\u001b[31mWARNING \u001b[0m OoffiChr04g01808.\u001b[1;36m1\u001b[0m not in ooffi_prot_chr4.bed                                                                          \u001b]8;id=1639063602.432611-174048;file:///Users/ra57rut/.conda/envs/lastal/lib/python3.9/site-packages/jcvi/compara/blastfilter.py\u001b\\\u001b[2mblastfilter.py\u001b[0m\u001b]8;;\u001b\\\u001b[2m:74\u001b[0m\n",
      "\u001b[2;36m          \u001b[0m\u001b[2;36m \u001b[0m\u001b[31mWARNING \u001b[0m OoffiChr04g00293.\u001b[1;36m3\u001b[0m not in ooffi_prot_chr4.bed                                                                          \u001b]8;id=1639063602.433485-71076;file:///Users/ra57rut/.conda/envs/lastal/lib/python3.9/site-packages/jcvi/compara/blastfilter.py\u001b\\\u001b[2mblastfilter.py\u001b[0m\u001b]8;;\u001b\\\u001b[2m:74\u001b[0m\n",
      "\u001b[2;36m          \u001b[0m\u001b[2;36m \u001b[0m\u001b[31mWARNING \u001b[0m OoffiChr04g01148.\u001b[1;36m1\u001b[0m not in ooffi_prot_chr4.bed                                                                          \u001b]8;id=1639063602.434418-569687;file:///Users/ra57rut/.conda/envs/lastal/lib/python3.9/site-packages/jcvi/compara/blastfilter.py\u001b\\\u001b[2mblastfilter.py\u001b[0m\u001b]8;;\u001b\\\u001b[2m:74\u001b[0m\n",
      "\u001b[2;36m          \u001b[0m\u001b[2;36m \u001b[0m\u001b[31mWARNING \u001b[0m OoffiChr04g00293.\u001b[1;36m5\u001b[0m not in ooffi_prot_chr4.bed                                                                          \u001b]8;id=1639063602.4354088-340653;file:///Users/ra57rut/.conda/envs/lastal/lib/python3.9/site-packages/jcvi/compara/blastfilter.py\u001b\\\u001b[2mblastfilter.py\u001b[0m\u001b]8;;\u001b\\\u001b[2m:74\u001b[0m\n",
      "\u001b[2;36m          \u001b[0m\u001b[2;36m \u001b[0m\u001b[31mWARNING \u001b[0m OoffiChr04g01494.\u001b[1;36m2\u001b[0m not in ooffi_prot_chr4.bed                                                                          \u001b]8;id=1639063602.4364119-808475;file:///Users/ra57rut/.conda/envs/lastal/lib/python3.9/site-packages/jcvi/compara/blastfilter.py\u001b\\\u001b[2mblastfilter.py\u001b[0m\u001b]8;;\u001b\\\u001b[2m:74\u001b[0m\n",
      "\u001b[2;36m          \u001b[0m\u001b[2;36m \u001b[0m\u001b[31mWARNING \u001b[0m OoffiChr04g01494.\u001b[1;36m3\u001b[0m not in ooffi_prot_chr4.bed                                                                          \u001b]8;id=1639063602.4376802-860776;file:///Users/ra57rut/.conda/envs/lastal/lib/python3.9/site-packages/jcvi/compara/blastfilter.py\u001b\\\u001b[2mblastfilter.py\u001b[0m\u001b]8;;\u001b\\\u001b[2m:74\u001b[0m\n",
      "\u001b[2;36m          \u001b[0m\u001b[2;36m \u001b[0m\u001b[31mWARNING \u001b[0m OoffiChr04g02140.\u001b[1;36m1\u001b[0m not in ooffi_prot_chr4.bed                                                                          \u001b]8;id=1639063602.438914-697202;file:///Users/ra57rut/.conda/envs/lastal/lib/python3.9/site-packages/jcvi/compara/blastfilter.py\u001b\\\u001b[2mblastfilter.py\u001b[0m\u001b]8;;\u001b\\\u001b[2m:74\u001b[0m\n",
      "\u001b[2;36m          \u001b[0m\u001b[2;36m \u001b[0m\u001b[31mWARNING \u001b[0m OoffiChr04g01693.\u001b[1;36m3\u001b[0m not in ooffi_prot_chr4.bed                                                                          \u001b]8;id=1639063602.4408882-562680;file:///Users/ra57rut/.conda/envs/lastal/lib/python3.9/site-packages/jcvi/compara/blastfilter.py\u001b\\\u001b[2mblastfilter.py\u001b[0m\u001b]8;;\u001b\\\u001b[2m:74\u001b[0m\n",
      "\u001b[2;36m          \u001b[0m\u001b[2;36m \u001b[0m\u001b[31mWARNING \u001b[0m OoffiChr04g02022.\u001b[1;36m2\u001b[0m not in ooffi_prot_chr4.bed                                                                          \u001b]8;id=1639063602.442556-350787;file:///Users/ra57rut/.conda/envs/lastal/lib/python3.9/site-packages/jcvi/compara/blastfilter.py\u001b\\\u001b[2mblastfilter.py\u001b[0m\u001b]8;;\u001b\\\u001b[2m:74\u001b[0m\n",
      "\u001b[2;36m          \u001b[0m\u001b[2;36m \u001b[0m\u001b[31mWARNING \u001b[0m OoffiChr04g00326.\u001b[1;36m2\u001b[0m not in ooffi_prot_chr4.bed                                                                          \u001b]8;id=1639063602.4441621-137336;file:///Users/ra57rut/.conda/envs/lastal/lib/python3.9/site-packages/jcvi/compara/blastfilter.py\u001b\\\u001b[2mblastfilter.py\u001b[0m\u001b]8;;\u001b\\\u001b[2m:74\u001b[0m\n",
      "\u001b[2;36m          \u001b[0m\u001b[2;36m \u001b[0m\u001b[31mWARNING \u001b[0m OoffiChr04g00326.\u001b[1;36m3\u001b[0m not in ooffi_prot_chr4.bed                                                                          \u001b]8;id=1639063602.4453278-84106;file:///Users/ra57rut/.conda/envs/lastal/lib/python3.9/site-packages/jcvi/compara/blastfilter.py\u001b\\\u001b[2mblastfilter.py\u001b[0m\u001b]8;;\u001b\\\u001b[2m:74\u001b[0m\n",
      "\u001b[2;36m          \u001b[0m\u001b[2;36m \u001b[0m\u001b[31mWARNING \u001b[0m OoffiChr04g01759.\u001b[1;36m1\u001b[0m not in ooffi_prot_chr4.bed                                                                          \u001b]8;id=1639063602.4464169-46927;file:///Users/ra57rut/.conda/envs/lastal/lib/python3.9/site-packages/jcvi/compara/blastfilter.py\u001b\\\u001b[2mblastfilter.py\u001b[0m\u001b]8;;\u001b\\\u001b[2m:74\u001b[0m\n",
      "\u001b[2;36m          \u001b[0m\u001b[2;36m \u001b[0m\u001b[31mWARNING \u001b[0m OoffiChr04g02129.\u001b[1;36m1\u001b[0m not in ooffi_prot_chr4.bed                                                                          \u001b]8;id=1639063602.447374-45666;file:///Users/ra57rut/.conda/envs/lastal/lib/python3.9/site-packages/jcvi/compara/blastfilter.py\u001b\\\u001b[2mblastfilter.py\u001b[0m\u001b]8;;\u001b\\\u001b[2m:74\u001b[0m\n",
      "\u001b[2;36m          \u001b[0m\u001b[2;36m \u001b[0m\u001b[31mWARNING \u001b[0m OoffiChr04g02129.\u001b[1;36m2\u001b[0m not in ooffi_prot_chr4.bed                                                                          \u001b]8;id=1639063602.448391-588702;file:///Users/ra57rut/.conda/envs/lastal/lib/python3.9/site-packages/jcvi/compara/blastfilter.py\u001b\\\u001b[2mblastfilter.py\u001b[0m\u001b]8;;\u001b\\\u001b[2m:74\u001b[0m\n",
      "\u001b[2;36m          \u001b[0m\u001b[2;36m \u001b[0m\u001b[31mWARNING \u001b[0m OoffiChr04g02129.\u001b[1;36m4\u001b[0m not in ooffi_prot_chr4.bed                                                                          \u001b]8;id=1639063602.449374-129195;file:///Users/ra57rut/.conda/envs/lastal/lib/python3.9/site-packages/jcvi/compara/blastfilter.py\u001b\\\u001b[2mblastfilter.py\u001b[0m\u001b]8;;\u001b\\\u001b[2m:74\u001b[0m\n",
      "\u001b[2;36m          \u001b[0m\u001b[2;36m \u001b[0m\u001b[31mWARNING \u001b[0m OoffiChr04g01174.\u001b[1;36m1\u001b[0m not in ooffi_prot_chr4.bed                                                                          \u001b]8;id=1639063602.45053-344477;file:///Users/ra57rut/.conda/envs/lastal/lib/python3.9/site-packages/jcvi/compara/blastfilter.py\u001b\\\u001b[2mblastfilter.py\u001b[0m\u001b]8;;\u001b\\\u001b[2m:74\u001b[0m\n",
      "\u001b[2;36m          \u001b[0m\u001b[2;36m \u001b[0m\u001b[31mWARNING \u001b[0m OoffiChr04g00273.\u001b[1;36m2\u001b[0m not in ooffi_prot_chr4.bed                                                                          \u001b]8;id=1639063602.451539-70709;file:///Users/ra57rut/.conda/envs/lastal/lib/python3.9/site-packages/jcvi/compara/blastfilter.py\u001b\\\u001b[2mblastfilter.py\u001b[0m\u001b]8;;\u001b\\\u001b[2m:74\u001b[0m\n",
      "\u001b[2;36m          \u001b[0m\u001b[2;36m \u001b[0m\u001b[31mWARNING \u001b[0m OoffiChr04g01406.\u001b[1;36m2\u001b[0m not in ooffi_prot_chr4.bed                                                                          \u001b]8;id=1639063602.452497-97776;file:///Users/ra57rut/.conda/envs/lastal/lib/python3.9/site-packages/jcvi/compara/blastfilter.py\u001b\\\u001b[2mblastfilter.py\u001b[0m\u001b]8;;\u001b\\\u001b[2m:74\u001b[0m\n",
      "\u001b[2;36m          \u001b[0m\u001b[2;36m \u001b[0m\u001b[31mWARNING \u001b[0m OoffiChr04g01178.\u001b[1;36m1\u001b[0m not in ooffi_prot_chr4.bed                                                                          \u001b]8;id=1639063602.453373-249323;file:///Users/ra57rut/.conda/envs/lastal/lib/python3.9/site-packages/jcvi/compara/blastfilter.py\u001b\\\u001b[2mblastfilter.py\u001b[0m\u001b]8;;\u001b\\\u001b[2m:74\u001b[0m\n",
      "\u001b[2;36m          \u001b[0m\u001b[2;36m \u001b[0m\u001b[31mWARNING \u001b[0m OoffiChr04g01178.\u001b[1;36m2\u001b[0m not in ooffi_prot_chr4.bed                                                                          \u001b]8;id=1639063602.4545321-308165;file:///Users/ra57rut/.conda/envs/lastal/lib/python3.9/site-packages/jcvi/compara/blastfilter.py\u001b\\\u001b[2mblastfilter.py\u001b[0m\u001b]8;;\u001b\\\u001b[2m:74\u001b[0m\n",
      "\u001b[2;36m          \u001b[0m\u001b[2;36m \u001b[0m\u001b[31mWARNING \u001b[0m OoffiChr04g00338.\u001b[1;36m3\u001b[0m not in ooffi_prot_chr4.bed                                                                          \u001b]8;id=1639063602.455462-28679;file:///Users/ra57rut/.conda/envs/lastal/lib/python3.9/site-packages/jcvi/compara/blastfilter.py\u001b\\\u001b[2mblastfilter.py\u001b[0m\u001b]8;;\u001b\\\u001b[2m:74\u001b[0m\n",
      "\u001b[2;36m          \u001b[0m\u001b[2;36m \u001b[0m\u001b[31mWARNING \u001b[0m OoffiChr04g01606.\u001b[1;36m1\u001b[0m not in ooffi_prot_chr4.bed                                                                          \u001b]8;id=1639063602.456456-42074;file:///Users/ra57rut/.conda/envs/lastal/lib/python3.9/site-packages/jcvi/compara/blastfilter.py\u001b\\\u001b[2mblastfilter.py\u001b[0m\u001b]8;;\u001b\\\u001b[2m:74\u001b[0m\n",
      "\u001b[2;36m          \u001b[0m\u001b[2;36m \u001b[0m\u001b[31mWARNING \u001b[0m OoffiChr04g01606.\u001b[1;36m3\u001b[0m not in ooffi_prot_chr4.bed                                                                          \u001b]8;id=1639063602.457381-626643;file:///Users/ra57rut/.conda/envs/lastal/lib/python3.9/site-packages/jcvi/compara/blastfilter.py\u001b\\\u001b[2mblastfilter.py\u001b[0m\u001b]8;;\u001b\\\u001b[2m:74\u001b[0m\n",
      "\u001b[2;36m          \u001b[0m\u001b[2;36m \u001b[0m\u001b[31mWARNING \u001b[0m OoffiChr04g02002.\u001b[1;36m2\u001b[0m not in ooffi_prot_chr4.bed                                                                          \u001b]8;id=1639063602.458276-9213;file:///Users/ra57rut/.conda/envs/lastal/lib/python3.9/site-packages/jcvi/compara/blastfilter.py\u001b\\\u001b[2mblastfilter.py\u001b[0m\u001b]8;;\u001b\\\u001b[2m:74\u001b[0m\n",
      "\u001b[2;36m          \u001b[0m\u001b[2;36m \u001b[0m\u001b[31mWARNING \u001b[0m OoffiChr04g00338.\u001b[1;36m1\u001b[0m not in ooffi_prot_chr4.bed                                                                          \u001b]8;id=1639063602.4591649-91250;file:///Users/ra57rut/.conda/envs/lastal/lib/python3.9/site-packages/jcvi/compara/blastfilter.py\u001b\\\u001b[2mblastfilter.py\u001b[0m\u001b]8;;\u001b\\\u001b[2m:74\u001b[0m\n",
      "\u001b[2;36m          \u001b[0m\u001b[2;36m \u001b[0m\u001b[31mWARNING \u001b[0m OoffiChr04g01865.\u001b[1;36m1\u001b[0m not in ooffi_prot_chr4.bed                                                                          \u001b]8;id=1639063602.4602492-859058;file:///Users/ra57rut/.conda/envs/lastal/lib/python3.9/site-packages/jcvi/compara/blastfilter.py\u001b\\\u001b[2mblastfilter.py\u001b[0m\u001b]8;;\u001b\\\u001b[2m:74\u001b[0m\n",
      "\u001b[2;36m          \u001b[0m\u001b[2;36m \u001b[0m\u001b[31mWARNING \u001b[0m OoffiChr04g01976.\u001b[1;36m2\u001b[0m not in ooffi_prot_chr4.bed                                                                          \u001b]8;id=1639063602.4612212-551729;file:///Users/ra57rut/.conda/envs/lastal/lib/python3.9/site-packages/jcvi/compara/blastfilter.py\u001b\\\u001b[2mblastfilter.py\u001b[0m\u001b]8;;\u001b\\\u001b[2m:74\u001b[0m\n",
      "\u001b[2;36m          \u001b[0m\u001b[2;36m \u001b[0m\u001b[31mWARNING \u001b[0m OoffiChr04g01606.\u001b[1;36m2\u001b[0m not in ooffi_prot_chr4.bed                                                                          \u001b]8;id=1639063602.4621701-734502;file:///Users/ra57rut/.conda/envs/lastal/lib/python3.9/site-packages/jcvi/compara/blastfilter.py\u001b\\\u001b[2mblastfilter.py\u001b[0m\u001b]8;;\u001b\\\u001b[2m:74\u001b[0m\n",
      "\u001b[2;36m          \u001b[0m\u001b[2;36m \u001b[0m\u001b[31mWARNING \u001b[0m OoffiChr04g01494.\u001b[1;36m2\u001b[0m not in ooffi_prot_chr4.bed                                                                          \u001b]8;id=1639063602.4630919-534945;file:///Users/ra57rut/.conda/envs/lastal/lib/python3.9/site-packages/jcvi/compara/blastfilter.py\u001b\\\u001b[2mblastfilter.py\u001b[0m\u001b]8;;\u001b\\\u001b[2m:74\u001b[0m\n",
      "\u001b[2;36m          \u001b[0m\u001b[2;36m \u001b[0m\u001b[31mWARNING \u001b[0m OoffiChr04g01494.\u001b[1;36m3\u001b[0m not in ooffi_prot_chr4.bed                                                                          \u001b]8;id=1639063602.464275-211311;file:///Users/ra57rut/.conda/envs/lastal/lib/python3.9/site-packages/jcvi/compara/blastfilter.py\u001b\\\u001b[2mblastfilter.py\u001b[0m\u001b]8;;\u001b\\\u001b[2m:74\u001b[0m\n",
      "\u001b[2;36m          \u001b[0m\u001b[2;36m \u001b[0m\u001b[31mWARNING \u001b[0m OoffiChr04g00405.\u001b[1;36m9\u001b[0m not in ooffi_prot_chr4.bed                                                                          \u001b]8;id=1639063602.465284-116463;file:///Users/ra57rut/.conda/envs/lastal/lib/python3.9/site-packages/jcvi/compara/blastfilter.py\u001b\\\u001b[2mblastfilter.py\u001b[0m\u001b]8;;\u001b\\\u001b[2m:74\u001b[0m\n",
      "\u001b[2;36m          \u001b[0m\u001b[2;36m \u001b[0m\u001b[31mWARNING \u001b[0m OoffiChr04g01281.\u001b[1;36m1\u001b[0m not in ooffi_prot_chr4.bed                                                                          \u001b]8;id=1639063602.466304-293171;file:///Users/ra57rut/.conda/envs/lastal/lib/python3.9/site-packages/jcvi/compara/blastfilter.py\u001b\\\u001b[2mblastfilter.py\u001b[0m\u001b]8;;\u001b\\\u001b[2m:74\u001b[0m\n",
      "\u001b[2;36m          \u001b[0m\u001b[2;36m \u001b[0m\u001b[31mWARNING \u001b[0m OoffiChr04g02004.\u001b[1;36m5\u001b[0m not in ooffi_prot_chr4.bed                                                                          \u001b]8;id=1639063602.467813-659052;file:///Users/ra57rut/.conda/envs/lastal/lib/python3.9/site-packages/jcvi/compara/blastfilter.py\u001b\\\u001b[2mblastfilter.py\u001b[0m\u001b]8;;\u001b\\\u001b[2m:74\u001b[0m\n",
      "\u001b[2;36m          \u001b[0m\u001b[2;36m \u001b[0m\u001b[31mWARNING \u001b[0m OoffiChr04g02002.\u001b[1;36m1\u001b[0m not in ooffi_prot_chr4.bed                                                                          \u001b]8;id=1639063602.469505-373941;file:///Users/ra57rut/.conda/envs/lastal/lib/python3.9/site-packages/jcvi/compara/blastfilter.py\u001b\\\u001b[2mblastfilter.py\u001b[0m\u001b]8;;\u001b\\\u001b[2m:74\u001b[0m\n",
      "\u001b[2;36m          \u001b[0m\u001b[2;36m \u001b[0m\u001b[31mWARNING \u001b[0m OoffiChr04g00984.\u001b[1;36m1\u001b[0m not in ooffi_prot_chr4.bed                                                                          \u001b]8;id=1639063602.470937-845498;file:///Users/ra57rut/.conda/envs/lastal/lib/python3.9/site-packages/jcvi/compara/blastfilter.py\u001b\\\u001b[2mblastfilter.py\u001b[0m\u001b]8;;\u001b\\\u001b[2m:74\u001b[0m\n",
      "\u001b[2;36m          \u001b[0m\u001b[2;36m \u001b[0m\u001b[31mWARNING \u001b[0m OoffiChr04g01355.\u001b[1;36m1\u001b[0m not in ooffi_prot_chr4.bed                                                                          \u001b]8;id=1639063602.472467-246163;file:///Users/ra57rut/.conda/envs/lastal/lib/python3.9/site-packages/jcvi/compara/blastfilter.py\u001b\\\u001b[2mblastfilter.py\u001b[0m\u001b]8;;\u001b\\\u001b[2m:74\u001b[0m\n",
      "\u001b[2;36m          \u001b[0m\u001b[2;36m \u001b[0m\u001b[31mWARNING \u001b[0m OoffiChr04g01178.\u001b[1;36m5\u001b[0m not in ooffi_prot_chr4.bed                                                                          \u001b]8;id=1639063602.474141-99866;file:///Users/ra57rut/.conda/envs/lastal/lib/python3.9/site-packages/jcvi/compara/blastfilter.py\u001b\\\u001b[2mblastfilter.py\u001b[0m\u001b]8;;\u001b\\\u001b[2m:74\u001b[0m\n",
      "\u001b[2;36m          \u001b[0m\u001b[2;36m \u001b[0m\u001b[31mWARNING \u001b[0m OoffiChr04g02004.\u001b[1;36m4\u001b[0m not in ooffi_prot_chr4.bed                                                                          \u001b]8;id=1639063602.475755-692502;file:///Users/ra57rut/.conda/envs/lastal/lib/python3.9/site-packages/jcvi/compara/blastfilter.py\u001b\\\u001b[2mblastfilter.py\u001b[0m\u001b]8;;\u001b\\\u001b[2m:74\u001b[0m\n",
      "\u001b[2;36m          \u001b[0m\u001b[2;36m \u001b[0m\u001b[31mWARNING \u001b[0m OoffiChr04g00169.\u001b[1;36m4\u001b[0m not in ooffi_prot_chr4.bed                                                                          \u001b]8;id=1639063602.477383-365551;file:///Users/ra57rut/.conda/envs/lastal/lib/python3.9/site-packages/jcvi/compara/blastfilter.py\u001b\\\u001b[2mblastfilter.py\u001b[0m\u001b]8;;\u001b\\\u001b[2m:74\u001b[0m\n",
      "\u001b[2;36m          \u001b[0m\u001b[2;36m \u001b[0m\u001b[31mWARNING \u001b[0m too many warnings.. suppressed                                                                                         \u001b]8;id=1639063602.479489-597749;file:///Users/ra57rut/.conda/envs/lastal/lib/python3.9/site-packages/jcvi/compara/blastfilter.py\u001b\\\u001b[2mblastfilter.py\u001b[0m\u001b]8;;\u001b\\\u001b[2m:76\u001b[0m\n",
      "\u001b[2;36m          \u001b[0m\u001b[2;36m \u001b[0m\u001b[32mDEBUG   \u001b[0m running the cscore filter \u001b[1m(\u001b[0mcscore>=\u001b[1;36m0.70\u001b[0m\u001b[1m)\u001b[0m ..                                                                           \u001b]8;id=1639063602.827034-734486;file:///Users/ra57rut/.conda/envs/lastal/lib/python3.9/site-packages/jcvi/compara/blastfilter.py\u001b\\\u001b[2mblastfilter.py\u001b[0m\u001b]8;;\u001b\\\u001b[2m:110\u001b[0m\n",
      "\u001b[2;36m          \u001b[0m\u001b[2;36m \u001b[0m\u001b[32mDEBUG   \u001b[0m after filter \u001b[1m(\u001b[0m\u001b[1;36m101222\u001b[0m->\u001b[1;36m3109\u001b[0m\u001b[1m)\u001b[0m ..                                                                                        \u001b]8;id=1639063602.951416-480465;file:///Users/ra57rut/.conda/envs/lastal/lib/python3.9/site-packages/jcvi/compara/blastfilter.py\u001b\\\u001b[2mblastfilter.py\u001b[0m\u001b]8;;\u001b\\\u001b[2m:112\u001b[0m\n",
      "\u001b[2;36m          \u001b[0m\u001b[2;36m \u001b[0m\u001b[32mDEBUG   \u001b[0m running the local dups filter \u001b[1m(\u001b[0m\u001b[33mtandem_Nmax\u001b[0m=\u001b[1;36m10\u001b[0m\u001b[1m)\u001b[0m ..                                                                     \u001b]8;id=1639063602.95249-782344;file:///Users/ra57rut/.conda/envs/lastal/lib/python3.9/site-packages/jcvi/compara/blastfilter.py\u001b\\\u001b[2mblastfilter.py\u001b[0m\u001b]8;;\u001b\\\u001b[2m:117\u001b[0m\n",
      "\u001b[2;36m          \u001b[0m\u001b[2;36m \u001b[0m\u001b[32mDEBUG   \u001b[0m after filter \u001b[1m(\u001b[0m\u001b[1;36m3109\u001b[0m->\u001b[1;36m2645\u001b[0m\u001b[1m)\u001b[0m ..                                                                                          \u001b]8;id=1639063602.968517-876341;file:///Users/ra57rut/.conda/envs/lastal/lib/python3.9/site-packages/jcvi/compara/blastfilter.py\u001b\\\u001b[2mblastfilter.py\u001b[0m\u001b]8;;\u001b\\\u001b[2m:161\u001b[0m\n",
      "\u001b[2;36m[16:26:43]\u001b[0m\u001b[2;36m \u001b[0m\u001b[32mDEBUG   \u001b[0m Assuming --\u001b[33mqbed\u001b[0m=\u001b[35mrice_prot\u001b[0m.bed --\u001b[33msbed\u001b[0m=\u001b[35mooffi_prot_chr4\u001b[0m.bed                                                                  \u001b]8;id=1639063603.026155-257347;file:///Users/ra57rut/.conda/envs/lastal/lib/python3.9/site-packages/jcvi/compara/synteny.py\u001b\\\u001b[2msynteny.py\u001b[0m\u001b]8;;\u001b\\\u001b[2m:500\u001b[0m\n",
      "\u001b[2;36m          \u001b[0m\u001b[2;36m \u001b[0m\u001b[32mDEBUG   \u001b[0m Load file `rice_prot.bed`                                                                                                     \u001b]8;id=1639063603.0271091-463353;file:///Users/ra57rut/.conda/envs/lastal/lib/python3.9/site-packages/jcvi/formats/base.py\u001b\\\u001b[2mbase.py\u001b[0m\u001b]8;;\u001b\\\u001b[2m:37\u001b[0m\n",
      "\u001b[2;36m          \u001b[0m\u001b[2;36m \u001b[0m\u001b[32mDEBUG   \u001b[0m Load file `ooffi_prot_chr4.bed`                                                                                               \u001b]8;id=1639063603.3567889-319077;file:///Users/ra57rut/.conda/envs/lastal/lib/python3.9/site-packages/jcvi/formats/base.py\u001b\\\u001b[2mbase.py\u001b[0m\u001b]8;;\u001b\\\u001b[2m:37\u001b[0m\n",
      "\u001b[2;36m          \u001b[0m\u001b[2;36m \u001b[0m\u001b[32mDEBUG   \u001b[0m Load file `rice_prot.ooffi_prot_chr4.last.filtered`                                                                           \u001b]8;id=1639063603.651495-520328;file:///Users/ra57rut/.conda/envs/lastal/lib/python3.9/site-packages/jcvi/formats/base.py\u001b\\\u001b[2mbase.py\u001b[0m\u001b]8;;\u001b\\\u001b[2m:37\u001b[0m\n",
      "\u001b[2;36m          \u001b[0m\u001b[2;36m \u001b[0m\u001b[32mDEBUG   \u001b[0m A total of \u001b[1;36m2645\u001b[0m BLAST imported from `rice_prot.ooffi_prot_chr4.last.filtered`.                                            \u001b]8;id=1639063603.6928189-754367;file:///Users/ra57rut/.conda/envs/lastal/lib/python3.9/site-packages/jcvi/compara/synteny.py\u001b\\\u001b[2msynteny.py\u001b[0m\u001b]8;;\u001b\\\u001b[2m:386\u001b[0m\n",
      "\u001b[2;36m          \u001b[0m\u001b[2;36m \u001b[0m\u001b[32mDEBUG   \u001b[0m Chaining distance = \u001b[1;36m20\u001b[0m                                                                                                   \u001b]8;id=1639063603.694426-26505;file:///Users/ra57rut/.conda/envs/lastal/lib/python3.9/site-packages/jcvi/compara/synteny.py\u001b\\\u001b[2msynteny.py\u001b[0m\u001b]8;;\u001b\\\u001b[2m:1933\u001b[0m\n",
      "\u001b[2;36m          \u001b[0m\u001b[2;36m \u001b[0m\u001b[32mDEBUG   \u001b[0m Load file `rice_prot.ooffi_prot_chr4.anchors`                                                                                 \u001b]8;id=1639063603.737901-752656;file:///Users/ra57rut/.conda/envs/lastal/lib/python3.9/site-packages/jcvi/formats/base.py\u001b\\\u001b[2mbase.py\u001b[0m\u001b]8;;\u001b\\\u001b[2m:37\u001b[0m\n",
      "A total of 1751 (NR:1732) anchors found in 40 clusters.\n",
      "Stats: Min=4 Max=374 N=40 Mean=43.77 SD=73.25 Median=16.0 Sum=1751\n",
      "NR stats: Min=4 Max=374 N=40 Mean=43.30 SD=72.91 Median=14.5 Sum=1732\n",
      "\u001b[2;36m          \u001b[0m\u001b[2;36m \u001b[0m\u001b[32mDEBUG   \u001b[0m Load file `rice_prot.bed`                                                                                                     \u001b]8;id=1639063603.828831-796905;file:///Users/ra57rut/.conda/envs/lastal/lib/python3.9/site-packages/jcvi/formats/base.py\u001b\\\u001b[2mbase.py\u001b[0m\u001b]8;;\u001b\\\u001b[2m:37\u001b[0m\n",
      "\u001b[2;36m[16:26:44]\u001b[0m\u001b[2;36m \u001b[0m\u001b[32mDEBUG   \u001b[0m Load file `ooffi_prot_chr4.bed`                                                                                               \u001b]8;id=1639063604.063054-46728;file:///Users/ra57rut/.conda/envs/lastal/lib/python3.9/site-packages/jcvi/formats/base.py\u001b\\\u001b[2mbase.py\u001b[0m\u001b]8;;\u001b\\\u001b[2m:37\u001b[0m\n",
      "\u001b[2;36m          \u001b[0m\u001b[2;36m \u001b[0m\u001b[32mDEBUG   \u001b[0m Load file `rice_prot.ooffi_prot_chr4.last`                                                                                    \u001b]8;id=1639063604.358562-181522;file:///Users/ra57rut/.conda/envs/lastal/lib/python3.9/site-packages/jcvi/formats/base.py\u001b\\\u001b[2mbase.py\u001b[0m\u001b]8;;\u001b\\\u001b[2m:37\u001b[0m\n",
      "\u001b[2;36m          \u001b[0m\u001b[2;36m \u001b[0m\u001b[32mDEBUG   \u001b[0m A total of \u001b[1;36m101222\u001b[0m BLAST imported from `rice_prot.ooffi_prot_chr4.last`.                                                   \u001b]8;id=1639063604.989863-258068;file:///Users/ra57rut/.conda/envs/lastal/lib/python3.9/site-packages/jcvi/compara/synteny.py\u001b\\\u001b[2msynteny.py\u001b[0m\u001b]8;;\u001b\\\u001b[2m:386\u001b[0m\n",
      "\u001b[2;36m[16:26:45]\u001b[0m\u001b[2;36m \u001b[0m\u001b[32mDEBUG   \u001b[0m Load file `rice_prot.ooffi_prot_chr4.anchors`                                                                                 \u001b]8;id=1639063605.136141-564319;file:///Users/ra57rut/.conda/envs/lastal/lib/python3.9/site-packages/jcvi/formats/base.py\u001b\\\u001b[2mbase.py\u001b[0m\u001b]8;;\u001b\\\u001b[2m:37\u001b[0m\n",
      "\u001b[2;36m          \u001b[0m\u001b[2;36m \u001b[0m\u001b[32mDEBUG   \u001b[0m A total of \u001b[1;36m1751\u001b[0m anchors imported.                                                                                         \u001b]8;id=1639063605.198999-970157;file:///Users/ra57rut/.conda/envs/lastal/lib/python3.9/site-packages/jcvi/compara/synteny.py\u001b\\\u001b[2msynteny.py\u001b[0m\u001b]8;;\u001b\\\u001b[2m:412\u001b[0m\n",
      "\u001b[2;36m          \u001b[0m\u001b[2;36m \u001b[0m\u001b[32mDEBUG   \u001b[0m \u001b[1;36m1285\u001b[0m new pairs found \u001b[1m(\u001b[0m\u001b[33mdist\u001b[0m=\u001b[1;36m5\u001b[0m\u001b[1m)\u001b[0m.                                                                                           \u001b]8;id=1639063605.299281-34113;file:///Users/ra57rut/.conda/envs/lastal/lib/python3.9/site-packages/jcvi/compara/synteny.py\u001b\\\u001b[2msynteny.py\u001b[0m\u001b]8;;\u001b\\\u001b[2m:2011\u001b[0m\n",
      "\u001b[2;36m          \u001b[0m\u001b[2;36m \u001b[0m\u001b[32mDEBUG   \u001b[0m Removed \u001b[1;36m0\u001b[0m existing anchors.                                                                                                \u001b]8;id=1639063605.308393-300893;file:///Users/ra57rut/.conda/envs/lastal/lib/python3.9/site-packages/jcvi/compara/synteny.py\u001b\\\u001b[2msynteny.py\u001b[0m\u001b]8;;\u001b\\\u001b[2m:93\u001b[0m\n",
      "\u001b[2;36m          \u001b[0m\u001b[2;36m \u001b[0m\u001b[32mDEBUG   \u001b[0m Corrected scores for \u001b[1;36m87\u001b[0m anchors.                                                                                           \u001b]8;id=1639063605.309939-389986;file:///Users/ra57rut/.conda/envs/lastal/lib/python3.9/site-packages/jcvi/compara/synteny.py\u001b\\\u001b[2msynteny.py\u001b[0m\u001b]8;;\u001b\\\u001b[2m:94\u001b[0m\n",
      "\u001b[2;36m          \u001b[0m\u001b[2;36m \u001b[0m\u001b[32mDEBUG   \u001b[0m Anchors written to `rice_prot.ooffi_prot_chr4.lifted.anchors`.                                                             \u001b]8;id=1639063605.312775-71836;file:///Users/ra57rut/.conda/envs/lastal/lib/python3.9/site-packages/jcvi/compara/synteny.py\u001b\\\u001b[2msynteny.py\u001b[0m\u001b]8;;\u001b\\\u001b[2m:95\u001b[0m\n",
      "\u001b[2;36m          \u001b[0m\u001b[2;36m \u001b[0m\u001b[32mDEBUG   \u001b[0m Load file `rice_prot.ooffi_prot_chr4.lifted.anchors`                                                                          \u001b]8;id=1639063605.314058-700684;file:///Users/ra57rut/.conda/envs/lastal/lib/python3.9/site-packages/jcvi/formats/base.py\u001b\\\u001b[2mbase.py\u001b[0m\u001b]8;;\u001b\\\u001b[2m:37\u001b[0m\n",
      "A total of 3036 (NR:1991) anchors found in 40 clusters.\n",
      "Stats: Min=4 Max=627 N=40 Mean=75.90 SD=119.37 Median=36.5 Sum=3036\n",
      "NR stats: Min=4 Max=419 N=40 Mean=49.77 SD=80.36 Median=24.5 Sum=1991\n",
      "\u001b[2;36m          \u001b[0m\u001b[2;36m \u001b[0m\u001b[32mDEBUG   \u001b[0m Assuming --\u001b[33mqbed\u001b[0m=\u001b[35mrice_prot\u001b[0m.bed --\u001b[33msbed\u001b[0m=\u001b[35mooffi_prot_chr4\u001b[0m.bed                                                                  \u001b]8;id=1639063605.4074938-935210;file:///Users/ra57rut/.conda/envs/lastal/lib/python3.9/site-packages/jcvi/compara/synteny.py\u001b\\\u001b[2msynteny.py\u001b[0m\u001b]8;;\u001b\\\u001b[2m:500\u001b[0m\n",
      "\u001b[2;36m          \u001b[0m\u001b[2;36m \u001b[0m\u001b[32mDEBUG   \u001b[0m Load file `rice_prot.bed`                                                                                                     \u001b]8;id=1639063605.408871-486789;file:///Users/ra57rut/.conda/envs/lastal/lib/python3.9/site-packages/jcvi/formats/base.py\u001b\\\u001b[2mbase.py\u001b[0m\u001b]8;;\u001b\\\u001b[2m:37\u001b[0m\n",
      "\u001b[2;36m          \u001b[0m\u001b[2;36m \u001b[0m\u001b[32mDEBUG   \u001b[0m Load file `ooffi_prot_chr4.bed`                                                                                               \u001b]8;id=1639063605.819894-88552;file:///Users/ra57rut/.conda/envs/lastal/lib/python3.9/site-packages/jcvi/formats/base.py\u001b\\\u001b[2mbase.py\u001b[0m\u001b]8;;\u001b\\\u001b[2m:37\u001b[0m\n",
      "\u001b[2;36m[16:26:46]\u001b[0m\u001b[2;36m \u001b[0m\u001b[32mDEBUG   \u001b[0m \u001b[33mxsize\u001b[0m=\u001b[1;36m42189\u001b[0m \u001b[33mysize\u001b[0m=\u001b[1;36m29930\u001b[0m                                                                                                   \u001b]8;id=1639063606.5448608-33676;file:///Users/ra57rut/.conda/envs/lastal/lib/python3.9/site-packages/jcvi/graphics/dotplot.py\u001b\\\u001b[2mdotplot.py\u001b[0m\u001b]8;;\u001b\\\u001b[2m:336\u001b[0m\n",
      "\u001b[2;36m[16:26:48]\u001b[0m\u001b[2;36m \u001b[0m\u001b[32mDEBUG   \u001b[0m Dot plot title: Inter-genomic comparison: rice\\_prot vs ooffi\\_prot\\_chr4 \u001b[1m(\u001b[0m\u001b[1;36m1\u001b[0m,\u001b[1;36m751\u001b[0m gene pairs\u001b[1m)\u001b[0m                              \u001b]8;id=1639063608.8617961-920751;file:///Users/ra57rut/.conda/envs/lastal/lib/python3.9/site-packages/jcvi/graphics/dotplot.py\u001b\\\u001b[2mdotplot.py\u001b[0m\u001b]8;;\u001b\\\u001b[2m:379\u001b[0m\n",
      "\u001b[2;36m[16:26:50]\u001b[0m\u001b[2;36m \u001b[0m\u001b[32mDEBUG   \u001b[0m Figure saved to `rice_prot.ooffi_prot_chr4.pdf` \u001b[1m(\u001b[0m810px x 810px\u001b[1m)\u001b[0m                                                              \u001b]8;id=1639063610.839238-124382;file:///Users/ra57rut/.conda/envs/lastal/lib/python3.9/site-packages/jcvi/graphics/base.py\u001b\\\u001b[2mbase.py\u001b[0m\u001b]8;;\u001b\\\u001b[2m:295\u001b[0m\n"
     ]
    }
   ],
   "source": [
    "!python3.9 -m jcvi.compara.catalog ortholog rice_prot ooffi_prot_chr4 --dbtype=prot --no_strip_names --liftover_dist=5"
   ]
  },
  {
   "cell_type": "markdown",
   "id": "e4eb418e",
   "metadata": {},
   "source": [
    "### O. sativa vs O. alta (C)"
   ]
  },
  {
   "cell_type": "code",
   "execution_count": 81,
   "id": "759ca8d0",
   "metadata": {
    "collapsed": true,
    "jupyter": {
     "outputs_hidden": true
    },
    "tags": []
   },
   "outputs": [
    {
     "name": "stdout",
     "output_type": "stream",
     "text": [
      "\u001b[2;36m[15:21:15]\u001b[0m\u001b[2;36m \u001b[0m\u001b[32mDEBUG   \u001b[0m lastdb -p oalta_prot_ChrC oalta_prot_ChrC.pep                                                                               \u001b]8;id=1639059675.8911822-599232;file:///Users/ra57rut/.conda/envs/lastal/lib/python3.9/site-packages/jcvi/apps/base.py\u001b\\\u001b[2mbase.py\u001b[0m\u001b]8;;\u001b\\\u001b[2m:1185\u001b[0m\n",
      "\u001b[2;36m[15:21:25]\u001b[0m\u001b[2;36m \u001b[0m\u001b[32mDEBUG   \u001b[0m lastal -u \u001b[1;36m0\u001b[0m -P \u001b[1;36m8\u001b[0m -i3G -f BlastTab oalta_prot_ChrC rice_prot.pep >.\u001b[35m/\u001b[0m\u001b[95mrice_prot.oalta_prot_ChrC.last\u001b[0m                           \u001b]8;id=1639059685.385731-213379;file:///Users/ra57rut/.conda/envs/lastal/lib/python3.9/site-packages/jcvi/apps/base.py\u001b\\\u001b[2mbase.py\u001b[0m\u001b]8;;\u001b\\\u001b[2m:1185\u001b[0m\n",
      "\u001b[2;36m[15:21:40]\u001b[0m\u001b[2;36m \u001b[0m\u001b[32mDEBUG   \u001b[0m Assuming --\u001b[33mqbed\u001b[0m=\u001b[35mrice_prot\u001b[0m.bed --\u001b[33msbed\u001b[0m=\u001b[35moalta_prot_ChrC\u001b[0m.bed                                                                  \u001b]8;id=1639059700.516584-85348;file:///Users/ra57rut/.conda/envs/lastal/lib/python3.9/site-packages/jcvi/compara/synteny.py\u001b\\\u001b[2msynteny.py\u001b[0m\u001b]8;;\u001b\\\u001b[2m:500\u001b[0m\n",
      "\u001b[2;36m          \u001b[0m\u001b[2;36m \u001b[0m\u001b[32mDEBUG   \u001b[0m Load file `rice_prot.bed`                                                                                                     \u001b]8;id=1639059700.5175822-133694;file:///Users/ra57rut/.conda/envs/lastal/lib/python3.9/site-packages/jcvi/formats/base.py\u001b\\\u001b[2mbase.py\u001b[0m\u001b]8;;\u001b\\\u001b[2m:37\u001b[0m\n",
      "\u001b[2;36m          \u001b[0m\u001b[2;36m \u001b[0m\u001b[32mDEBUG   \u001b[0m Load file `oalta_prot_ChrC.bed`                                                                                               \u001b]8;id=1639059700.886186-629535;file:///Users/ra57rut/.conda/envs/lastal/lib/python3.9/site-packages/jcvi/formats/base.py\u001b\\\u001b[2mbase.py\u001b[0m\u001b]8;;\u001b\\\u001b[2m:37\u001b[0m\n",
      "\u001b[2;36m[15:21:41]\u001b[0m\u001b[2;36m \u001b[0m\u001b[32mDEBUG   \u001b[0m Load BLAST file `rice_prot.oalta_prot_ChrC.last` \u001b[1m(\u001b[0mtotal \u001b[1;36m717168\u001b[0m lines\u001b[1m)\u001b[0m                                                  \u001b]8;id=1639059701.9351912-875275;file:///Users/ra57rut/.conda/envs/lastal/lib/python3.9/site-packages/jcvi/compara/blastfilter.py\u001b\\\u001b[2mblastfilter.py\u001b[0m\u001b]8;;\u001b\\\u001b[2m:48\u001b[0m\n",
      "\u001b[2;36m          \u001b[0m\u001b[2;36m \u001b[0m\u001b[32mDEBUG   \u001b[0m Load file `rice_prot.oalta_prot_ChrC.last`                                                                                    \u001b]8;id=1639059701.936193-375711;file:///Users/ra57rut/.conda/envs/lastal/lib/python3.9/site-packages/jcvi/formats/base.py\u001b\\\u001b[2mbase.py\u001b[0m\u001b]8;;\u001b\\\u001b[2m:37\u001b[0m\n",
      "\u001b[2;36m[15:21:44]\u001b[0m\u001b[2;36m \u001b[0m\u001b[31mWARNING \u001b[0m OalC03g112540.\u001b[1;36m2\u001b[0m not in oalta_prot_ChrC.bed                                                                             \u001b]8;id=1639059704.1379259-753356;file:///Users/ra57rut/.conda/envs/lastal/lib/python3.9/site-packages/jcvi/compara/blastfilter.py\u001b\\\u001b[2mblastfilter.py\u001b[0m\u001b]8;;\u001b\\\u001b[2m:74\u001b[0m\n",
      "\u001b[2;36m          \u001b[0m\u001b[2;36m \u001b[0m\u001b[31mWARNING \u001b[0m OalC03g112540.\u001b[1;36m3\u001b[0m not in oalta_prot_ChrC.bed                                                                             \u001b]8;id=1639059704.138922-96395;file:///Users/ra57rut/.conda/envs/lastal/lib/python3.9/site-packages/jcvi/compara/blastfilter.py\u001b\\\u001b[2mblastfilter.py\u001b[0m\u001b]8;;\u001b\\\u001b[2m:74\u001b[0m\n",
      "\u001b[2;36m          \u001b[0m\u001b[2;36m \u001b[0m\u001b[31mWARNING \u001b[0m OalC12g123000.\u001b[1;36m2\u001b[0m not in oalta_prot_ChrC.bed                                                                             \u001b]8;id=1639059704.139906-110541;file:///Users/ra57rut/.conda/envs/lastal/lib/python3.9/site-packages/jcvi/compara/blastfilter.py\u001b\\\u001b[2mblastfilter.py\u001b[0m\u001b]8;;\u001b\\\u001b[2m:74\u001b[0m\n",
      "\u001b[2;36m          \u001b[0m\u001b[2;36m \u001b[0m\u001b[31mWARNING \u001b[0m OalC05g118720.\u001b[1;36m2\u001b[0m not in oalta_prot_ChrC.bed                                                                             \u001b]8;id=1639059704.140955-928877;file:///Users/ra57rut/.conda/envs/lastal/lib/python3.9/site-packages/jcvi/compara/blastfilter.py\u001b\\\u001b[2mblastfilter.py\u001b[0m\u001b]8;;\u001b\\\u001b[2m:74\u001b[0m\n",
      "\u001b[2;36m          \u001b[0m\u001b[2;36m \u001b[0m\u001b[31mWARNING \u001b[0m OalC04g124800.\u001b[1;36m3\u001b[0m not in oalta_prot_ChrC.bed                                                                             \u001b]8;id=1639059704.1420228-604778;file:///Users/ra57rut/.conda/envs/lastal/lib/python3.9/site-packages/jcvi/compara/blastfilter.py\u001b\\\u001b[2mblastfilter.py\u001b[0m\u001b]8;;\u001b\\\u001b[2m:74\u001b[0m\n",
      "\u001b[2;36m          \u001b[0m\u001b[2;36m \u001b[0m\u001b[31mWARNING \u001b[0m OalC04g124800.\u001b[1;36m2\u001b[0m not in oalta_prot_ChrC.bed                                                                             \u001b]8;id=1639059704.1651578-325908;file:///Users/ra57rut/.conda/envs/lastal/lib/python3.9/site-packages/jcvi/compara/blastfilter.py\u001b\\\u001b[2mblastfilter.py\u001b[0m\u001b]8;;\u001b\\\u001b[2m:74\u001b[0m\n",
      "\u001b[2;36m          \u001b[0m\u001b[2;36m \u001b[0m\u001b[31mWARNING \u001b[0m OalC10g129660.\u001b[1;36m3\u001b[0m not in oalta_prot_ChrC.bed                                                                             \u001b]8;id=1639059704.1662679-994309;file:///Users/ra57rut/.conda/envs/lastal/lib/python3.9/site-packages/jcvi/compara/blastfilter.py\u001b\\\u001b[2mblastfilter.py\u001b[0m\u001b]8;;\u001b\\\u001b[2m:74\u001b[0m\n",
      "\u001b[2;36m          \u001b[0m\u001b[2;36m \u001b[0m\u001b[31mWARNING \u001b[0m OalC10g129660.\u001b[1;36m2\u001b[0m not in oalta_prot_ChrC.bed                                                                             \u001b]8;id=1639059704.167226-3468;file:///Users/ra57rut/.conda/envs/lastal/lib/python3.9/site-packages/jcvi/compara/blastfilter.py\u001b\\\u001b[2mblastfilter.py\u001b[0m\u001b]8;;\u001b\\\u001b[2m:74\u001b[0m\n",
      "\u001b[2;36m          \u001b[0m\u001b[2;36m \u001b[0m\u001b[31mWARNING \u001b[0m OalC03g104430.\u001b[1;36m2\u001b[0m not in oalta_prot_ChrC.bed                                                                             \u001b]8;id=1639059704.1681411-721520;file:///Users/ra57rut/.conda/envs/lastal/lib/python3.9/site-packages/jcvi/compara/blastfilter.py\u001b\\\u001b[2mblastfilter.py\u001b[0m\u001b]8;;\u001b\\\u001b[2m:74\u001b[0m\n",
      "\u001b[2;36m          \u001b[0m\u001b[2;36m \u001b[0m\u001b[31mWARNING \u001b[0m OalC10g116660.\u001b[1;36m2\u001b[0m not in oalta_prot_ChrC.bed                                                                             \u001b]8;id=1639059704.169065-600080;file:///Users/ra57rut/.conda/envs/lastal/lib/python3.9/site-packages/jcvi/compara/blastfilter.py\u001b\\\u001b[2mblastfilter.py\u001b[0m\u001b]8;;\u001b\\\u001b[2m:74\u001b[0m\n",
      "\u001b[2;36m          \u001b[0m\u001b[2;36m \u001b[0m\u001b[31mWARNING \u001b[0m OalC06g111580.\u001b[1;36m2\u001b[0m not in oalta_prot_ChrC.bed                                                                             \u001b]8;id=1639059704.170206-185450;file:///Users/ra57rut/.conda/envs/lastal/lib/python3.9/site-packages/jcvi/compara/blastfilter.py\u001b\\\u001b[2mblastfilter.py\u001b[0m\u001b]8;;\u001b\\\u001b[2m:74\u001b[0m\n",
      "\u001b[2;36m          \u001b[0m\u001b[2;36m \u001b[0m\u001b[31mWARNING \u001b[0m OalC06g152780.\u001b[1;36m2\u001b[0m not in oalta_prot_ChrC.bed                                                                             \u001b]8;id=1639059704.1713018-424672;file:///Users/ra57rut/.conda/envs/lastal/lib/python3.9/site-packages/jcvi/compara/blastfilter.py\u001b\\\u001b[2mblastfilter.py\u001b[0m\u001b]8;;\u001b\\\u001b[2m:74\u001b[0m\n",
      "\u001b[2;36m          \u001b[0m\u001b[2;36m \u001b[0m\u001b[31mWARNING \u001b[0m OalC01g158660.\u001b[1;36m2\u001b[0m not in oalta_prot_ChrC.bed                                                                             \u001b]8;id=1639059704.172371-271040;file:///Users/ra57rut/.conda/envs/lastal/lib/python3.9/site-packages/jcvi/compara/blastfilter.py\u001b\\\u001b[2mblastfilter.py\u001b[0m\u001b]8;;\u001b\\\u001b[2m:74\u001b[0m\n",
      "\u001b[2;36m          \u001b[0m\u001b[2;36m \u001b[0m\u001b[31mWARNING \u001b[0m OalC01g158660.\u001b[1;36m3\u001b[0m not in oalta_prot_ChrC.bed                                                                             \u001b]8;id=1639059704.173553-84378;file:///Users/ra57rut/.conda/envs/lastal/lib/python3.9/site-packages/jcvi/compara/blastfilter.py\u001b\\\u001b[2mblastfilter.py\u001b[0m\u001b]8;;\u001b\\\u001b[2m:74\u001b[0m\n",
      "\u001b[2;36m          \u001b[0m\u001b[2;36m \u001b[0m\u001b[31mWARNING \u001b[0m OalC01g158660.\u001b[1;36m4\u001b[0m not in oalta_prot_ChrC.bed                                                                             \u001b]8;id=1639059704.174826-929952;file:///Users/ra57rut/.conda/envs/lastal/lib/python3.9/site-packages/jcvi/compara/blastfilter.py\u001b\\\u001b[2mblastfilter.py\u001b[0m\u001b]8;;\u001b\\\u001b[2m:74\u001b[0m\n",
      "\u001b[2;36m          \u001b[0m\u001b[2;36m \u001b[0m\u001b[31mWARNING \u001b[0m OalC07g109900.\u001b[1;36m2\u001b[0m not in oalta_prot_ChrC.bed                                                                             \u001b]8;id=1639059704.1759229-59260;file:///Users/ra57rut/.conda/envs/lastal/lib/python3.9/site-packages/jcvi/compara/blastfilter.py\u001b\\\u001b[2mblastfilter.py\u001b[0m\u001b]8;;\u001b\\\u001b[2m:74\u001b[0m\n",
      "\u001b[2;36m          \u001b[0m\u001b[2;36m \u001b[0m\u001b[31mWARNING \u001b[0m OalC10g107780.\u001b[1;36m2\u001b[0m not in oalta_prot_ChrC.bed                                                                             \u001b]8;id=1639059704.176954-224786;file:///Users/ra57rut/.conda/envs/lastal/lib/python3.9/site-packages/jcvi/compara/blastfilter.py\u001b\\\u001b[2mblastfilter.py\u001b[0m\u001b]8;;\u001b\\\u001b[2m:74\u001b[0m\n",
      "\u001b[2;36m          \u001b[0m\u001b[2;36m \u001b[0m\u001b[31mWARNING \u001b[0m OalC01g116960.\u001b[1;36m2\u001b[0m not in oalta_prot_ChrC.bed                                                                             \u001b]8;id=1639059704.177921-79603;file:///Users/ra57rut/.conda/envs/lastal/lib/python3.9/site-packages/jcvi/compara/blastfilter.py\u001b\\\u001b[2mblastfilter.py\u001b[0m\u001b]8;;\u001b\\\u001b[2m:74\u001b[0m\n",
      "\u001b[2;36m          \u001b[0m\u001b[2;36m \u001b[0m\u001b[31mWARNING \u001b[0m OalC12g129820.\u001b[1;36m2\u001b[0m not in oalta_prot_ChrC.bed                                                                             \u001b]8;id=1639059704.17892-742303;file:///Users/ra57rut/.conda/envs/lastal/lib/python3.9/site-packages/jcvi/compara/blastfilter.py\u001b\\\u001b[2mblastfilter.py\u001b[0m\u001b]8;;\u001b\\\u001b[2m:74\u001b[0m\n",
      "\u001b[2;36m          \u001b[0m\u001b[2;36m \u001b[0m\u001b[31mWARNING \u001b[0m OalC01g182000.\u001b[1;36m2\u001b[0m not in oalta_prot_ChrC.bed                                                                             \u001b]8;id=1639059704.1799219-282066;file:///Users/ra57rut/.conda/envs/lastal/lib/python3.9/site-packages/jcvi/compara/blastfilter.py\u001b\\\u001b[2mblastfilter.py\u001b[0m\u001b]8;;\u001b\\\u001b[2m:74\u001b[0m\n",
      "\u001b[2;36m          \u001b[0m\u001b[2;36m \u001b[0m\u001b[31mWARNING \u001b[0m OalC01g175400.\u001b[1;36m2\u001b[0m not in oalta_prot_ChrC.bed                                                                             \u001b]8;id=1639059704.1809258-718807;file:///Users/ra57rut/.conda/envs/lastal/lib/python3.9/site-packages/jcvi/compara/blastfilter.py\u001b\\\u001b[2mblastfilter.py\u001b[0m\u001b]8;;\u001b\\\u001b[2m:74\u001b[0m\n",
      "\u001b[2;36m          \u001b[0m\u001b[2;36m \u001b[0m\u001b[31mWARNING \u001b[0m OalC01g175400.\u001b[1;36m3\u001b[0m not in oalta_prot_ChrC.bed                                                                             \u001b]8;id=1639059704.182249-176736;file:///Users/ra57rut/.conda/envs/lastal/lib/python3.9/site-packages/jcvi/compara/blastfilter.py\u001b\\\u001b[2mblastfilter.py\u001b[0m\u001b]8;;\u001b\\\u001b[2m:74\u001b[0m\n",
      "\u001b[2;36m          \u001b[0m\u001b[2;36m \u001b[0m\u001b[31mWARNING \u001b[0m OalC01g175400.\u001b[1;36m4\u001b[0m not in oalta_prot_ChrC.bed                                                                             \u001b]8;id=1639059704.183369-320832;file:///Users/ra57rut/.conda/envs/lastal/lib/python3.9/site-packages/jcvi/compara/blastfilter.py\u001b\\\u001b[2mblastfilter.py\u001b[0m\u001b]8;;\u001b\\\u001b[2m:74\u001b[0m\n",
      "\u001b[2;36m          \u001b[0m\u001b[2;36m \u001b[0m\u001b[31mWARNING \u001b[0m OalC06g152780.\u001b[1;36m3\u001b[0m not in oalta_prot_ChrC.bed                                                                             \u001b]8;id=1639059704.184344-580186;file:///Users/ra57rut/.conda/envs/lastal/lib/python3.9/site-packages/jcvi/compara/blastfilter.py\u001b\\\u001b[2mblastfilter.py\u001b[0m\u001b]8;;\u001b\\\u001b[2m:74\u001b[0m\n",
      "\u001b[2;36m          \u001b[0m\u001b[2;36m \u001b[0m\u001b[31mWARNING \u001b[0m OalC05g118720.\u001b[1;36m2\u001b[0m not in oalta_prot_ChrC.bed                                                                             \u001b]8;id=1639059704.18522-946767;file:///Users/ra57rut/.conda/envs/lastal/lib/python3.9/site-packages/jcvi/compara/blastfilter.py\u001b\\\u001b[2mblastfilter.py\u001b[0m\u001b]8;;\u001b\\\u001b[2m:74\u001b[0m\n",
      "\u001b[2;36m          \u001b[0m\u001b[2;36m \u001b[0m\u001b[31mWARNING \u001b[0m OalC07g123910.\u001b[1;36m2\u001b[0m not in oalta_prot_ChrC.bed                                                                             \u001b]8;id=1639059704.186239-783285;file:///Users/ra57rut/.conda/envs/lastal/lib/python3.9/site-packages/jcvi/compara/blastfilter.py\u001b\\\u001b[2mblastfilter.py\u001b[0m\u001b]8;;\u001b\\\u001b[2m:74\u001b[0m\n",
      "\u001b[2;36m          \u001b[0m\u001b[2;36m \u001b[0m\u001b[31mWARNING \u001b[0m OalC10g132290.\u001b[1;36m2\u001b[0m not in oalta_prot_ChrC.bed                                                                             \u001b]8;id=1639059704.187108-32727;file:///Users/ra57rut/.conda/envs/lastal/lib/python3.9/site-packages/jcvi/compara/blastfilter.py\u001b\\\u001b[2mblastfilter.py\u001b[0m\u001b]8;;\u001b\\\u001b[2m:74\u001b[0m\n",
      "\u001b[2;36m          \u001b[0m\u001b[2;36m \u001b[0m\u001b[31mWARNING \u001b[0m OalC07g138430.\u001b[1;36m2\u001b[0m not in oalta_prot_ChrC.bed                                                                             \u001b]8;id=1639059704.188282-458610;file:///Users/ra57rut/.conda/envs/lastal/lib/python3.9/site-packages/jcvi/compara/blastfilter.py\u001b\\\u001b[2mblastfilter.py\u001b[0m\u001b]8;;\u001b\\\u001b[2m:74\u001b[0m\n",
      "\u001b[2;36m          \u001b[0m\u001b[2;36m \u001b[0m\u001b[31mWARNING \u001b[0m OalC07g108080.\u001b[1;36m2\u001b[0m not in oalta_prot_ChrC.bed                                                                             \u001b]8;id=1639059704.18918-907611;file:///Users/ra57rut/.conda/envs/lastal/lib/python3.9/site-packages/jcvi/compara/blastfilter.py\u001b\\\u001b[2mblastfilter.py\u001b[0m\u001b]8;;\u001b\\\u001b[2m:74\u001b[0m\n",
      "\u001b[2;36m          \u001b[0m\u001b[2;36m \u001b[0m\u001b[31mWARNING \u001b[0m OalC07g105610.\u001b[1;36m2\u001b[0m not in oalta_prot_ChrC.bed                                                                             \u001b]8;id=1639059704.1903129-496240;file:///Users/ra57rut/.conda/envs/lastal/lib/python3.9/site-packages/jcvi/compara/blastfilter.py\u001b\\\u001b[2mblastfilter.py\u001b[0m\u001b]8;;\u001b\\\u001b[2m:74\u001b[0m\n",
      "\u001b[2;36m          \u001b[0m\u001b[2;36m \u001b[0m\u001b[31mWARNING \u001b[0m OalC07g105610.\u001b[1;36m3\u001b[0m not in oalta_prot_ChrC.bed                                                                             \u001b]8;id=1639059704.1913211-843320;file:///Users/ra57rut/.conda/envs/lastal/lib/python3.9/site-packages/jcvi/compara/blastfilter.py\u001b\\\u001b[2mblastfilter.py\u001b[0m\u001b]8;;\u001b\\\u001b[2m:74\u001b[0m\n",
      "\u001b[2;36m          \u001b[0m\u001b[2;36m \u001b[0m\u001b[31mWARNING \u001b[0m OalC02g151960.\u001b[1;36m3\u001b[0m not in oalta_prot_ChrC.bed                                                                             \u001b]8;id=1639059704.1923032-848393;file:///Users/ra57rut/.conda/envs/lastal/lib/python3.9/site-packages/jcvi/compara/blastfilter.py\u001b\\\u001b[2mblastfilter.py\u001b[0m\u001b]8;;\u001b\\\u001b[2m:74\u001b[0m\n",
      "\u001b[2;36m          \u001b[0m\u001b[2;36m \u001b[0m\u001b[31mWARNING \u001b[0m OalC04g105900.\u001b[1;36m2\u001b[0m not in oalta_prot_ChrC.bed                                                                             \u001b]8;id=1639059704.1935518-570153;file:///Users/ra57rut/.conda/envs/lastal/lib/python3.9/site-packages/jcvi/compara/blastfilter.py\u001b\\\u001b[2mblastfilter.py\u001b[0m\u001b]8;;\u001b\\\u001b[2m:74\u001b[0m\n",
      "\u001b[2;36m          \u001b[0m\u001b[2;36m \u001b[0m\u001b[31mWARNING \u001b[0m OalC07g105610.\u001b[1;36m4\u001b[0m not in oalta_prot_ChrC.bed                                                                             \u001b]8;id=1639059704.194804-22003;file:///Users/ra57rut/.conda/envs/lastal/lib/python3.9/site-packages/jcvi/compara/blastfilter.py\u001b\\\u001b[2mblastfilter.py\u001b[0m\u001b]8;;\u001b\\\u001b[2m:74\u001b[0m\n",
      "\u001b[2;36m          \u001b[0m\u001b[2;36m \u001b[0m\u001b[31mWARNING \u001b[0m OalC07g105610.\u001b[1;36m5\u001b[0m not in oalta_prot_ChrC.bed                                                                             \u001b]8;id=1639059704.196036-59123;file:///Users/ra57rut/.conda/envs/lastal/lib/python3.9/site-packages/jcvi/compara/blastfilter.py\u001b\\\u001b[2mblastfilter.py\u001b[0m\u001b]8;;\u001b\\\u001b[2m:74\u001b[0m\n",
      "\u001b[2;36m          \u001b[0m\u001b[2;36m \u001b[0m\u001b[31mWARNING \u001b[0m OalC02g151960.\u001b[1;36m2\u001b[0m not in oalta_prot_ChrC.bed                                                                             \u001b]8;id=1639059704.197998-318776;file:///Users/ra57rut/.conda/envs/lastal/lib/python3.9/site-packages/jcvi/compara/blastfilter.py\u001b\\\u001b[2mblastfilter.py\u001b[0m\u001b]8;;\u001b\\\u001b[2m:74\u001b[0m\n",
      "\u001b[2;36m          \u001b[0m\u001b[2;36m \u001b[0m\u001b[31mWARNING \u001b[0m OalC08g140590.\u001b[1;36m2\u001b[0m not in oalta_prot_ChrC.bed                                                                             \u001b]8;id=1639059704.1996071-394783;file:///Users/ra57rut/.conda/envs/lastal/lib/python3.9/site-packages/jcvi/compara/blastfilter.py\u001b\\\u001b[2mblastfilter.py\u001b[0m\u001b]8;;\u001b\\\u001b[2m:74\u001b[0m\n",
      "\u001b[2;36m          \u001b[0m\u001b[2;36m \u001b[0m\u001b[31mWARNING \u001b[0m OalC07g108330.\u001b[1;36m2\u001b[0m not in oalta_prot_ChrC.bed                                                                             \u001b]8;id=1639059704.200966-951295;file:///Users/ra57rut/.conda/envs/lastal/lib/python3.9/site-packages/jcvi/compara/blastfilter.py\u001b\\\u001b[2mblastfilter.py\u001b[0m\u001b]8;;\u001b\\\u001b[2m:74\u001b[0m\n",
      "\u001b[2;36m          \u001b[0m\u001b[2;36m \u001b[0m\u001b[31mWARNING \u001b[0m OalC06g137970.\u001b[1;36m2\u001b[0m not in oalta_prot_ChrC.bed                                                                             \u001b]8;id=1639059704.202084-859273;file:///Users/ra57rut/.conda/envs/lastal/lib/python3.9/site-packages/jcvi/compara/blastfilter.py\u001b\\\u001b[2mblastfilter.py\u001b[0m\u001b]8;;\u001b\\\u001b[2m:74\u001b[0m\n",
      "\u001b[2;36m          \u001b[0m\u001b[2;36m \u001b[0m\u001b[31mWARNING \u001b[0m OalC05g142770.\u001b[1;36m2\u001b[0m not in oalta_prot_ChrC.bed                                                                             \u001b]8;id=1639059704.2031271-953643;file:///Users/ra57rut/.conda/envs/lastal/lib/python3.9/site-packages/jcvi/compara/blastfilter.py\u001b\\\u001b[2mblastfilter.py\u001b[0m\u001b]8;;\u001b\\\u001b[2m:74\u001b[0m\n",
      "\u001b[2;36m          \u001b[0m\u001b[2;36m \u001b[0m\u001b[31mWARNING \u001b[0m OalC03g156810.\u001b[1;36m2\u001b[0m not in oalta_prot_ChrC.bed                                                                             \u001b]8;id=1639059704.2041621-288250;file:///Users/ra57rut/.conda/envs/lastal/lib/python3.9/site-packages/jcvi/compara/blastfilter.py\u001b\\\u001b[2mblastfilter.py\u001b[0m\u001b]8;;\u001b\\\u001b[2m:74\u001b[0m\n",
      "\u001b[2;36m          \u001b[0m\u001b[2;36m \u001b[0m\u001b[31mWARNING \u001b[0m OalC03g156810.\u001b[1;36m3\u001b[0m not in oalta_prot_ChrC.bed                                                                             \u001b]8;id=1639059704.205112-797642;file:///Users/ra57rut/.conda/envs/lastal/lib/python3.9/site-packages/jcvi/compara/blastfilter.py\u001b\\\u001b[2mblastfilter.py\u001b[0m\u001b]8;;\u001b\\\u001b[2m:74\u001b[0m\n",
      "\u001b[2;36m          \u001b[0m\u001b[2;36m \u001b[0m\u001b[31mWARNING \u001b[0m OalC01g150060.\u001b[1;36m3\u001b[0m not in oalta_prot_ChrC.bed                                                                             \u001b]8;id=1639059704.206162-469915;file:///Users/ra57rut/.conda/envs/lastal/lib/python3.9/site-packages/jcvi/compara/blastfilter.py\u001b\\\u001b[2mblastfilter.py\u001b[0m\u001b]8;;\u001b\\\u001b[2m:74\u001b[0m\n",
      "\u001b[2;36m          \u001b[0m\u001b[2;36m \u001b[0m\u001b[31mWARNING \u001b[0m OalC01g176500.\u001b[1;36m2\u001b[0m not in oalta_prot_ChrC.bed                                                                             \u001b]8;id=1639059704.207556-388594;file:///Users/ra57rut/.conda/envs/lastal/lib/python3.9/site-packages/jcvi/compara/blastfilter.py\u001b\\\u001b[2mblastfilter.py\u001b[0m\u001b]8;;\u001b\\\u001b[2m:74\u001b[0m\n",
      "\u001b[2;36m          \u001b[0m\u001b[2;36m \u001b[0m\u001b[31mWARNING \u001b[0m OalC01g112820.\u001b[1;36m2\u001b[0m not in oalta_prot_ChrC.bed                                                                             \u001b]8;id=1639059704.2087538-202929;file:///Users/ra57rut/.conda/envs/lastal/lib/python3.9/site-packages/jcvi/compara/blastfilter.py\u001b\\\u001b[2mblastfilter.py\u001b[0m\u001b]8;;\u001b\\\u001b[2m:74\u001b[0m\n",
      "\u001b[2;36m          \u001b[0m\u001b[2;36m \u001b[0m\u001b[31mWARNING \u001b[0m OalC01g112820.\u001b[1;36m3\u001b[0m not in oalta_prot_ChrC.bed                                                                             \u001b]8;id=1639059704.209871-427476;file:///Users/ra57rut/.conda/envs/lastal/lib/python3.9/site-packages/jcvi/compara/blastfilter.py\u001b\\\u001b[2mblastfilter.py\u001b[0m\u001b]8;;\u001b\\\u001b[2m:74\u001b[0m\n",
      "\u001b[2;36m          \u001b[0m\u001b[2;36m \u001b[0m\u001b[31mWARNING \u001b[0m OalC01g112820.\u001b[1;36m4\u001b[0m not in oalta_prot_ChrC.bed                                                                             \u001b]8;id=1639059704.2108319-182617;file:///Users/ra57rut/.conda/envs/lastal/lib/python3.9/site-packages/jcvi/compara/blastfilter.py\u001b\\\u001b[2mblastfilter.py\u001b[0m\u001b]8;;\u001b\\\u001b[2m:74\u001b[0m\n",
      "\u001b[2;36m          \u001b[0m\u001b[2;36m \u001b[0m\u001b[31mWARNING \u001b[0m OalC10g107780.\u001b[1;36m3\u001b[0m not in oalta_prot_ChrC.bed                                                                             \u001b]8;id=1639059704.2118132-832293;file:///Users/ra57rut/.conda/envs/lastal/lib/python3.9/site-packages/jcvi/compara/blastfilter.py\u001b\\\u001b[2mblastfilter.py\u001b[0m\u001b]8;;\u001b\\\u001b[2m:74\u001b[0m\n",
      "\u001b[2;36m          \u001b[0m\u001b[2;36m \u001b[0m\u001b[31mWARNING \u001b[0m OalC10g107780.\u001b[1;36m4\u001b[0m not in oalta_prot_ChrC.bed                                                                             \u001b]8;id=1639059704.212791-47162;file:///Users/ra57rut/.conda/envs/lastal/lib/python3.9/site-packages/jcvi/compara/blastfilter.py\u001b\\\u001b[2mblastfilter.py\u001b[0m\u001b]8;;\u001b\\\u001b[2m:74\u001b[0m\n",
      "\u001b[2;36m          \u001b[0m\u001b[2;36m \u001b[0m\u001b[31mWARNING \u001b[0m OalC06g108600.\u001b[1;36m2\u001b[0m not in oalta_prot_ChrC.bed                                                                             \u001b]8;id=1639059704.213747-944482;file:///Users/ra57rut/.conda/envs/lastal/lib/python3.9/site-packages/jcvi/compara/blastfilter.py\u001b\\\u001b[2mblastfilter.py\u001b[0m\u001b]8;;\u001b\\\u001b[2m:74\u001b[0m\n",
      "\u001b[2;36m          \u001b[0m\u001b[2;36m \u001b[0m\u001b[31mWARNING \u001b[0m OalC01g107270.\u001b[1;36m2\u001b[0m not in oalta_prot_ChrC.bed                                                                             \u001b]8;id=1639059704.214713-295739;file:///Users/ra57rut/.conda/envs/lastal/lib/python3.9/site-packages/jcvi/compara/blastfilter.py\u001b\\\u001b[2mblastfilter.py\u001b[0m\u001b]8;;\u001b\\\u001b[2m:74\u001b[0m\n",
      "\u001b[2;36m          \u001b[0m\u001b[2;36m \u001b[0m\u001b[31mWARNING \u001b[0m OalC03g118790.\u001b[1;36m2\u001b[0m not in oalta_prot_ChrC.bed                                                                             \u001b]8;id=1639059704.215747-350963;file:///Users/ra57rut/.conda/envs/lastal/lib/python3.9/site-packages/jcvi/compara/blastfilter.py\u001b\\\u001b[2mblastfilter.py\u001b[0m\u001b]8;;\u001b\\\u001b[2m:74\u001b[0m\n",
      "\u001b[2;36m          \u001b[0m\u001b[2;36m \u001b[0m\u001b[31mWARNING \u001b[0m OalC10g119450.\u001b[1;36m2\u001b[0m not in oalta_prot_ChrC.bed                                                                             \u001b]8;id=1639059704.2167768-468419;file:///Users/ra57rut/.conda/envs/lastal/lib/python3.9/site-packages/jcvi/compara/blastfilter.py\u001b\\\u001b[2mblastfilter.py\u001b[0m\u001b]8;;\u001b\\\u001b[2m:74\u001b[0m\n",
      "\u001b[2;36m          \u001b[0m\u001b[2;36m \u001b[0m\u001b[31mWARNING \u001b[0m OalC07g109810.\u001b[1;36m3\u001b[0m not in oalta_prot_ChrC.bed                                                                             \u001b]8;id=1639059704.217841-226351;file:///Users/ra57rut/.conda/envs/lastal/lib/python3.9/site-packages/jcvi/compara/blastfilter.py\u001b\\\u001b[2mblastfilter.py\u001b[0m\u001b]8;;\u001b\\\u001b[2m:74\u001b[0m\n",
      "\u001b[2;36m          \u001b[0m\u001b[2;36m \u001b[0m\u001b[31mWARNING \u001b[0m OalC04g148280.\u001b[1;36m2\u001b[0m not in oalta_prot_ChrC.bed                                                                             \u001b]8;id=1639059704.219139-57517;file:///Users/ra57rut/.conda/envs/lastal/lib/python3.9/site-packages/jcvi/compara/blastfilter.py\u001b\\\u001b[2mblastfilter.py\u001b[0m\u001b]8;;\u001b\\\u001b[2m:74\u001b[0m\n",
      "\u001b[2;36m          \u001b[0m\u001b[2;36m \u001b[0m\u001b[31mWARNING \u001b[0m OalC08g113880.\u001b[1;36m2\u001b[0m not in oalta_prot_ChrC.bed                                                                             \u001b]8;id=1639059704.220611-715220;file:///Users/ra57rut/.conda/envs/lastal/lib/python3.9/site-packages/jcvi/compara/blastfilter.py\u001b\\\u001b[2mblastfilter.py\u001b[0m\u001b]8;;\u001b\\\u001b[2m:74\u001b[0m\n",
      "\u001b[2;36m          \u001b[0m\u001b[2;36m \u001b[0m\u001b[31mWARNING \u001b[0m OalC08g113880.\u001b[1;36m3\u001b[0m not in oalta_prot_ChrC.bed                                                                             \u001b]8;id=1639059704.2217128-110563;file:///Users/ra57rut/.conda/envs/lastal/lib/python3.9/site-packages/jcvi/compara/blastfilter.py\u001b\\\u001b[2mblastfilter.py\u001b[0m\u001b]8;;\u001b\\\u001b[2m:74\u001b[0m\n",
      "\u001b[2;36m          \u001b[0m\u001b[2;36m \u001b[0m\u001b[31mWARNING \u001b[0m OalC08g113880.\u001b[1;36m5\u001b[0m not in oalta_prot_ChrC.bed                                                                             \u001b]8;id=1639059704.222896-60550;file:///Users/ra57rut/.conda/envs/lastal/lib/python3.9/site-packages/jcvi/compara/blastfilter.py\u001b\\\u001b[2mblastfilter.py\u001b[0m\u001b]8;;\u001b\\\u001b[2m:74\u001b[0m\n",
      "\u001b[2;36m          \u001b[0m\u001b[2;36m \u001b[0m\u001b[31mWARNING \u001b[0m OalC07g109810.\u001b[1;36m2\u001b[0m not in oalta_prot_ChrC.bed                                                                             \u001b]8;id=1639059704.224373-632597;file:///Users/ra57rut/.conda/envs/lastal/lib/python3.9/site-packages/jcvi/compara/blastfilter.py\u001b\\\u001b[2mblastfilter.py\u001b[0m\u001b]8;;\u001b\\\u001b[2m:74\u001b[0m\n",
      "\u001b[2;36m          \u001b[0m\u001b[2;36m \u001b[0m\u001b[31mWARNING \u001b[0m OalC01g150060.\u001b[1;36m2\u001b[0m not in oalta_prot_ChrC.bed                                                                             \u001b]8;id=1639059704.225757-822855;file:///Users/ra57rut/.conda/envs/lastal/lib/python3.9/site-packages/jcvi/compara/blastfilter.py\u001b\\\u001b[2mblastfilter.py\u001b[0m\u001b]8;;\u001b\\\u001b[2m:74\u001b[0m\n",
      "\u001b[2;36m          \u001b[0m\u001b[2;36m \u001b[0m\u001b[31mWARNING \u001b[0m OalC01g150060.\u001b[1;36m4\u001b[0m not in oalta_prot_ChrC.bed                                                                             \u001b]8;id=1639059704.227478-485641;file:///Users/ra57rut/.conda/envs/lastal/lib/python3.9/site-packages/jcvi/compara/blastfilter.py\u001b\\\u001b[2mblastfilter.py\u001b[0m\u001b]8;;\u001b\\\u001b[2m:74\u001b[0m\n",
      "\u001b[2;36m          \u001b[0m\u001b[2;36m \u001b[0m\u001b[31mWARNING \u001b[0m OalC03g123200.\u001b[1;36m2\u001b[0m not in oalta_prot_ChrC.bed                                                                             \u001b]8;id=1639059704.229095-156108;file:///Users/ra57rut/.conda/envs/lastal/lib/python3.9/site-packages/jcvi/compara/blastfilter.py\u001b\\\u001b[2mblastfilter.py\u001b[0m\u001b]8;;\u001b\\\u001b[2m:74\u001b[0m\n",
      "\u001b[2;36m          \u001b[0m\u001b[2;36m \u001b[0m\u001b[31mWARNING \u001b[0m OalC06g138040.\u001b[1;36m2\u001b[0m not in oalta_prot_ChrC.bed                                                                             \u001b]8;id=1639059704.231387-137028;file:///Users/ra57rut/.conda/envs/lastal/lib/python3.9/site-packages/jcvi/compara/blastfilter.py\u001b\\\u001b[2mblastfilter.py\u001b[0m\u001b]8;;\u001b\\\u001b[2m:74\u001b[0m\n",
      "\u001b[2;36m          \u001b[0m\u001b[2;36m \u001b[0m\u001b[31mWARNING \u001b[0m OalC01g107270.\u001b[1;36m3\u001b[0m not in oalta_prot_ChrC.bed                                                                             \u001b]8;id=1639059704.2328541-769859;file:///Users/ra57rut/.conda/envs/lastal/lib/python3.9/site-packages/jcvi/compara/blastfilter.py\u001b\\\u001b[2mblastfilter.py\u001b[0m\u001b]8;;\u001b\\\u001b[2m:74\u001b[0m\n",
      "\u001b[2;36m          \u001b[0m\u001b[2;36m \u001b[0m\u001b[31mWARNING \u001b[0m OalC02g122770.\u001b[1;36m2\u001b[0m not in oalta_prot_ChrC.bed                                                                             \u001b]8;id=1639059704.234275-324625;file:///Users/ra57rut/.conda/envs/lastal/lib/python3.9/site-packages/jcvi/compara/blastfilter.py\u001b\\\u001b[2mblastfilter.py\u001b[0m\u001b]8;;\u001b\\\u001b[2m:74\u001b[0m\n",
      "\u001b[2;36m          \u001b[0m\u001b[2;36m \u001b[0m\u001b[31mWARNING \u001b[0m OalC12g106650.\u001b[1;36m2\u001b[0m not in oalta_prot_ChrC.bed                                                                             \u001b]8;id=1639059704.235407-996021;file:///Users/ra57rut/.conda/envs/lastal/lib/python3.9/site-packages/jcvi/compara/blastfilter.py\u001b\\\u001b[2mblastfilter.py\u001b[0m\u001b]8;;\u001b\\\u001b[2m:74\u001b[0m\n",
      "\u001b[2;36m          \u001b[0m\u001b[2;36m \u001b[0m\u001b[31mWARNING \u001b[0m OalC12g106650.\u001b[1;36m3\u001b[0m not in oalta_prot_ChrC.bed                                                                             \u001b]8;id=1639059704.236493-576591;file:///Users/ra57rut/.conda/envs/lastal/lib/python3.9/site-packages/jcvi/compara/blastfilter.py\u001b\\\u001b[2mblastfilter.py\u001b[0m\u001b]8;;\u001b\\\u001b[2m:74\u001b[0m\n",
      "\u001b[2;36m          \u001b[0m\u001b[2;36m \u001b[0m\u001b[31mWARNING \u001b[0m OalC10g111850.\u001b[1;36m3\u001b[0m not in oalta_prot_ChrC.bed                                                                             \u001b]8;id=1639059704.237419-249555;file:///Users/ra57rut/.conda/envs/lastal/lib/python3.9/site-packages/jcvi/compara/blastfilter.py\u001b\\\u001b[2mblastfilter.py\u001b[0m\u001b]8;;\u001b\\\u001b[2m:74\u001b[0m\n",
      "\u001b[2;36m          \u001b[0m\u001b[2;36m \u001b[0m\u001b[31mWARNING \u001b[0m OalC10g111850.\u001b[1;36m4\u001b[0m not in oalta_prot_ChrC.bed                                                                             \u001b]8;id=1639059704.238316-928120;file:///Users/ra57rut/.conda/envs/lastal/lib/python3.9/site-packages/jcvi/compara/blastfilter.py\u001b\\\u001b[2mblastfilter.py\u001b[0m\u001b]8;;\u001b\\\u001b[2m:74\u001b[0m\n",
      "\u001b[2;36m          \u001b[0m\u001b[2;36m \u001b[0m\u001b[31mWARNING \u001b[0m OalC08g113880.\u001b[1;36m4\u001b[0m not in oalta_prot_ChrC.bed                                                                             \u001b]8;id=1639059704.2392662-673158;file:///Users/ra57rut/.conda/envs/lastal/lib/python3.9/site-packages/jcvi/compara/blastfilter.py\u001b\\\u001b[2mblastfilter.py\u001b[0m\u001b]8;;\u001b\\\u001b[2m:74\u001b[0m\n",
      "\u001b[2;36m          \u001b[0m\u001b[2;36m \u001b[0m\u001b[31mWARNING \u001b[0m OalC01g146340.\u001b[1;36m2\u001b[0m not in oalta_prot_ChrC.bed                                                                             \u001b]8;id=1639059704.240437-606448;file:///Users/ra57rut/.conda/envs/lastal/lib/python3.9/site-packages/jcvi/compara/blastfilter.py\u001b\\\u001b[2mblastfilter.py\u001b[0m\u001b]8;;\u001b\\\u001b[2m:74\u001b[0m\n",
      "\u001b[2;36m          \u001b[0m\u001b[2;36m \u001b[0m\u001b[31mWARNING \u001b[0m OalC04g129100.\u001b[1;36m2\u001b[0m not in oalta_prot_ChrC.bed                                                                             \u001b]8;id=1639059704.241565-90912;file:///Users/ra57rut/.conda/envs/lastal/lib/python3.9/site-packages/jcvi/compara/blastfilter.py\u001b\\\u001b[2mblastfilter.py\u001b[0m\u001b]8;;\u001b\\\u001b[2m:74\u001b[0m\n",
      "\u001b[2;36m          \u001b[0m\u001b[2;36m \u001b[0m\u001b[31mWARNING \u001b[0m OalC04g129100.\u001b[1;36m3\u001b[0m not in oalta_prot_ChrC.bed                                                                             \u001b]8;id=1639059704.242452-653587;file:///Users/ra57rut/.conda/envs/lastal/lib/python3.9/site-packages/jcvi/compara/blastfilter.py\u001b\\\u001b[2mblastfilter.py\u001b[0m\u001b]8;;\u001b\\\u001b[2m:74\u001b[0m\n",
      "\u001b[2;36m          \u001b[0m\u001b[2;36m \u001b[0m\u001b[31mWARNING \u001b[0m OalC04g109800.\u001b[1;36m2\u001b[0m not in oalta_prot_ChrC.bed                                                                             \u001b]8;id=1639059704.243327-379478;file:///Users/ra57rut/.conda/envs/lastal/lib/python3.9/site-packages/jcvi/compara/blastfilter.py\u001b\\\u001b[2mblastfilter.py\u001b[0m\u001b]8;;\u001b\\\u001b[2m:74\u001b[0m\n",
      "\u001b[2;36m          \u001b[0m\u001b[2;36m \u001b[0m\u001b[31mWARNING \u001b[0m OalC04g109800.\u001b[1;36m3\u001b[0m not in oalta_prot_ChrC.bed                                                                             \u001b]8;id=1639059704.2442071-897289;file:///Users/ra57rut/.conda/envs/lastal/lib/python3.9/site-packages/jcvi/compara/blastfilter.py\u001b\\\u001b[2mblastfilter.py\u001b[0m\u001b]8;;\u001b\\\u001b[2m:74\u001b[0m\n",
      "\u001b[2;36m          \u001b[0m\u001b[2;36m \u001b[0m\u001b[31mWARNING \u001b[0m OalC01g146340.\u001b[1;36m3\u001b[0m not in oalta_prot_ChrC.bed                                                                             \u001b]8;id=1639059704.2450821-48551;file:///Users/ra57rut/.conda/envs/lastal/lib/python3.9/site-packages/jcvi/compara/blastfilter.py\u001b\\\u001b[2mblastfilter.py\u001b[0m\u001b]8;;\u001b\\\u001b[2m:74\u001b[0m\n",
      "\u001b[2;36m          \u001b[0m\u001b[2;36m \u001b[0m\u001b[31mWARNING \u001b[0m OalC01g146340.\u001b[1;36m4\u001b[0m not in oalta_prot_ChrC.bed                                                                             \u001b]8;id=1639059704.246051-9531;file:///Users/ra57rut/.conda/envs/lastal/lib/python3.9/site-packages/jcvi/compara/blastfilter.py\u001b\\\u001b[2mblastfilter.py\u001b[0m\u001b]8;;\u001b\\\u001b[2m:74\u001b[0m\n",
      "\u001b[2;36m          \u001b[0m\u001b[2;36m \u001b[0m\u001b[31mWARNING \u001b[0m OalC06g100680.\u001b[1;36m3\u001b[0m not in oalta_prot_ChrC.bed                                                                             \u001b]8;id=1639059704.2473888-966368;file:///Users/ra57rut/.conda/envs/lastal/lib/python3.9/site-packages/jcvi/compara/blastfilter.py\u001b\\\u001b[2mblastfilter.py\u001b[0m\u001b]8;;\u001b\\\u001b[2m:74\u001b[0m\n",
      "\u001b[2;36m          \u001b[0m\u001b[2;36m \u001b[0m\u001b[31mWARNING \u001b[0m OalC01g171060.\u001b[1;36m2\u001b[0m not in oalta_prot_ChrC.bed                                                                             \u001b]8;id=1639059704.2487261-264513;file:///Users/ra57rut/.conda/envs/lastal/lib/python3.9/site-packages/jcvi/compara/blastfilter.py\u001b\\\u001b[2mblastfilter.py\u001b[0m\u001b]8;;\u001b\\\u001b[2m:74\u001b[0m\n",
      "\u001b[2;36m          \u001b[0m\u001b[2;36m \u001b[0m\u001b[31mWARNING \u001b[0m OalC03g147280.\u001b[1;36m2\u001b[0m not in oalta_prot_ChrC.bed                                                                             \u001b]8;id=1639059704.249884-418872;file:///Users/ra57rut/.conda/envs/lastal/lib/python3.9/site-packages/jcvi/compara/blastfilter.py\u001b\\\u001b[2mblastfilter.py\u001b[0m\u001b]8;;\u001b\\\u001b[2m:74\u001b[0m\n",
      "\u001b[2;36m          \u001b[0m\u001b[2;36m \u001b[0m\u001b[31mWARNING \u001b[0m OalC11g108190.\u001b[1;36m2\u001b[0m not in oalta_prot_ChrC.bed                                                                             \u001b]8;id=1639059704.250895-653783;file:///Users/ra57rut/.conda/envs/lastal/lib/python3.9/site-packages/jcvi/compara/blastfilter.py\u001b\\\u001b[2mblastfilter.py\u001b[0m\u001b]8;;\u001b\\\u001b[2m:74\u001b[0m\n",
      "\u001b[2;36m          \u001b[0m\u001b[2;36m \u001b[0m\u001b[31mWARNING \u001b[0m OalC01g171060.\u001b[1;36m3\u001b[0m not in oalta_prot_ChrC.bed                                                                             \u001b]8;id=1639059704.252459-201284;file:///Users/ra57rut/.conda/envs/lastal/lib/python3.9/site-packages/jcvi/compara/blastfilter.py\u001b\\\u001b[2mblastfilter.py\u001b[0m\u001b]8;;\u001b\\\u001b[2m:74\u001b[0m\n",
      "\u001b[2;36m          \u001b[0m\u001b[2;36m \u001b[0m\u001b[31mWARNING \u001b[0m OalC01g174610.\u001b[1;36m2\u001b[0m not in oalta_prot_ChrC.bed                                                                             \u001b]8;id=1639059704.284141-96358;file:///Users/ra57rut/.conda/envs/lastal/lib/python3.9/site-packages/jcvi/compara/blastfilter.py\u001b\\\u001b[2mblastfilter.py\u001b[0m\u001b]8;;\u001b\\\u001b[2m:74\u001b[0m\n",
      "\u001b[2;36m          \u001b[0m\u001b[2;36m \u001b[0m\u001b[31mWARNING \u001b[0m OalC01g174610.\u001b[1;36m3\u001b[0m not in oalta_prot_ChrC.bed                                                                             \u001b]8;id=1639059704.285604-61383;file:///Users/ra57rut/.conda/envs/lastal/lib/python3.9/site-packages/jcvi/compara/blastfilter.py\u001b\\\u001b[2mblastfilter.py\u001b[0m\u001b]8;;\u001b\\\u001b[2m:74\u001b[0m\n",
      "\u001b[2;36m          \u001b[0m\u001b[2;36m \u001b[0m\u001b[31mWARNING \u001b[0m OalC03g111670.\u001b[1;36m2\u001b[0m not in oalta_prot_ChrC.bed                                                                             \u001b]8;id=1639059704.287095-125509;file:///Users/ra57rut/.conda/envs/lastal/lib/python3.9/site-packages/jcvi/compara/blastfilter.py\u001b\\\u001b[2mblastfilter.py\u001b[0m\u001b]8;;\u001b\\\u001b[2m:74\u001b[0m\n",
      "\u001b[2;36m          \u001b[0m\u001b[2;36m \u001b[0m\u001b[31mWARNING \u001b[0m OalC01g148230.\u001b[1;36m2\u001b[0m not in oalta_prot_ChrC.bed                                                                             \u001b]8;id=1639059704.2881851-975678;file:///Users/ra57rut/.conda/envs/lastal/lib/python3.9/site-packages/jcvi/compara/blastfilter.py\u001b\\\u001b[2mblastfilter.py\u001b[0m\u001b]8;;\u001b\\\u001b[2m:74\u001b[0m\n",
      "\u001b[2;36m          \u001b[0m\u001b[2;36m \u001b[0m\u001b[31mWARNING \u001b[0m OalC04g148280.\u001b[1;36m3\u001b[0m not in oalta_prot_ChrC.bed                                                                             \u001b]8;id=1639059704.2893472-211392;file:///Users/ra57rut/.conda/envs/lastal/lib/python3.9/site-packages/jcvi/compara/blastfilter.py\u001b\\\u001b[2mblastfilter.py\u001b[0m\u001b]8;;\u001b\\\u001b[2m:74\u001b[0m\n",
      "\u001b[2;36m          \u001b[0m\u001b[2;36m \u001b[0m\u001b[31mWARNING \u001b[0m OalC07g109810.\u001b[1;36m4\u001b[0m not in oalta_prot_ChrC.bed                                                                             \u001b]8;id=1639059704.2903109-343589;file:///Users/ra57rut/.conda/envs/lastal/lib/python3.9/site-packages/jcvi/compara/blastfilter.py\u001b\\\u001b[2mblastfilter.py\u001b[0m\u001b]8;;\u001b\\\u001b[2m:74\u001b[0m\n",
      "\u001b[2;36m          \u001b[0m\u001b[2;36m \u001b[0m\u001b[31mWARNING \u001b[0m OalC01g132110.\u001b[1;36m2\u001b[0m not in oalta_prot_ChrC.bed                                                                             \u001b]8;id=1639059704.2912629-233683;file:///Users/ra57rut/.conda/envs/lastal/lib/python3.9/site-packages/jcvi/compara/blastfilter.py\u001b\\\u001b[2mblastfilter.py\u001b[0m\u001b]8;;\u001b\\\u001b[2m:74\u001b[0m\n",
      "\u001b[2;36m          \u001b[0m\u001b[2;36m \u001b[0m\u001b[31mWARNING \u001b[0m OalC01g132110.\u001b[1;36m3\u001b[0m not in oalta_prot_ChrC.bed                                                                             \u001b]8;id=1639059704.292232-651935;file:///Users/ra57rut/.conda/envs/lastal/lib/python3.9/site-packages/jcvi/compara/blastfilter.py\u001b\\\u001b[2mblastfilter.py\u001b[0m\u001b]8;;\u001b\\\u001b[2m:74\u001b[0m\n",
      "\u001b[2;36m          \u001b[0m\u001b[2;36m \u001b[0m\u001b[31mWARNING \u001b[0m OalC01g132110.\u001b[1;36m4\u001b[0m not in oalta_prot_ChrC.bed                                                                             \u001b]8;id=1639059704.2931368-706954;file:///Users/ra57rut/.conda/envs/lastal/lib/python3.9/site-packages/jcvi/compara/blastfilter.py\u001b\\\u001b[2mblastfilter.py\u001b[0m\u001b]8;;\u001b\\\u001b[2m:74\u001b[0m\n",
      "\u001b[2;36m          \u001b[0m\u001b[2;36m \u001b[0m\u001b[31mWARNING \u001b[0m OalC05g126430.\u001b[1;36m3\u001b[0m not in oalta_prot_ChrC.bed                                                                             \u001b]8;id=1639059704.2940311-386327;file:///Users/ra57rut/.conda/envs/lastal/lib/python3.9/site-packages/jcvi/compara/blastfilter.py\u001b\\\u001b[2mblastfilter.py\u001b[0m\u001b]8;;\u001b\\\u001b[2m:74\u001b[0m\n",
      "\u001b[2;36m          \u001b[0m\u001b[2;36m \u001b[0m\u001b[31mWARNING \u001b[0m OalC05g126430.\u001b[1;36m5\u001b[0m not in oalta_prot_ChrC.bed                                                                             \u001b]8;id=1639059704.29498-938390;file:///Users/ra57rut/.conda/envs/lastal/lib/python3.9/site-packages/jcvi/compara/blastfilter.py\u001b\\\u001b[2mblastfilter.py\u001b[0m\u001b]8;;\u001b\\\u001b[2m:74\u001b[0m\n",
      "\u001b[2;36m          \u001b[0m\u001b[2;36m \u001b[0m\u001b[31mWARNING \u001b[0m OalC05g126430.\u001b[1;36m7\u001b[0m not in oalta_prot_ChrC.bed                                                                             \u001b]8;id=1639059704.295897-364456;file:///Users/ra57rut/.conda/envs/lastal/lib/python3.9/site-packages/jcvi/compara/blastfilter.py\u001b\\\u001b[2mblastfilter.py\u001b[0m\u001b]8;;\u001b\\\u001b[2m:74\u001b[0m\n",
      "\u001b[2;36m          \u001b[0m\u001b[2;36m \u001b[0m\u001b[31mWARNING \u001b[0m OalC08g102360.\u001b[1;36m2\u001b[0m not in oalta_prot_ChrC.bed                                                                             \u001b]8;id=1639059704.2967858-449845;file:///Users/ra57rut/.conda/envs/lastal/lib/python3.9/site-packages/jcvi/compara/blastfilter.py\u001b\\\u001b[2mblastfilter.py\u001b[0m\u001b]8;;\u001b\\\u001b[2m:74\u001b[0m\n",
      "\u001b[2;36m          \u001b[0m\u001b[2;36m \u001b[0m\u001b[31mWARNING \u001b[0m OalC04g122870.\u001b[1;36m2\u001b[0m not in oalta_prot_ChrC.bed                                                                             \u001b]8;id=1639059704.2976809-130123;file:///Users/ra57rut/.conda/envs/lastal/lib/python3.9/site-packages/jcvi/compara/blastfilter.py\u001b\\\u001b[2mblastfilter.py\u001b[0m\u001b]8;;\u001b\\\u001b[2m:74\u001b[0m\n",
      "\u001b[2;36m          \u001b[0m\u001b[2;36m \u001b[0m\u001b[31mWARNING \u001b[0m OalC04g122870.\u001b[1;36m3\u001b[0m not in oalta_prot_ChrC.bed                                                                             \u001b]8;id=1639059704.298777-602160;file:///Users/ra57rut/.conda/envs/lastal/lib/python3.9/site-packages/jcvi/compara/blastfilter.py\u001b\\\u001b[2mblastfilter.py\u001b[0m\u001b]8;;\u001b\\\u001b[2m:74\u001b[0m\n",
      "\u001b[2;36m          \u001b[0m\u001b[2;36m \u001b[0m\u001b[31mWARNING \u001b[0m OalC04g122870.\u001b[1;36m4\u001b[0m not in oalta_prot_ChrC.bed                                                                             \u001b]8;id=1639059704.2998788-195997;file:///Users/ra57rut/.conda/envs/lastal/lib/python3.9/site-packages/jcvi/compara/blastfilter.py\u001b\\\u001b[2mblastfilter.py\u001b[0m\u001b]8;;\u001b\\\u001b[2m:74\u001b[0m\n",
      "\u001b[2;36m          \u001b[0m\u001b[2;36m \u001b[0m\u001b[31mWARNING \u001b[0m OalC07g143370.\u001b[1;36m2\u001b[0m not in oalta_prot_ChrC.bed                                                                             \u001b]8;id=1639059704.3008142-33894;file:///Users/ra57rut/.conda/envs/lastal/lib/python3.9/site-packages/jcvi/compara/blastfilter.py\u001b\\\u001b[2mblastfilter.py\u001b[0m\u001b]8;;\u001b\\\u001b[2m:74\u001b[0m\n",
      "\u001b[2;36m          \u001b[0m\u001b[2;36m \u001b[0m\u001b[31mWARNING \u001b[0m OalC03g147280.\u001b[1;36m3\u001b[0m not in oalta_prot_ChrC.bed                                                                             \u001b]8;id=1639059704.301713-48220;file:///Users/ra57rut/.conda/envs/lastal/lib/python3.9/site-packages/jcvi/compara/blastfilter.py\u001b\\\u001b[2mblastfilter.py\u001b[0m\u001b]8;;\u001b\\\u001b[2m:74\u001b[0m\n",
      "\u001b[2;36m          \u001b[0m\u001b[2;36m \u001b[0m\u001b[31mWARNING \u001b[0m too many warnings.. suppressed                                                                                         \u001b]8;id=1639059704.3028932-21848;file:///Users/ra57rut/.conda/envs/lastal/lib/python3.9/site-packages/jcvi/compara/blastfilter.py\u001b\\\u001b[2mblastfilter.py\u001b[0m\u001b]8;;\u001b\\\u001b[2m:76\u001b[0m\n",
      "\u001b[2;36m[15:21:46]\u001b[0m\u001b[2;36m \u001b[0m\u001b[32mDEBUG   \u001b[0m running the cscore filter \u001b[1m(\u001b[0mcscore>=\u001b[1;36m0.70\u001b[0m\u001b[1m)\u001b[0m ..                                                                           \u001b]8;id=1639059706.1180139-706923;file:///Users/ra57rut/.conda/envs/lastal/lib/python3.9/site-packages/jcvi/compara/blastfilter.py\u001b\\\u001b[2mblastfilter.py\u001b[0m\u001b]8;;\u001b\\\u001b[2m:110\u001b[0m\n",
      "\u001b[2;36m[15:21:47]\u001b[0m\u001b[2;36m \u001b[0m\u001b[32mDEBUG   \u001b[0m after filter \u001b[1m(\u001b[0m\u001b[1;36m559126\u001b[0m->\u001b[1;36m44775\u001b[0m\u001b[1m)\u001b[0m ..                                                                                       \u001b]8;id=1639059707.113379-247475;file:///Users/ra57rut/.conda/envs/lastal/lib/python3.9/site-packages/jcvi/compara/blastfilter.py\u001b\\\u001b[2mblastfilter.py\u001b[0m\u001b]8;;\u001b\\\u001b[2m:112\u001b[0m\n",
      "\u001b[2;36m          \u001b[0m\u001b[2;36m \u001b[0m\u001b[32mDEBUG   \u001b[0m running the local dups filter \u001b[1m(\u001b[0m\u001b[33mtandem_Nmax\u001b[0m=\u001b[1;36m10\u001b[0m\u001b[1m)\u001b[0m ..                                                                     \u001b]8;id=1639059707.114479-324519;file:///Users/ra57rut/.conda/envs/lastal/lib/python3.9/site-packages/jcvi/compara/blastfilter.py\u001b\\\u001b[2mblastfilter.py\u001b[0m\u001b]8;;\u001b\\\u001b[2m:117\u001b[0m\n",
      "\u001b[2;36m          \u001b[0m\u001b[2;36m \u001b[0m\u001b[32mDEBUG   \u001b[0m after filter \u001b[1m(\u001b[0m\u001b[1;36m44775\u001b[0m->\u001b[1;36m38280\u001b[0m\u001b[1m)\u001b[0m ..                                                                                        \u001b]8;id=1639059707.4082649-761249;file:///Users/ra57rut/.conda/envs/lastal/lib/python3.9/site-packages/jcvi/compara/blastfilter.py\u001b\\\u001b[2mblastfilter.py\u001b[0m\u001b]8;;\u001b\\\u001b[2m:161\u001b[0m\n",
      "\u001b[2;36m          \u001b[0m\u001b[2;36m \u001b[0m\u001b[32mDEBUG   \u001b[0m Assuming --\u001b[33mqbed\u001b[0m=\u001b[35mrice_prot\u001b[0m.bed --\u001b[33msbed\u001b[0m=\u001b[35moalta_prot_ChrC\u001b[0m.bed                                                                  \u001b]8;id=1639059707.728311-153104;file:///Users/ra57rut/.conda/envs/lastal/lib/python3.9/site-packages/jcvi/compara/synteny.py\u001b\\\u001b[2msynteny.py\u001b[0m\u001b]8;;\u001b\\\u001b[2m:500\u001b[0m\n",
      "\u001b[2;36m          \u001b[0m\u001b[2;36m \u001b[0m\u001b[32mDEBUG   \u001b[0m Load file `rice_prot.bed`                                                                                                     \u001b]8;id=1639059707.7293508-592869;file:///Users/ra57rut/.conda/envs/lastal/lib/python3.9/site-packages/jcvi/formats/base.py\u001b\\\u001b[2mbase.py\u001b[0m\u001b]8;;\u001b\\\u001b[2m:37\u001b[0m\n",
      "\u001b[2;36m          \u001b[0m\u001b[2;36m \u001b[0m\u001b[32mDEBUG   \u001b[0m Load file `oalta_prot_ChrC.bed`                                                                                               \u001b]8;id=1639059707.9622521-814682;file:///Users/ra57rut/.conda/envs/lastal/lib/python3.9/site-packages/jcvi/formats/base.py\u001b\\\u001b[2mbase.py\u001b[0m\u001b]8;;\u001b\\\u001b[2m:37\u001b[0m\n",
      "\u001b[2;36m[15:21:48]\u001b[0m\u001b[2;36m \u001b[0m\u001b[32mDEBUG   \u001b[0m Load file `rice_prot.oalta_prot_ChrC.last.filtered`                                                                           \u001b]8;id=1639059708.8017652-792680;file:///Users/ra57rut/.conda/envs/lastal/lib/python3.9/site-packages/jcvi/formats/base.py\u001b\\\u001b[2mbase.py\u001b[0m\u001b]8;;\u001b\\\u001b[2m:37\u001b[0m\n",
      "\u001b[2;36m[15:21:49]\u001b[0m\u001b[2;36m \u001b[0m\u001b[32mDEBUG   \u001b[0m A total of \u001b[1;36m38280\u001b[0m BLAST imported from `rice_prot.oalta_prot_ChrC.last.filtered`.                                           \u001b]8;id=1639059709.05013-435777;file:///Users/ra57rut/.conda/envs/lastal/lib/python3.9/site-packages/jcvi/compara/synteny.py\u001b\\\u001b[2msynteny.py\u001b[0m\u001b]8;;\u001b\\\u001b[2m:386\u001b[0m\n",
      "\u001b[2;36m          \u001b[0m\u001b[2;36m \u001b[0m\u001b[32mDEBUG   \u001b[0m Chaining distance = \u001b[1;36m20\u001b[0m                                                                                                   \u001b]8;id=1639059709.057008-488714;file:///Users/ra57rut/.conda/envs/lastal/lib/python3.9/site-packages/jcvi/compara/synteny.py\u001b\\\u001b[2msynteny.py\u001b[0m\u001b]8;;\u001b\\\u001b[2m:1933\u001b[0m\n",
      "\u001b[2;36m[15:21:50]\u001b[0m\u001b[2;36m \u001b[0m\u001b[32mDEBUG   \u001b[0m Load file `rice_prot.oalta_prot_ChrC.anchors`                                                                                 \u001b]8;id=1639059710.404265-725432;file:///Users/ra57rut/.conda/envs/lastal/lib/python3.9/site-packages/jcvi/formats/base.py\u001b\\\u001b[2mbase.py\u001b[0m\u001b]8;;\u001b\\\u001b[2m:37\u001b[0m\n",
      "A total of 22981 (NR:22810) anchors found in 278 clusters.\n",
      "Stats: Min=4 Max=1473 N=278 Mean=82.67 SD=219.16 Median=8.0 Sum=22981\n",
      "NR stats: Min=4 Max=1467 N=278 Mean=82.05 SD=218.17 Median=8.0 Sum=22810\n",
      "\u001b[2;36m          \u001b[0m\u001b[2;36m \u001b[0m\u001b[32mDEBUG   \u001b[0m Load file `rice_prot.bed`                                                                                                     \u001b]8;id=1639059710.550145-170323;file:///Users/ra57rut/.conda/envs/lastal/lib/python3.9/site-packages/jcvi/formats/base.py\u001b\\\u001b[2mbase.py\u001b[0m\u001b]8;;\u001b\\\u001b[2m:37\u001b[0m\n",
      "\u001b[2;36m          \u001b[0m\u001b[2;36m \u001b[0m\u001b[32mDEBUG   \u001b[0m Load file `oalta_prot_ChrC.bed`                                                                                               \u001b]8;id=1639059710.8016698-453482;file:///Users/ra57rut/.conda/envs/lastal/lib/python3.9/site-packages/jcvi/formats/base.py\u001b\\\u001b[2mbase.py\u001b[0m\u001b]8;;\u001b\\\u001b[2m:37\u001b[0m\n",
      "\u001b[2;36m[15:21:51]\u001b[0m\u001b[2;36m \u001b[0m\u001b[32mDEBUG   \u001b[0m Load file `rice_prot.oalta_prot_ChrC.last`                                                                                    \u001b]8;id=1639059711.838536-703716;file:///Users/ra57rut/.conda/envs/lastal/lib/python3.9/site-packages/jcvi/formats/base.py\u001b\\\u001b[2mbase.py\u001b[0m\u001b]8;;\u001b\\\u001b[2m:37\u001b[0m\n",
      "\u001b[2;36m[15:21:55]\u001b[0m\u001b[2;36m \u001b[0m\u001b[32mDEBUG   \u001b[0m A total of \u001b[1;36m559126\u001b[0m BLAST imported from `rice_prot.oalta_prot_ChrC.last`.                                                   \u001b]8;id=1639059715.3587918-277617;file:///Users/ra57rut/.conda/envs/lastal/lib/python3.9/site-packages/jcvi/compara/synteny.py\u001b\\\u001b[2msynteny.py\u001b[0m\u001b]8;;\u001b\\\u001b[2m:386\u001b[0m\n",
      "\u001b[2;36m[15:21:56]\u001b[0m\u001b[2;36m \u001b[0m\u001b[32mDEBUG   \u001b[0m Load file `rice_prot.oalta_prot_ChrC.anchors`                                                                                 \u001b]8;id=1639059716.209721-66249;file:///Users/ra57rut/.conda/envs/lastal/lib/python3.9/site-packages/jcvi/formats/base.py\u001b\\\u001b[2mbase.py\u001b[0m\u001b]8;;\u001b\\\u001b[2m:37\u001b[0m\n",
      "\u001b[2;36m          \u001b[0m\u001b[2;36m \u001b[0m\u001b[32mDEBUG   \u001b[0m A total of \u001b[1;36m22981\u001b[0m anchors imported.                                                                                        \u001b]8;id=1639059716.5646431-880510;file:///Users/ra57rut/.conda/envs/lastal/lib/python3.9/site-packages/jcvi/compara/synteny.py\u001b\\\u001b[2msynteny.py\u001b[0m\u001b]8;;\u001b\\\u001b[2m:412\u001b[0m\n",
      "\u001b[2;36m          \u001b[0m\u001b[2;36m \u001b[0m\u001b[32mDEBUG   \u001b[0m \u001b[1;36m16671\u001b[0m new pairs found \u001b[1m(\u001b[0m\u001b[33mdist\u001b[0m=\u001b[1;36m5\u001b[0m\u001b[1m)\u001b[0m.                                                                                          \u001b]8;id=1639059716.9815779-582852;file:///Users/ra57rut/.conda/envs/lastal/lib/python3.9/site-packages/jcvi/compara/synteny.py\u001b\\\u001b[2msynteny.py\u001b[0m\u001b]8;;\u001b\\\u001b[2m:2011\u001b[0m\n",
      "\u001b[2;36m[15:21:57]\u001b[0m\u001b[2;36m \u001b[0m\u001b[32mDEBUG   \u001b[0m Removed \u001b[1;36m14\u001b[0m existing anchors.                                                                                               \u001b]8;id=1639059717.0414689-557122;file:///Users/ra57rut/.conda/envs/lastal/lib/python3.9/site-packages/jcvi/compara/synteny.py\u001b\\\u001b[2msynteny.py\u001b[0m\u001b]8;;\u001b\\\u001b[2m:93\u001b[0m\n",
      "\u001b[2;36m          \u001b[0m\u001b[2;36m \u001b[0m\u001b[32mDEBUG   \u001b[0m Corrected scores for \u001b[1;36m994\u001b[0m anchors.                                                                                          \u001b]8;id=1639059717.0425-308811;file:///Users/ra57rut/.conda/envs/lastal/lib/python3.9/site-packages/jcvi/compara/synteny.py\u001b\\\u001b[2msynteny.py\u001b[0m\u001b]8;;\u001b\\\u001b[2m:94\u001b[0m\n",
      "\u001b[2;36m          \u001b[0m\u001b[2;36m \u001b[0m\u001b[32mDEBUG   \u001b[0m Anchors written to `rice_prot.oalta_prot_ChrC.lifted.anchors`.                                                             \u001b]8;id=1639059717.043521-848471;file:///Users/ra57rut/.conda/envs/lastal/lib/python3.9/site-packages/jcvi/compara/synteny.py\u001b\\\u001b[2msynteny.py\u001b[0m\u001b]8;;\u001b\\\u001b[2m:95\u001b[0m\n",
      "\u001b[2;36m          \u001b[0m\u001b[2;36m \u001b[0m\u001b[32mDEBUG   \u001b[0m Load file `rice_prot.oalta_prot_ChrC.lifted.anchors`                                                                          \u001b]8;id=1639059717.0445912-411480;file:///Users/ra57rut/.conda/envs/lastal/lib/python3.9/site-packages/jcvi/formats/base.py\u001b\\\u001b[2mbase.py\u001b[0m\u001b]8;;\u001b\\\u001b[2m:37\u001b[0m\n",
      "A total of 39638 (NR:27317) anchors found in 278 clusters.\n",
      "Stats: Min=4 Max=2653 N=278 Mean=142.58 SD=366.56 Median=13.5 Sum=39638\n",
      "NR stats: Min=4 Max=1757 N=278 Mean=98.26 SD=256.53 Median=11.0 Sum=27317\n",
      "\u001b[2;36m          \u001b[0m\u001b[2;36m \u001b[0m\u001b[32mDEBUG   \u001b[0m Assuming --\u001b[33mqbed\u001b[0m=\u001b[35mrice_prot\u001b[0m.bed --\u001b[33msbed\u001b[0m=\u001b[35moalta_prot_ChrC\u001b[0m.bed                                                                  \u001b]8;id=1639059717.3726652-700169;file:///Users/ra57rut/.conda/envs/lastal/lib/python3.9/site-packages/jcvi/compara/synteny.py\u001b\\\u001b[2msynteny.py\u001b[0m\u001b]8;;\u001b\\\u001b[2m:500\u001b[0m\n",
      "\u001b[2;36m          \u001b[0m\u001b[2;36m \u001b[0m\u001b[32mDEBUG   \u001b[0m Load file `rice_prot.bed`                                                                                                     \u001b]8;id=1639059717.373698-536088;file:///Users/ra57rut/.conda/envs/lastal/lib/python3.9/site-packages/jcvi/formats/base.py\u001b\\\u001b[2mbase.py\u001b[0m\u001b]8;;\u001b\\\u001b[2m:37\u001b[0m\n",
      "\u001b[2;36m          \u001b[0m\u001b[2;36m \u001b[0m\u001b[32mDEBUG   \u001b[0m Load file `oalta_prot_ChrC.bed`                                                                                               \u001b]8;id=1639059717.610465-931883;file:///Users/ra57rut/.conda/envs/lastal/lib/python3.9/site-packages/jcvi/formats/base.py\u001b\\\u001b[2mbase.py\u001b[0m\u001b]8;;\u001b\\\u001b[2m:37\u001b[0m\n",
      "\u001b[2;36m[15:21:58]\u001b[0m\u001b[2;36m \u001b[0m\u001b[32mDEBUG   \u001b[0m Showing a random subset of \u001b[1;36m10000\u001b[0m data points \u001b[1m(\u001b[0mtotal \u001b[1;36m22981\u001b[0m\u001b[1m)\u001b[0m for clarity.                                                   \u001b]8;id=1639059718.866179-900752;file:///Users/ra57rut/.conda/envs/lastal/lib/python3.9/site-packages/jcvi/graphics/dotplot.py\u001b\\\u001b[2mdotplot.py\u001b[0m\u001b]8;;\u001b\\\u001b[2m:226\u001b[0m\n",
      "\u001b[2;36m[15:21:59]\u001b[0m\u001b[2;36m \u001b[0m\u001b[32mDEBUG   \u001b[0m \u001b[33mxsize\u001b[0m=\u001b[1;36m42189\u001b[0m \u001b[33mysize\u001b[0m=\u001b[1;36m99312\u001b[0m                                                                                                   \u001b]8;id=1639059719.0515661-334923;file:///Users/ra57rut/.conda/envs/lastal/lib/python3.9/site-packages/jcvi/graphics/dotplot.py\u001b\\\u001b[2mdotplot.py\u001b[0m\u001b]8;;\u001b\\\u001b[2m:336\u001b[0m\n",
      "\u001b[2;36m[15:22:01]\u001b[0m\u001b[2;36m \u001b[0m\u001b[32mDEBUG   \u001b[0m Dot plot title: Inter-genomic comparison: rice\\_prot vs oalta\\_prot\\_ChrC \u001b[1m(\u001b[0m\u001b[1;36m22\u001b[0m,\u001b[1;36m981\u001b[0m gene pairs\u001b[1m)\u001b[0m                             \u001b]8;id=1639059721.299514-652760;file:///Users/ra57rut/.conda/envs/lastal/lib/python3.9/site-packages/jcvi/graphics/dotplot.py\u001b\\\u001b[2mdotplot.py\u001b[0m\u001b]8;;\u001b\\\u001b[2m:379\u001b[0m\n",
      "\u001b[2;36m[15:22:04]\u001b[0m\u001b[2;36m \u001b[0m\u001b[32mDEBUG   \u001b[0m Figure saved to `rice_prot.oalta_prot_ChrC.pdf` \u001b[1m(\u001b[0m810px x 810px\u001b[1m)\u001b[0m                                                              \u001b]8;id=1639059724.520703-940648;file:///Users/ra57rut/.conda/envs/lastal/lib/python3.9/site-packages/jcvi/graphics/base.py\u001b\\\u001b[2mbase.py\u001b[0m\u001b]8;;\u001b\\\u001b[2m:295\u001b[0m\n"
     ]
    }
   ],
   "source": [
    "!python3.9 -m jcvi.compara.catalog ortholog rice_prot oalta_prot_ChrC --dbtype=prot --no_strip_names --liftover_dist=5"
   ]
  },
  {
   "cell_type": "markdown",
   "id": "5cd68d65",
   "metadata": {},
   "source": [
    "### O. sativa vs O. coarctata (scaffold 26)"
   ]
  },
  {
   "cell_type": "code",
   "execution_count": 5,
   "id": "e6bd0ce5",
   "metadata": {
    "collapsed": true,
    "jupyter": {
     "outputs_hidden": true
    },
    "tags": []
   },
   "outputs": [
    {
     "name": "stdout",
     "output_type": "stream",
     "text": [
      "\u001b[2;36m[11:55:12]\u001b[0m\u001b[2;36m \u001b[0m\u001b[32mDEBUG   \u001b[0m lastdb -p ocoarc_prot ocoarc_prot.pep                                                                                       \u001b]8;id=1639047312.098558-570219;file:///Users/ra57rut/.conda/envs/lastal/lib/python3.9/site-packages/jcvi/apps/base.py\u001b\\\u001b[2mbase.py\u001b[0m\u001b]8;;\u001b\\\u001b[2m:1185\u001b[0m\n",
      "\u001b[2;36m          \u001b[0m\u001b[2;36m \u001b[0m\u001b[32mDEBUG   \u001b[0m lastal -u \u001b[1;36m0\u001b[0m -P \u001b[1;36m8\u001b[0m -i3G -f BlastTab ocoarc_prot rice_prot.pep >.\u001b[35m/\u001b[0m\u001b[95mrice_prot.ocoarc_prot.last\u001b[0m                                   \u001b]8;id=1639047312.1407528-271722;file:///Users/ra57rut/.conda/envs/lastal/lib/python3.9/site-packages/jcvi/apps/base.py\u001b\\\u001b[2mbase.py\u001b[0m\u001b]8;;\u001b\\\u001b[2m:1185\u001b[0m\n",
      "\u001b[2;36m[11:55:15]\u001b[0m\u001b[2;36m \u001b[0m\u001b[32mDEBUG   \u001b[0m Assuming --\u001b[33mqbed\u001b[0m=\u001b[35mrice_prot\u001b[0m.bed --\u001b[33msbed\u001b[0m=\u001b[35mocoarc_prot\u001b[0m.bed                                                                      \u001b]8;id=1639047315.163168-917435;file:///Users/ra57rut/.conda/envs/lastal/lib/python3.9/site-packages/jcvi/compara/synteny.py\u001b\\\u001b[2msynteny.py\u001b[0m\u001b]8;;\u001b\\\u001b[2m:500\u001b[0m\n",
      "\u001b[2;36m          \u001b[0m\u001b[2;36m \u001b[0m\u001b[32mDEBUG   \u001b[0m Load file `rice_prot.bed`                                                                                                     \u001b]8;id=1639047315.164259-114525;file:///Users/ra57rut/.conda/envs/lastal/lib/python3.9/site-packages/jcvi/formats/base.py\u001b\\\u001b[2mbase.py\u001b[0m\u001b]8;;\u001b\\\u001b[2m:37\u001b[0m\n",
      "\u001b[2;36m          \u001b[0m\u001b[2;36m \u001b[0m\u001b[32mDEBUG   \u001b[0m Load file `ocoarc_prot.bed`                                                                                                   \u001b]8;id=1639047315.516722-73;file:///Users/ra57rut/.conda/envs/lastal/lib/python3.9/site-packages/jcvi/formats/base.py\u001b\\\u001b[2mbase.py\u001b[0m\u001b]8;;\u001b\\\u001b[2m:37\u001b[0m\n",
      "\u001b[2;36m          \u001b[0m\u001b[2;36m \u001b[0m\u001b[32mDEBUG   \u001b[0m Load BLAST file `rice_prot.ocoarc_prot.last` \u001b[1m(\u001b[0mtotal \u001b[1;36m34115\u001b[0m lines\u001b[1m)\u001b[0m                                                       \u001b]8;id=1639047315.540289-871924;file:///Users/ra57rut/.conda/envs/lastal/lib/python3.9/site-packages/jcvi/compara/blastfilter.py\u001b\\\u001b[2mblastfilter.py\u001b[0m\u001b]8;;\u001b\\\u001b[2m:48\u001b[0m\n",
      "\u001b[2;36m          \u001b[0m\u001b[2;36m \u001b[0m\u001b[32mDEBUG   \u001b[0m Load file `rice_prot.ocoarc_prot.last`                                                                                        \u001b]8;id=1639047315.541193-237661;file:///Users/ra57rut/.conda/envs/lastal/lib/python3.9/site-packages/jcvi/formats/base.py\u001b\\\u001b[2mbase.py\u001b[0m\u001b]8;;\u001b\\\u001b[2m:37\u001b[0m\n",
      "\u001b[2;36m          \u001b[0m\u001b[2;36m \u001b[0m\u001b[32mDEBUG   \u001b[0m running the cscore filter \u001b[1m(\u001b[0mcscore>=\u001b[1;36m0.70\u001b[0m\u001b[1m)\u001b[0m ..                                                                           \u001b]8;id=1639047315.7362921-672311;file:///Users/ra57rut/.conda/envs/lastal/lib/python3.9/site-packages/jcvi/compara/blastfilter.py\u001b\\\u001b[2mblastfilter.py\u001b[0m\u001b]8;;\u001b\\\u001b[2m:110\u001b[0m\n",
      "\u001b[2;36m          \u001b[0m\u001b[2;36m \u001b[0m\u001b[32mDEBUG   \u001b[0m after filter \u001b[1m(\u001b[0m\u001b[1;36m17638\u001b[0m->\u001b[1;36m470\u001b[0m\u001b[1m)\u001b[0m ..                                                                                          \u001b]8;id=1639047315.75841-159454;file:///Users/ra57rut/.conda/envs/lastal/lib/python3.9/site-packages/jcvi/compara/blastfilter.py\u001b\\\u001b[2mblastfilter.py\u001b[0m\u001b]8;;\u001b\\\u001b[2m:112\u001b[0m\n",
      "\u001b[2;36m          \u001b[0m\u001b[2;36m \u001b[0m\u001b[32mDEBUG   \u001b[0m running the local dups filter \u001b[1m(\u001b[0m\u001b[33mtandem_Nmax\u001b[0m=\u001b[1;36m10\u001b[0m\u001b[1m)\u001b[0m ..                                                                     \u001b]8;id=1639047315.759558-361313;file:///Users/ra57rut/.conda/envs/lastal/lib/python3.9/site-packages/jcvi/compara/blastfilter.py\u001b\\\u001b[2mblastfilter.py\u001b[0m\u001b]8;;\u001b\\\u001b[2m:117\u001b[0m\n",
      "\u001b[2;36m          \u001b[0m\u001b[2;36m \u001b[0m\u001b[32mDEBUG   \u001b[0m after filter \u001b[1m(\u001b[0m\u001b[1;36m470\u001b[0m->\u001b[1;36m389\u001b[0m\u001b[1m)\u001b[0m ..                                                                                            \u001b]8;id=1639047315.763286-281911;file:///Users/ra57rut/.conda/envs/lastal/lib/python3.9/site-packages/jcvi/compara/blastfilter.py\u001b\\\u001b[2mblastfilter.py\u001b[0m\u001b]8;;\u001b\\\u001b[2m:161\u001b[0m\n",
      "\u001b[2;36m          \u001b[0m\u001b[2;36m \u001b[0m\u001b[32mDEBUG   \u001b[0m Assuming --\u001b[33mqbed\u001b[0m=\u001b[35mrice_prot\u001b[0m.bed --\u001b[33msbed\u001b[0m=\u001b[35mocoarc_prot\u001b[0m.bed                                                                      \u001b]8;id=1639047315.781224-312541;file:///Users/ra57rut/.conda/envs/lastal/lib/python3.9/site-packages/jcvi/compara/synteny.py\u001b\\\u001b[2msynteny.py\u001b[0m\u001b]8;;\u001b\\\u001b[2m:500\u001b[0m\n",
      "\u001b[2;36m          \u001b[0m\u001b[2;36m \u001b[0m\u001b[32mDEBUG   \u001b[0m Load file `rice_prot.bed`                                                                                                     \u001b]8;id=1639047315.782096-61961;file:///Users/ra57rut/.conda/envs/lastal/lib/python3.9/site-packages/jcvi/formats/base.py\u001b\\\u001b[2mbase.py\u001b[0m\u001b]8;;\u001b\\\u001b[2m:37\u001b[0m\n",
      "\u001b[2;36m[11:55:16]\u001b[0m\u001b[2;36m \u001b[0m\u001b[32mDEBUG   \u001b[0m Load file `ocoarc_prot.bed`                                                                                                   \u001b]8;id=1639047316.0782452-664437;file:///Users/ra57rut/.conda/envs/lastal/lib/python3.9/site-packages/jcvi/formats/base.py\u001b\\\u001b[2mbase.py\u001b[0m\u001b]8;;\u001b\\\u001b[2m:37\u001b[0m\n",
      "\u001b[2;36m          \u001b[0m\u001b[2;36m \u001b[0m\u001b[32mDEBUG   \u001b[0m Load file `rice_prot.ocoarc_prot.last.filtered`                                                                               \u001b]8;id=1639047316.093943-669446;file:///Users/ra57rut/.conda/envs/lastal/lib/python3.9/site-packages/jcvi/formats/base.py\u001b\\\u001b[2mbase.py\u001b[0m\u001b]8;;\u001b\\\u001b[2m:37\u001b[0m\n",
      "\u001b[2;36m          \u001b[0m\u001b[2;36m \u001b[0m\u001b[32mDEBUG   \u001b[0m A total of \u001b[1;36m389\u001b[0m BLAST imported from `rice_prot.ocoarc_prot.last.filtered`.                                                 \u001b]8;id=1639047316.1104262-480726;file:///Users/ra57rut/.conda/envs/lastal/lib/python3.9/site-packages/jcvi/compara/synteny.py\u001b\\\u001b[2msynteny.py\u001b[0m\u001b]8;;\u001b\\\u001b[2m:386\u001b[0m\n",
      "\u001b[2;36m          \u001b[0m\u001b[2;36m \u001b[0m\u001b[32mDEBUG   \u001b[0m Chaining distance = \u001b[1;36m20\u001b[0m                                                                                                   \u001b]8;id=1639047316.111833-687318;file:///Users/ra57rut/.conda/envs/lastal/lib/python3.9/site-packages/jcvi/compara/synteny.py\u001b\\\u001b[2msynteny.py\u001b[0m\u001b]8;;\u001b\\\u001b[2m:1933\u001b[0m\n",
      "\u001b[2;36m          \u001b[0m\u001b[2;36m \u001b[0m\u001b[32mDEBUG   \u001b[0m Load file `rice_prot.ocoarc_prot.anchors`                                                                                     \u001b]8;id=1639047316.114797-966201;file:///Users/ra57rut/.conda/envs/lastal/lib/python3.9/site-packages/jcvi/formats/base.py\u001b\\\u001b[2mbase.py\u001b[0m\u001b]8;;\u001b\\\u001b[2m:37\u001b[0m\n",
      "A total of 136 (NR:131) anchors found in 6 clusters.\n",
      "Stats: Min=4 Max=47 N=6 Mean=22.67 SD=17.33 Median=16.5 Sum=136\n",
      "NR stats: Min=4 Max=45 N=6 Mean=21.83 SD=16.82 Median=16.0 Sum=131\n",
      "\u001b[2;36m          \u001b[0m\u001b[2;36m \u001b[0m\u001b[32mDEBUG   \u001b[0m Load file `rice_prot.bed`                                                                                                     \u001b]8;id=1639047316.119702-819297;file:///Users/ra57rut/.conda/envs/lastal/lib/python3.9/site-packages/jcvi/formats/base.py\u001b\\\u001b[2mbase.py\u001b[0m\u001b]8;;\u001b\\\u001b[2m:37\u001b[0m\n",
      "\u001b[2;36m          \u001b[0m\u001b[2;36m \u001b[0m\u001b[32mDEBUG   \u001b[0m Load file `ocoarc_prot.bed`                                                                                                   \u001b]8;id=1639047316.493906-801750;file:///Users/ra57rut/.conda/envs/lastal/lib/python3.9/site-packages/jcvi/formats/base.py\u001b\\\u001b[2mbase.py\u001b[0m\u001b]8;;\u001b\\\u001b[2m:37\u001b[0m\n",
      "\u001b[2;36m          \u001b[0m\u001b[2;36m \u001b[0m\u001b[32mDEBUG   \u001b[0m Load file `rice_prot.ocoarc_prot.last`                                                                                        \u001b]8;id=1639047316.510175-704520;file:///Users/ra57rut/.conda/envs/lastal/lib/python3.9/site-packages/jcvi/formats/base.py\u001b\\\u001b[2mbase.py\u001b[0m\u001b]8;;\u001b\\\u001b[2m:37\u001b[0m\n",
      "\u001b[2;36m          \u001b[0m\u001b[2;36m \u001b[0m\u001b[32mDEBUG   \u001b[0m A total of \u001b[1;36m17638\u001b[0m BLAST imported from `rice_prot.ocoarc_prot.last`.                                                        \u001b]8;id=1639047316.6105978-44787;file:///Users/ra57rut/.conda/envs/lastal/lib/python3.9/site-packages/jcvi/compara/synteny.py\u001b\\\u001b[2msynteny.py\u001b[0m\u001b]8;;\u001b\\\u001b[2m:386\u001b[0m\n",
      "\u001b[2;36m          \u001b[0m\u001b[2;36m \u001b[0m\u001b[32mDEBUG   \u001b[0m Load file `rice_prot.ocoarc_prot.anchors`                                                                                     \u001b]8;id=1639047316.632788-368151;file:///Users/ra57rut/.conda/envs/lastal/lib/python3.9/site-packages/jcvi/formats/base.py\u001b\\\u001b[2mbase.py\u001b[0m\u001b]8;;\u001b\\\u001b[2m:37\u001b[0m\n",
      "\u001b[2;36m          \u001b[0m\u001b[2;36m \u001b[0m\u001b[32mDEBUG   \u001b[0m A total of \u001b[1;36m136\u001b[0m anchors imported.                                                                                          \u001b]8;id=1639047316.643424-941993;file:///Users/ra57rut/.conda/envs/lastal/lib/python3.9/site-packages/jcvi/compara/synteny.py\u001b\\\u001b[2msynteny.py\u001b[0m\u001b]8;;\u001b\\\u001b[2m:412\u001b[0m\n",
      "\u001b[2;36m          \u001b[0m\u001b[2;36m \u001b[0m\u001b[32mDEBUG   \u001b[0m \u001b[1;36m140\u001b[0m new pairs found \u001b[1m(\u001b[0m\u001b[33mdist\u001b[0m=\u001b[1;36m5\u001b[0m\u001b[1m)\u001b[0m.                                                                                            \u001b]8;id=1639047316.649177-457182;file:///Users/ra57rut/.conda/envs/lastal/lib/python3.9/site-packages/jcvi/compara/synteny.py\u001b\\\u001b[2msynteny.py\u001b[0m\u001b]8;;\u001b\\\u001b[2m:2011\u001b[0m\n",
      "\u001b[2;36m          \u001b[0m\u001b[2;36m \u001b[0m\u001b[32mDEBUG   \u001b[0m Removed \u001b[1;36m0\u001b[0m existing anchors.                                                                                                \u001b]8;id=1639047316.651621-608608;file:///Users/ra57rut/.conda/envs/lastal/lib/python3.9/site-packages/jcvi/compara/synteny.py\u001b\\\u001b[2msynteny.py\u001b[0m\u001b]8;;\u001b\\\u001b[2m:93\u001b[0m\n",
      "\u001b[2;36m          \u001b[0m\u001b[2;36m \u001b[0m\u001b[32mDEBUG   \u001b[0m Corrected scores for \u001b[1;36m13\u001b[0m anchors.                                                                                           \u001b]8;id=1639047316.652595-434858;file:///Users/ra57rut/.conda/envs/lastal/lib/python3.9/site-packages/jcvi/compara/synteny.py\u001b\\\u001b[2msynteny.py\u001b[0m\u001b]8;;\u001b\\\u001b[2m:94\u001b[0m\n",
      "\u001b[2;36m          \u001b[0m\u001b[2;36m \u001b[0m\u001b[32mDEBUG   \u001b[0m Anchors written to `rice_prot.ocoarc_prot.lifted.anchors`.                                                                 \u001b]8;id=1639047316.6536179-722871;file:///Users/ra57rut/.conda/envs/lastal/lib/python3.9/site-packages/jcvi/compara/synteny.py\u001b\\\u001b[2msynteny.py\u001b[0m\u001b]8;;\u001b\\\u001b[2m:95\u001b[0m\n",
      "\u001b[2;36m          \u001b[0m\u001b[2;36m \u001b[0m\u001b[32mDEBUG   \u001b[0m Load file `rice_prot.ocoarc_prot.lifted.anchors`                                                                              \u001b]8;id=1639047316.654575-383213;file:///Users/ra57rut/.conda/envs/lastal/lib/python3.9/site-packages/jcvi/formats/base.py\u001b\\\u001b[2mbase.py\u001b[0m\u001b]8;;\u001b\\\u001b[2m:37\u001b[0m\n",
      "A total of 276 (NR:155) anchors found in 6 clusters.\n",
      "Stats: Min=9 Max=111 N=6 Mean=46.00 SD=38.51 Median=28.0 Sum=276\n",
      "NR stats: Min=6 Max=54 N=6 Mean=25.83 SD=19.31 Median=19.0 Sum=155\n",
      "\u001b[2;36m          \u001b[0m\u001b[2;36m \u001b[0m\u001b[32mDEBUG   \u001b[0m Assuming --\u001b[33mqbed\u001b[0m=\u001b[35mrice_prot\u001b[0m.bed --\u001b[33msbed\u001b[0m=\u001b[35mocoarc_prot\u001b[0m.bed                                                                      \u001b]8;id=1639047316.682278-297740;file:///Users/ra57rut/.conda/envs/lastal/lib/python3.9/site-packages/jcvi/compara/synteny.py\u001b\\\u001b[2msynteny.py\u001b[0m\u001b]8;;\u001b\\\u001b[2m:500\u001b[0m\n",
      "\u001b[2;36m          \u001b[0m\u001b[2;36m \u001b[0m\u001b[32mDEBUG   \u001b[0m Load file `rice_prot.bed`                                                                                                     \u001b]8;id=1639047316.6832268-886870;file:///Users/ra57rut/.conda/envs/lastal/lib/python3.9/site-packages/jcvi/formats/base.py\u001b\\\u001b[2mbase.py\u001b[0m\u001b]8;;\u001b\\\u001b[2m:37\u001b[0m\n",
      "\u001b[2;36m[11:55:17]\u001b[0m\u001b[2;36m \u001b[0m\u001b[32mDEBUG   \u001b[0m Load file `ocoarc_prot.bed`                                                                                                   \u001b]8;id=1639047317.0294101-651926;file:///Users/ra57rut/.conda/envs/lastal/lib/python3.9/site-packages/jcvi/formats/base.py\u001b\\\u001b[2mbase.py\u001b[0m\u001b]8;;\u001b\\\u001b[2m:37\u001b[0m\n",
      "\u001b[2;36m          \u001b[0m\u001b[2;36m \u001b[0m\u001b[32mDEBUG   \u001b[0m \u001b[33mxsize\u001b[0m=\u001b[1;36m42189\u001b[0m \u001b[33mysize\u001b[0m=\u001b[1;36m274\u001b[0m                                                                                                     \u001b]8;id=1639047317.15518-108989;file:///Users/ra57rut/.conda/envs/lastal/lib/python3.9/site-packages/jcvi/graphics/dotplot.py\u001b\\\u001b[2mdotplot.py\u001b[0m\u001b]8;;\u001b\\\u001b[2m:336\u001b[0m\n",
      "\u001b[2;36m[11:55:18]\u001b[0m\u001b[2;36m \u001b[0m\u001b[32mDEBUG   \u001b[0m Dot plot title: Inter-genomic comparison: rice\\_prot vs ocoarc\\_prot \u001b[1m(\u001b[0m\u001b[1;36m136\u001b[0m gene pairs\u001b[1m)\u001b[0m                                     \u001b]8;id=1639047318.938947-500502;file:///Users/ra57rut/.conda/envs/lastal/lib/python3.9/site-packages/jcvi/graphics/dotplot.py\u001b\\\u001b[2mdotplot.py\u001b[0m\u001b]8;;\u001b\\\u001b[2m:379\u001b[0m\n",
      "\u001b[2;36m[11:55:24]\u001b[0m\u001b[2;36m \u001b[0m\u001b[32mDEBUG   \u001b[0m Figure saved to `rice_prot.ocoarc_prot.pdf` \u001b[1m(\u001b[0m810px x 810px\u001b[1m)\u001b[0m                                                                  \u001b]8;id=1639047324.214402-4986;file:///Users/ra57rut/.conda/envs/lastal/lib/python3.9/site-packages/jcvi/graphics/base.py\u001b\\\u001b[2mbase.py\u001b[0m\u001b]8;;\u001b\\\u001b[2m:295\u001b[0m\n"
     ]
    }
   ],
   "source": [
    "!python3.9 -m jcvi.compara.catalog ortholog rice_prot ocoarc_prot --dbtype=prot --no_strip_names --liftover_dist=5"
   ]
  },
  {
   "cell_type": "markdown",
   "id": "ca1fe7fd",
   "metadata": {},
   "source": [
    "### O. sativa vs O. brachyantha"
   ]
  },
  {
   "cell_type": "code",
   "execution_count": 28,
   "id": "2a39a6d5",
   "metadata": {
    "collapsed": true,
    "jupyter": {
     "outputs_hidden": true
    },
    "tags": []
   },
   "outputs": [
    {
     "name": "stdout",
     "output_type": "stream",
     "text": [
      "\u001b[2;36m[13:51:11]\u001b[0m\u001b[2;36m \u001b[0m\u001b[32mDEBUG   \u001b[0m lastdb -p obra_prot obra_prot.pep                                                                                           \u001b]8;id=1639054271.4957702-624181;file:///Users/ra57rut/.conda/envs/lastal/lib/python3.9/site-packages/jcvi/apps/base.py\u001b\\\u001b[2mbase.py\u001b[0m\u001b]8;;\u001b\\\u001b[2m:1185\u001b[0m\n",
      "\u001b[2;36m[13:51:17]\u001b[0m\u001b[2;36m \u001b[0m\u001b[32mDEBUG   \u001b[0m lastal -u \u001b[1;36m0\u001b[0m -P \u001b[1;36m8\u001b[0m -i3G -f BlastTab obra_prot rice_prot.pep >.\u001b[35m/\u001b[0m\u001b[95mrice_prot.obra_prot.last\u001b[0m                                       \u001b]8;id=1639054277.98773-279251;file:///Users/ra57rut/.conda/envs/lastal/lib/python3.9/site-packages/jcvi/apps/base.py\u001b\\\u001b[2mbase.py\u001b[0m\u001b]8;;\u001b\\\u001b[2m:1185\u001b[0m\n",
      "\u001b[2;36m[13:51:31]\u001b[0m\u001b[2;36m \u001b[0m\u001b[32mDEBUG   \u001b[0m Assuming --\u001b[33mqbed\u001b[0m=\u001b[35mrice_prot\u001b[0m.bed --\u001b[33msbed\u001b[0m=\u001b[35mobra_prot\u001b[0m.bed                                                                        \u001b]8;id=1639054291.729832-775196;file:///Users/ra57rut/.conda/envs/lastal/lib/python3.9/site-packages/jcvi/compara/synteny.py\u001b\\\u001b[2msynteny.py\u001b[0m\u001b]8;;\u001b\\\u001b[2m:500\u001b[0m\n",
      "\u001b[2;36m          \u001b[0m\u001b[2;36m \u001b[0m\u001b[32mDEBUG   \u001b[0m Load file `rice_prot.bed`                                                                                                     \u001b]8;id=1639054291.7308989-323504;file:///Users/ra57rut/.conda/envs/lastal/lib/python3.9/site-packages/jcvi/formats/base.py\u001b\\\u001b[2mbase.py\u001b[0m\u001b]8;;\u001b\\\u001b[2m:37\u001b[0m\n",
      "\u001b[2;36m[13:51:32]\u001b[0m\u001b[2;36m \u001b[0m\u001b[32mDEBUG   \u001b[0m Load file `obra_prot.bed`                                                                                                     \u001b]8;id=1639054292.062845-350403;file:///Users/ra57rut/.conda/envs/lastal/lib/python3.9/site-packages/jcvi/formats/base.py\u001b\\\u001b[2mbase.py\u001b[0m\u001b]8;;\u001b\\\u001b[2m:37\u001b[0m\n",
      "\u001b[2;36m          \u001b[0m\u001b[2;36m \u001b[0m\u001b[32mDEBUG   \u001b[0m Load BLAST file `rice_prot.obra_prot.last` \u001b[1m(\u001b[0mtotal \u001b[1;36m622621\u001b[0m lines\u001b[1m)\u001b[0m                                                        \u001b]8;id=1639054292.429234-614594;file:///Users/ra57rut/.conda/envs/lastal/lib/python3.9/site-packages/jcvi/compara/blastfilter.py\u001b\\\u001b[2mblastfilter.py\u001b[0m\u001b]8;;\u001b\\\u001b[2m:48\u001b[0m\n",
      "\u001b[2;36m          \u001b[0m\u001b[2;36m \u001b[0m\u001b[32mDEBUG   \u001b[0m Load file `rice_prot.obra_prot.last`                                                                                          \u001b]8;id=1639054292.43028-303352;file:///Users/ra57rut/.conda/envs/lastal/lib/python3.9/site-packages/jcvi/formats/base.py\u001b\\\u001b[2mbase.py\u001b[0m\u001b]8;;\u001b\\\u001b[2m:37\u001b[0m\n",
      "\u001b[2;36m[13:51:34]\u001b[0m\u001b[2;36m \u001b[0m\u001b[31mWARNING \u001b[0m rna-XM_040527389.\u001b[1;36m1\u001b[0m not in obra_prot.bed                                                                                \u001b]8;id=1639054294.134357-376088;file:///Users/ra57rut/.conda/envs/lastal/lib/python3.9/site-packages/jcvi/compara/blastfilter.py\u001b\\\u001b[2mblastfilter.py\u001b[0m\u001b]8;;\u001b\\\u001b[2m:74\u001b[0m\n",
      "\u001b[2;36m          \u001b[0m\u001b[2;36m \u001b[0m\u001b[31mWARNING \u001b[0m rna-XM_040521935.\u001b[1;36m1\u001b[0m not in obra_prot.bed                                                                                \u001b]8;id=1639054294.135308-176746;file:///Users/ra57rut/.conda/envs/lastal/lib/python3.9/site-packages/jcvi/compara/blastfilter.py\u001b\\\u001b[2mblastfilter.py\u001b[0m\u001b]8;;\u001b\\\u001b[2m:74\u001b[0m\n",
      "\u001b[2;36m          \u001b[0m\u001b[2;36m \u001b[0m\u001b[31mWARNING \u001b[0m rna-XM_040521936.\u001b[1;36m1\u001b[0m not in obra_prot.bed                                                                                \u001b]8;id=1639054294.1361668-781914;file:///Users/ra57rut/.conda/envs/lastal/lib/python3.9/site-packages/jcvi/compara/blastfilter.py\u001b\\\u001b[2mblastfilter.py\u001b[0m\u001b]8;;\u001b\\\u001b[2m:74\u001b[0m\n",
      "\u001b[2;36m          \u001b[0m\u001b[2;36m \u001b[0m\u001b[31mWARNING \u001b[0m rna-XM_040521937.\u001b[1;36m1\u001b[0m not in obra_prot.bed                                                                                \u001b]8;id=1639054294.1369889-120099;file:///Users/ra57rut/.conda/envs/lastal/lib/python3.9/site-packages/jcvi/compara/blastfilter.py\u001b\\\u001b[2mblastfilter.py\u001b[0m\u001b]8;;\u001b\\\u001b[2m:74\u001b[0m\n",
      "\u001b[2;36m          \u001b[0m\u001b[2;36m \u001b[0m\u001b[31mWARNING \u001b[0m rna-XM_040521938.\u001b[1;36m1\u001b[0m not in obra_prot.bed                                                                                \u001b]8;id=1639054294.1378329-122702;file:///Users/ra57rut/.conda/envs/lastal/lib/python3.9/site-packages/jcvi/compara/blastfilter.py\u001b\\\u001b[2mblastfilter.py\u001b[0m\u001b]8;;\u001b\\\u001b[2m:74\u001b[0m\n",
      "\u001b[2;36m          \u001b[0m\u001b[2;36m \u001b[0m\u001b[31mWARNING \u001b[0m rna-XM_040521939.\u001b[1;36m1\u001b[0m not in obra_prot.bed                                                                                \u001b]8;id=1639054294.138711-472244;file:///Users/ra57rut/.conda/envs/lastal/lib/python3.9/site-packages/jcvi/compara/blastfilter.py\u001b\\\u001b[2mblastfilter.py\u001b[0m\u001b]8;;\u001b\\\u001b[2m:74\u001b[0m\n",
      "\u001b[2;36m          \u001b[0m\u001b[2;36m \u001b[0m\u001b[31mWARNING \u001b[0m rna-XM_040521940.\u001b[1;36m1\u001b[0m not in obra_prot.bed                                                                                \u001b]8;id=1639054294.13954-865608;file:///Users/ra57rut/.conda/envs/lastal/lib/python3.9/site-packages/jcvi/compara/blastfilter.py\u001b\\\u001b[2mblastfilter.py\u001b[0m\u001b]8;;\u001b\\\u001b[2m:74\u001b[0m\n",
      "\u001b[2;36m          \u001b[0m\u001b[2;36m \u001b[0m\u001b[31mWARNING \u001b[0m rna-XM_006643776.\u001b[1;36m2\u001b[0m not in obra_prot.bed                                                                                \u001b]8;id=1639054294.140415-93934;file:///Users/ra57rut/.conda/envs/lastal/lib/python3.9/site-packages/jcvi/compara/blastfilter.py\u001b\\\u001b[2mblastfilter.py\u001b[0m\u001b]8;;\u001b\\\u001b[2m:74\u001b[0m\n",
      "\u001b[2;36m          \u001b[0m\u001b[2;36m \u001b[0m\u001b[31mWARNING \u001b[0m rna-XM_006643777.\u001b[1;36m2\u001b[0m not in obra_prot.bed                                                                                \u001b]8;id=1639054294.141248-301328;file:///Users/ra57rut/.conda/envs/lastal/lib/python3.9/site-packages/jcvi/compara/blastfilter.py\u001b\\\u001b[2mblastfilter.py\u001b[0m\u001b]8;;\u001b\\\u001b[2m:74\u001b[0m\n",
      "\u001b[2;36m          \u001b[0m\u001b[2;36m \u001b[0m\u001b[31mWARNING \u001b[0m rna-XM_040528049.\u001b[1;36m1\u001b[0m not in obra_prot.bed                                                                                \u001b]8;id=1639054294.1421068-211699;file:///Users/ra57rut/.conda/envs/lastal/lib/python3.9/site-packages/jcvi/compara/blastfilter.py\u001b\\\u001b[2mblastfilter.py\u001b[0m\u001b]8;;\u001b\\\u001b[2m:74\u001b[0m\n",
      "\u001b[2;36m          \u001b[0m\u001b[2;36m \u001b[0m\u001b[31mWARNING \u001b[0m rna-XM_040521073.\u001b[1;36m1\u001b[0m not in obra_prot.bed                                                                                \u001b]8;id=1639054294.1429582-615921;file:///Users/ra57rut/.conda/envs/lastal/lib/python3.9/site-packages/jcvi/compara/blastfilter.py\u001b\\\u001b[2mblastfilter.py\u001b[0m\u001b]8;;\u001b\\\u001b[2m:74\u001b[0m\n",
      "\u001b[2;36m          \u001b[0m\u001b[2;36m \u001b[0m\u001b[31mWARNING \u001b[0m rna-XM_040529897.\u001b[1;36m1\u001b[0m not in obra_prot.bed                                                                                \u001b]8;id=1639054294.1438131-692366;file:///Users/ra57rut/.conda/envs/lastal/lib/python3.9/site-packages/jcvi/compara/blastfilter.py\u001b\\\u001b[2mblastfilter.py\u001b[0m\u001b]8;;\u001b\\\u001b[2m:74\u001b[0m\n",
      "\u001b[2;36m          \u001b[0m\u001b[2;36m \u001b[0m\u001b[31mWARNING \u001b[0m rna-XM_015835370.\u001b[1;36m2\u001b[0m not in obra_prot.bed                                                                                \u001b]8;id=1639054294.144654-405515;file:///Users/ra57rut/.conda/envs/lastal/lib/python3.9/site-packages/jcvi/compara/blastfilter.py\u001b\\\u001b[2mblastfilter.py\u001b[0m\u001b]8;;\u001b\\\u001b[2m:74\u001b[0m\n",
      "\u001b[2;36m          \u001b[0m\u001b[2;36m \u001b[0m\u001b[31mWARNING \u001b[0m rna-XM_040525792.\u001b[1;36m1\u001b[0m not in obra_prot.bed                                                                                \u001b]8;id=1639054294.145525-610754;file:///Users/ra57rut/.conda/envs/lastal/lib/python3.9/site-packages/jcvi/compara/blastfilter.py\u001b\\\u001b[2mblastfilter.py\u001b[0m\u001b]8;;\u001b\\\u001b[2m:74\u001b[0m\n",
      "\u001b[2;36m          \u001b[0m\u001b[2;36m \u001b[0m\u001b[31mWARNING \u001b[0m rna-XM_015837657.\u001b[1;36m2\u001b[0m not in obra_prot.bed                                                                                \u001b]8;id=1639054294.146361-408079;file:///Users/ra57rut/.conda/envs/lastal/lib/python3.9/site-packages/jcvi/compara/blastfilter.py\u001b\\\u001b[2mblastfilter.py\u001b[0m\u001b]8;;\u001b\\\u001b[2m:74\u001b[0m\n",
      "\u001b[2;36m          \u001b[0m\u001b[2;36m \u001b[0m\u001b[31mWARNING \u001b[0m rna-XM_040523864.\u001b[1;36m1\u001b[0m not in obra_prot.bed                                                                                \u001b]8;id=1639054294.1471841-949586;file:///Users/ra57rut/.conda/envs/lastal/lib/python3.9/site-packages/jcvi/compara/blastfilter.py\u001b\\\u001b[2mblastfilter.py\u001b[0m\u001b]8;;\u001b\\\u001b[2m:74\u001b[0m\n",
      "\u001b[2;36m          \u001b[0m\u001b[2;36m \u001b[0m\u001b[31mWARNING \u001b[0m rna-XM_040523868.\u001b[1;36m1\u001b[0m not in obra_prot.bed                                                                                \u001b]8;id=1639054294.148045-563239;file:///Users/ra57rut/.conda/envs/lastal/lib/python3.9/site-packages/jcvi/compara/blastfilter.py\u001b\\\u001b[2mblastfilter.py\u001b[0m\u001b]8;;\u001b\\\u001b[2m:74\u001b[0m\n",
      "\u001b[2;36m          \u001b[0m\u001b[2;36m \u001b[0m\u001b[31mWARNING \u001b[0m rna-XM_040523865.\u001b[1;36m1\u001b[0m not in obra_prot.bed                                                                                \u001b]8;id=1639054294.1488872-697700;file:///Users/ra57rut/.conda/envs/lastal/lib/python3.9/site-packages/jcvi/compara/blastfilter.py\u001b\\\u001b[2mblastfilter.py\u001b[0m\u001b]8;;\u001b\\\u001b[2m:74\u001b[0m\n",
      "\u001b[2;36m          \u001b[0m\u001b[2;36m \u001b[0m\u001b[31mWARNING \u001b[0m rna-XM_015842432.\u001b[1;36m2\u001b[0m not in obra_prot.bed                                                                                \u001b]8;id=1639054294.149714-593562;file:///Users/ra57rut/.conda/envs/lastal/lib/python3.9/site-packages/jcvi/compara/blastfilter.py\u001b\\\u001b[2mblastfilter.py\u001b[0m\u001b]8;;\u001b\\\u001b[2m:74\u001b[0m\n",
      "\u001b[2;36m          \u001b[0m\u001b[2;36m \u001b[0m\u001b[31mWARNING \u001b[0m rna-XM_040529694.\u001b[1;36m1\u001b[0m not in obra_prot.bed                                                                                \u001b]8;id=1639054294.150538-240443;file:///Users/ra57rut/.conda/envs/lastal/lib/python3.9/site-packages/jcvi/compara/blastfilter.py\u001b\\\u001b[2mblastfilter.py\u001b[0m\u001b]8;;\u001b\\\u001b[2m:74\u001b[0m\n",
      "\u001b[2;36m          \u001b[0m\u001b[2;36m \u001b[0m\u001b[31mWARNING \u001b[0m rna-XM_015842436.\u001b[1;36m2\u001b[0m not in obra_prot.bed                                                                                \u001b]8;id=1639054294.151388-956816;file:///Users/ra57rut/.conda/envs/lastal/lib/python3.9/site-packages/jcvi/compara/blastfilter.py\u001b\\\u001b[2mblastfilter.py\u001b[0m\u001b]8;;\u001b\\\u001b[2m:74\u001b[0m\n",
      "\u001b[2;36m          \u001b[0m\u001b[2;36m \u001b[0m\u001b[31mWARNING \u001b[0m rna-XM_015842324.\u001b[1;36m2\u001b[0m not in obra_prot.bed                                                                                \u001b]8;id=1639054294.152226-250161;file:///Users/ra57rut/.conda/envs/lastal/lib/python3.9/site-packages/jcvi/compara/blastfilter.py\u001b\\\u001b[2mblastfilter.py\u001b[0m\u001b]8;;\u001b\\\u001b[2m:74\u001b[0m\n",
      "\u001b[2;36m          \u001b[0m\u001b[2;36m \u001b[0m\u001b[31mWARNING \u001b[0m rna-XM_040521051.\u001b[1;36m1\u001b[0m not in obra_prot.bed                                                                                \u001b]8;id=1639054294.153048-734724;file:///Users/ra57rut/.conda/envs/lastal/lib/python3.9/site-packages/jcvi/compara/blastfilter.py\u001b\\\u001b[2mblastfilter.py\u001b[0m\u001b]8;;\u001b\\\u001b[2m:74\u001b[0m\n",
      "\u001b[2;36m          \u001b[0m\u001b[2;36m \u001b[0m\u001b[31mWARNING \u001b[0m rna-XM_040529330.\u001b[1;36m1\u001b[0m not in obra_prot.bed                                                                                \u001b]8;id=1639054294.153952-230476;file:///Users/ra57rut/.conda/envs/lastal/lib/python3.9/site-packages/jcvi/compara/blastfilter.py\u001b\\\u001b[2mblastfilter.py\u001b[0m\u001b]8;;\u001b\\\u001b[2m:74\u001b[0m\n",
      "\u001b[2;36m          \u001b[0m\u001b[2;36m \u001b[0m\u001b[31mWARNING \u001b[0m rna-XM_040529331.\u001b[1;36m1\u001b[0m not in obra_prot.bed                                                                                \u001b]8;id=1639054294.1548622-102041;file:///Users/ra57rut/.conda/envs/lastal/lib/python3.9/site-packages/jcvi/compara/blastfilter.py\u001b\\\u001b[2mblastfilter.py\u001b[0m\u001b]8;;\u001b\\\u001b[2m:74\u001b[0m\n",
      "\u001b[2;36m          \u001b[0m\u001b[2;36m \u001b[0m\u001b[31mWARNING \u001b[0m rna-XM_040529332.\u001b[1;36m1\u001b[0m not in obra_prot.bed                                                                                \u001b]8;id=1639054294.1557791-479528;file:///Users/ra57rut/.conda/envs/lastal/lib/python3.9/site-packages/jcvi/compara/blastfilter.py\u001b\\\u001b[2mblastfilter.py\u001b[0m\u001b]8;;\u001b\\\u001b[2m:74\u001b[0m\n",
      "\u001b[2;36m          \u001b[0m\u001b[2;36m \u001b[0m\u001b[31mWARNING \u001b[0m rna-XM_040523866.\u001b[1;36m1\u001b[0m not in obra_prot.bed                                                                                \u001b]8;id=1639054294.156718-415859;file:///Users/ra57rut/.conda/envs/lastal/lib/python3.9/site-packages/jcvi/compara/blastfilter.py\u001b\\\u001b[2mblastfilter.py\u001b[0m\u001b]8;;\u001b\\\u001b[2m:74\u001b[0m\n",
      "\u001b[2;36m          \u001b[0m\u001b[2;36m \u001b[0m\u001b[31mWARNING \u001b[0m rna-XM_040523857.\u001b[1;36m1\u001b[0m not in obra_prot.bed                                                                                \u001b]8;id=1639054294.157604-775182;file:///Users/ra57rut/.conda/envs/lastal/lib/python3.9/site-packages/jcvi/compara/blastfilter.py\u001b\\\u001b[2mblastfilter.py\u001b[0m\u001b]8;;\u001b\\\u001b[2m:74\u001b[0m\n",
      "\u001b[2;36m          \u001b[0m\u001b[2;36m \u001b[0m\u001b[31mWARNING \u001b[0m rna-XM_040528112.\u001b[1;36m1\u001b[0m not in obra_prot.bed                                                                                \u001b]8;id=1639054294.158541-307919;file:///Users/ra57rut/.conda/envs/lastal/lib/python3.9/site-packages/jcvi/compara/blastfilter.py\u001b\\\u001b[2mblastfilter.py\u001b[0m\u001b]8;;\u001b\\\u001b[2m:74\u001b[0m\n",
      "\u001b[2;36m          \u001b[0m\u001b[2;36m \u001b[0m\u001b[31mWARNING \u001b[0m rna-XM_006644660.\u001b[1;36m2\u001b[0m not in obra_prot.bed                                                                                \u001b]8;id=1639054294.159466-733501;file:///Users/ra57rut/.conda/envs/lastal/lib/python3.9/site-packages/jcvi/compara/blastfilter.py\u001b\\\u001b[2mblastfilter.py\u001b[0m\u001b]8;;\u001b\\\u001b[2m:74\u001b[0m\n",
      "\u001b[2;36m          \u001b[0m\u001b[2;36m \u001b[0m\u001b[31mWARNING \u001b[0m rna-XM_040523079.\u001b[1;36m1\u001b[0m not in obra_prot.bed                                                                                \u001b]8;id=1639054294.160383-91606;file:///Users/ra57rut/.conda/envs/lastal/lib/python3.9/site-packages/jcvi/compara/blastfilter.py\u001b\\\u001b[2mblastfilter.py\u001b[0m\u001b]8;;\u001b\\\u001b[2m:74\u001b[0m\n",
      "\u001b[2;36m          \u001b[0m\u001b[2;36m \u001b[0m\u001b[31mWARNING \u001b[0m rna-XM_040523330.\u001b[1;36m1\u001b[0m not in obra_prot.bed                                                                                \u001b]8;id=1639054294.161283-511041;file:///Users/ra57rut/.conda/envs/lastal/lib/python3.9/site-packages/jcvi/compara/blastfilter.py\u001b\\\u001b[2mblastfilter.py\u001b[0m\u001b]8;;\u001b\\\u001b[2m:74\u001b[0m\n",
      "\u001b[2;36m          \u001b[0m\u001b[2;36m \u001b[0m\u001b[31mWARNING \u001b[0m rna-XM_040521675.\u001b[1;36m1\u001b[0m not in obra_prot.bed                                                                                \u001b]8;id=1639054294.162234-436700;file:///Users/ra57rut/.conda/envs/lastal/lib/python3.9/site-packages/jcvi/compara/blastfilter.py\u001b\\\u001b[2mblastfilter.py\u001b[0m\u001b]8;;\u001b\\\u001b[2m:74\u001b[0m\n",
      "\u001b[2;36m          \u001b[0m\u001b[2;36m \u001b[0m\u001b[31mWARNING \u001b[0m rna-XM_040521676.\u001b[1;36m1\u001b[0m not in obra_prot.bed                                                                                \u001b]8;id=1639054294.163369-929091;file:///Users/ra57rut/.conda/envs/lastal/lib/python3.9/site-packages/jcvi/compara/blastfilter.py\u001b\\\u001b[2mblastfilter.py\u001b[0m\u001b]8;;\u001b\\\u001b[2m:74\u001b[0m\n",
      "\u001b[2;36m          \u001b[0m\u001b[2;36m \u001b[0m\u001b[31mWARNING \u001b[0m rna-XM_040528049.\u001b[1;36m1\u001b[0m not in obra_prot.bed                                                                                \u001b]8;id=1639054294.164361-483388;file:///Users/ra57rut/.conda/envs/lastal/lib/python3.9/site-packages/jcvi/compara/blastfilter.py\u001b\\\u001b[2mblastfilter.py\u001b[0m\u001b]8;;\u001b\\\u001b[2m:74\u001b[0m\n",
      "\u001b[2;36m          \u001b[0m\u001b[2;36m \u001b[0m\u001b[31mWARNING \u001b[0m rna-XM_040528715.\u001b[1;36m1\u001b[0m not in obra_prot.bed                                                                                \u001b]8;id=1639054294.165478-16028;file:///Users/ra57rut/.conda/envs/lastal/lib/python3.9/site-packages/jcvi/compara/blastfilter.py\u001b\\\u001b[2mblastfilter.py\u001b[0m\u001b]8;;\u001b\\\u001b[2m:74\u001b[0m\n",
      "\u001b[2;36m          \u001b[0m\u001b[2;36m \u001b[0m\u001b[31mWARNING \u001b[0m rna-XM_006657124.\u001b[1;36m3\u001b[0m not in obra_prot.bed                                                                                \u001b]8;id=1639054294.166666-567942;file:///Users/ra57rut/.conda/envs/lastal/lib/python3.9/site-packages/jcvi/compara/blastfilter.py\u001b\\\u001b[2mblastfilter.py\u001b[0m\u001b]8;;\u001b\\\u001b[2m:74\u001b[0m\n",
      "\u001b[2;36m          \u001b[0m\u001b[2;36m \u001b[0m\u001b[31mWARNING \u001b[0m rna-XM_015838648.\u001b[1;36m2\u001b[0m not in obra_prot.bed                                                                                \u001b]8;id=1639054294.1681762-280183;file:///Users/ra57rut/.conda/envs/lastal/lib/python3.9/site-packages/jcvi/compara/blastfilter.py\u001b\\\u001b[2mblastfilter.py\u001b[0m\u001b]8;;\u001b\\\u001b[2m:74\u001b[0m\n",
      "\u001b[2;36m          \u001b[0m\u001b[2;36m \u001b[0m\u001b[31mWARNING \u001b[0m rna-XM_040526022.\u001b[1;36m1\u001b[0m not in obra_prot.bed                                                                                \u001b]8;id=1639054294.169951-233576;file:///Users/ra57rut/.conda/envs/lastal/lib/python3.9/site-packages/jcvi/compara/blastfilter.py\u001b\\\u001b[2mblastfilter.py\u001b[0m\u001b]8;;\u001b\\\u001b[2m:74\u001b[0m\n",
      "\u001b[2;36m          \u001b[0m\u001b[2;36m \u001b[0m\u001b[31mWARNING \u001b[0m rna-XM_015841845.\u001b[1;36m1\u001b[0m not in obra_prot.bed                                                                                \u001b]8;id=1639054294.171366-495991;file:///Users/ra57rut/.conda/envs/lastal/lib/python3.9/site-packages/jcvi/compara/blastfilter.py\u001b\\\u001b[2mblastfilter.py\u001b[0m\u001b]8;;\u001b\\\u001b[2m:74\u001b[0m\n",
      "\u001b[2;36m          \u001b[0m\u001b[2;36m \u001b[0m\u001b[31mWARNING \u001b[0m rna-XM_015842324.\u001b[1;36m2\u001b[0m not in obra_prot.bed                                                                                \u001b]8;id=1639054294.172556-432539;file:///Users/ra57rut/.conda/envs/lastal/lib/python3.9/site-packages/jcvi/compara/blastfilter.py\u001b\\\u001b[2mblastfilter.py\u001b[0m\u001b]8;;\u001b\\\u001b[2m:74\u001b[0m\n",
      "\u001b[2;36m          \u001b[0m\u001b[2;36m \u001b[0m\u001b[31mWARNING \u001b[0m rna-XM_006646800.\u001b[1;36m3\u001b[0m not in obra_prot.bed                                                                                \u001b]8;id=1639054294.1737149-47471;file:///Users/ra57rut/.conda/envs/lastal/lib/python3.9/site-packages/jcvi/compara/blastfilter.py\u001b\\\u001b[2mblastfilter.py\u001b[0m\u001b]8;;\u001b\\\u001b[2m:74\u001b[0m\n",
      "\u001b[2;36m          \u001b[0m\u001b[2;36m \u001b[0m\u001b[31mWARNING \u001b[0m rna-XM_015836505.\u001b[1;36m2\u001b[0m not in obra_prot.bed                                                                                \u001b]8;id=1639054294.174897-396132;file:///Users/ra57rut/.conda/envs/lastal/lib/python3.9/site-packages/jcvi/compara/blastfilter.py\u001b\\\u001b[2mblastfilter.py\u001b[0m\u001b]8;;\u001b\\\u001b[2m:74\u001b[0m\n",
      "\u001b[2;36m          \u001b[0m\u001b[2;36m \u001b[0m\u001b[31mWARNING \u001b[0m rna-XM_040527839.\u001b[1;36m1\u001b[0m not in obra_prot.bed                                                                                \u001b]8;id=1639054294.176012-981884;file:///Users/ra57rut/.conda/envs/lastal/lib/python3.9/site-packages/jcvi/compara/blastfilter.py\u001b\\\u001b[2mblastfilter.py\u001b[0m\u001b]8;;\u001b\\\u001b[2m:74\u001b[0m\n",
      "\u001b[2;36m          \u001b[0m\u001b[2;36m \u001b[0m\u001b[31mWARNING \u001b[0m rna-XM_006651892.\u001b[1;36m3\u001b[0m not in obra_prot.bed                                                                                \u001b]8;id=1639054294.177155-647308;file:///Users/ra57rut/.conda/envs/lastal/lib/python3.9/site-packages/jcvi/compara/blastfilter.py\u001b\\\u001b[2mblastfilter.py\u001b[0m\u001b]8;;\u001b\\\u001b[2m:74\u001b[0m\n",
      "\u001b[2;36m          \u001b[0m\u001b[2;36m \u001b[0m\u001b[31mWARNING \u001b[0m rna-XM_015843654.\u001b[1;36m2\u001b[0m not in obra_prot.bed                                                                                \u001b]8;id=1639054294.19831-542369;file:///Users/ra57rut/.conda/envs/lastal/lib/python3.9/site-packages/jcvi/compara/blastfilter.py\u001b\\\u001b[2mblastfilter.py\u001b[0m\u001b]8;;\u001b\\\u001b[2m:74\u001b[0m\n",
      "\u001b[2;36m          \u001b[0m\u001b[2;36m \u001b[0m\u001b[31mWARNING \u001b[0m rna-XM_006649256.\u001b[1;36m3\u001b[0m not in obra_prot.bed                                                                                \u001b]8;id=1639054294.1993139-574552;file:///Users/ra57rut/.conda/envs/lastal/lib/python3.9/site-packages/jcvi/compara/blastfilter.py\u001b\\\u001b[2mblastfilter.py\u001b[0m\u001b]8;;\u001b\\\u001b[2m:74\u001b[0m\n",
      "\u001b[2;36m          \u001b[0m\u001b[2;36m \u001b[0m\u001b[31mWARNING \u001b[0m rna-XM_015835249.\u001b[1;36m2\u001b[0m not in obra_prot.bed                                                                                \u001b]8;id=1639054294.200268-982081;file:///Users/ra57rut/.conda/envs/lastal/lib/python3.9/site-packages/jcvi/compara/blastfilter.py\u001b\\\u001b[2mblastfilter.py\u001b[0m\u001b]8;;\u001b\\\u001b[2m:74\u001b[0m\n",
      "\u001b[2;36m          \u001b[0m\u001b[2;36m \u001b[0m\u001b[31mWARNING \u001b[0m rna-XM_015835240.\u001b[1;36m2\u001b[0m not in obra_prot.bed                                                                                \u001b]8;id=1639054294.2013729-528764;file:///Users/ra57rut/.conda/envs/lastal/lib/python3.9/site-packages/jcvi/compara/blastfilter.py\u001b\\\u001b[2mblastfilter.py\u001b[0m\u001b]8;;\u001b\\\u001b[2m:74\u001b[0m\n",
      "\u001b[2;36m          \u001b[0m\u001b[2;36m \u001b[0m\u001b[31mWARNING \u001b[0m rna-XM_040521957.\u001b[1;36m1\u001b[0m not in obra_prot.bed                                                                                \u001b]8;id=1639054294.202306-945781;file:///Users/ra57rut/.conda/envs/lastal/lib/python3.9/site-packages/jcvi/compara/blastfilter.py\u001b\\\u001b[2mblastfilter.py\u001b[0m\u001b]8;;\u001b\\\u001b[2m:74\u001b[0m\n",
      "\u001b[2;36m          \u001b[0m\u001b[2;36m \u001b[0m\u001b[31mWARNING \u001b[0m rna-XM_006654526.\u001b[1;36m3\u001b[0m not in obra_prot.bed                                                                                \u001b]8;id=1639054294.2032619-431508;file:///Users/ra57rut/.conda/envs/lastal/lib/python3.9/site-packages/jcvi/compara/blastfilter.py\u001b\\\u001b[2mblastfilter.py\u001b[0m\u001b]8;;\u001b\\\u001b[2m:74\u001b[0m\n",
      "\u001b[2;36m          \u001b[0m\u001b[2;36m \u001b[0m\u001b[31mWARNING \u001b[0m rna-XM_040521125.\u001b[1;36m1\u001b[0m not in obra_prot.bed                                                                                \u001b]8;id=1639054294.2042198-521602;file:///Users/ra57rut/.conda/envs/lastal/lib/python3.9/site-packages/jcvi/compara/blastfilter.py\u001b\\\u001b[2mblastfilter.py\u001b[0m\u001b]8;;\u001b\\\u001b[2m:74\u001b[0m\n",
      "\u001b[2;36m          \u001b[0m\u001b[2;36m \u001b[0m\u001b[31mWARNING \u001b[0m rna-XM_040525734.\u001b[1;36m1\u001b[0m not in obra_prot.bed                                                                                \u001b]8;id=1639054294.2051861-926224;file:///Users/ra57rut/.conda/envs/lastal/lib/python3.9/site-packages/jcvi/compara/blastfilter.py\u001b\\\u001b[2mblastfilter.py\u001b[0m\u001b]8;;\u001b\\\u001b[2m:74\u001b[0m\n",
      "\u001b[2;36m          \u001b[0m\u001b[2;36m \u001b[0m\u001b[31mWARNING \u001b[0m rna-XM_040525766.\u001b[1;36m1\u001b[0m not in obra_prot.bed                                                                                \u001b]8;id=1639054294.206122-480328;file:///Users/ra57rut/.conda/envs/lastal/lib/python3.9/site-packages/jcvi/compara/blastfilter.py\u001b\\\u001b[2mblastfilter.py\u001b[0m\u001b]8;;\u001b\\\u001b[2m:74\u001b[0m\n",
      "\u001b[2;36m          \u001b[0m\u001b[2;36m \u001b[0m\u001b[31mWARNING \u001b[0m rna-XM_040527091.\u001b[1;36m1\u001b[0m not in obra_prot.bed                                                                                \u001b]8;id=1639054294.2071092-924895;file:///Users/ra57rut/.conda/envs/lastal/lib/python3.9/site-packages/jcvi/compara/blastfilter.py\u001b\\\u001b[2mblastfilter.py\u001b[0m\u001b]8;;\u001b\\\u001b[2m:74\u001b[0m\n",
      "\u001b[2;36m          \u001b[0m\u001b[2;36m \u001b[0m\u001b[31mWARNING \u001b[0m rna-XM_040521677.\u001b[1;36m1\u001b[0m not in obra_prot.bed                                                                                \u001b]8;id=1639054294.208058-516030;file:///Users/ra57rut/.conda/envs/lastal/lib/python3.9/site-packages/jcvi/compara/blastfilter.py\u001b\\\u001b[2mblastfilter.py\u001b[0m\u001b]8;;\u001b\\\u001b[2m:74\u001b[0m\n",
      "\u001b[2;36m          \u001b[0m\u001b[2;36m \u001b[0m\u001b[31mWARNING \u001b[0m rna-XM_015843812.\u001b[1;36m2\u001b[0m not in obra_prot.bed                                                                                \u001b]8;id=1639054294.2090409-25666;file:///Users/ra57rut/.conda/envs/lastal/lib/python3.9/site-packages/jcvi/compara/blastfilter.py\u001b\\\u001b[2mblastfilter.py\u001b[0m\u001b]8;;\u001b\\\u001b[2m:74\u001b[0m\n",
      "\u001b[2;36m          \u001b[0m\u001b[2;36m \u001b[0m\u001b[31mWARNING \u001b[0m rna-XM_040522504.\u001b[1;36m1\u001b[0m not in obra_prot.bed                                                                                \u001b]8;id=1639054294.2099562-779568;file:///Users/ra57rut/.conda/envs/lastal/lib/python3.9/site-packages/jcvi/compara/blastfilter.py\u001b\\\u001b[2mblastfilter.py\u001b[0m\u001b]8;;\u001b\\\u001b[2m:74\u001b[0m\n",
      "\u001b[2;36m          \u001b[0m\u001b[2;36m \u001b[0m\u001b[31mWARNING \u001b[0m rna-XM_040521735.\u001b[1;36m1\u001b[0m not in obra_prot.bed                                                                                \u001b]8;id=1639054294.211008-811077;file:///Users/ra57rut/.conda/envs/lastal/lib/python3.9/site-packages/jcvi/compara/blastfilter.py\u001b\\\u001b[2mblastfilter.py\u001b[0m\u001b]8;;\u001b\\\u001b[2m:74\u001b[0m\n",
      "\u001b[2;36m          \u001b[0m\u001b[2;36m \u001b[0m\u001b[31mWARNING \u001b[0m rna-XM_015840594.\u001b[1;36m2\u001b[0m not in obra_prot.bed                                                                                \u001b]8;id=1639054294.212235-387620;file:///Users/ra57rut/.conda/envs/lastal/lib/python3.9/site-packages/jcvi/compara/blastfilter.py\u001b\\\u001b[2mblastfilter.py\u001b[0m\u001b]8;;\u001b\\\u001b[2m:74\u001b[0m\n",
      "\u001b[2;36m          \u001b[0m\u001b[2;36m \u001b[0m\u001b[31mWARNING \u001b[0m rna-XM_040522509.\u001b[1;36m1\u001b[0m not in obra_prot.bed                                                                                \u001b]8;id=1639054294.213556-577639;file:///Users/ra57rut/.conda/envs/lastal/lib/python3.9/site-packages/jcvi/compara/blastfilter.py\u001b\\\u001b[2mblastfilter.py\u001b[0m\u001b]8;;\u001b\\\u001b[2m:74\u001b[0m\n",
      "\u001b[2;36m          \u001b[0m\u001b[2;36m \u001b[0m\u001b[31mWARNING \u001b[0m rna-XM_040526019.\u001b[1;36m1\u001b[0m not in obra_prot.bed                                                                                \u001b]8;id=1639054294.214697-772556;file:///Users/ra57rut/.conda/envs/lastal/lib/python3.9/site-packages/jcvi/compara/blastfilter.py\u001b\\\u001b[2mblastfilter.py\u001b[0m\u001b]8;;\u001b\\\u001b[2m:74\u001b[0m\n",
      "\u001b[2;36m          \u001b[0m\u001b[2;36m \u001b[0m\u001b[31mWARNING \u001b[0m rna-XM_006649563.\u001b[1;36m3\u001b[0m not in obra_prot.bed                                                                                \u001b]8;id=1639054294.215713-163303;file:///Users/ra57rut/.conda/envs/lastal/lib/python3.9/site-packages/jcvi/compara/blastfilter.py\u001b\\\u001b[2mblastfilter.py\u001b[0m\u001b]8;;\u001b\\\u001b[2m:74\u001b[0m\n",
      "\u001b[2;36m          \u001b[0m\u001b[2;36m \u001b[0m\u001b[31mWARNING \u001b[0m rna-XM_040523031.\u001b[1;36m1\u001b[0m not in obra_prot.bed                                                                                \u001b]8;id=1639054294.21701-598800;file:///Users/ra57rut/.conda/envs/lastal/lib/python3.9/site-packages/jcvi/compara/blastfilter.py\u001b\\\u001b[2mblastfilter.py\u001b[0m\u001b]8;;\u001b\\\u001b[2m:74\u001b[0m\n",
      "\u001b[2;36m          \u001b[0m\u001b[2;36m \u001b[0m\u001b[31mWARNING \u001b[0m rna-XM_040526020.\u001b[1;36m1\u001b[0m not in obra_prot.bed                                                                                \u001b]8;id=1639054294.218467-481491;file:///Users/ra57rut/.conda/envs/lastal/lib/python3.9/site-packages/jcvi/compara/blastfilter.py\u001b\\\u001b[2mblastfilter.py\u001b[0m\u001b]8;;\u001b\\\u001b[2m:74\u001b[0m\n",
      "\u001b[2;36m          \u001b[0m\u001b[2;36m \u001b[0m\u001b[31mWARNING \u001b[0m rna-XM_006662660.\u001b[1;36m3\u001b[0m not in obra_prot.bed                                                                                \u001b]8;id=1639054294.220395-849240;file:///Users/ra57rut/.conda/envs/lastal/lib/python3.9/site-packages/jcvi/compara/blastfilter.py\u001b\\\u001b[2mblastfilter.py\u001b[0m\u001b]8;;\u001b\\\u001b[2m:74\u001b[0m\n",
      "\u001b[2;36m          \u001b[0m\u001b[2;36m \u001b[0m\u001b[31mWARNING \u001b[0m rna-XM_006651476.\u001b[1;36m3\u001b[0m not in obra_prot.bed                                                                                \u001b]8;id=1639054294.222309-628825;file:///Users/ra57rut/.conda/envs/lastal/lib/python3.9/site-packages/jcvi/compara/blastfilter.py\u001b\\\u001b[2mblastfilter.py\u001b[0m\u001b]8;;\u001b\\\u001b[2m:74\u001b[0m\n",
      "\u001b[2;36m          \u001b[0m\u001b[2;36m \u001b[0m\u001b[31mWARNING \u001b[0m rna-XM_006650035.\u001b[1;36m3\u001b[0m not in obra_prot.bed                                                                                \u001b]8;id=1639054294.223665-692228;file:///Users/ra57rut/.conda/envs/lastal/lib/python3.9/site-packages/jcvi/compara/blastfilter.py\u001b\\\u001b[2mblastfilter.py\u001b[0m\u001b]8;;\u001b\\\u001b[2m:74\u001b[0m\n",
      "\u001b[2;36m          \u001b[0m\u001b[2;36m \u001b[0m\u001b[31mWARNING \u001b[0m rna-XM_015835344.\u001b[1;36m2\u001b[0m not in obra_prot.bed                                                                                \u001b]8;id=1639054294.224756-561264;file:///Users/ra57rut/.conda/envs/lastal/lib/python3.9/site-packages/jcvi/compara/blastfilter.py\u001b\\\u001b[2mblastfilter.py\u001b[0m\u001b]8;;\u001b\\\u001b[2m:74\u001b[0m\n",
      "\u001b[2;36m          \u001b[0m\u001b[2;36m \u001b[0m\u001b[31mWARNING \u001b[0m rna-XM_015843711.\u001b[1;36m2\u001b[0m not in obra_prot.bed                                                                                \u001b]8;id=1639054294.225836-727847;file:///Users/ra57rut/.conda/envs/lastal/lib/python3.9/site-packages/jcvi/compara/blastfilter.py\u001b\\\u001b[2mblastfilter.py\u001b[0m\u001b]8;;\u001b\\\u001b[2m:74\u001b[0m\n",
      "\u001b[2;36m          \u001b[0m\u001b[2;36m \u001b[0m\u001b[31mWARNING \u001b[0m rna-XM_015835541.\u001b[1;36m2\u001b[0m not in obra_prot.bed                                                                                \u001b]8;id=1639054294.226832-946313;file:///Users/ra57rut/.conda/envs/lastal/lib/python3.9/site-packages/jcvi/compara/blastfilter.py\u001b\\\u001b[2mblastfilter.py\u001b[0m\u001b]8;;\u001b\\\u001b[2m:74\u001b[0m\n",
      "\u001b[2;36m          \u001b[0m\u001b[2;36m \u001b[0m\u001b[31mWARNING \u001b[0m rna-XM_040522119.\u001b[1;36m1\u001b[0m not in obra_prot.bed                                                                                \u001b]8;id=1639054294.2277482-978790;file:///Users/ra57rut/.conda/envs/lastal/lib/python3.9/site-packages/jcvi/compara/blastfilter.py\u001b\\\u001b[2mblastfilter.py\u001b[0m\u001b]8;;\u001b\\\u001b[2m:74\u001b[0m\n",
      "\u001b[2;36m          \u001b[0m\u001b[2;36m \u001b[0m\u001b[31mWARNING \u001b[0m rna-XM_040522873.\u001b[1;36m1\u001b[0m not in obra_prot.bed                                                                                \u001b]8;id=1639054294.228603-408740;file:///Users/ra57rut/.conda/envs/lastal/lib/python3.9/site-packages/jcvi/compara/blastfilter.py\u001b\\\u001b[2mblastfilter.py\u001b[0m\u001b]8;;\u001b\\\u001b[2m:74\u001b[0m\n",
      "\u001b[2;36m          \u001b[0m\u001b[2;36m \u001b[0m\u001b[31mWARNING \u001b[0m rna-XM_006660422.\u001b[1;36m3\u001b[0m not in obra_prot.bed                                                                                \u001b]8;id=1639054294.2294881-253720;file:///Users/ra57rut/.conda/envs/lastal/lib/python3.9/site-packages/jcvi/compara/blastfilter.py\u001b\\\u001b[2mblastfilter.py\u001b[0m\u001b]8;;\u001b\\\u001b[2m:74\u001b[0m\n",
      "\u001b[2;36m          \u001b[0m\u001b[2;36m \u001b[0m\u001b[31mWARNING \u001b[0m rna-XM_006650264.\u001b[1;36m2\u001b[0m not in obra_prot.bed                                                                                \u001b]8;id=1639054294.230376-547499;file:///Users/ra57rut/.conda/envs/lastal/lib/python3.9/site-packages/jcvi/compara/blastfilter.py\u001b\\\u001b[2mblastfilter.py\u001b[0m\u001b]8;;\u001b\\\u001b[2m:74\u001b[0m\n",
      "\u001b[2;36m          \u001b[0m\u001b[2;36m \u001b[0m\u001b[31mWARNING \u001b[0m rna-XM_015836521.\u001b[1;36m2\u001b[0m not in obra_prot.bed                                                                                \u001b]8;id=1639054294.231285-663921;file:///Users/ra57rut/.conda/envs/lastal/lib/python3.9/site-packages/jcvi/compara/blastfilter.py\u001b\\\u001b[2mblastfilter.py\u001b[0m\u001b]8;;\u001b\\\u001b[2m:74\u001b[0m\n",
      "\u001b[2;36m          \u001b[0m\u001b[2;36m \u001b[0m\u001b[31mWARNING \u001b[0m rna-XM_006644439.\u001b[1;36m3\u001b[0m not in obra_prot.bed                                                                                \u001b]8;id=1639054294.232189-641693;file:///Users/ra57rut/.conda/envs/lastal/lib/python3.9/site-packages/jcvi/compara/blastfilter.py\u001b\\\u001b[2mblastfilter.py\u001b[0m\u001b]8;;\u001b\\\u001b[2m:74\u001b[0m\n",
      "\u001b[2;36m          \u001b[0m\u001b[2;36m \u001b[0m\u001b[31mWARNING \u001b[0m rna-XM_006649897.\u001b[1;36m3\u001b[0m not in obra_prot.bed                                                                                \u001b]8;id=1639054294.233068-888030;file:///Users/ra57rut/.conda/envs/lastal/lib/python3.9/site-packages/jcvi/compara/blastfilter.py\u001b\\\u001b[2mblastfilter.py\u001b[0m\u001b]8;;\u001b\\\u001b[2m:74\u001b[0m\n",
      "\u001b[2;36m          \u001b[0m\u001b[2;36m \u001b[0m\u001b[31mWARNING \u001b[0m rna-XM_040524828.\u001b[1;36m1\u001b[0m not in obra_prot.bed                                                                                \u001b]8;id=1639054294.2339892-396113;file:///Users/ra57rut/.conda/envs/lastal/lib/python3.9/site-packages/jcvi/compara/blastfilter.py\u001b\\\u001b[2mblastfilter.py\u001b[0m\u001b]8;;\u001b\\\u001b[2m:74\u001b[0m\n",
      "\u001b[2;36m          \u001b[0m\u001b[2;36m \u001b[0m\u001b[31mWARNING \u001b[0m rna-XM_040524829.\u001b[1;36m1\u001b[0m not in obra_prot.bed                                                                                \u001b]8;id=1639054294.235135-398963;file:///Users/ra57rut/.conda/envs/lastal/lib/python3.9/site-packages/jcvi/compara/blastfilter.py\u001b\\\u001b[2mblastfilter.py\u001b[0m\u001b]8;;\u001b\\\u001b[2m:74\u001b[0m\n",
      "\u001b[2;36m          \u001b[0m\u001b[2;36m \u001b[0m\u001b[31mWARNING \u001b[0m rna-XM_040524830.\u001b[1;36m1\u001b[0m not in obra_prot.bed                                                                                \u001b]8;id=1639054294.236316-763754;file:///Users/ra57rut/.conda/envs/lastal/lib/python3.9/site-packages/jcvi/compara/blastfilter.py\u001b\\\u001b[2mblastfilter.py\u001b[0m\u001b]8;;\u001b\\\u001b[2m:74\u001b[0m\n",
      "\u001b[2;36m          \u001b[0m\u001b[2;36m \u001b[0m\u001b[31mWARNING \u001b[0m rna-XM_040524831.\u001b[1;36m1\u001b[0m not in obra_prot.bed                                                                                \u001b]8;id=1639054294.237393-139933;file:///Users/ra57rut/.conda/envs/lastal/lib/python3.9/site-packages/jcvi/compara/blastfilter.py\u001b\\\u001b[2mblastfilter.py\u001b[0m\u001b]8;;\u001b\\\u001b[2m:74\u001b[0m\n",
      "\u001b[2;36m          \u001b[0m\u001b[2;36m \u001b[0m\u001b[31mWARNING \u001b[0m rna-XM_040524832.\u001b[1;36m1\u001b[0m not in obra_prot.bed                                                                                \u001b]8;id=1639054294.2384489-928540;file:///Users/ra57rut/.conda/envs/lastal/lib/python3.9/site-packages/jcvi/compara/blastfilter.py\u001b\\\u001b[2mblastfilter.py\u001b[0m\u001b]8;;\u001b\\\u001b[2m:74\u001b[0m\n",
      "\u001b[2;36m          \u001b[0m\u001b[2;36m \u001b[0m\u001b[31mWARNING \u001b[0m rna-XM_040524833.\u001b[1;36m1\u001b[0m not in obra_prot.bed                                                                                \u001b]8;id=1639054294.239435-304149;file:///Users/ra57rut/.conda/envs/lastal/lib/python3.9/site-packages/jcvi/compara/blastfilter.py\u001b\\\u001b[2mblastfilter.py\u001b[0m\u001b]8;;\u001b\\\u001b[2m:74\u001b[0m\n",
      "\u001b[2;36m          \u001b[0m\u001b[2;36m \u001b[0m\u001b[31mWARNING \u001b[0m rna-XM_040524834.\u001b[1;36m1\u001b[0m not in obra_prot.bed                                                                                \u001b]8;id=1639054294.240484-934986;file:///Users/ra57rut/.conda/envs/lastal/lib/python3.9/site-packages/jcvi/compara/blastfilter.py\u001b\\\u001b[2mblastfilter.py\u001b[0m\u001b]8;;\u001b\\\u001b[2m:74\u001b[0m\n",
      "\u001b[2;36m          \u001b[0m\u001b[2;36m \u001b[0m\u001b[31mWARNING \u001b[0m rna-XM_015835543.\u001b[1;36m2\u001b[0m not in obra_prot.bed                                                                                \u001b]8;id=1639054294.242076-662902;file:///Users/ra57rut/.conda/envs/lastal/lib/python3.9/site-packages/jcvi/compara/blastfilter.py\u001b\\\u001b[2mblastfilter.py\u001b[0m\u001b]8;;\u001b\\\u001b[2m:74\u001b[0m\n",
      "\u001b[2;36m          \u001b[0m\u001b[2;36m \u001b[0m\u001b[31mWARNING \u001b[0m rna-XM_006662681.\u001b[1;36m3\u001b[0m not in obra_prot.bed                                                                                \u001b]8;id=1639054294.2437792-273530;file:///Users/ra57rut/.conda/envs/lastal/lib/python3.9/site-packages/jcvi/compara/blastfilter.py\u001b\\\u001b[2mblastfilter.py\u001b[0m\u001b]8;;\u001b\\\u001b[2m:74\u001b[0m\n",
      "\u001b[2;36m          \u001b[0m\u001b[2;36m \u001b[0m\u001b[31mWARNING \u001b[0m rna-XM_006645136.\u001b[1;36m3\u001b[0m not in obra_prot.bed                                                                                \u001b]8;id=1639054294.245267-430915;file:///Users/ra57rut/.conda/envs/lastal/lib/python3.9/site-packages/jcvi/compara/blastfilter.py\u001b\\\u001b[2mblastfilter.py\u001b[0m\u001b]8;;\u001b\\\u001b[2m:74\u001b[0m\n",
      "\u001b[2;36m          \u001b[0m\u001b[2;36m \u001b[0m\u001b[31mWARNING \u001b[0m rna-XM_015843700.\u001b[1;36m2\u001b[0m not in obra_prot.bed                                                                                \u001b]8;id=1639054294.2467442-106805;file:///Users/ra57rut/.conda/envs/lastal/lib/python3.9/site-packages/jcvi/compara/blastfilter.py\u001b\\\u001b[2mblastfilter.py\u001b[0m\u001b]8;;\u001b\\\u001b[2m:74\u001b[0m\n",
      "\u001b[2;36m          \u001b[0m\u001b[2;36m \u001b[0m\u001b[31mWARNING \u001b[0m rna-XM_006645137.\u001b[1;36m3\u001b[0m not in obra_prot.bed                                                                                \u001b]8;id=1639054294.247839-377063;file:///Users/ra57rut/.conda/envs/lastal/lib/python3.9/site-packages/jcvi/compara/blastfilter.py\u001b\\\u001b[2mblastfilter.py\u001b[0m\u001b]8;;\u001b\\\u001b[2m:74\u001b[0m\n",
      "\u001b[2;36m          \u001b[0m\u001b[2;36m \u001b[0m\u001b[31mWARNING \u001b[0m rna-XM_015843701.\u001b[1;36m2\u001b[0m not in obra_prot.bed                                                                                \u001b]8;id=1639054294.248721-321052;file:///Users/ra57rut/.conda/envs/lastal/lib/python3.9/site-packages/jcvi/compara/blastfilter.py\u001b\\\u001b[2mblastfilter.py\u001b[0m\u001b]8;;\u001b\\\u001b[2m:74\u001b[0m\n",
      "\u001b[2;36m          \u001b[0m\u001b[2;36m \u001b[0m\u001b[31mWARNING \u001b[0m rna-XM_015843704.\u001b[1;36m2\u001b[0m not in obra_prot.bed                                                                                \u001b]8;id=1639054294.249568-316419;file:///Users/ra57rut/.conda/envs/lastal/lib/python3.9/site-packages/jcvi/compara/blastfilter.py\u001b\\\u001b[2mblastfilter.py\u001b[0m\u001b]8;;\u001b\\\u001b[2m:74\u001b[0m\n",
      "\u001b[2;36m          \u001b[0m\u001b[2;36m \u001b[0m\u001b[31mWARNING \u001b[0m rna-XM_015836378.\u001b[1;36m2\u001b[0m not in obra_prot.bed                                                                                \u001b]8;id=1639054294.2505338-712398;file:///Users/ra57rut/.conda/envs/lastal/lib/python3.9/site-packages/jcvi/compara/blastfilter.py\u001b\\\u001b[2mblastfilter.py\u001b[0m\u001b]8;;\u001b\\\u001b[2m:74\u001b[0m\n",
      "\u001b[2;36m          \u001b[0m\u001b[2;36m \u001b[0m\u001b[31mWARNING \u001b[0m rna-XM_015843703.\u001b[1;36m2\u001b[0m not in obra_prot.bed                                                                                \u001b]8;id=1639054294.251481-516629;file:///Users/ra57rut/.conda/envs/lastal/lib/python3.9/site-packages/jcvi/compara/blastfilter.py\u001b\\\u001b[2mblastfilter.py\u001b[0m\u001b]8;;\u001b\\\u001b[2m:74\u001b[0m\n",
      "\u001b[2;36m          \u001b[0m\u001b[2;36m \u001b[0m\u001b[31mWARNING \u001b[0m rna-XM_006652757.\u001b[1;36m3\u001b[0m not in obra_prot.bed                                                                                \u001b]8;id=1639054294.252397-390184;file:///Users/ra57rut/.conda/envs/lastal/lib/python3.9/site-packages/jcvi/compara/blastfilter.py\u001b\\\u001b[2mblastfilter.py\u001b[0m\u001b]8;;\u001b\\\u001b[2m:74\u001b[0m\n",
      "\u001b[2;36m          \u001b[0m\u001b[2;36m \u001b[0m\u001b[31mWARNING \u001b[0m rna-XM_040529263.\u001b[1;36m1\u001b[0m not in obra_prot.bed                                                                                \u001b]8;id=1639054294.2533069-628103;file:///Users/ra57rut/.conda/envs/lastal/lib/python3.9/site-packages/jcvi/compara/blastfilter.py\u001b\\\u001b[2mblastfilter.py\u001b[0m\u001b]8;;\u001b\\\u001b[2m:74\u001b[0m\n",
      "\u001b[2;36m          \u001b[0m\u001b[2;36m \u001b[0m\u001b[31mWARNING \u001b[0m rna-XM_040528646.\u001b[1;36m1\u001b[0m not in obra_prot.bed                                                                                \u001b]8;id=1639054294.254188-974168;file:///Users/ra57rut/.conda/envs/lastal/lib/python3.9/site-packages/jcvi/compara/blastfilter.py\u001b\\\u001b[2mblastfilter.py\u001b[0m\u001b]8;;\u001b\\\u001b[2m:74\u001b[0m\n",
      "\u001b[2;36m          \u001b[0m\u001b[2;36m \u001b[0m\u001b[31mWARNING \u001b[0m rna-XM_015842402.\u001b[1;36m2\u001b[0m not in obra_prot.bed                                                                                \u001b]8;id=1639054294.255043-170188;file:///Users/ra57rut/.conda/envs/lastal/lib/python3.9/site-packages/jcvi/compara/blastfilter.py\u001b\\\u001b[2mblastfilter.py\u001b[0m\u001b]8;;\u001b\\\u001b[2m:74\u001b[0m\n",
      "\u001b[2;36m          \u001b[0m\u001b[2;36m \u001b[0m\u001b[31mWARNING \u001b[0m rna-XM_015842404.\u001b[1;36m2\u001b[0m not in obra_prot.bed                                                                                \u001b]8;id=1639054294.255883-935725;file:///Users/ra57rut/.conda/envs/lastal/lib/python3.9/site-packages/jcvi/compara/blastfilter.py\u001b\\\u001b[2mblastfilter.py\u001b[0m\u001b]8;;\u001b\\\u001b[2m:74\u001b[0m\n",
      "\u001b[2;36m          \u001b[0m\u001b[2;36m \u001b[0m\u001b[31mWARNING \u001b[0m rna-XM_015842412.\u001b[1;36m2\u001b[0m not in obra_prot.bed                                                                                \u001b]8;id=1639054294.256706-731264;file:///Users/ra57rut/.conda/envs/lastal/lib/python3.9/site-packages/jcvi/compara/blastfilter.py\u001b\\\u001b[2mblastfilter.py\u001b[0m\u001b]8;;\u001b\\\u001b[2m:74\u001b[0m\n",
      "\u001b[2;36m          \u001b[0m\u001b[2;36m \u001b[0m\u001b[31mWARNING \u001b[0m too many warnings.. suppressed                                                                                         \u001b]8;id=1639054294.257495-312920;file:///Users/ra57rut/.conda/envs/lastal/lib/python3.9/site-packages/jcvi/compara/blastfilter.py\u001b\\\u001b[2mblastfilter.py\u001b[0m\u001b]8;;\u001b\\\u001b[2m:76\u001b[0m\n",
      "\u001b[2;36m[13:51:35]\u001b[0m\u001b[2;36m \u001b[0m\u001b[32mDEBUG   \u001b[0m running the cscore filter \u001b[1m(\u001b[0mcscore>=\u001b[1;36m0.70\u001b[0m\u001b[1m)\u001b[0m ..                                                                           \u001b]8;id=1639054295.616694-94057;file:///Users/ra57rut/.conda/envs/lastal/lib/python3.9/site-packages/jcvi/compara/blastfilter.py\u001b\\\u001b[2mblastfilter.py\u001b[0m\u001b]8;;\u001b\\\u001b[2m:110\u001b[0m\n",
      "\u001b[2;36m[13:51:36]\u001b[0m\u001b[2;36m \u001b[0m\u001b[32mDEBUG   \u001b[0m after filter \u001b[1m(\u001b[0m\u001b[1;36m452090\u001b[0m->\u001b[1;36m35623\u001b[0m\u001b[1m)\u001b[0m ..                                                                                       \u001b]8;id=1639054296.338186-412444;file:///Users/ra57rut/.conda/envs/lastal/lib/python3.9/site-packages/jcvi/compara/blastfilter.py\u001b\\\u001b[2mblastfilter.py\u001b[0m\u001b]8;;\u001b\\\u001b[2m:112\u001b[0m\n",
      "\u001b[2;36m          \u001b[0m\u001b[2;36m \u001b[0m\u001b[32mDEBUG   \u001b[0m running the local dups filter \u001b[1m(\u001b[0m\u001b[33mtandem_Nmax\u001b[0m=\u001b[1;36m10\u001b[0m\u001b[1m)\u001b[0m ..                                                                     \u001b]8;id=1639054296.339241-106488;file:///Users/ra57rut/.conda/envs/lastal/lib/python3.9/site-packages/jcvi/compara/blastfilter.py\u001b\\\u001b[2mblastfilter.py\u001b[0m\u001b]8;;\u001b\\\u001b[2m:117\u001b[0m\n",
      "\u001b[2;36m          \u001b[0m\u001b[2;36m \u001b[0m\u001b[32mDEBUG   \u001b[0m after filter \u001b[1m(\u001b[0m\u001b[1;36m35623\u001b[0m->\u001b[1;36m28687\u001b[0m\u001b[1m)\u001b[0m ..                                                                                        \u001b]8;id=1639054296.5656488-59246;file:///Users/ra57rut/.conda/envs/lastal/lib/python3.9/site-packages/jcvi/compara/blastfilter.py\u001b\\\u001b[2mblastfilter.py\u001b[0m\u001b]8;;\u001b\\\u001b[2m:161\u001b[0m\n",
      "\u001b[2;36m          \u001b[0m\u001b[2;36m \u001b[0m\u001b[32mDEBUG   \u001b[0m Assuming --\u001b[33mqbed\u001b[0m=\u001b[35mrice_prot\u001b[0m.bed --\u001b[33msbed\u001b[0m=\u001b[35mobra_prot\u001b[0m.bed                                                                        \u001b]8;id=1639054296.8039732-227671;file:///Users/ra57rut/.conda/envs/lastal/lib/python3.9/site-packages/jcvi/compara/synteny.py\u001b\\\u001b[2msynteny.py\u001b[0m\u001b]8;;\u001b\\\u001b[2m:500\u001b[0m\n",
      "\u001b[2;36m          \u001b[0m\u001b[2;36m \u001b[0m\u001b[32mDEBUG   \u001b[0m Load file `rice_prot.bed`                                                                                                     \u001b]8;id=1639054296.8049212-383136;file:///Users/ra57rut/.conda/envs/lastal/lib/python3.9/site-packages/jcvi/formats/base.py\u001b\\\u001b[2mbase.py\u001b[0m\u001b]8;;\u001b\\\u001b[2m:37\u001b[0m\n",
      "\u001b[2;36m[13:51:37]\u001b[0m\u001b[2;36m \u001b[0m\u001b[32mDEBUG   \u001b[0m Load file `obra_prot.bed`                                                                                                     \u001b]8;id=1639054297.0944169-611112;file:///Users/ra57rut/.conda/envs/lastal/lib/python3.9/site-packages/jcvi/formats/base.py\u001b\\\u001b[2mbase.py\u001b[0m\u001b]8;;\u001b\\\u001b[2m:37\u001b[0m\n",
      "\u001b[2;36m          \u001b[0m\u001b[2;36m \u001b[0m\u001b[32mDEBUG   \u001b[0m Load file `rice_prot.obra_prot.last.filtered`                                                                                 \u001b]8;id=1639054297.416437-375009;file:///Users/ra57rut/.conda/envs/lastal/lib/python3.9/site-packages/jcvi/formats/base.py\u001b\\\u001b[2mbase.py\u001b[0m\u001b]8;;\u001b\\\u001b[2m:37\u001b[0m\n",
      "\u001b[2;36m          \u001b[0m\u001b[2;36m \u001b[0m\u001b[32mDEBUG   \u001b[0m A total of \u001b[1;36m28687\u001b[0m BLAST imported from `rice_prot.obra_prot.last.filtered`.                                                 \u001b]8;id=1639054297.6461031-287520;file:///Users/ra57rut/.conda/envs/lastal/lib/python3.9/site-packages/jcvi/compara/synteny.py\u001b\\\u001b[2msynteny.py\u001b[0m\u001b]8;;\u001b\\\u001b[2m:386\u001b[0m\n",
      "\u001b[2;36m          \u001b[0m\u001b[2;36m \u001b[0m\u001b[32mDEBUG   \u001b[0m Chaining distance = \u001b[1;36m20\u001b[0m                                                                                                   \u001b]8;id=1639054297.650111-72603;file:///Users/ra57rut/.conda/envs/lastal/lib/python3.9/site-packages/jcvi/compara/synteny.py\u001b\\\u001b[2msynteny.py\u001b[0m\u001b]8;;\u001b\\\u001b[2m:1933\u001b[0m\n",
      "\u001b[2;36m[13:51:38]\u001b[0m\u001b[2;36m \u001b[0m\u001b[32mDEBUG   \u001b[0m Load file `rice_prot.obra_prot.anchors`                                                                                       \u001b]8;id=1639054298.907022-815045;file:///Users/ra57rut/.conda/envs/lastal/lib/python3.9/site-packages/jcvi/formats/base.py\u001b\\\u001b[2mbase.py\u001b[0m\u001b]8;;\u001b\\\u001b[2m:37\u001b[0m\n",
      "A total of 21803 (NR:21656) anchors found in 283 clusters.\n",
      "Stats: Min=4 Max=1570 N=283 Mean=77.04 SD=220.73 Median=9.0 Sum=21803\n",
      "NR stats: Min=4 Max=1569 N=283 Mean=76.52 SD=219.92 Median=9.0 Sum=21656\n",
      "\u001b[2;36m[13:51:39]\u001b[0m\u001b[2;36m \u001b[0m\u001b[32mDEBUG   \u001b[0m Load file `rice_prot.bed`                                                                                                     \u001b]8;id=1639054299.024642-641243;file:///Users/ra57rut/.conda/envs/lastal/lib/python3.9/site-packages/jcvi/formats/base.py\u001b\\\u001b[2mbase.py\u001b[0m\u001b]8;;\u001b\\\u001b[2m:37\u001b[0m\n",
      "\u001b[2;36m          \u001b[0m\u001b[2;36m \u001b[0m\u001b[32mDEBUG   \u001b[0m Load file `obra_prot.bed`                                                                                                     \u001b]8;id=1639054299.297777-899376;file:///Users/ra57rut/.conda/envs/lastal/lib/python3.9/site-packages/jcvi/formats/base.py\u001b\\\u001b[2mbase.py\u001b[0m\u001b]8;;\u001b\\\u001b[2m:37\u001b[0m\n",
      "\u001b[2;36m          \u001b[0m\u001b[2;36m \u001b[0m\u001b[32mDEBUG   \u001b[0m Load file `rice_prot.obra_prot.last`                                                                                          \u001b]8;id=1639054299.7336168-966132;file:///Users/ra57rut/.conda/envs/lastal/lib/python3.9/site-packages/jcvi/formats/base.py\u001b\\\u001b[2mbase.py\u001b[0m\u001b]8;;\u001b\\\u001b[2m:37\u001b[0m\n",
      "\u001b[2;36m[13:51:42]\u001b[0m\u001b[2;36m \u001b[0m\u001b[32mDEBUG   \u001b[0m A total of \u001b[1;36m452090\u001b[0m BLAST imported from `rice_prot.obra_prot.last`.                                                         \u001b]8;id=1639054302.2745621-667239;file:///Users/ra57rut/.conda/envs/lastal/lib/python3.9/site-packages/jcvi/compara/synteny.py\u001b\\\u001b[2msynteny.py\u001b[0m\u001b]8;;\u001b\\\u001b[2m:386\u001b[0m\n",
      "\u001b[2;36m          \u001b[0m\u001b[2;36m \u001b[0m\u001b[32mDEBUG   \u001b[0m Load file `rice_prot.obra_prot.anchors`                                                                                       \u001b]8;id=1639054302.93427-43214;file:///Users/ra57rut/.conda/envs/lastal/lib/python3.9/site-packages/jcvi/formats/base.py\u001b\\\u001b[2mbase.py\u001b[0m\u001b]8;;\u001b\\\u001b[2m:37\u001b[0m\n",
      "\u001b[2;36m[13:51:43]\u001b[0m\u001b[2;36m \u001b[0m\u001b[32mDEBUG   \u001b[0m A total of \u001b[1;36m21803\u001b[0m anchors imported.                                                                                        \u001b]8;id=1639054303.198445-401163;file:///Users/ra57rut/.conda/envs/lastal/lib/python3.9/site-packages/jcvi/compara/synteny.py\u001b\\\u001b[2msynteny.py\u001b[0m\u001b]8;;\u001b\\\u001b[2m:412\u001b[0m\n",
      "\u001b[2;36m          \u001b[0m\u001b[2;36m \u001b[0m\u001b[32mDEBUG   \u001b[0m \u001b[1;36m12681\u001b[0m new pairs found \u001b[1m(\u001b[0m\u001b[33mdist\u001b[0m=\u001b[1;36m5\u001b[0m\u001b[1m)\u001b[0m.                                                                                          \u001b]8;id=1639054303.532703-222764;file:///Users/ra57rut/.conda/envs/lastal/lib/python3.9/site-packages/jcvi/compara/synteny.py\u001b\\\u001b[2msynteny.py\u001b[0m\u001b]8;;\u001b\\\u001b[2m:2011\u001b[0m\n",
      "\u001b[2;36m          \u001b[0m\u001b[2;36m \u001b[0m\u001b[32mDEBUG   \u001b[0m Removed \u001b[1;36m8\u001b[0m existing anchors.                                                                                                \u001b]8;id=1639054303.582697-554994;file:///Users/ra57rut/.conda/envs/lastal/lib/python3.9/site-packages/jcvi/compara/synteny.py\u001b\\\u001b[2msynteny.py\u001b[0m\u001b]8;;\u001b\\\u001b[2m:93\u001b[0m\n",
      "\u001b[2;36m          \u001b[0m\u001b[2;36m \u001b[0m\u001b[32mDEBUG   \u001b[0m Corrected scores for \u001b[1;36m859\u001b[0m anchors.                                                                                          \u001b]8;id=1639054303.583717-454575;file:///Users/ra57rut/.conda/envs/lastal/lib/python3.9/site-packages/jcvi/compara/synteny.py\u001b\\\u001b[2msynteny.py\u001b[0m\u001b]8;;\u001b\\\u001b[2m:94\u001b[0m\n",
      "\u001b[2;36m          \u001b[0m\u001b[2;36m \u001b[0m\u001b[32mDEBUG   \u001b[0m Anchors written to `rice_prot.obra_prot.lifted.anchors`.                                                                   \u001b]8;id=1639054303.584765-174509;file:///Users/ra57rut/.conda/envs/lastal/lib/python3.9/site-packages/jcvi/compara/synteny.py\u001b\\\u001b[2msynteny.py\u001b[0m\u001b]8;;\u001b\\\u001b[2m:95\u001b[0m\n",
      "\u001b[2;36m          \u001b[0m\u001b[2;36m \u001b[0m\u001b[32mDEBUG   \u001b[0m Load file `rice_prot.obra_prot.lifted.anchors`                                                                                \u001b]8;id=1639054303.585836-876974;file:///Users/ra57rut/.conda/envs/lastal/lib/python3.9/site-packages/jcvi/formats/base.py\u001b\\\u001b[2mbase.py\u001b[0m\u001b]8;;\u001b\\\u001b[2m:37\u001b[0m\n",
      "A total of 34476 (NR:24445) anchors found in 283 clusters.\n",
      "Stats: Min=4 Max=2175 N=283 Mean=121.82 SD=321.66 Median=18.0 Sum=34476\n",
      "NR stats: Min=4 Max=1667 N=283 Mean=86.38 SD=235.09 Median=13.0 Sum=24445\n",
      "\u001b[2;36m          \u001b[0m\u001b[2;36m \u001b[0m\u001b[32mDEBUG   \u001b[0m Assuming --\u001b[33mqbed\u001b[0m=\u001b[35mrice_prot\u001b[0m.bed --\u001b[33msbed\u001b[0m=\u001b[35mobra_prot\u001b[0m.bed                                                                        \u001b]8;id=1639054303.843264-723376;file:///Users/ra57rut/.conda/envs/lastal/lib/python3.9/site-packages/jcvi/compara/synteny.py\u001b\\\u001b[2msynteny.py\u001b[0m\u001b]8;;\u001b\\\u001b[2m:500\u001b[0m\n",
      "\u001b[2;36m          \u001b[0m\u001b[2;36m \u001b[0m\u001b[32mDEBUG   \u001b[0m Load file `rice_prot.bed`                                                                                                     \u001b]8;id=1639054303.844115-409325;file:///Users/ra57rut/.conda/envs/lastal/lib/python3.9/site-packages/jcvi/formats/base.py\u001b\\\u001b[2mbase.py\u001b[0m\u001b]8;;\u001b\\\u001b[2m:37\u001b[0m\n",
      "\u001b[2;36m[13:51:44]\u001b[0m\u001b[2;36m \u001b[0m\u001b[32mDEBUG   \u001b[0m Load file `obra_prot.bed`                                                                                                     \u001b]8;id=1639054304.137249-453224;file:///Users/ra57rut/.conda/envs/lastal/lib/python3.9/site-packages/jcvi/formats/base.py\u001b\\\u001b[2mbase.py\u001b[0m\u001b]8;;\u001b\\\u001b[2m:37\u001b[0m\n",
      "\u001b[2;36m          \u001b[0m\u001b[2;36m \u001b[0m\u001b[32mDEBUG   \u001b[0m Showing a random subset of \u001b[1;36m10000\u001b[0m data points \u001b[1m(\u001b[0mtotal \u001b[1;36m21803\u001b[0m\u001b[1m)\u001b[0m for clarity.                                                   \u001b]8;id=1639054304.561832-173296;file:///Users/ra57rut/.conda/envs/lastal/lib/python3.9/site-packages/jcvi/graphics/dotplot.py\u001b\\\u001b[2mdotplot.py\u001b[0m\u001b]8;;\u001b\\\u001b[2m:226\u001b[0m\n",
      "\u001b[2;36m          \u001b[0m\u001b[2;36m \u001b[0m\u001b[32mDEBUG   \u001b[0m \u001b[33mxsize\u001b[0m=\u001b[1;36m42189\u001b[0m \u001b[33mysize\u001b[0m=\u001b[1;36m23251\u001b[0m                                                                                                   \u001b]8;id=1639054304.719857-894233;file:///Users/ra57rut/.conda/envs/lastal/lib/python3.9/site-packages/jcvi/graphics/dotplot.py\u001b\\\u001b[2mdotplot.py\u001b[0m\u001b]8;;\u001b\\\u001b[2m:336\u001b[0m\n",
      "\u001b[2;36m[13:51:46]\u001b[0m\u001b[2;36m \u001b[0m\u001b[32mDEBUG   \u001b[0m Dot plot title: Inter-genomic comparison: rice\\_prot vs obra\\_prot \u001b[1m(\u001b[0m\u001b[1;36m21\u001b[0m,\u001b[1;36m803\u001b[0m gene pairs\u001b[1m)\u001b[0m                                    \u001b]8;id=1639054306.7175481-906768;file:///Users/ra57rut/.conda/envs/lastal/lib/python3.9/site-packages/jcvi/graphics/dotplot.py\u001b\\\u001b[2mdotplot.py\u001b[0m\u001b]8;;\u001b\\\u001b[2m:379\u001b[0m\n",
      "\u001b[2;36m[13:51:58]\u001b[0m\u001b[2;36m \u001b[0m\u001b[32mDEBUG   \u001b[0m Figure saved to `rice_prot.obra_prot.pdf` \u001b[1m(\u001b[0m810px x 810px\u001b[1m)\u001b[0m                                                                    \u001b]8;id=1639054318.3829298-401344;file:///Users/ra57rut/.conda/envs/lastal/lib/python3.9/site-packages/jcvi/graphics/base.py\u001b\\\u001b[2mbase.py\u001b[0m\u001b]8;;\u001b\\\u001b[2m:295\u001b[0m\n"
     ]
    }
   ],
   "source": [
    "!python3.9 -m jcvi.compara.catalog ortholog rice_prot obra_prot --dbtype=prot --no_strip_names --liftover_dist=5"
   ]
  },
  {
   "cell_type": "markdown",
   "id": "57eefb84",
   "metadata": {},
   "source": [
    "### O. sativa vs L. perrieri"
   ]
  },
  {
   "cell_type": "code",
   "execution_count": 4,
   "id": "c6355d2c",
   "metadata": {
    "collapsed": true,
    "jupyter": {
     "outputs_hidden": true
    },
    "tags": []
   },
   "outputs": [
    {
     "name": "stdout",
     "output_type": "stream",
     "text": [
      "\u001b[2;36m[15:48:16]\u001b[0m\u001b[2;36m \u001b[0m\u001b[32mDEBUG   \u001b[0m lastdb -p lpe_prot lpe_prot.pep                                                   \u001b]8;id=1640098096.832798-985478;file:///Users/ra57rut/.conda/envs/lastal/lib/python3.9/site-packages/jcvi/apps/base.py\u001b\\\u001b[2mbase.py\u001b[0m\u001b]8;;\u001b\\\u001b[2m:1185\u001b[0m\n",
      "\u001b[2;36m[15:48:27]\u001b[0m\u001b[2;36m \u001b[0m\u001b[32mDEBUG   \u001b[0m lastal -u \u001b[1;36m0\u001b[0m -P \u001b[1;36m8\u001b[0m -i3G -f BlastTab lpe_prot rice_prot.pep                          \u001b]8;id=1640098107.1660721-52450;file:///Users/ra57rut/.conda/envs/lastal/lib/python3.9/site-packages/jcvi/apps/base.py\u001b\\\u001b[2mbase.py\u001b[0m\u001b]8;;\u001b\\\u001b[2m:1185\u001b[0m\n",
      "                    >.\u001b[35m/\u001b[0m\u001b[95mrice_prot.lpe_prot.last\u001b[0m                                                                    \n",
      "\u001b[2;36m[15:48:45]\u001b[0m\u001b[2;36m \u001b[0m\u001b[32mDEBUG   \u001b[0m Assuming --\u001b[33mqbed\u001b[0m=\u001b[35mrice_prot\u001b[0m.bed --\u001b[33msbed\u001b[0m=\u001b[35mlpe_prot\u001b[0m.bed                               \u001b]8;id=1640098125.594631-431570;file:///Users/ra57rut/.conda/envs/lastal/lib/python3.9/site-packages/jcvi/compara/synteny.py\u001b\\\u001b[2msynteny.py\u001b[0m\u001b]8;;\u001b\\\u001b[2m:500\u001b[0m\n",
      "\u001b[2;36m          \u001b[0m\u001b[2;36m \u001b[0m\u001b[32mDEBUG   \u001b[0m Load file `rice_prot.bed`                                                           \u001b]8;id=1640098125.5957-589370;file:///Users/ra57rut/.conda/envs/lastal/lib/python3.9/site-packages/jcvi/formats/base.py\u001b\\\u001b[2mbase.py\u001b[0m\u001b]8;;\u001b\\\u001b[2m:37\u001b[0m\n",
      "\u001b[2;36m[15:48:46]\u001b[0m\u001b[2;36m \u001b[0m\u001b[32mDEBUG   \u001b[0m Load file `lpe_prot.bed`                                                            \u001b]8;id=1640098126.083839-881693;file:///Users/ra57rut/.conda/envs/lastal/lib/python3.9/site-packages/jcvi/formats/base.py\u001b\\\u001b[2mbase.py\u001b[0m\u001b]8;;\u001b\\\u001b[2m:37\u001b[0m\n",
      "\u001b[2;36m          \u001b[0m\u001b[2;36m \u001b[0m\u001b[32mDEBUG   \u001b[0m Load BLAST file `rice_prot.lpe_prot.last` \u001b[1m(\u001b[0mtotal \u001b[1;36m677672\u001b[0m lines\u001b[1m)\u001b[0m               \u001b]8;id=1640098126.449517-119742;file:///Users/ra57rut/.conda/envs/lastal/lib/python3.9/site-packages/jcvi/compara/blastfilter.py\u001b\\\u001b[2mblastfilter.py\u001b[0m\u001b]8;;\u001b\\\u001b[2m:48\u001b[0m\n",
      "\u001b[2;36m          \u001b[0m\u001b[2;36m \u001b[0m\u001b[32mDEBUG   \u001b[0m Load file `rice_prot.lpe_prot.last`                                                 \u001b]8;id=1640098126.450606-719174;file:///Users/ra57rut/.conda/envs/lastal/lib/python3.9/site-packages/jcvi/formats/base.py\u001b\\\u001b[2mbase.py\u001b[0m\u001b]8;;\u001b\\\u001b[2m:37\u001b[0m\n",
      "\u001b[2;36m[15:48:48]\u001b[0m\u001b[2;36m \u001b[0m\u001b[31mWARNING \u001b[0m LPERR03G28010.\u001b[1;36m2\u001b[0m not in lpe_prot.bed                                          \u001b]8;id=1640098128.6605608-218577;file:///Users/ra57rut/.conda/envs/lastal/lib/python3.9/site-packages/jcvi/compara/blastfilter.py\u001b\\\u001b[2mblastfilter.py\u001b[0m\u001b]8;;\u001b\\\u001b[2m:74\u001b[0m\n",
      "\u001b[2;36m          \u001b[0m\u001b[2;36m \u001b[0m\u001b[31mWARNING \u001b[0m LPERR01G05050.\u001b[1;36m2\u001b[0m not in lpe_prot.bed                                          \u001b]8;id=1640098128.661674-249927;file:///Users/ra57rut/.conda/envs/lastal/lib/python3.9/site-packages/jcvi/compara/blastfilter.py\u001b\\\u001b[2mblastfilter.py\u001b[0m\u001b]8;;\u001b\\\u001b[2m:74\u001b[0m\n",
      "\u001b[2;36m          \u001b[0m\u001b[2;36m \u001b[0m\u001b[31mWARNING \u001b[0m LPERR02G31780.\u001b[1;36m2\u001b[0m not in lpe_prot.bed                                          \u001b]8;id=1640098128.6628811-258055;file:///Users/ra57rut/.conda/envs/lastal/lib/python3.9/site-packages/jcvi/compara/blastfilter.py\u001b\\\u001b[2mblastfilter.py\u001b[0m\u001b]8;;\u001b\\\u001b[2m:74\u001b[0m\n",
      "\u001b[2;36m          \u001b[0m\u001b[2;36m \u001b[0m\u001b[31mWARNING \u001b[0m LPERR02G00830.\u001b[1;36m2\u001b[0m not in lpe_prot.bed                                          \u001b]8;id=1640098128.663742-827078;file:///Users/ra57rut/.conda/envs/lastal/lib/python3.9/site-packages/jcvi/compara/blastfilter.py\u001b\\\u001b[2mblastfilter.py\u001b[0m\u001b]8;;\u001b\\\u001b[2m:74\u001b[0m\n",
      "\u001b[2;36m          \u001b[0m\u001b[2;36m \u001b[0m\u001b[31mWARNING \u001b[0m LPERR07G21340.\u001b[1;36m2\u001b[0m not in lpe_prot.bed                                          \u001b]8;id=1640098128.664584-921196;file:///Users/ra57rut/.conda/envs/lastal/lib/python3.9/site-packages/jcvi/compara/blastfilter.py\u001b\\\u001b[2mblastfilter.py\u001b[0m\u001b]8;;\u001b\\\u001b[2m:74\u001b[0m\n",
      "\u001b[2;36m          \u001b[0m\u001b[2;36m \u001b[0m\u001b[31mWARNING \u001b[0m LPERR10G14080.\u001b[1;36m3\u001b[0m not in lpe_prot.bed                                          \u001b]8;id=1640098128.66573-250696;file:///Users/ra57rut/.conda/envs/lastal/lib/python3.9/site-packages/jcvi/compara/blastfilter.py\u001b\\\u001b[2mblastfilter.py\u001b[0m\u001b]8;;\u001b\\\u001b[2m:74\u001b[0m\n",
      "\u001b[2;36m          \u001b[0m\u001b[2;36m \u001b[0m\u001b[31mWARNING \u001b[0m LPERR01G02810.\u001b[1;36m1\u001b[0m not in lpe_prot.bed                                          \u001b]8;id=1640098128.666694-265623;file:///Users/ra57rut/.conda/envs/lastal/lib/python3.9/site-packages/jcvi/compara/blastfilter.py\u001b\\\u001b[2mblastfilter.py\u001b[0m\u001b]8;;\u001b\\\u001b[2m:74\u001b[0m\n",
      "\u001b[2;36m          \u001b[0m\u001b[2;36m \u001b[0m\u001b[31mWARNING \u001b[0m LPERR01G02810.\u001b[1;36m2\u001b[0m not in lpe_prot.bed                                          \u001b]8;id=1640098128.6676102-667882;file:///Users/ra57rut/.conda/envs/lastal/lib/python3.9/site-packages/jcvi/compara/blastfilter.py\u001b\\\u001b[2mblastfilter.py\u001b[0m\u001b]8;;\u001b\\\u001b[2m:74\u001b[0m\n",
      "\u001b[2;36m          \u001b[0m\u001b[2;36m \u001b[0m\u001b[31mWARNING \u001b[0m LPERR01G02810.\u001b[1;36m3\u001b[0m not in lpe_prot.bed                                          \u001b]8;id=1640098128.668444-482398;file:///Users/ra57rut/.conda/envs/lastal/lib/python3.9/site-packages/jcvi/compara/blastfilter.py\u001b\\\u001b[2mblastfilter.py\u001b[0m\u001b]8;;\u001b\\\u001b[2m:74\u001b[0m\n",
      "\u001b[2;36m          \u001b[0m\u001b[2;36m \u001b[0m\u001b[31mWARNING \u001b[0m LPERR01G02810.\u001b[1;36m4\u001b[0m not in lpe_prot.bed                                          \u001b]8;id=1640098128.669238-848813;file:///Users/ra57rut/.conda/envs/lastal/lib/python3.9/site-packages/jcvi/compara/blastfilter.py\u001b\\\u001b[2mblastfilter.py\u001b[0m\u001b]8;;\u001b\\\u001b[2m:74\u001b[0m\n",
      "\u001b[2;36m          \u001b[0m\u001b[2;36m \u001b[0m\u001b[31mWARNING \u001b[0m LPERR03G01580.\u001b[1;36m5\u001b[0m not in lpe_prot.bed                                          \u001b]8;id=1640098128.6701708-383117;file:///Users/ra57rut/.conda/envs/lastal/lib/python3.9/site-packages/jcvi/compara/blastfilter.py\u001b\\\u001b[2mblastfilter.py\u001b[0m\u001b]8;;\u001b\\\u001b[2m:74\u001b[0m\n",
      "\u001b[2;36m          \u001b[0m\u001b[2;36m \u001b[0m\u001b[31mWARNING \u001b[0m LPERR03G01580.\u001b[1;36m4\u001b[0m not in lpe_prot.bed                                          \u001b]8;id=1640098128.671066-776080;file:///Users/ra57rut/.conda/envs/lastal/lib/python3.9/site-packages/jcvi/compara/blastfilter.py\u001b\\\u001b[2mblastfilter.py\u001b[0m\u001b]8;;\u001b\\\u001b[2m:74\u001b[0m\n",
      "\u001b[2;36m          \u001b[0m\u001b[2;36m \u001b[0m\u001b[31mWARNING \u001b[0m LPERR04G17250.\u001b[1;36m2\u001b[0m not in lpe_prot.bed                                          \u001b]8;id=1640098128.672012-567630;file:///Users/ra57rut/.conda/envs/lastal/lib/python3.9/site-packages/jcvi/compara/blastfilter.py\u001b\\\u001b[2mblastfilter.py\u001b[0m\u001b]8;;\u001b\\\u001b[2m:74\u001b[0m\n",
      "\u001b[2;36m          \u001b[0m\u001b[2;36m \u001b[0m\u001b[31mWARNING \u001b[0m LPERR03G01580.\u001b[1;36m3\u001b[0m not in lpe_prot.bed                                          \u001b]8;id=1640098128.673384-13443;file:///Users/ra57rut/.conda/envs/lastal/lib/python3.9/site-packages/jcvi/compara/blastfilter.py\u001b\\\u001b[2mblastfilter.py\u001b[0m\u001b]8;;\u001b\\\u001b[2m:74\u001b[0m\n",
      "\u001b[2;36m          \u001b[0m\u001b[2;36m \u001b[0m\u001b[31mWARNING \u001b[0m LPERR03G01580.\u001b[1;36m2\u001b[0m not in lpe_prot.bed                                          \u001b]8;id=1640098128.674525-119320;file:///Users/ra57rut/.conda/envs/lastal/lib/python3.9/site-packages/jcvi/compara/blastfilter.py\u001b\\\u001b[2mblastfilter.py\u001b[0m\u001b]8;;\u001b\\\u001b[2m:74\u001b[0m\n",
      "\u001b[2;36m          \u001b[0m\u001b[2;36m \u001b[0m\u001b[31mWARNING \u001b[0m LPERR08G13820.\u001b[1;36m2\u001b[0m not in lpe_prot.bed                                          \u001b]8;id=1640098128.675818-304498;file:///Users/ra57rut/.conda/envs/lastal/lib/python3.9/site-packages/jcvi/compara/blastfilter.py\u001b\\\u001b[2mblastfilter.py\u001b[0m\u001b]8;;\u001b\\\u001b[2m:74\u001b[0m\n",
      "\u001b[2;36m          \u001b[0m\u001b[2;36m \u001b[0m\u001b[31mWARNING \u001b[0m LPERR10G14080.\u001b[1;36m2\u001b[0m not in lpe_prot.bed                                          \u001b]8;id=1640098128.676934-569640;file:///Users/ra57rut/.conda/envs/lastal/lib/python3.9/site-packages/jcvi/compara/blastfilter.py\u001b\\\u001b[2mblastfilter.py\u001b[0m\u001b]8;;\u001b\\\u001b[2m:74\u001b[0m\n",
      "\u001b[2;36m          \u001b[0m\u001b[2;36m \u001b[0m\u001b[31mWARNING \u001b[0m LPERR03G33010.\u001b[1;36m2\u001b[0m not in lpe_prot.bed                                          \u001b]8;id=1640098128.678062-154361;file:///Users/ra57rut/.conda/envs/lastal/lib/python3.9/site-packages/jcvi/compara/blastfilter.py\u001b\\\u001b[2mblastfilter.py\u001b[0m\u001b]8;;\u001b\\\u001b[2m:74\u001b[0m\n",
      "\u001b[2;36m          \u001b[0m\u001b[2;36m \u001b[0m\u001b[31mWARNING \u001b[0m LPERR03G33010.\u001b[1;36m4\u001b[0m not in lpe_prot.bed                                          \u001b]8;id=1640098128.67905-283679;file:///Users/ra57rut/.conda/envs/lastal/lib/python3.9/site-packages/jcvi/compara/blastfilter.py\u001b\\\u001b[2mblastfilter.py\u001b[0m\u001b]8;;\u001b\\\u001b[2m:74\u001b[0m\n",
      "\u001b[2;36m          \u001b[0m\u001b[2;36m \u001b[0m\u001b[31mWARNING \u001b[0m LPERR03G33010.\u001b[1;36m3\u001b[0m not in lpe_prot.bed                                          \u001b]8;id=1640098128.6799202-646511;file:///Users/ra57rut/.conda/envs/lastal/lib/python3.9/site-packages/jcvi/compara/blastfilter.py\u001b\\\u001b[2mblastfilter.py\u001b[0m\u001b]8;;\u001b\\\u001b[2m:74\u001b[0m\n",
      "\u001b[2;36m          \u001b[0m\u001b[2;36m \u001b[0m\u001b[31mWARNING \u001b[0m LPERR03G04070.\u001b[1;36m4\u001b[0m not in lpe_prot.bed                                          \u001b]8;id=1640098128.680799-481427;file:///Users/ra57rut/.conda/envs/lastal/lib/python3.9/site-packages/jcvi/compara/blastfilter.py\u001b\\\u001b[2mblastfilter.py\u001b[0m\u001b]8;;\u001b\\\u001b[2m:74\u001b[0m\n",
      "\u001b[2;36m          \u001b[0m\u001b[2;36m \u001b[0m\u001b[31mWARNING \u001b[0m LPERR03G04070.\u001b[1;36m3\u001b[0m not in lpe_prot.bed                                          \u001b]8;id=1640098128.6816618-602472;file:///Users/ra57rut/.conda/envs/lastal/lib/python3.9/site-packages/jcvi/compara/blastfilter.py\u001b\\\u001b[2mblastfilter.py\u001b[0m\u001b]8;;\u001b\\\u001b[2m:74\u001b[0m\n",
      "\u001b[2;36m          \u001b[0m\u001b[2;36m \u001b[0m\u001b[31mWARNING \u001b[0m LPERR06G18820.\u001b[1;36m3\u001b[0m not in lpe_prot.bed                                          \u001b]8;id=1640098128.682511-829456;file:///Users/ra57rut/.conda/envs/lastal/lib/python3.9/site-packages/jcvi/compara/blastfilter.py\u001b\\\u001b[2mblastfilter.py\u001b[0m\u001b]8;;\u001b\\\u001b[2m:74\u001b[0m\n",
      "\u001b[2;36m          \u001b[0m\u001b[2;36m \u001b[0m\u001b[31mWARNING \u001b[0m LPERR03G17690.\u001b[1;36m3\u001b[0m not in lpe_prot.bed                                          \u001b]8;id=1640098128.6836638-350482;file:///Users/ra57rut/.conda/envs/lastal/lib/python3.9/site-packages/jcvi/compara/blastfilter.py\u001b\\\u001b[2mblastfilter.py\u001b[0m\u001b]8;;\u001b\\\u001b[2m:74\u001b[0m\n",
      "\u001b[2;36m          \u001b[0m\u001b[2;36m \u001b[0m\u001b[31mWARNING \u001b[0m LPERR06G18820.\u001b[1;36m2\u001b[0m not in lpe_prot.bed                                          \u001b]8;id=1640098128.684544-436511;file:///Users/ra57rut/.conda/envs/lastal/lib/python3.9/site-packages/jcvi/compara/blastfilter.py\u001b\\\u001b[2mblastfilter.py\u001b[0m\u001b]8;;\u001b\\\u001b[2m:74\u001b[0m\n",
      "\u001b[2;36m          \u001b[0m\u001b[2;36m \u001b[0m\u001b[31mWARNING \u001b[0m LPERR06G18820.\u001b[1;36m4\u001b[0m not in lpe_prot.bed                                          \u001b]8;id=1640098128.685583-872633;file:///Users/ra57rut/.conda/envs/lastal/lib/python3.9/site-packages/jcvi/compara/blastfilter.py\u001b\\\u001b[2mblastfilter.py\u001b[0m\u001b]8;;\u001b\\\u001b[2m:74\u001b[0m\n",
      "\u001b[2;36m          \u001b[0m\u001b[2;36m \u001b[0m\u001b[31mWARNING \u001b[0m LPERR06G04860.\u001b[1;36m2\u001b[0m not in lpe_prot.bed                                          \u001b]8;id=1640098128.686934-512806;file:///Users/ra57rut/.conda/envs/lastal/lib/python3.9/site-packages/jcvi/compara/blastfilter.py\u001b\\\u001b[2mblastfilter.py\u001b[0m\u001b]8;;\u001b\\\u001b[2m:74\u001b[0m\n",
      "\u001b[2;36m          \u001b[0m\u001b[2;36m \u001b[0m\u001b[31mWARNING \u001b[0m LPERR03G02050.\u001b[1;36m2\u001b[0m not in lpe_prot.bed                                          \u001b]8;id=1640098128.688077-894501;file:///Users/ra57rut/.conda/envs/lastal/lib/python3.9/site-packages/jcvi/compara/blastfilter.py\u001b\\\u001b[2mblastfilter.py\u001b[0m\u001b]8;;\u001b\\\u001b[2m:74\u001b[0m\n",
      "\u001b[2;36m          \u001b[0m\u001b[2;36m \u001b[0m\u001b[31mWARNING \u001b[0m LPERR03G17690.\u001b[1;36m2\u001b[0m not in lpe_prot.bed                                          \u001b]8;id=1640098128.6892421-98498;file:///Users/ra57rut/.conda/envs/lastal/lib/python3.9/site-packages/jcvi/compara/blastfilter.py\u001b\\\u001b[2mblastfilter.py\u001b[0m\u001b]8;;\u001b\\\u001b[2m:74\u001b[0m\n",
      "\u001b[2;36m          \u001b[0m\u001b[2;36m \u001b[0m\u001b[31mWARNING \u001b[0m LPERR03G04070.\u001b[1;36m1\u001b[0m not in lpe_prot.bed                                          \u001b]8;id=1640098128.69028-647803;file:///Users/ra57rut/.conda/envs/lastal/lib/python3.9/site-packages/jcvi/compara/blastfilter.py\u001b\\\u001b[2mblastfilter.py\u001b[0m\u001b]8;;\u001b\\\u001b[2m:74\u001b[0m\n",
      "\u001b[2;36m          \u001b[0m\u001b[2;36m \u001b[0m\u001b[31mWARNING \u001b[0m LPERR03G04070.\u001b[1;36m2\u001b[0m not in lpe_prot.bed                                          \u001b]8;id=1640098128.691193-406272;file:///Users/ra57rut/.conda/envs/lastal/lib/python3.9/site-packages/jcvi/compara/blastfilter.py\u001b\\\u001b[2mblastfilter.py\u001b[0m\u001b]8;;\u001b\\\u001b[2m:74\u001b[0m\n",
      "\u001b[2;36m          \u001b[0m\u001b[2;36m \u001b[0m\u001b[31mWARNING \u001b[0m LPERR11G02640.\u001b[1;36m2\u001b[0m not in lpe_prot.bed                                          \u001b]8;id=1640098128.692189-747988;file:///Users/ra57rut/.conda/envs/lastal/lib/python3.9/site-packages/jcvi/compara/blastfilter.py\u001b\\\u001b[2mblastfilter.py\u001b[0m\u001b]8;;\u001b\\\u001b[2m:74\u001b[0m\n",
      "\u001b[2;36m          \u001b[0m\u001b[2;36m \u001b[0m\u001b[31mWARNING \u001b[0m LPERR02G20460.\u001b[1;36m2\u001b[0m not in lpe_prot.bed                                          \u001b]8;id=1640098128.693165-222137;file:///Users/ra57rut/.conda/envs/lastal/lib/python3.9/site-packages/jcvi/compara/blastfilter.py\u001b\\\u001b[2mblastfilter.py\u001b[0m\u001b]8;;\u001b\\\u001b[2m:74\u001b[0m\n",
      "\u001b[2;36m          \u001b[0m\u001b[2;36m \u001b[0m\u001b[31mWARNING \u001b[0m LPERR01G36280.\u001b[1;36m2\u001b[0m not in lpe_prot.bed                                          \u001b]8;id=1640098128.694051-976908;file:///Users/ra57rut/.conda/envs/lastal/lib/python3.9/site-packages/jcvi/compara/blastfilter.py\u001b\\\u001b[2mblastfilter.py\u001b[0m\u001b]8;;\u001b\\\u001b[2m:74\u001b[0m\n",
      "\u001b[2;36m          \u001b[0m\u001b[2;36m \u001b[0m\u001b[31mWARNING \u001b[0m LPERR01G36280.\u001b[1;36m3\u001b[0m not in lpe_prot.bed                                          \u001b]8;id=1640098128.6948962-952169;file:///Users/ra57rut/.conda/envs/lastal/lib/python3.9/site-packages/jcvi/compara/blastfilter.py\u001b\\\u001b[2mblastfilter.py\u001b[0m\u001b]8;;\u001b\\\u001b[2m:74\u001b[0m\n",
      "\u001b[2;36m          \u001b[0m\u001b[2;36m \u001b[0m\u001b[31mWARNING \u001b[0m LPERR06G09140.\u001b[1;36m2\u001b[0m not in lpe_prot.bed                                          \u001b]8;id=1640098128.69577-427540;file:///Users/ra57rut/.conda/envs/lastal/lib/python3.9/site-packages/jcvi/compara/blastfilter.py\u001b\\\u001b[2mblastfilter.py\u001b[0m\u001b]8;;\u001b\\\u001b[2m:74\u001b[0m\n",
      "\u001b[2;36m          \u001b[0m\u001b[2;36m \u001b[0m\u001b[31mWARNING \u001b[0m LPERR07G21110.\u001b[1;36m2\u001b[0m not in lpe_prot.bed                                          \u001b]8;id=1640098128.6966279-716600;file:///Users/ra57rut/.conda/envs/lastal/lib/python3.9/site-packages/jcvi/compara/blastfilter.py\u001b\\\u001b[2mblastfilter.py\u001b[0m\u001b]8;;\u001b\\\u001b[2m:74\u001b[0m\n",
      "\u001b[2;36m          \u001b[0m\u001b[2;36m \u001b[0m\u001b[31mWARNING \u001b[0m LPERR01G04150.\u001b[1;36m2\u001b[0m not in lpe_prot.bed                                          \u001b]8;id=1640098128.69747-33347;file:///Users/ra57rut/.conda/envs/lastal/lib/python3.9/site-packages/jcvi/compara/blastfilter.py\u001b\\\u001b[2mblastfilter.py\u001b[0m\u001b]8;;\u001b\\\u001b[2m:74\u001b[0m\n",
      "\u001b[2;36m          \u001b[0m\u001b[2;36m \u001b[0m\u001b[31mWARNING \u001b[0m LPERR01G00420.\u001b[1;36m2\u001b[0m not in lpe_prot.bed                                          \u001b]8;id=1640098128.698289-430707;file:///Users/ra57rut/.conda/envs/lastal/lib/python3.9/site-packages/jcvi/compara/blastfilter.py\u001b\\\u001b[2mblastfilter.py\u001b[0m\u001b]8;;\u001b\\\u001b[2m:74\u001b[0m\n",
      "\u001b[2;36m          \u001b[0m\u001b[2;36m \u001b[0m\u001b[31mWARNING \u001b[0m LPERR12G15400.\u001b[1;36m3\u001b[0m not in lpe_prot.bed                                          \u001b]8;id=1640098128.699213-221510;file:///Users/ra57rut/.conda/envs/lastal/lib/python3.9/site-packages/jcvi/compara/blastfilter.py\u001b\\\u001b[2mblastfilter.py\u001b[0m\u001b]8;;\u001b\\\u001b[2m:74\u001b[0m\n",
      "\u001b[2;36m          \u001b[0m\u001b[2;36m \u001b[0m\u001b[31mWARNING \u001b[0m LPERR12G15400.\u001b[1;36m2\u001b[0m not in lpe_prot.bed                                          \u001b]8;id=1640098128.700299-54556;file:///Users/ra57rut/.conda/envs/lastal/lib/python3.9/site-packages/jcvi/compara/blastfilter.py\u001b\\\u001b[2mblastfilter.py\u001b[0m\u001b]8;;\u001b\\\u001b[2m:74\u001b[0m\n",
      "\u001b[2;36m          \u001b[0m\u001b[2;36m \u001b[0m\u001b[31mWARNING \u001b[0m LPERR10G14220.\u001b[1;36m2\u001b[0m not in lpe_prot.bed                                          \u001b]8;id=1640098128.70134-902681;file:///Users/ra57rut/.conda/envs/lastal/lib/python3.9/site-packages/jcvi/compara/blastfilter.py\u001b\\\u001b[2mblastfilter.py\u001b[0m\u001b]8;;\u001b\\\u001b[2m:74\u001b[0m\n",
      "\u001b[2;36m          \u001b[0m\u001b[2;36m \u001b[0m\u001b[31mWARNING \u001b[0m LPERR09G13310.\u001b[1;36m2\u001b[0m not in lpe_prot.bed                                          \u001b]8;id=1640098128.702504-458643;file:///Users/ra57rut/.conda/envs/lastal/lib/python3.9/site-packages/jcvi/compara/blastfilter.py\u001b\\\u001b[2mblastfilter.py\u001b[0m\u001b]8;;\u001b\\\u001b[2m:74\u001b[0m\n",
      "\u001b[2;36m          \u001b[0m\u001b[2;36m \u001b[0m\u001b[31mWARNING \u001b[0m LPERR10G12700.\u001b[1;36m1\u001b[0m not in lpe_prot.bed                                          \u001b]8;id=1640098128.703402-633824;file:///Users/ra57rut/.conda/envs/lastal/lib/python3.9/site-packages/jcvi/compara/blastfilter.py\u001b\\\u001b[2mblastfilter.py\u001b[0m\u001b]8;;\u001b\\\u001b[2m:74\u001b[0m\n",
      "\u001b[2;36m          \u001b[0m\u001b[2;36m \u001b[0m\u001b[31mWARNING \u001b[0m LPERR03G28620.\u001b[1;36m4\u001b[0m not in lpe_prot.bed                                          \u001b]8;id=1640098128.704368-5496;file:///Users/ra57rut/.conda/envs/lastal/lib/python3.9/site-packages/jcvi/compara/blastfilter.py\u001b\\\u001b[2mblastfilter.py\u001b[0m\u001b]8;;\u001b\\\u001b[2m:74\u001b[0m\n",
      "\u001b[2;36m          \u001b[0m\u001b[2;36m \u001b[0m\u001b[31mWARNING \u001b[0m LPERR03G07470.\u001b[1;36m2\u001b[0m not in lpe_prot.bed                                          \u001b]8;id=1640098128.7053661-737928;file:///Users/ra57rut/.conda/envs/lastal/lib/python3.9/site-packages/jcvi/compara/blastfilter.py\u001b\\\u001b[2mblastfilter.py\u001b[0m\u001b]8;;\u001b\\\u001b[2m:74\u001b[0m\n",
      "\u001b[2;36m          \u001b[0m\u001b[2;36m \u001b[0m\u001b[31mWARNING \u001b[0m LPERR03G28620.\u001b[1;36m2\u001b[0m not in lpe_prot.bed                                          \u001b]8;id=1640098128.706314-573878;file:///Users/ra57rut/.conda/envs/lastal/lib/python3.9/site-packages/jcvi/compara/blastfilter.py\u001b\\\u001b[2mblastfilter.py\u001b[0m\u001b]8;;\u001b\\\u001b[2m:74\u001b[0m\n",
      "\u001b[2;36m          \u001b[0m\u001b[2;36m \u001b[0m\u001b[31mWARNING \u001b[0m LPERR09G04310.\u001b[1;36m2\u001b[0m not in lpe_prot.bed                                          \u001b]8;id=1640098128.707139-159414;file:///Users/ra57rut/.conda/envs/lastal/lib/python3.9/site-packages/jcvi/compara/blastfilter.py\u001b\\\u001b[2mblastfilter.py\u001b[0m\u001b]8;;\u001b\\\u001b[2m:74\u001b[0m\n",
      "\u001b[2;36m          \u001b[0m\u001b[2;36m \u001b[0m\u001b[31mWARNING \u001b[0m LPERR03G12850.\u001b[1;36m2\u001b[0m not in lpe_prot.bed                                          \u001b]8;id=1640098128.7079759-837917;file:///Users/ra57rut/.conda/envs/lastal/lib/python3.9/site-packages/jcvi/compara/blastfilter.py\u001b\\\u001b[2mblastfilter.py\u001b[0m\u001b]8;;\u001b\\\u001b[2m:74\u001b[0m\n",
      "\u001b[2;36m          \u001b[0m\u001b[2;36m \u001b[0m\u001b[31mWARNING \u001b[0m LPERR03G28620.\u001b[1;36m5\u001b[0m not in lpe_prot.bed                                          \u001b]8;id=1640098128.70894-122324;file:///Users/ra57rut/.conda/envs/lastal/lib/python3.9/site-packages/jcvi/compara/blastfilter.py\u001b\\\u001b[2mblastfilter.py\u001b[0m\u001b]8;;\u001b\\\u001b[2m:74\u001b[0m\n",
      "\u001b[2;36m          \u001b[0m\u001b[2;36m \u001b[0m\u001b[31mWARNING \u001b[0m LPERR04G22950.\u001b[1;36m1\u001b[0m not in lpe_prot.bed                                          \u001b]8;id=1640098128.709804-294928;file:///Users/ra57rut/.conda/envs/lastal/lib/python3.9/site-packages/jcvi/compara/blastfilter.py\u001b\\\u001b[2mblastfilter.py\u001b[0m\u001b]8;;\u001b\\\u001b[2m:74\u001b[0m\n",
      "\u001b[2;36m          \u001b[0m\u001b[2;36m \u001b[0m\u001b[31mWARNING \u001b[0m LPERR02G20960.\u001b[1;36m2\u001b[0m not in lpe_prot.bed                                          \u001b]8;id=1640098128.7110999-976564;file:///Users/ra57rut/.conda/envs/lastal/lib/python3.9/site-packages/jcvi/compara/blastfilter.py\u001b\\\u001b[2mblastfilter.py\u001b[0m\u001b]8;;\u001b\\\u001b[2m:74\u001b[0m\n",
      "\u001b[2;36m          \u001b[0m\u001b[2;36m \u001b[0m\u001b[31mWARNING \u001b[0m LPERR03G28620.\u001b[1;36m3\u001b[0m not in lpe_prot.bed                                          \u001b]8;id=1640098128.712121-694108;file:///Users/ra57rut/.conda/envs/lastal/lib/python3.9/site-packages/jcvi/compara/blastfilter.py\u001b\\\u001b[2mblastfilter.py\u001b[0m\u001b]8;;\u001b\\\u001b[2m:74\u001b[0m\n",
      "\u001b[2;36m          \u001b[0m\u001b[2;36m \u001b[0m\u001b[31mWARNING \u001b[0m LPERR12G13310.\u001b[1;36m2\u001b[0m not in lpe_prot.bed                                          \u001b]8;id=1640098128.7130828-35622;file:///Users/ra57rut/.conda/envs/lastal/lib/python3.9/site-packages/jcvi/compara/blastfilter.py\u001b\\\u001b[2mblastfilter.py\u001b[0m\u001b]8;;\u001b\\\u001b[2m:74\u001b[0m\n",
      "\u001b[2;36m          \u001b[0m\u001b[2;36m \u001b[0m\u001b[31mWARNING \u001b[0m LPERR10G03170.\u001b[1;36m2\u001b[0m not in lpe_prot.bed                                          \u001b]8;id=1640098128.713952-125685;file:///Users/ra57rut/.conda/envs/lastal/lib/python3.9/site-packages/jcvi/compara/blastfilter.py\u001b\\\u001b[2mblastfilter.py\u001b[0m\u001b]8;;\u001b\\\u001b[2m:74\u001b[0m\n",
      "\u001b[2;36m          \u001b[0m\u001b[2;36m \u001b[0m\u001b[31mWARNING \u001b[0m LPERR10G03170.\u001b[1;36m3\u001b[0m not in lpe_prot.bed                                          \u001b]8;id=1640098128.714986-875603;file:///Users/ra57rut/.conda/envs/lastal/lib/python3.9/site-packages/jcvi/compara/blastfilter.py\u001b\\\u001b[2mblastfilter.py\u001b[0m\u001b]8;;\u001b\\\u001b[2m:74\u001b[0m\n",
      "\u001b[2;36m          \u001b[0m\u001b[2;36m \u001b[0m\u001b[31mWARNING \u001b[0m LPERR10G03170.\u001b[1;36m5\u001b[0m not in lpe_prot.bed                                          \u001b]8;id=1640098128.7161138-837008;file:///Users/ra57rut/.conda/envs/lastal/lib/python3.9/site-packages/jcvi/compara/blastfilter.py\u001b\\\u001b[2mblastfilter.py\u001b[0m\u001b]8;;\u001b\\\u001b[2m:74\u001b[0m\n",
      "\u001b[2;36m          \u001b[0m\u001b[2;36m \u001b[0m\u001b[31mWARNING \u001b[0m LPERR10G03170.\u001b[1;36m4\u001b[0m not in lpe_prot.bed                                          \u001b]8;id=1640098128.717085-964698;file:///Users/ra57rut/.conda/envs/lastal/lib/python3.9/site-packages/jcvi/compara/blastfilter.py\u001b\\\u001b[2mblastfilter.py\u001b[0m\u001b]8;;\u001b\\\u001b[2m:74\u001b[0m\n",
      "\u001b[2;36m          \u001b[0m\u001b[2;36m \u001b[0m\u001b[31mWARNING \u001b[0m LPERR09G13310.\u001b[1;36m1\u001b[0m not in lpe_prot.bed                                          \u001b]8;id=1640098128.717928-40079;file:///Users/ra57rut/.conda/envs/lastal/lib/python3.9/site-packages/jcvi/compara/blastfilter.py\u001b\\\u001b[2mblastfilter.py\u001b[0m\u001b]8;;\u001b\\\u001b[2m:74\u001b[0m\n",
      "\u001b[2;36m          \u001b[0m\u001b[2;36m \u001b[0m\u001b[31mWARNING \u001b[0m LPERR05G19910.\u001b[1;36m3\u001b[0m not in lpe_prot.bed                                          \u001b]8;id=1640098128.718913-453502;file:///Users/ra57rut/.conda/envs/lastal/lib/python3.9/site-packages/jcvi/compara/blastfilter.py\u001b\\\u001b[2mblastfilter.py\u001b[0m\u001b]8;;\u001b\\\u001b[2m:74\u001b[0m\n",
      "\u001b[2;36m          \u001b[0m\u001b[2;36m \u001b[0m\u001b[31mWARNING \u001b[0m LPERR03G22330.\u001b[1;36m1\u001b[0m not in lpe_prot.bed                                          \u001b]8;id=1640098128.719892-971611;file:///Users/ra57rut/.conda/envs/lastal/lib/python3.9/site-packages/jcvi/compara/blastfilter.py\u001b\\\u001b[2mblastfilter.py\u001b[0m\u001b]8;;\u001b\\\u001b[2m:74\u001b[0m\n",
      "\u001b[2;36m          \u001b[0m\u001b[2;36m \u001b[0m\u001b[31mWARNING \u001b[0m LPERR09G02390.\u001b[1;36m2\u001b[0m not in lpe_prot.bed                                          \u001b]8;id=1640098128.720793-895108;file:///Users/ra57rut/.conda/envs/lastal/lib/python3.9/site-packages/jcvi/compara/blastfilter.py\u001b\\\u001b[2mblastfilter.py\u001b[0m\u001b]8;;\u001b\\\u001b[2m:74\u001b[0m\n",
      "\u001b[2;36m          \u001b[0m\u001b[2;36m \u001b[0m\u001b[31mWARNING \u001b[0m LPERR05G19910.\u001b[1;36m2\u001b[0m not in lpe_prot.bed                                          \u001b]8;id=1640098128.721743-686140;file:///Users/ra57rut/.conda/envs/lastal/lib/python3.9/site-packages/jcvi/compara/blastfilter.py\u001b\\\u001b[2mblastfilter.py\u001b[0m\u001b]8;;\u001b\\\u001b[2m:74\u001b[0m\n",
      "\u001b[2;36m          \u001b[0m\u001b[2;36m \u001b[0m\u001b[31mWARNING \u001b[0m LPERR01G12450.\u001b[1;36m3\u001b[0m not in lpe_prot.bed                                          \u001b]8;id=1640098128.72272-537769;file:///Users/ra57rut/.conda/envs/lastal/lib/python3.9/site-packages/jcvi/compara/blastfilter.py\u001b\\\u001b[2mblastfilter.py\u001b[0m\u001b]8;;\u001b\\\u001b[2m:74\u001b[0m\n",
      "\u001b[2;36m          \u001b[0m\u001b[2;36m \u001b[0m\u001b[31mWARNING \u001b[0m LPERR03G01580.\u001b[1;36m6\u001b[0m not in lpe_prot.bed                                          \u001b]8;id=1640098128.724192-120541;file:///Users/ra57rut/.conda/envs/lastal/lib/python3.9/site-packages/jcvi/compara/blastfilter.py\u001b\\\u001b[2mblastfilter.py\u001b[0m\u001b]8;;\u001b\\\u001b[2m:74\u001b[0m\n",
      "\u001b[2;36m          \u001b[0m\u001b[2;36m \u001b[0m\u001b[31mWARNING \u001b[0m LPERR10G10270.\u001b[1;36m2\u001b[0m not in lpe_prot.bed                                          \u001b]8;id=1640098128.7256162-14407;file:///Users/ra57rut/.conda/envs/lastal/lib/python3.9/site-packages/jcvi/compara/blastfilter.py\u001b\\\u001b[2mblastfilter.py\u001b[0m\u001b]8;;\u001b\\\u001b[2m:74\u001b[0m\n",
      "\u001b[2;36m          \u001b[0m\u001b[2;36m \u001b[0m\u001b[31mWARNING \u001b[0m LPERR07G21650.\u001b[1;36m2\u001b[0m not in lpe_prot.bed                                          \u001b]8;id=1640098128.727107-266748;file:///Users/ra57rut/.conda/envs/lastal/lib/python3.9/site-packages/jcvi/compara/blastfilter.py\u001b\\\u001b[2mblastfilter.py\u001b[0m\u001b]8;;\u001b\\\u001b[2m:74\u001b[0m\n",
      "\u001b[2;36m          \u001b[0m\u001b[2;36m \u001b[0m\u001b[31mWARNING \u001b[0m LPERR02G26290.\u001b[1;36m6\u001b[0m not in lpe_prot.bed                                          \u001b]8;id=1640098128.7281501-529940;file:///Users/ra57rut/.conda/envs/lastal/lib/python3.9/site-packages/jcvi/compara/blastfilter.py\u001b\\\u001b[2mblastfilter.py\u001b[0m\u001b]8;;\u001b\\\u001b[2m:74\u001b[0m\n",
      "\u001b[2;36m          \u001b[0m\u001b[2;36m \u001b[0m\u001b[31mWARNING \u001b[0m LPERR01G12450.\u001b[1;36m2\u001b[0m not in lpe_prot.bed                                          \u001b]8;id=1640098128.729174-42287;file:///Users/ra57rut/.conda/envs/lastal/lib/python3.9/site-packages/jcvi/compara/blastfilter.py\u001b\\\u001b[2mblastfilter.py\u001b[0m\u001b]8;;\u001b\\\u001b[2m:74\u001b[0m\n",
      "\u001b[2;36m          \u001b[0m\u001b[2;36m \u001b[0m\u001b[31mWARNING \u001b[0m LPERR06G05820.\u001b[1;36m2\u001b[0m not in lpe_prot.bed                                          \u001b]8;id=1640098128.730386-443299;file:///Users/ra57rut/.conda/envs/lastal/lib/python3.9/site-packages/jcvi/compara/blastfilter.py\u001b\\\u001b[2mblastfilter.py\u001b[0m\u001b]8;;\u001b\\\u001b[2m:74\u001b[0m\n",
      "\u001b[2;36m          \u001b[0m\u001b[2;36m \u001b[0m\u001b[31mWARNING \u001b[0m LPERR06G05820.\u001b[1;36m3\u001b[0m not in lpe_prot.bed                                          \u001b]8;id=1640098128.731661-668334;file:///Users/ra57rut/.conda/envs/lastal/lib/python3.9/site-packages/jcvi/compara/blastfilter.py\u001b\\\u001b[2mblastfilter.py\u001b[0m\u001b]8;;\u001b\\\u001b[2m:74\u001b[0m\n",
      "\u001b[2;36m          \u001b[0m\u001b[2;36m \u001b[0m\u001b[31mWARNING \u001b[0m LPERR09G02390.\u001b[1;36m1\u001b[0m not in lpe_prot.bed                                          \u001b]8;id=1640098128.732766-57832;file:///Users/ra57rut/.conda/envs/lastal/lib/python3.9/site-packages/jcvi/compara/blastfilter.py\u001b\\\u001b[2mblastfilter.py\u001b[0m\u001b]8;;\u001b\\\u001b[2m:74\u001b[0m\n",
      "\u001b[2;36m          \u001b[0m\u001b[2;36m \u001b[0m\u001b[31mWARNING \u001b[0m LPERR01G33490.\u001b[1;36m2\u001b[0m not in lpe_prot.bed                                          \u001b]8;id=1640098128.733979-782585;file:///Users/ra57rut/.conda/envs/lastal/lib/python3.9/site-packages/jcvi/compara/blastfilter.py\u001b\\\u001b[2mblastfilter.py\u001b[0m\u001b]8;;\u001b\\\u001b[2m:74\u001b[0m\n",
      "\u001b[2;36m          \u001b[0m\u001b[2;36m \u001b[0m\u001b[31mWARNING \u001b[0m LPERR05G19910.\u001b[1;36m10\u001b[0m not in lpe_prot.bed                                         \u001b]8;id=1640098128.735151-649099;file:///Users/ra57rut/.conda/envs/lastal/lib/python3.9/site-packages/jcvi/compara/blastfilter.py\u001b\\\u001b[2mblastfilter.py\u001b[0m\u001b]8;;\u001b\\\u001b[2m:74\u001b[0m\n",
      "\u001b[2;36m          \u001b[0m\u001b[2;36m \u001b[0m\u001b[31mWARNING \u001b[0m LPERR05G19910.\u001b[1;36m9\u001b[0m not in lpe_prot.bed                                          \u001b]8;id=1640098128.736149-65515;file:///Users/ra57rut/.conda/envs/lastal/lib/python3.9/site-packages/jcvi/compara/blastfilter.py\u001b\\\u001b[2mblastfilter.py\u001b[0m\u001b]8;;\u001b\\\u001b[2m:74\u001b[0m\n",
      "\u001b[2;36m          \u001b[0m\u001b[2;36m \u001b[0m\u001b[31mWARNING \u001b[0m LPERR05G19910.\u001b[1;36m8\u001b[0m not in lpe_prot.bed                                          \u001b]8;id=1640098128.7370481-703489;file:///Users/ra57rut/.conda/envs/lastal/lib/python3.9/site-packages/jcvi/compara/blastfilter.py\u001b\\\u001b[2mblastfilter.py\u001b[0m\u001b]8;;\u001b\\\u001b[2m:74\u001b[0m\n",
      "\u001b[2;36m          \u001b[0m\u001b[2;36m \u001b[0m\u001b[31mWARNING \u001b[0m LPERR02G21890.\u001b[1;36m2\u001b[0m not in lpe_prot.bed                                          \u001b]8;id=1640098128.737948-679872;file:///Users/ra57rut/.conda/envs/lastal/lib/python3.9/site-packages/jcvi/compara/blastfilter.py\u001b\\\u001b[2mblastfilter.py\u001b[0m\u001b]8;;\u001b\\\u001b[2m:74\u001b[0m\n",
      "\u001b[2;36m          \u001b[0m\u001b[2;36m \u001b[0m\u001b[31mWARNING \u001b[0m LPERR11G03010.\u001b[1;36m2\u001b[0m not in lpe_prot.bed                                          \u001b]8;id=1640098128.738821-999378;file:///Users/ra57rut/.conda/envs/lastal/lib/python3.9/site-packages/jcvi/compara/blastfilter.py\u001b\\\u001b[2mblastfilter.py\u001b[0m\u001b]8;;\u001b\\\u001b[2m:74\u001b[0m\n",
      "\u001b[2;36m          \u001b[0m\u001b[2;36m \u001b[0m\u001b[31mWARNING \u001b[0m LPERR02G23630.\u001b[1;36m2\u001b[0m not in lpe_prot.bed                                          \u001b]8;id=1640098128.739703-869701;file:///Users/ra57rut/.conda/envs/lastal/lib/python3.9/site-packages/jcvi/compara/blastfilter.py\u001b\\\u001b[2mblastfilter.py\u001b[0m\u001b]8;;\u001b\\\u001b[2m:74\u001b[0m\n",
      "\u001b[2;36m          \u001b[0m\u001b[2;36m \u001b[0m\u001b[31mWARNING \u001b[0m LPERR05G19910.\u001b[1;36m6\u001b[0m not in lpe_prot.bed                                          \u001b]8;id=1640098128.740691-836514;file:///Users/ra57rut/.conda/envs/lastal/lib/python3.9/site-packages/jcvi/compara/blastfilter.py\u001b\\\u001b[2mblastfilter.py\u001b[0m\u001b]8;;\u001b\\\u001b[2m:74\u001b[0m\n",
      "\u001b[2;36m          \u001b[0m\u001b[2;36m \u001b[0m\u001b[31mWARNING \u001b[0m LPERR06G09820.\u001b[1;36m1\u001b[0m not in lpe_prot.bed                                          \u001b]8;id=1640098128.7416372-220615;file:///Users/ra57rut/.conda/envs/lastal/lib/python3.9/site-packages/jcvi/compara/blastfilter.py\u001b\\\u001b[2mblastfilter.py\u001b[0m\u001b]8;;\u001b\\\u001b[2m:74\u001b[0m\n",
      "\u001b[2;36m          \u001b[0m\u001b[2;36m \u001b[0m\u001b[31mWARNING \u001b[0m LPERR05G19910.\u001b[1;36m4\u001b[0m not in lpe_prot.bed                                          \u001b]8;id=1640098128.742632-658001;file:///Users/ra57rut/.conda/envs/lastal/lib/python3.9/site-packages/jcvi/compara/blastfilter.py\u001b\\\u001b[2mblastfilter.py\u001b[0m\u001b]8;;\u001b\\\u001b[2m:74\u001b[0m\n",
      "\u001b[2;36m          \u001b[0m\u001b[2;36m \u001b[0m\u001b[31mWARNING \u001b[0m LPERR05G19910.\u001b[1;36m7\u001b[0m not in lpe_prot.bed                                          \u001b]8;id=1640098128.743489-299313;file:///Users/ra57rut/.conda/envs/lastal/lib/python3.9/site-packages/jcvi/compara/blastfilter.py\u001b\\\u001b[2mblastfilter.py\u001b[0m\u001b]8;;\u001b\\\u001b[2m:74\u001b[0m\n",
      "\u001b[2;36m          \u001b[0m\u001b[2;36m \u001b[0m\u001b[31mWARNING \u001b[0m LPERR04G13730.\u001b[1;36m2\u001b[0m not in lpe_prot.bed                                          \u001b]8;id=1640098128.744412-869695;file:///Users/ra57rut/.conda/envs/lastal/lib/python3.9/site-packages/jcvi/compara/blastfilter.py\u001b\\\u001b[2mblastfilter.py\u001b[0m\u001b]8;;\u001b\\\u001b[2m:74\u001b[0m\n",
      "\u001b[2;36m          \u001b[0m\u001b[2;36m \u001b[0m\u001b[31mWARNING \u001b[0m LPERR02G03230.\u001b[1;36m2\u001b[0m not in lpe_prot.bed                                          \u001b]8;id=1640098128.745334-986492;file:///Users/ra57rut/.conda/envs/lastal/lib/python3.9/site-packages/jcvi/compara/blastfilter.py\u001b\\\u001b[2mblastfilter.py\u001b[0m\u001b]8;;\u001b\\\u001b[2m:74\u001b[0m\n",
      "\u001b[2;36m          \u001b[0m\u001b[2;36m \u001b[0m\u001b[31mWARNING \u001b[0m LPERR10G10270.\u001b[1;36m3\u001b[0m not in lpe_prot.bed                                          \u001b]8;id=1640098128.746311-735168;file:///Users/ra57rut/.conda/envs/lastal/lib/python3.9/site-packages/jcvi/compara/blastfilter.py\u001b\\\u001b[2mblastfilter.py\u001b[0m\u001b]8;;\u001b\\\u001b[2m:74\u001b[0m\n",
      "\u001b[2;36m          \u001b[0m\u001b[2;36m \u001b[0m\u001b[31mWARNING \u001b[0m LPERR05G19910.\u001b[1;36m5\u001b[0m not in lpe_prot.bed                                          \u001b]8;id=1640098128.747169-958570;file:///Users/ra57rut/.conda/envs/lastal/lib/python3.9/site-packages/jcvi/compara/blastfilter.py\u001b\\\u001b[2mblastfilter.py\u001b[0m\u001b]8;;\u001b\\\u001b[2m:74\u001b[0m\n",
      "\u001b[2;36m          \u001b[0m\u001b[2;36m \u001b[0m\u001b[31mWARNING \u001b[0m LPERR11G19620.\u001b[1;36m6\u001b[0m not in lpe_prot.bed                                          \u001b]8;id=1640098128.748201-915456;file:///Users/ra57rut/.conda/envs/lastal/lib/python3.9/site-packages/jcvi/compara/blastfilter.py\u001b\\\u001b[2mblastfilter.py\u001b[0m\u001b]8;;\u001b\\\u001b[2m:74\u001b[0m\n",
      "\u001b[2;36m          \u001b[0m\u001b[2;36m \u001b[0m\u001b[31mWARNING \u001b[0m LPERR11G03010.\u001b[1;36m1\u001b[0m not in lpe_prot.bed                                          \u001b]8;id=1640098128.74929-388123;file:///Users/ra57rut/.conda/envs/lastal/lib/python3.9/site-packages/jcvi/compara/blastfilter.py\u001b\\\u001b[2mblastfilter.py\u001b[0m\u001b]8;;\u001b\\\u001b[2m:74\u001b[0m\n",
      "\u001b[2;36m          \u001b[0m\u001b[2;36m \u001b[0m\u001b[31mWARNING \u001b[0m LPERR06G09820.\u001b[1;36m2\u001b[0m not in lpe_prot.bed                                          \u001b]8;id=1640098128.7502131-275982;file:///Users/ra57rut/.conda/envs/lastal/lib/python3.9/site-packages/jcvi/compara/blastfilter.py\u001b\\\u001b[2mblastfilter.py\u001b[0m\u001b]8;;\u001b\\\u001b[2m:74\u001b[0m\n",
      "\u001b[2;36m          \u001b[0m\u001b[2;36m \u001b[0m\u001b[31mWARNING \u001b[0m LPERR03G14300.\u001b[1;36m1\u001b[0m not in lpe_prot.bed                                          \u001b]8;id=1640098128.751403-17613;file:///Users/ra57rut/.conda/envs/lastal/lib/python3.9/site-packages/jcvi/compara/blastfilter.py\u001b\\\u001b[2mblastfilter.py\u001b[0m\u001b]8;;\u001b\\\u001b[2m:74\u001b[0m\n",
      "\u001b[2;36m          \u001b[0m\u001b[2;36m \u001b[0m\u001b[31mWARNING \u001b[0m LPERR02G26290.\u001b[1;36m2\u001b[0m not in lpe_prot.bed                                          \u001b]8;id=1640098128.752339-838388;file:///Users/ra57rut/.conda/envs/lastal/lib/python3.9/site-packages/jcvi/compara/blastfilter.py\u001b\\\u001b[2mblastfilter.py\u001b[0m\u001b]8;;\u001b\\\u001b[2m:74\u001b[0m\n",
      "\u001b[2;36m          \u001b[0m\u001b[2;36m \u001b[0m\u001b[31mWARNING \u001b[0m LPERR02G26290.\u001b[1;36m4\u001b[0m not in lpe_prot.bed                                          \u001b]8;id=1640098128.753224-360808;file:///Users/ra57rut/.conda/envs/lastal/lib/python3.9/site-packages/jcvi/compara/blastfilter.py\u001b\\\u001b[2mblastfilter.py\u001b[0m\u001b]8;;\u001b\\\u001b[2m:74\u001b[0m\n",
      "\u001b[2;36m          \u001b[0m\u001b[2;36m \u001b[0m\u001b[31mWARNING \u001b[0m LPERR07G13160.\u001b[1;36m2\u001b[0m not in lpe_prot.bed                                          \u001b]8;id=1640098128.754134-167489;file:///Users/ra57rut/.conda/envs/lastal/lib/python3.9/site-packages/jcvi/compara/blastfilter.py\u001b\\\u001b[2mblastfilter.py\u001b[0m\u001b]8;;\u001b\\\u001b[2m:74\u001b[0m\n",
      "\u001b[2;36m          \u001b[0m\u001b[2;36m \u001b[0m\u001b[31mWARNING \u001b[0m LPERR01G33130.\u001b[1;36m2\u001b[0m not in lpe_prot.bed                                          \u001b]8;id=1640098128.755137-885182;file:///Users/ra57rut/.conda/envs/lastal/lib/python3.9/site-packages/jcvi/compara/blastfilter.py\u001b\\\u001b[2mblastfilter.py\u001b[0m\u001b]8;;\u001b\\\u001b[2m:74\u001b[0m\n",
      "\u001b[2;36m          \u001b[0m\u001b[2;36m \u001b[0m\u001b[31mWARNING \u001b[0m LPERR11G00040.\u001b[1;36m3\u001b[0m not in lpe_prot.bed                                          \u001b]8;id=1640098128.75606-407787;file:///Users/ra57rut/.conda/envs/lastal/lib/python3.9/site-packages/jcvi/compara/blastfilter.py\u001b\\\u001b[2mblastfilter.py\u001b[0m\u001b]8;;\u001b\\\u001b[2m:74\u001b[0m\n",
      "\u001b[2;36m          \u001b[0m\u001b[2;36m \u001b[0m\u001b[31mWARNING \u001b[0m LPERR07G16710.\u001b[1;36m1\u001b[0m not in lpe_prot.bed                                          \u001b]8;id=1640098128.756968-230137;file:///Users/ra57rut/.conda/envs/lastal/lib/python3.9/site-packages/jcvi/compara/blastfilter.py\u001b\\\u001b[2mblastfilter.py\u001b[0m\u001b]8;;\u001b\\\u001b[2m:74\u001b[0m\n",
      "\u001b[2;36m          \u001b[0m\u001b[2;36m \u001b[0m\u001b[31mWARNING \u001b[0m LPERR07G16710.\u001b[1;36m2\u001b[0m not in lpe_prot.bed                                          \u001b]8;id=1640098128.757812-521179;file:///Users/ra57rut/.conda/envs/lastal/lib/python3.9/site-packages/jcvi/compara/blastfilter.py\u001b\\\u001b[2mblastfilter.py\u001b[0m\u001b]8;;\u001b\\\u001b[2m:74\u001b[0m\n",
      "\u001b[2;36m          \u001b[0m\u001b[2;36m \u001b[0m\u001b[31mWARNING \u001b[0m LPERR07G16710.\u001b[1;36m3\u001b[0m not in lpe_prot.bed                                          \u001b]8;id=1640098128.7587872-383602;file:///Users/ra57rut/.conda/envs/lastal/lib/python3.9/site-packages/jcvi/compara/blastfilter.py\u001b\\\u001b[2mblastfilter.py\u001b[0m\u001b]8;;\u001b\\\u001b[2m:74\u001b[0m\n",
      "\u001b[2;36m          \u001b[0m\u001b[2;36m \u001b[0m\u001b[31mWARNING \u001b[0m LPERR07G16710.\u001b[1;36m4\u001b[0m not in lpe_prot.bed                                          \u001b]8;id=1640098128.759742-582412;file:///Users/ra57rut/.conda/envs/lastal/lib/python3.9/site-packages/jcvi/compara/blastfilter.py\u001b\\\u001b[2mblastfilter.py\u001b[0m\u001b]8;;\u001b\\\u001b[2m:74\u001b[0m\n",
      "\u001b[2;36m          \u001b[0m\u001b[2;36m \u001b[0m\u001b[31mWARNING \u001b[0m too many warnings.. suppressed                                               \u001b]8;id=1640098128.760585-126252;file:///Users/ra57rut/.conda/envs/lastal/lib/python3.9/site-packages/jcvi/compara/blastfilter.py\u001b\\\u001b[2mblastfilter.py\u001b[0m\u001b]8;;\u001b\\\u001b[2m:76\u001b[0m\n",
      "\u001b[2;36m[15:48:50]\u001b[0m\u001b[2;36m \u001b[0m\u001b[32mDEBUG   \u001b[0m running the cscore filter \u001b[1m(\u001b[0mcscore>=\u001b[1;36m0.70\u001b[0m\u001b[1m)\u001b[0m ..                                 \u001b]8;id=1640098130.355861-561677;file:///Users/ra57rut/.conda/envs/lastal/lib/python3.9/site-packages/jcvi/compara/blastfilter.py\u001b\\\u001b[2mblastfilter.py\u001b[0m\u001b]8;;\u001b\\\u001b[2m:110\u001b[0m\n",
      "\u001b[2;36m[15:48:51]\u001b[0m\u001b[2;36m \u001b[0m\u001b[32mDEBUG   \u001b[0m after filter \u001b[1m(\u001b[0m\u001b[1;36m443840\u001b[0m->\u001b[1;36m38966\u001b[0m\u001b[1m)\u001b[0m ..                                             \u001b]8;id=1640098131.191566-269472;file:///Users/ra57rut/.conda/envs/lastal/lib/python3.9/site-packages/jcvi/compara/blastfilter.py\u001b\\\u001b[2mblastfilter.py\u001b[0m\u001b]8;;\u001b\\\u001b[2m:112\u001b[0m\n",
      "\u001b[2;36m          \u001b[0m\u001b[2;36m \u001b[0m\u001b[32mDEBUG   \u001b[0m running the local dups filter \u001b[1m(\u001b[0m\u001b[33mtandem_Nmax\u001b[0m=\u001b[1;36m10\u001b[0m\u001b[1m)\u001b[0m ..                           \u001b]8;id=1640098131.19262-1162;file:///Users/ra57rut/.conda/envs/lastal/lib/python3.9/site-packages/jcvi/compara/blastfilter.py\u001b\\\u001b[2mblastfilter.py\u001b[0m\u001b]8;;\u001b\\\u001b[2m:117\u001b[0m\n",
      "\u001b[2;36m          \u001b[0m\u001b[2;36m \u001b[0m\u001b[32mDEBUG   \u001b[0m after filter \u001b[1m(\u001b[0m\u001b[1;36m38966\u001b[0m->\u001b[1;36m31614\u001b[0m\u001b[1m)\u001b[0m ..                                              \u001b]8;id=1640098131.4552698-483438;file:///Users/ra57rut/.conda/envs/lastal/lib/python3.9/site-packages/jcvi/compara/blastfilter.py\u001b\\\u001b[2mblastfilter.py\u001b[0m\u001b]8;;\u001b\\\u001b[2m:161\u001b[0m\n",
      "\u001b[2;36m          \u001b[0m\u001b[2;36m \u001b[0m\u001b[32mDEBUG   \u001b[0m Assuming --\u001b[33mqbed\u001b[0m=\u001b[35mrice_prot\u001b[0m.bed --\u001b[33msbed\u001b[0m=\u001b[35mlpe_prot\u001b[0m.bed                               \u001b]8;id=1640098131.71037-361428;file:///Users/ra57rut/.conda/envs/lastal/lib/python3.9/site-packages/jcvi/compara/synteny.py\u001b\\\u001b[2msynteny.py\u001b[0m\u001b]8;;\u001b\\\u001b[2m:500\u001b[0m\n",
      "\u001b[2;36m          \u001b[0m\u001b[2;36m \u001b[0m\u001b[32mDEBUG   \u001b[0m Load file `rice_prot.bed`                                                           \u001b]8;id=1640098131.711467-591244;file:///Users/ra57rut/.conda/envs/lastal/lib/python3.9/site-packages/jcvi/formats/base.py\u001b\\\u001b[2mbase.py\u001b[0m\u001b]8;;\u001b\\\u001b[2m:37\u001b[0m\n",
      "\u001b[2;36m          \u001b[0m\u001b[2;36m \u001b[0m\u001b[32mDEBUG   \u001b[0m Load file `lpe_prot.bed`                                                            \u001b]8;id=1640098131.948895-363347;file:///Users/ra57rut/.conda/envs/lastal/lib/python3.9/site-packages/jcvi/formats/base.py\u001b\\\u001b[2mbase.py\u001b[0m\u001b]8;;\u001b\\\u001b[2m:37\u001b[0m\n",
      "\u001b[2;36m[15:48:52]\u001b[0m\u001b[2;36m \u001b[0m\u001b[32mDEBUG   \u001b[0m Load file `rice_prot.lpe_prot.last.filtered`                                        \u001b]8;id=1640098132.192749-471468;file:///Users/ra57rut/.conda/envs/lastal/lib/python3.9/site-packages/jcvi/formats/base.py\u001b\\\u001b[2mbase.py\u001b[0m\u001b]8;;\u001b\\\u001b[2m:37\u001b[0m\n",
      "\u001b[2;36m          \u001b[0m\u001b[2;36m \u001b[0m\u001b[32mDEBUG   \u001b[0m A total of \u001b[1;36m31614\u001b[0m BLAST imported from `rice_prot.lpe_prot.last.filtered`.        \u001b]8;id=1640098132.588201-19017;file:///Users/ra57rut/.conda/envs/lastal/lib/python3.9/site-packages/jcvi/compara/synteny.py\u001b\\\u001b[2msynteny.py\u001b[0m\u001b]8;;\u001b\\\u001b[2m:386\u001b[0m\n",
      "\u001b[2;36m          \u001b[0m\u001b[2;36m \u001b[0m\u001b[32mDEBUG   \u001b[0m Chaining distance = \u001b[1;36m20\u001b[0m                                                         \u001b]8;id=1640098132.593269-613271;file:///Users/ra57rut/.conda/envs/lastal/lib/python3.9/site-packages/jcvi/compara/synteny.py\u001b\\\u001b[2msynteny.py\u001b[0m\u001b]8;;\u001b\\\u001b[2m:1933\u001b[0m\n",
      "\u001b[2;36m[15:48:53]\u001b[0m\u001b[2;36m \u001b[0m\u001b[32mDEBUG   \u001b[0m Load file `rice_prot.lpe_prot.anchors`                                              \u001b]8;id=1640098133.859946-672789;file:///Users/ra57rut/.conda/envs/lastal/lib/python3.9/site-packages/jcvi/formats/base.py\u001b\\\u001b[2mbase.py\u001b[0m\u001b]8;;\u001b\\\u001b[2m:37\u001b[0m\n",
      "A total of 21876 (NR:21637) anchors found in 295 clusters.\n",
      "Stats: Min=4 Max=1436 N=295 Mean=74.16 SD=205.69 Median=8.0 Sum=21876\n",
      "NR stats: Min=4 Max=1433 N=295 Mean=73.35 SD=204.30 Median=8.0 Sum=21637\n",
      "\u001b[2;36m          \u001b[0m\u001b[2;36m \u001b[0m\u001b[32mDEBUG   \u001b[0m Load file `rice_prot.bed`                                                           \u001b]8;id=1640098133.905408-641779;file:///Users/ra57rut/.conda/envs/lastal/lib/python3.9/site-packages/jcvi/formats/base.py\u001b\\\u001b[2mbase.py\u001b[0m\u001b]8;;\u001b\\\u001b[2m:37\u001b[0m\n",
      "\u001b[2;36m[15:48:54]\u001b[0m\u001b[2;36m \u001b[0m\u001b[32mDEBUG   \u001b[0m Load file `lpe_prot.bed`                                                            \u001b]8;id=1640098134.257686-245290;file:///Users/ra57rut/.conda/envs/lastal/lib/python3.9/site-packages/jcvi/formats/base.py\u001b\\\u001b[2mbase.py\u001b[0m\u001b]8;;\u001b\\\u001b[2m:37\u001b[0m\n",
      "\u001b[2;36m          \u001b[0m\u001b[2;36m \u001b[0m\u001b[32mDEBUG   \u001b[0m Load file `rice_prot.lpe_prot.last`                                                 \u001b]8;id=1640098134.5492558-951309;file:///Users/ra57rut/.conda/envs/lastal/lib/python3.9/site-packages/jcvi/formats/base.py\u001b\\\u001b[2mbase.py\u001b[0m\u001b]8;;\u001b\\\u001b[2m:37\u001b[0m\n",
      "\u001b[2;36m[15:48:57]\u001b[0m\u001b[2;36m \u001b[0m\u001b[32mDEBUG   \u001b[0m A total of \u001b[1;36m443840\u001b[0m BLAST imported from `rice_prot.lpe_prot.last`.                \u001b]8;id=1640098137.12127-357125;file:///Users/ra57rut/.conda/envs/lastal/lib/python3.9/site-packages/jcvi/compara/synteny.py\u001b\\\u001b[2msynteny.py\u001b[0m\u001b]8;;\u001b\\\u001b[2m:386\u001b[0m\n",
      "\u001b[2;36m          \u001b[0m\u001b[2;36m \u001b[0m\u001b[32mDEBUG   \u001b[0m Load file `rice_prot.lpe_prot.anchors`                                              \u001b]8;id=1640098137.780312-748434;file:///Users/ra57rut/.conda/envs/lastal/lib/python3.9/site-packages/jcvi/formats/base.py\u001b\\\u001b[2mbase.py\u001b[0m\u001b]8;;\u001b\\\u001b[2m:37\u001b[0m\n",
      "\u001b[2;36m[15:48:58]\u001b[0m\u001b[2;36m \u001b[0m\u001b[32mDEBUG   \u001b[0m A total of \u001b[1;36m21876\u001b[0m anchors imported.                                              \u001b]8;id=1640098138.042186-221254;file:///Users/ra57rut/.conda/envs/lastal/lib/python3.9/site-packages/jcvi/compara/synteny.py\u001b\\\u001b[2msynteny.py\u001b[0m\u001b]8;;\u001b\\\u001b[2m:412\u001b[0m\n",
      "\u001b[2;36m          \u001b[0m\u001b[2;36m \u001b[0m\u001b[32mDEBUG   \u001b[0m \u001b[1;36m13853\u001b[0m new pairs found \u001b[1m(\u001b[0m\u001b[33mdist\u001b[0m=\u001b[1;36m5\u001b[0m\u001b[1m)\u001b[0m.                                                \u001b]8;id=1640098138.373366-157316;file:///Users/ra57rut/.conda/envs/lastal/lib/python3.9/site-packages/jcvi/compara/synteny.py\u001b\\\u001b[2msynteny.py\u001b[0m\u001b]8;;\u001b\\\u001b[2m:2011\u001b[0m\n",
      "\u001b[2;36m          \u001b[0m\u001b[2;36m \u001b[0m\u001b[32mDEBUG   \u001b[0m Removed \u001b[1;36m30\u001b[0m existing anchors.                                                     \u001b]8;id=1640098138.42835-376390;file:///Users/ra57rut/.conda/envs/lastal/lib/python3.9/site-packages/jcvi/compara/synteny.py\u001b\\\u001b[2msynteny.py\u001b[0m\u001b]8;;\u001b\\\u001b[2m:93\u001b[0m\n",
      "\u001b[2;36m          \u001b[0m\u001b[2;36m \u001b[0m\u001b[32mDEBUG   \u001b[0m Corrected scores for \u001b[1;36m1105\u001b[0m anchors.                                               \u001b]8;id=1640098138.429763-161066;file:///Users/ra57rut/.conda/envs/lastal/lib/python3.9/site-packages/jcvi/compara/synteny.py\u001b\\\u001b[2msynteny.py\u001b[0m\u001b]8;;\u001b\\\u001b[2m:94\u001b[0m\n",
      "\u001b[2;36m          \u001b[0m\u001b[2;36m \u001b[0m\u001b[32mDEBUG   \u001b[0m Anchors written to `rice_prot.lpe_prot.lifted.anchors`.                          \u001b]8;id=1640098138.431239-472893;file:///Users/ra57rut/.conda/envs/lastal/lib/python3.9/site-packages/jcvi/compara/synteny.py\u001b\\\u001b[2msynteny.py\u001b[0m\u001b]8;;\u001b\\\u001b[2m:95\u001b[0m\n",
      "\u001b[2;36m          \u001b[0m\u001b[2;36m \u001b[0m\u001b[32mDEBUG   \u001b[0m Load file `rice_prot.lpe_prot.lifted.anchors`                                       \u001b]8;id=1640098138.432461-952640;file:///Users/ra57rut/.conda/envs/lastal/lib/python3.9/site-packages/jcvi/formats/base.py\u001b\\\u001b[2mbase.py\u001b[0m\u001b]8;;\u001b\\\u001b[2m:37\u001b[0m\n",
      "A total of 35699 (NR:25323) anchors found in 295 clusters.\n",
      "Stats: Min=4 Max=2102 N=295 Mean=121.01 SD=313.80 Median=14.0 Sum=35699\n",
      "NR stats: Min=4 Max=1557 N=295 Mean=85.84 SD=227.68 Median=12.0 Sum=25323\n",
      "\u001b[2;36m          \u001b[0m\u001b[2;36m \u001b[0m\u001b[32mDEBUG   \u001b[0m Assuming --\u001b[33mqbed\u001b[0m=\u001b[35mrice_prot\u001b[0m.bed --\u001b[33msbed\u001b[0m=\u001b[35mlpe_prot\u001b[0m.bed                               \u001b]8;id=1640098138.951815-675593;file:///Users/ra57rut/.conda/envs/lastal/lib/python3.9/site-packages/jcvi/compara/synteny.py\u001b\\\u001b[2msynteny.py\u001b[0m\u001b]8;;\u001b\\\u001b[2m:500\u001b[0m\n",
      "\u001b[2;36m          \u001b[0m\u001b[2;36m \u001b[0m\u001b[32mDEBUG   \u001b[0m Load file `rice_prot.bed`                                                           \u001b]8;id=1640098138.952706-447208;file:///Users/ra57rut/.conda/envs/lastal/lib/python3.9/site-packages/jcvi/formats/base.py\u001b\\\u001b[2mbase.py\u001b[0m\u001b]8;;\u001b\\\u001b[2m:37\u001b[0m\n",
      "\u001b[2;36m[15:48:59]\u001b[0m\u001b[2;36m \u001b[0m\u001b[32mDEBUG   \u001b[0m Load file `lpe_prot.bed`                                                            \u001b]8;id=1640098139.186775-782479;file:///Users/ra57rut/.conda/envs/lastal/lib/python3.9/site-packages/jcvi/formats/base.py\u001b\\\u001b[2mbase.py\u001b[0m\u001b]8;;\u001b\\\u001b[2m:37\u001b[0m\n",
      "\u001b[2;36m          \u001b[0m\u001b[2;36m \u001b[0m\u001b[32mDEBUG   \u001b[0m Showing a random subset of \u001b[1;36m10000\u001b[0m data points \u001b[1m(\u001b[0mtotal \u001b[1;36m21876\u001b[0m\u001b[1m)\u001b[0m for clarity.         \u001b]8;id=1640098139.51902-934426;file:///Users/ra57rut/.conda/envs/lastal/lib/python3.9/site-packages/jcvi/graphics/dotplot.py\u001b\\\u001b[2mdotplot.py\u001b[0m\u001b]8;;\u001b\\\u001b[2m:226\u001b[0m\n",
      "\u001b[2;36m          \u001b[0m\u001b[2;36m \u001b[0m\u001b[32mDEBUG   \u001b[0m \u001b[33mxsize\u001b[0m=\u001b[1;36m42189\u001b[0m \u001b[33mysize\u001b[0m=\u001b[1;36m29078\u001b[0m                                                         \u001b]8;id=1640098139.6767511-198827;file:///Users/ra57rut/.conda/envs/lastal/lib/python3.9/site-packages/jcvi/graphics/dotplot.py\u001b\\\u001b[2mdotplot.py\u001b[0m\u001b]8;;\u001b\\\u001b[2m:336\u001b[0m\n",
      "\u001b[2;36m[15:49:01]\u001b[0m\u001b[2;36m \u001b[0m\u001b[32mDEBUG   \u001b[0m Dot plot title: Inter-genomic comparison: rice\\_prot vs lpe\\_prot \u001b[1m(\u001b[0m\u001b[1;36m21\u001b[0m,\u001b[1;36m876\u001b[0m gene  \u001b]8;id=1640098141.666386-354761;file:///Users/ra57rut/.conda/envs/lastal/lib/python3.9/site-packages/jcvi/graphics/dotplot.py\u001b\\\u001b[2mdotplot.py\u001b[0m\u001b]8;;\u001b\\\u001b[2m:379\u001b[0m\n",
      "                    pairs\u001b[1m)\u001b[0m                                                                                        \n",
      "\u001b[2;36m[15:49:04]\u001b[0m\u001b[2;36m \u001b[0m\u001b[32mDEBUG   \u001b[0m Figure saved to `rice_prot.lpe_prot.pdf` \u001b[1m(\u001b[0m810px x 810px\u001b[1m)\u001b[0m                           \u001b]8;id=1640098144.846627-574919;file:///Users/ra57rut/.conda/envs/lastal/lib/python3.9/site-packages/jcvi/graphics/base.py\u001b\\\u001b[2mbase.py\u001b[0m\u001b]8;;\u001b\\\u001b[2m:295\u001b[0m\n"
     ]
    }
   ],
   "source": [
    "!python3.9 -m jcvi.compara.catalog ortholog rice_prot lpe_prot --dbtype=prot --no_strip_names --liftover_dist=5"
   ]
  },
  {
   "cell_type": "markdown",
   "id": "2bacbc5c",
   "metadata": {},
   "source": [
    "### O. sativa vs O. punctata"
   ]
  },
  {
   "cell_type": "code",
   "execution_count": 3,
   "id": "eee38e4a-413e-43be-98c5-3d8cc75d8afd",
   "metadata": {
    "collapsed": true,
    "jupyter": {
     "outputs_hidden": true
    },
    "tags": []
   },
   "outputs": [
    {
     "name": "stdout",
     "output_type": "stream",
     "text": [
      "\u001b[2;36m[13:59:27]\u001b[0m\u001b[2;36m \u001b[0m\u001b[32mDEBUG   \u001b[0m lastdb -p Opun_prot Opun_prot.pep                                                                                                                                                       \u001b]8;id=1652356767.3904881-841356;file:///Users/ra57rut/.conda/envs/lastal/lib/python3.9/site-packages/jcvi/apps/base.py\u001b\\\u001b[2mbase.py\u001b[0m\u001b]8;;\u001b\\\u001b[2m:1185\u001b[0m\n",
      "\u001b[2;36m[13:59:36]\u001b[0m\u001b[2;36m \u001b[0m\u001b[32mDEBUG   \u001b[0m lastal -u \u001b[1;36m0\u001b[0m -P \u001b[1;36m8\u001b[0m -i3G -f BlastTab Opun_prot rice_prot.pep >.\u001b[35m/\u001b[0m\u001b[95mrice_prot.Opun_prot.last\u001b[0m                                                                                                   \u001b]8;id=1652356776.023045-969765;file:///Users/ra57rut/.conda/envs/lastal/lib/python3.9/site-packages/jcvi/apps/base.py\u001b\\\u001b[2mbase.py\u001b[0m\u001b]8;;\u001b\\\u001b[2m:1185\u001b[0m\n",
      "\u001b[2;36m[13:59:52]\u001b[0m\u001b[2;36m \u001b[0m\u001b[32mDEBUG   \u001b[0m Assuming --\u001b[33mqbed\u001b[0m=\u001b[35mrice_prot\u001b[0m.bed --\u001b[33msbed\u001b[0m=\u001b[35mOpun_prot\u001b[0m.bed                                                                                                                                    \u001b]8;id=1652356792.609277-567544;file:///Users/ra57rut/.conda/envs/lastal/lib/python3.9/site-packages/jcvi/compara/synteny.py\u001b\\\u001b[2msynteny.py\u001b[0m\u001b]8;;\u001b\\\u001b[2m:500\u001b[0m\n",
      "\u001b[2;36m          \u001b[0m\u001b[2;36m \u001b[0m\u001b[32mDEBUG   \u001b[0m Load file `rice_prot.bed`                                                                                                                                                                 \u001b]8;id=1652356792.610338-460118;file:///Users/ra57rut/.conda/envs/lastal/lib/python3.9/site-packages/jcvi/formats/base.py\u001b\\\u001b[2mbase.py\u001b[0m\u001b]8;;\u001b\\\u001b[2m:37\u001b[0m\n",
      "\u001b[2;36m[13:59:53]\u001b[0m\u001b[2;36m \u001b[0m\u001b[32mDEBUG   \u001b[0m Load file `Opun_prot.bed`                                                                                                                                                                 \u001b]8;id=1652356793.0793521-986445;file:///Users/ra57rut/.conda/envs/lastal/lib/python3.9/site-packages/jcvi/formats/base.py\u001b\\\u001b[2mbase.py\u001b[0m\u001b]8;;\u001b\\\u001b[2m:37\u001b[0m\n",
      "\u001b[2;36m          \u001b[0m\u001b[2;36m \u001b[0m\u001b[32mDEBUG   \u001b[0m Load BLAST file `rice_prot.Opun_prot.last` \u001b[1m(\u001b[0mtotal \u001b[1;36m680340\u001b[0m lines\u001b[1m)\u001b[0m                                                                                                                    \u001b]8;id=1652356793.452208-171224;file:///Users/ra57rut/.conda/envs/lastal/lib/python3.9/site-packages/jcvi/compara/blastfilter.py\u001b\\\u001b[2mblastfilter.py\u001b[0m\u001b]8;;\u001b\\\u001b[2m:48\u001b[0m\n",
      "\u001b[2;36m          \u001b[0m\u001b[2;36m \u001b[0m\u001b[32mDEBUG   \u001b[0m Load file `rice_prot.Opun_prot.last`                                                                                                                                                      \u001b]8;id=1652356793.4532428-352153;file:///Users/ra57rut/.conda/envs/lastal/lib/python3.9/site-packages/jcvi/formats/base.py\u001b\\\u001b[2mbase.py\u001b[0m\u001b]8;;\u001b\\\u001b[2m:37\u001b[0m\n",
      "\u001b[2;36m[13:59:55]\u001b[0m\u001b[2;36m \u001b[0m\u001b[31mWARNING \u001b[0m OPUNC03G30670.\u001b[1;36m1\u001b[0m not in Opun_prot.bed                                                                                                                                               \u001b]8;id=1652356795.606111-497286;file:///Users/ra57rut/.conda/envs/lastal/lib/python3.9/site-packages/jcvi/compara/blastfilter.py\u001b\\\u001b[2mblastfilter.py\u001b[0m\u001b]8;;\u001b\\\u001b[2m:74\u001b[0m\n",
      "\u001b[2;36m          \u001b[0m\u001b[2;36m \u001b[0m\u001b[31mWARNING \u001b[0m OPUNC02G14650.\u001b[1;36m4\u001b[0m not in Opun_prot.bed                                                                                                                                               \u001b]8;id=1652356795.62785-35424;file:///Users/ra57rut/.conda/envs/lastal/lib/python3.9/site-packages/jcvi/compara/blastfilter.py\u001b\\\u001b[2mblastfilter.py\u001b[0m\u001b]8;;\u001b\\\u001b[2m:74\u001b[0m\n",
      "\u001b[2;36m          \u001b[0m\u001b[2;36m \u001b[0m\u001b[31mWARNING \u001b[0m OPUNC02G14650.\u001b[1;36m7\u001b[0m not in Opun_prot.bed                                                                                                                                               \u001b]8;id=1652356795.62886-560025;file:///Users/ra57rut/.conda/envs/lastal/lib/python3.9/site-packages/jcvi/compara/blastfilter.py\u001b\\\u001b[2mblastfilter.py\u001b[0m\u001b]8;;\u001b\\\u001b[2m:74\u001b[0m\n",
      "\u001b[2;36m          \u001b[0m\u001b[2;36m \u001b[0m\u001b[31mWARNING \u001b[0m OPUNC02G14650.\u001b[1;36m3\u001b[0m not in Opun_prot.bed                                                                                                                                               \u001b]8;id=1652356795.62991-711559;file:///Users/ra57rut/.conda/envs/lastal/lib/python3.9/site-packages/jcvi/compara/blastfilter.py\u001b\\\u001b[2mblastfilter.py\u001b[0m\u001b]8;;\u001b\\\u001b[2m:74\u001b[0m\n",
      "\u001b[2;36m          \u001b[0m\u001b[2;36m \u001b[0m\u001b[31mWARNING \u001b[0m OPUNC02G14650.\u001b[1;36m2\u001b[0m not in Opun_prot.bed                                                                                                                                               \u001b]8;id=1652356795.630906-787120;file:///Users/ra57rut/.conda/envs/lastal/lib/python3.9/site-packages/jcvi/compara/blastfilter.py\u001b\\\u001b[2mblastfilter.py\u001b[0m\u001b]8;;\u001b\\\u001b[2m:74\u001b[0m\n",
      "\u001b[2;36m          \u001b[0m\u001b[2;36m \u001b[0m\u001b[31mWARNING \u001b[0m OPUNC02G14650.\u001b[1;36m6\u001b[0m not in Opun_prot.bed                                                                                                                                               \u001b]8;id=1652356795.631985-782132;file:///Users/ra57rut/.conda/envs/lastal/lib/python3.9/site-packages/jcvi/compara/blastfilter.py\u001b\\\u001b[2mblastfilter.py\u001b[0m\u001b]8;;\u001b\\\u001b[2m:74\u001b[0m\n",
      "\u001b[2;36m          \u001b[0m\u001b[2;36m \u001b[0m\u001b[31mWARNING \u001b[0m OPUNC02G14650.\u001b[1;36m5\u001b[0m not in Opun_prot.bed                                                                                                                                               \u001b]8;id=1652356795.632948-120884;file:///Users/ra57rut/.conda/envs/lastal/lib/python3.9/site-packages/jcvi/compara/blastfilter.py\u001b\\\u001b[2mblastfilter.py\u001b[0m\u001b]8;;\u001b\\\u001b[2m:74\u001b[0m\n",
      "\u001b[2;36m          \u001b[0m\u001b[2;36m \u001b[0m\u001b[31mWARNING \u001b[0m OPUNC06G04280.\u001b[1;36m2\u001b[0m not in Opun_prot.bed                                                                                                                                               \u001b]8;id=1652356795.633939-348909;file:///Users/ra57rut/.conda/envs/lastal/lib/python3.9/site-packages/jcvi/compara/blastfilter.py\u001b\\\u001b[2mblastfilter.py\u001b[0m\u001b]8;;\u001b\\\u001b[2m:74\u001b[0m\n",
      "\u001b[2;36m          \u001b[0m\u001b[2;36m \u001b[0m\u001b[31mWARNING \u001b[0m OPUNC05G04030.\u001b[1;36m1\u001b[0m not in Opun_prot.bed                                                                                                                                               \u001b]8;id=1652356795.634884-849071;file:///Users/ra57rut/.conda/envs/lastal/lib/python3.9/site-packages/jcvi/compara/blastfilter.py\u001b\\\u001b[2mblastfilter.py\u001b[0m\u001b]8;;\u001b\\\u001b[2m:74\u001b[0m\n",
      "\u001b[2;36m          \u001b[0m\u001b[2;36m \u001b[0m\u001b[31mWARNING \u001b[0m OPUNC05G04030.\u001b[1;36m3\u001b[0m not in Opun_prot.bed                                                                                                                                               \u001b]8;id=1652356795.635839-419069;file:///Users/ra57rut/.conda/envs/lastal/lib/python3.9/site-packages/jcvi/compara/blastfilter.py\u001b\\\u001b[2mblastfilter.py\u001b[0m\u001b]8;;\u001b\\\u001b[2m:74\u001b[0m\n",
      "\u001b[2;36m          \u001b[0m\u001b[2;36m \u001b[0m\u001b[31mWARNING \u001b[0m OPUNC05G04030.\u001b[1;36m4\u001b[0m not in Opun_prot.bed                                                                                                                                               \u001b]8;id=1652356795.6368089-726559;file:///Users/ra57rut/.conda/envs/lastal/lib/python3.9/site-packages/jcvi/compara/blastfilter.py\u001b\\\u001b[2mblastfilter.py\u001b[0m\u001b]8;;\u001b\\\u001b[2m:74\u001b[0m\n",
      "\u001b[2;36m          \u001b[0m\u001b[2;36m \u001b[0m\u001b[31mWARNING \u001b[0m OPUNC05G04030.\u001b[1;36m5\u001b[0m not in Opun_prot.bed                                                                                                                                               \u001b]8;id=1652356795.637781-282461;file:///Users/ra57rut/.conda/envs/lastal/lib/python3.9/site-packages/jcvi/compara/blastfilter.py\u001b\\\u001b[2mblastfilter.py\u001b[0m\u001b]8;;\u001b\\\u001b[2m:74\u001b[0m\n",
      "\u001b[2;36m          \u001b[0m\u001b[2;36m \u001b[0m\u001b[31mWARNING \u001b[0m OPUNC02G00360.\u001b[1;36m2\u001b[0m not in Opun_prot.bed                                                                                                                                               \u001b]8;id=1652356795.638709-191210;file:///Users/ra57rut/.conda/envs/lastal/lib/python3.9/site-packages/jcvi/compara/blastfilter.py\u001b\\\u001b[2mblastfilter.py\u001b[0m\u001b]8;;\u001b\\\u001b[2m:74\u001b[0m\n",
      "\u001b[2;36m          \u001b[0m\u001b[2;36m \u001b[0m\u001b[31mWARNING \u001b[0m OPUNC02G00360.\u001b[1;36m3\u001b[0m not in Opun_prot.bed                                                                                                                                               \u001b]8;id=1652356795.6396081-242529;file:///Users/ra57rut/.conda/envs/lastal/lib/python3.9/site-packages/jcvi/compara/blastfilter.py\u001b\\\u001b[2mblastfilter.py\u001b[0m\u001b]8;;\u001b\\\u001b[2m:74\u001b[0m\n",
      "\u001b[2;36m          \u001b[0m\u001b[2;36m \u001b[0m\u001b[31mWARNING \u001b[0m OPUNC01G26680.\u001b[1;36m1\u001b[0m not in Opun_prot.bed                                                                                                                                               \u001b]8;id=1652356795.640865-432660;file:///Users/ra57rut/.conda/envs/lastal/lib/python3.9/site-packages/jcvi/compara/blastfilter.py\u001b\\\u001b[2mblastfilter.py\u001b[0m\u001b]8;;\u001b\\\u001b[2m:74\u001b[0m\n",
      "\u001b[2;36m          \u001b[0m\u001b[2;36m \u001b[0m\u001b[31mWARNING \u001b[0m OPUNC02G35550.\u001b[1;36m2\u001b[0m not in Opun_prot.bed                                                                                                                                               \u001b]8;id=1652356795.642336-588603;file:///Users/ra57rut/.conda/envs/lastal/lib/python3.9/site-packages/jcvi/compara/blastfilter.py\u001b\\\u001b[2mblastfilter.py\u001b[0m\u001b]8;;\u001b\\\u001b[2m:74\u001b[0m\n",
      "\u001b[2;36m          \u001b[0m\u001b[2;36m \u001b[0m\u001b[31mWARNING \u001b[0m OPUNC02G27300.\u001b[1;36m2\u001b[0m not in Opun_prot.bed                                                                                                                                               \u001b]8;id=1652356795.64334-902430;file:///Users/ra57rut/.conda/envs/lastal/lib/python3.9/site-packages/jcvi/compara/blastfilter.py\u001b\\\u001b[2mblastfilter.py\u001b[0m\u001b]8;;\u001b\\\u001b[2m:74\u001b[0m\n",
      "\u001b[2;36m          \u001b[0m\u001b[2;36m \u001b[0m\u001b[31mWARNING \u001b[0m OPUNC07G23090.\u001b[1;36m2\u001b[0m not in Opun_prot.bed                                                                                                                                               \u001b]8;id=1652356795.644219-598591;file:///Users/ra57rut/.conda/envs/lastal/lib/python3.9/site-packages/jcvi/compara/blastfilter.py\u001b\\\u001b[2mblastfilter.py\u001b[0m\u001b]8;;\u001b\\\u001b[2m:74\u001b[0m\n",
      "\u001b[2;36m          \u001b[0m\u001b[2;36m \u001b[0m\u001b[31mWARNING \u001b[0m OPUNC07G23090.\u001b[1;36m4\u001b[0m not in Opun_prot.bed                                                                                                                                               \u001b]8;id=1652356795.645386-328429;file:///Users/ra57rut/.conda/envs/lastal/lib/python3.9/site-packages/jcvi/compara/blastfilter.py\u001b\\\u001b[2mblastfilter.py\u001b[0m\u001b]8;;\u001b\\\u001b[2m:74\u001b[0m\n",
      "\u001b[2;36m          \u001b[0m\u001b[2;36m \u001b[0m\u001b[31mWARNING \u001b[0m OPUNC07G23090.\u001b[1;36m3\u001b[0m not in Opun_prot.bed                                                                                                                                               \u001b]8;id=1652356795.646927-956462;file:///Users/ra57rut/.conda/envs/lastal/lib/python3.9/site-packages/jcvi/compara/blastfilter.py\u001b\\\u001b[2mblastfilter.py\u001b[0m\u001b]8;;\u001b\\\u001b[2m:74\u001b[0m\n",
      "\u001b[2;36m          \u001b[0m\u001b[2;36m \u001b[0m\u001b[31mWARNING \u001b[0m OPUNC08G04160.\u001b[1;36m2\u001b[0m not in Opun_prot.bed                                                                                                                                               \u001b]8;id=1652356795.648009-847180;file:///Users/ra57rut/.conda/envs/lastal/lib/python3.9/site-packages/jcvi/compara/blastfilter.py\u001b\\\u001b[2mblastfilter.py\u001b[0m\u001b]8;;\u001b\\\u001b[2m:74\u001b[0m\n",
      "\u001b[2;36m          \u001b[0m\u001b[2;36m \u001b[0m\u001b[31mWARNING \u001b[0m OPUNC11G04930.\u001b[1;36m2\u001b[0m not in Opun_prot.bed                                                                                                                                               \u001b]8;id=1652356795.648947-172753;file:///Users/ra57rut/.conda/envs/lastal/lib/python3.9/site-packages/jcvi/compara/blastfilter.py\u001b\\\u001b[2mblastfilter.py\u001b[0m\u001b]8;;\u001b\\\u001b[2m:74\u001b[0m\n",
      "\u001b[2;36m          \u001b[0m\u001b[2;36m \u001b[0m\u001b[31mWARNING \u001b[0m OPUNC11G04930.\u001b[1;36m1\u001b[0m not in Opun_prot.bed                                                                                                                                               \u001b]8;id=1652356795.649823-392117;file:///Users/ra57rut/.conda/envs/lastal/lib/python3.9/site-packages/jcvi/compara/blastfilter.py\u001b\\\u001b[2mblastfilter.py\u001b[0m\u001b]8;;\u001b\\\u001b[2m:74\u001b[0m\n",
      "\u001b[2;36m          \u001b[0m\u001b[2;36m \u001b[0m\u001b[31mWARNING \u001b[0m OPUNC12G08320.\u001b[1;36m2\u001b[0m not in Opun_prot.bed                                                                                                                                               \u001b]8;id=1652356795.651068-28425;file:///Users/ra57rut/.conda/envs/lastal/lib/python3.9/site-packages/jcvi/compara/blastfilter.py\u001b\\\u001b[2mblastfilter.py\u001b[0m\u001b]8;;\u001b\\\u001b[2m:74\u001b[0m\n",
      "\u001b[2;36m          \u001b[0m\u001b[2;36m \u001b[0m\u001b[31mWARNING \u001b[0m OPUNC04G18410.\u001b[1;36m2\u001b[0m not in Opun_prot.bed                                                                                                                                               \u001b]8;id=1652356795.652433-210492;file:///Users/ra57rut/.conda/envs/lastal/lib/python3.9/site-packages/jcvi/compara/blastfilter.py\u001b\\\u001b[2mblastfilter.py\u001b[0m\u001b]8;;\u001b\\\u001b[2m:74\u001b[0m\n",
      "\u001b[2;36m          \u001b[0m\u001b[2;36m \u001b[0m\u001b[31mWARNING \u001b[0m OPUNC03G35910.\u001b[1;36m2\u001b[0m not in Opun_prot.bed                                                                                                                                               \u001b]8;id=1652356795.653889-547153;file:///Users/ra57rut/.conda/envs/lastal/lib/python3.9/site-packages/jcvi/compara/blastfilter.py\u001b\\\u001b[2mblastfilter.py\u001b[0m\u001b]8;;\u001b\\\u001b[2m:74\u001b[0m\n",
      "\u001b[2;36m          \u001b[0m\u001b[2;36m \u001b[0m\u001b[31mWARNING \u001b[0m OPUNC03G35910.\u001b[1;36m3\u001b[0m not in Opun_prot.bed                                                                                                                                               \u001b]8;id=1652356795.655371-3720;file:///Users/ra57rut/.conda/envs/lastal/lib/python3.9/site-packages/jcvi/compara/blastfilter.py\u001b\\\u001b[2mblastfilter.py\u001b[0m\u001b]8;;\u001b\\\u001b[2m:74\u001b[0m\n",
      "\u001b[2;36m          \u001b[0m\u001b[2;36m \u001b[0m\u001b[31mWARNING \u001b[0m OPUNC06G05110.\u001b[1;36m2\u001b[0m not in Opun_prot.bed                                                                                                                                               \u001b]8;id=1652356795.65695-320081;file:///Users/ra57rut/.conda/envs/lastal/lib/python3.9/site-packages/jcvi/compara/blastfilter.py\u001b\\\u001b[2mblastfilter.py\u001b[0m\u001b]8;;\u001b\\\u001b[2m:74\u001b[0m\n",
      "\u001b[2;36m          \u001b[0m\u001b[2;36m \u001b[0m\u001b[31mWARNING \u001b[0m OPUNC01G07120.\u001b[1;36m1\u001b[0m not in Opun_prot.bed                                                                                                                                               \u001b]8;id=1652356795.658166-754806;file:///Users/ra57rut/.conda/envs/lastal/lib/python3.9/site-packages/jcvi/compara/blastfilter.py\u001b\\\u001b[2mblastfilter.py\u001b[0m\u001b]8;;\u001b\\\u001b[2m:74\u001b[0m\n",
      "\u001b[2;36m          \u001b[0m\u001b[2;36m \u001b[0m\u001b[31mWARNING \u001b[0m OPUNC03G01580.\u001b[1;36m2\u001b[0m not in Opun_prot.bed                                                                                                                                               \u001b]8;id=1652356795.659209-328128;file:///Users/ra57rut/.conda/envs/lastal/lib/python3.9/site-packages/jcvi/compara/blastfilter.py\u001b\\\u001b[2mblastfilter.py\u001b[0m\u001b]8;;\u001b\\\u001b[2m:74\u001b[0m\n",
      "\u001b[2;36m          \u001b[0m\u001b[2;36m \u001b[0m\u001b[31mWARNING \u001b[0m OPUNC01G26680.\u001b[1;36m1\u001b[0m not in Opun_prot.bed                                                                                                                                               \u001b]8;id=1652356795.660173-809362;file:///Users/ra57rut/.conda/envs/lastal/lib/python3.9/site-packages/jcvi/compara/blastfilter.py\u001b\\\u001b[2mblastfilter.py\u001b[0m\u001b]8;;\u001b\\\u001b[2m:74\u001b[0m\n",
      "\u001b[2;36m          \u001b[0m\u001b[2;36m \u001b[0m\u001b[31mWARNING \u001b[0m OPUNC01G02750.\u001b[1;36m2\u001b[0m not in Opun_prot.bed                                                                                                                                               \u001b]8;id=1652356795.6611571-342030;file:///Users/ra57rut/.conda/envs/lastal/lib/python3.9/site-packages/jcvi/compara/blastfilter.py\u001b\\\u001b[2mblastfilter.py\u001b[0m\u001b]8;;\u001b\\\u001b[2m:74\u001b[0m\n",
      "\u001b[2;36m          \u001b[0m\u001b[2;36m \u001b[0m\u001b[31mWARNING \u001b[0m OPUNC03G19410.\u001b[1;36m2\u001b[0m not in Opun_prot.bed                                                                                                                                               \u001b]8;id=1652356795.662105-995800;file:///Users/ra57rut/.conda/envs/lastal/lib/python3.9/site-packages/jcvi/compara/blastfilter.py\u001b\\\u001b[2mblastfilter.py\u001b[0m\u001b]8;;\u001b\\\u001b[2m:74\u001b[0m\n",
      "\u001b[2;36m          \u001b[0m\u001b[2;36m \u001b[0m\u001b[31mWARNING \u001b[0m OPUNC06G00090.\u001b[1;36m1\u001b[0m not in Opun_prot.bed                                                                                                                                               \u001b]8;id=1652356795.6630368-298326;file:///Users/ra57rut/.conda/envs/lastal/lib/python3.9/site-packages/jcvi/compara/blastfilter.py\u001b\\\u001b[2mblastfilter.py\u001b[0m\u001b]8;;\u001b\\\u001b[2m:74\u001b[0m\n",
      "\u001b[2;36m          \u001b[0m\u001b[2;36m \u001b[0m\u001b[31mWARNING \u001b[0m OPUNC01G07120.\u001b[1;36m3\u001b[0m not in Opun_prot.bed                                                                                                                                               \u001b]8;id=1652356795.664118-958384;file:///Users/ra57rut/.conda/envs/lastal/lib/python3.9/site-packages/jcvi/compara/blastfilter.py\u001b\\\u001b[2mblastfilter.py\u001b[0m\u001b]8;;\u001b\\\u001b[2m:74\u001b[0m\n",
      "\u001b[2;36m          \u001b[0m\u001b[2;36m \u001b[0m\u001b[31mWARNING \u001b[0m OPUNC06G00090.\u001b[1;36m3\u001b[0m not in Opun_prot.bed                                                                                                                                               \u001b]8;id=1652356795.665173-669971;file:///Users/ra57rut/.conda/envs/lastal/lib/python3.9/site-packages/jcvi/compara/blastfilter.py\u001b\\\u001b[2mblastfilter.py\u001b[0m\u001b]8;;\u001b\\\u001b[2m:74\u001b[0m\n",
      "\u001b[2;36m          \u001b[0m\u001b[2;36m \u001b[0m\u001b[31mWARNING \u001b[0m OPUNC10G06400.\u001b[1;36m2\u001b[0m not in Opun_prot.bed                                                                                                                                               \u001b]8;id=1652356795.666351-949281;file:///Users/ra57rut/.conda/envs/lastal/lib/python3.9/site-packages/jcvi/compara/blastfilter.py\u001b\\\u001b[2mblastfilter.py\u001b[0m\u001b]8;;\u001b\\\u001b[2m:74\u001b[0m\n",
      "\u001b[2;36m          \u001b[0m\u001b[2;36m \u001b[0m\u001b[31mWARNING \u001b[0m OPUNC03G21520.\u001b[1;36m3\u001b[0m not in Opun_prot.bed                                                                                                                                               \u001b]8;id=1652356795.667329-64709;file:///Users/ra57rut/.conda/envs/lastal/lib/python3.9/site-packages/jcvi/compara/blastfilter.py\u001b\\\u001b[2mblastfilter.py\u001b[0m\u001b]8;;\u001b\\\u001b[2m:74\u001b[0m\n",
      "\u001b[2;36m          \u001b[0m\u001b[2;36m \u001b[0m\u001b[31mWARNING \u001b[0m OPUNC03G04240.\u001b[1;36m2\u001b[0m not in Opun_prot.bed                                                                                                                                               \u001b]8;id=1652356795.668256-637703;file:///Users/ra57rut/.conda/envs/lastal/lib/python3.9/site-packages/jcvi/compara/blastfilter.py\u001b\\\u001b[2mblastfilter.py\u001b[0m\u001b]8;;\u001b\\\u001b[2m:74\u001b[0m\n",
      "\u001b[2;36m          \u001b[0m\u001b[2;36m \u001b[0m\u001b[31mWARNING \u001b[0m OPUNC02G01920.\u001b[1;36m1\u001b[0m not in Opun_prot.bed                                                                                                                                               \u001b]8;id=1652356795.669158-201091;file:///Users/ra57rut/.conda/envs/lastal/lib/python3.9/site-packages/jcvi/compara/blastfilter.py\u001b\\\u001b[2mblastfilter.py\u001b[0m\u001b]8;;\u001b\\\u001b[2m:74\u001b[0m\n",
      "\u001b[2;36m          \u001b[0m\u001b[2;36m \u001b[0m\u001b[31mWARNING \u001b[0m OPUNC06G00090.\u001b[1;36m2\u001b[0m not in Opun_prot.bed                                                                                                                                               \u001b]8;id=1652356795.670126-996554;file:///Users/ra57rut/.conda/envs/lastal/lib/python3.9/site-packages/jcvi/compara/blastfilter.py\u001b\\\u001b[2mblastfilter.py\u001b[0m\u001b]8;;\u001b\\\u001b[2m:74\u001b[0m\n",
      "\u001b[2;36m          \u001b[0m\u001b[2;36m \u001b[0m\u001b[31mWARNING \u001b[0m OPUNC02G22870.\u001b[1;36m2\u001b[0m not in Opun_prot.bed                                                                                                                                               \u001b]8;id=1652356795.671118-93189;file:///Users/ra57rut/.conda/envs/lastal/lib/python3.9/site-packages/jcvi/compara/blastfilter.py\u001b\\\u001b[2mblastfilter.py\u001b[0m\u001b]8;;\u001b\\\u001b[2m:74\u001b[0m\n",
      "\u001b[2;36m          \u001b[0m\u001b[2;36m \u001b[0m\u001b[31mWARNING \u001b[0m OPUNC02G01920.\u001b[1;36m2\u001b[0m not in Opun_prot.bed                                                                                                                                               \u001b]8;id=1652356795.6720388-53899;file:///Users/ra57rut/.conda/envs/lastal/lib/python3.9/site-packages/jcvi/compara/blastfilter.py\u001b\\\u001b[2mblastfilter.py\u001b[0m\u001b]8;;\u001b\\\u001b[2m:74\u001b[0m\n",
      "\u001b[2;36m          \u001b[0m\u001b[2;36m \u001b[0m\u001b[31mWARNING \u001b[0m OPUNC07G22910.\u001b[1;36m3\u001b[0m not in Opun_prot.bed                                                                                                                                               \u001b]8;id=1652356795.673012-573344;file:///Users/ra57rut/.conda/envs/lastal/lib/python3.9/site-packages/jcvi/compara/blastfilter.py\u001b\\\u001b[2mblastfilter.py\u001b[0m\u001b]8;;\u001b\\\u001b[2m:74\u001b[0m\n",
      "\u001b[2;36m          \u001b[0m\u001b[2;36m \u001b[0m\u001b[31mWARNING \u001b[0m OPUNC07G22910.\u001b[1;36m2\u001b[0m not in Opun_prot.bed                                                                                                                                               \u001b]8;id=1652356795.674195-316215;file:///Users/ra57rut/.conda/envs/lastal/lib/python3.9/site-packages/jcvi/compara/blastfilter.py\u001b\\\u001b[2mblastfilter.py\u001b[0m\u001b]8;;\u001b\\\u001b[2m:74\u001b[0m\n",
      "\u001b[2;36m          \u001b[0m\u001b[2;36m \u001b[0m\u001b[31mWARNING \u001b[0m OPUNC04G24750.\u001b[1;36m2\u001b[0m not in Opun_prot.bed                                                                                                                                               \u001b]8;id=1652356795.6755068-303526;file:///Users/ra57rut/.conda/envs/lastal/lib/python3.9/site-packages/jcvi/compara/blastfilter.py\u001b\\\u001b[2mblastfilter.py\u001b[0m\u001b]8;;\u001b\\\u001b[2m:74\u001b[0m\n",
      "\u001b[2;36m          \u001b[0m\u001b[2;36m \u001b[0m\u001b[31mWARNING \u001b[0m OPUNC01G40680.\u001b[1;36m2\u001b[0m not in Opun_prot.bed                                                                                                                                               \u001b]8;id=1652356795.6765969-811694;file:///Users/ra57rut/.conda/envs/lastal/lib/python3.9/site-packages/jcvi/compara/blastfilter.py\u001b\\\u001b[2mblastfilter.py\u001b[0m\u001b]8;;\u001b\\\u001b[2m:74\u001b[0m\n",
      "\u001b[2;36m          \u001b[0m\u001b[2;36m \u001b[0m\u001b[31mWARNING \u001b[0m OPUNC11G00310.\u001b[1;36m1\u001b[0m not in Opun_prot.bed                                                                                                                                               \u001b]8;id=1652356795.6778681-481501;file:///Users/ra57rut/.conda/envs/lastal/lib/python3.9/site-packages/jcvi/compara/blastfilter.py\u001b\\\u001b[2mblastfilter.py\u001b[0m\u001b]8;;\u001b\\\u001b[2m:74\u001b[0m\n",
      "\u001b[2;36m          \u001b[0m\u001b[2;36m \u001b[0m\u001b[31mWARNING \u001b[0m OPUNC11G00310.\u001b[1;36m1\u001b[0m not in Opun_prot.bed                                                                                                                                               \u001b]8;id=1652356795.678983-777191;file:///Users/ra57rut/.conda/envs/lastal/lib/python3.9/site-packages/jcvi/compara/blastfilter.py\u001b\\\u001b[2mblastfilter.py\u001b[0m\u001b]8;;\u001b\\\u001b[2m:74\u001b[0m\n",
      "\u001b[2;36m          \u001b[0m\u001b[2;36m \u001b[0m\u001b[31mWARNING \u001b[0m OPUNC03G21520.\u001b[1;36m4\u001b[0m not in Opun_prot.bed                                                                                                                                               \u001b]8;id=1652356795.680028-172944;file:///Users/ra57rut/.conda/envs/lastal/lib/python3.9/site-packages/jcvi/compara/blastfilter.py\u001b\\\u001b[2mblastfilter.py\u001b[0m\u001b]8;;\u001b\\\u001b[2m:74\u001b[0m\n",
      "\u001b[2;36m          \u001b[0m\u001b[2;36m \u001b[0m\u001b[31mWARNING \u001b[0m OPUNC06G11480.\u001b[1;36m2\u001b[0m not in Opun_prot.bed                                                                                                                                               \u001b]8;id=1652356795.681047-917979;file:///Users/ra57rut/.conda/envs/lastal/lib/python3.9/site-packages/jcvi/compara/blastfilter.py\u001b\\\u001b[2mblastfilter.py\u001b[0m\u001b]8;;\u001b\\\u001b[2m:74\u001b[0m\n",
      "\u001b[2;36m          \u001b[0m\u001b[2;36m \u001b[0m\u001b[31mWARNING \u001b[0m OPUNC06G11500.\u001b[1;36m2\u001b[0m not in Opun_prot.bed                                                                                                                                               \u001b]8;id=1652356795.682324-976332;file:///Users/ra57rut/.conda/envs/lastal/lib/python3.9/site-packages/jcvi/compara/blastfilter.py\u001b\\\u001b[2mblastfilter.py\u001b[0m\u001b]8;;\u001b\\\u001b[2m:74\u001b[0m\n",
      "\u001b[2;36m          \u001b[0m\u001b[2;36m \u001b[0m\u001b[31mWARNING \u001b[0m OPUNC03G02000.\u001b[1;36m2\u001b[0m not in Opun_prot.bed                                                                                                                                               \u001b]8;id=1652356795.683721-124429;file:///Users/ra57rut/.conda/envs/lastal/lib/python3.9/site-packages/jcvi/compara/blastfilter.py\u001b\\\u001b[2mblastfilter.py\u001b[0m\u001b]8;;\u001b\\\u001b[2m:74\u001b[0m\n",
      "\u001b[2;36m          \u001b[0m\u001b[2;36m \u001b[0m\u001b[31mWARNING \u001b[0m OPUNC01G07120.\u001b[1;36m2\u001b[0m not in Opun_prot.bed                                                                                                                                               \u001b]8;id=1652356795.685076-278864;file:///Users/ra57rut/.conda/envs/lastal/lib/python3.9/site-packages/jcvi/compara/blastfilter.py\u001b\\\u001b[2mblastfilter.py\u001b[0m\u001b]8;;\u001b\\\u001b[2m:74\u001b[0m\n",
      "\u001b[2;36m          \u001b[0m\u001b[2;36m \u001b[0m\u001b[31mWARNING \u001b[0m OPUNC10G18330.\u001b[1;36m3\u001b[0m not in Opun_prot.bed                                                                                                                                               \u001b]8;id=1652356795.686517-238695;file:///Users/ra57rut/.conda/envs/lastal/lib/python3.9/site-packages/jcvi/compara/blastfilter.py\u001b\\\u001b[2mblastfilter.py\u001b[0m\u001b]8;;\u001b\\\u001b[2m:74\u001b[0m\n",
      "\u001b[2;36m          \u001b[0m\u001b[2;36m \u001b[0m\u001b[31mWARNING \u001b[0m OPUNC07G17800.\u001b[1;36m2\u001b[0m not in Opun_prot.bed                                                                                                                                               \u001b]8;id=1652356795.6877708-878911;file:///Users/ra57rut/.conda/envs/lastal/lib/python3.9/site-packages/jcvi/compara/blastfilter.py\u001b\\\u001b[2mblastfilter.py\u001b[0m\u001b]8;;\u001b\\\u001b[2m:74\u001b[0m\n",
      "\u001b[2;36m          \u001b[0m\u001b[2;36m \u001b[0m\u001b[31mWARNING \u001b[0m OPUNC12G15960.\u001b[1;36m2\u001b[0m not in Opun_prot.bed                                                                                                                                               \u001b]8;id=1652356795.689445-15319;file:///Users/ra57rut/.conda/envs/lastal/lib/python3.9/site-packages/jcvi/compara/blastfilter.py\u001b\\\u001b[2mblastfilter.py\u001b[0m\u001b]8;;\u001b\\\u001b[2m:74\u001b[0m\n",
      "\u001b[2;36m          \u001b[0m\u001b[2;36m \u001b[0m\u001b[31mWARNING \u001b[0m OPUNC12G15960.\u001b[1;36m3\u001b[0m not in Opun_prot.bed                                                                                                                                               \u001b]8;id=1652356795.6910331-293116;file:///Users/ra57rut/.conda/envs/lastal/lib/python3.9/site-packages/jcvi/compara/blastfilter.py\u001b\\\u001b[2mblastfilter.py\u001b[0m\u001b]8;;\u001b\\\u001b[2m:74\u001b[0m\n",
      "\u001b[2;36m          \u001b[0m\u001b[2;36m \u001b[0m\u001b[31mWARNING \u001b[0m OPUNC12G15960.\u001b[1;36m4\u001b[0m not in Opun_prot.bed                                                                                                                                               \u001b]8;id=1652356795.6929011-114395;file:///Users/ra57rut/.conda/envs/lastal/lib/python3.9/site-packages/jcvi/compara/blastfilter.py\u001b\\\u001b[2mblastfilter.py\u001b[0m\u001b]8;;\u001b\\\u001b[2m:74\u001b[0m\n",
      "\u001b[2;36m          \u001b[0m\u001b[2;36m \u001b[0m\u001b[31mWARNING \u001b[0m OPUNC10G18330.\u001b[1;36m2\u001b[0m not in Opun_prot.bed                                                                                                                                               \u001b]8;id=1652356795.694446-85777;file:///Users/ra57rut/.conda/envs/lastal/lib/python3.9/site-packages/jcvi/compara/blastfilter.py\u001b\\\u001b[2mblastfilter.py\u001b[0m\u001b]8;;\u001b\\\u001b[2m:74\u001b[0m\n",
      "\u001b[2;36m          \u001b[0m\u001b[2;36m \u001b[0m\u001b[31mWARNING \u001b[0m OPUNC05G19080.\u001b[1;36m2\u001b[0m not in Opun_prot.bed                                                                                                                                               \u001b]8;id=1652356795.695619-308494;file:///Users/ra57rut/.conda/envs/lastal/lib/python3.9/site-packages/jcvi/compara/blastfilter.py\u001b\\\u001b[2mblastfilter.py\u001b[0m\u001b]8;;\u001b\\\u001b[2m:74\u001b[0m\n",
      "\u001b[2;36m          \u001b[0m\u001b[2;36m \u001b[0m\u001b[31mWARNING \u001b[0m OPUNC05G19080.\u001b[1;36m3\u001b[0m not in Opun_prot.bed                                                                                                                                               \u001b]8;id=1652356795.696801-927287;file:///Users/ra57rut/.conda/envs/lastal/lib/python3.9/site-packages/jcvi/compara/blastfilter.py\u001b\\\u001b[2mblastfilter.py\u001b[0m\u001b]8;;\u001b\\\u001b[2m:74\u001b[0m\n",
      "\u001b[2;36m          \u001b[0m\u001b[2;36m \u001b[0m\u001b[31mWARNING \u001b[0m OPUNC10G18330.\u001b[1;36m4\u001b[0m not in Opun_prot.bed                                                                                                                                               \u001b]8;id=1652356795.698076-625752;file:///Users/ra57rut/.conda/envs/lastal/lib/python3.9/site-packages/jcvi/compara/blastfilter.py\u001b\\\u001b[2mblastfilter.py\u001b[0m\u001b]8;;\u001b\\\u001b[2m:74\u001b[0m\n",
      "\u001b[2;36m          \u001b[0m\u001b[2;36m \u001b[0m\u001b[31mWARNING \u001b[0m OPUNC02G22870.\u001b[1;36m3\u001b[0m not in Opun_prot.bed                                                                                                                                               \u001b]8;id=1652356795.699036-789901;file:///Users/ra57rut/.conda/envs/lastal/lib/python3.9/site-packages/jcvi/compara/blastfilter.py\u001b\\\u001b[2mblastfilter.py\u001b[0m\u001b]8;;\u001b\\\u001b[2m:74\u001b[0m\n",
      "\u001b[2;36m          \u001b[0m\u001b[2;36m \u001b[0m\u001b[31mWARNING \u001b[0m OPUNC09G02960.\u001b[1;36m2\u001b[0m not in Opun_prot.bed                                                                                                                                               \u001b]8;id=1652356795.6999528-208399;file:///Users/ra57rut/.conda/envs/lastal/lib/python3.9/site-packages/jcvi/compara/blastfilter.py\u001b\\\u001b[2mblastfilter.py\u001b[0m\u001b]8;;\u001b\\\u001b[2m:74\u001b[0m\n",
      "\u001b[2;36m          \u001b[0m\u001b[2;36m \u001b[0m\u001b[31mWARNING \u001b[0m OPUNC09G02960.\u001b[1;36m3\u001b[0m not in Opun_prot.bed                                                                                                                                               \u001b]8;id=1652356795.70089-993502;file:///Users/ra57rut/.conda/envs/lastal/lib/python3.9/site-packages/jcvi/compara/blastfilter.py\u001b\\\u001b[2mblastfilter.py\u001b[0m\u001b]8;;\u001b\\\u001b[2m:74\u001b[0m\n",
      "\u001b[2;36m          \u001b[0m\u001b[2;36m \u001b[0m\u001b[31mWARNING \u001b[0m OPUNC08G01140.\u001b[1;36m2\u001b[0m not in Opun_prot.bed                                                                                                                                               \u001b]8;id=1652356795.7022002-597714;file:///Users/ra57rut/.conda/envs/lastal/lib/python3.9/site-packages/jcvi/compara/blastfilter.py\u001b\\\u001b[2mblastfilter.py\u001b[0m\u001b]8;;\u001b\\\u001b[2m:74\u001b[0m\n",
      "\u001b[2;36m          \u001b[0m\u001b[2;36m \u001b[0m\u001b[31mWARNING \u001b[0m OPUNC02G29670.\u001b[1;36m5\u001b[0m not in Opun_prot.bed                                                                                                                                               \u001b]8;id=1652356795.703495-395927;file:///Users/ra57rut/.conda/envs/lastal/lib/python3.9/site-packages/jcvi/compara/blastfilter.py\u001b\\\u001b[2mblastfilter.py\u001b[0m\u001b]8;;\u001b\\\u001b[2m:74\u001b[0m\n",
      "\u001b[2;36m          \u001b[0m\u001b[2;36m \u001b[0m\u001b[31mWARNING \u001b[0m OPUNC08G01140.\u001b[1;36m3\u001b[0m not in Opun_prot.bed                                                                                                                                               \u001b]8;id=1652356795.704947-425293;file:///Users/ra57rut/.conda/envs/lastal/lib/python3.9/site-packages/jcvi/compara/blastfilter.py\u001b\\\u001b[2mblastfilter.py\u001b[0m\u001b]8;;\u001b\\\u001b[2m:74\u001b[0m\n",
      "\u001b[2;36m          \u001b[0m\u001b[2;36m \u001b[0m\u001b[31mWARNING \u001b[0m OPUNC08G01140.\u001b[1;36m4\u001b[0m not in Opun_prot.bed                                                                                                                                               \u001b]8;id=1652356795.7061892-157210;file:///Users/ra57rut/.conda/envs/lastal/lib/python3.9/site-packages/jcvi/compara/blastfilter.py\u001b\\\u001b[2mblastfilter.py\u001b[0m\u001b]8;;\u001b\\\u001b[2m:74\u001b[0m\n",
      "\u001b[2;36m          \u001b[0m\u001b[2;36m \u001b[0m\u001b[31mWARNING \u001b[0m OPUNC08G13480.\u001b[1;36m2\u001b[0m not in Opun_prot.bed                                                                                                                                               \u001b]8;id=1652356795.707318-559479;file:///Users/ra57rut/.conda/envs/lastal/lib/python3.9/site-packages/jcvi/compara/blastfilter.py\u001b\\\u001b[2mblastfilter.py\u001b[0m\u001b]8;;\u001b\\\u001b[2m:74\u001b[0m\n",
      "\u001b[2;36m          \u001b[0m\u001b[2;36m \u001b[0m\u001b[31mWARNING \u001b[0m OPUNC01G13380.\u001b[1;36m3\u001b[0m not in Opun_prot.bed                                                                                                                                               \u001b]8;id=1652356795.709391-987270;file:///Users/ra57rut/.conda/envs/lastal/lib/python3.9/site-packages/jcvi/compara/blastfilter.py\u001b\\\u001b[2mblastfilter.py\u001b[0m\u001b]8;;\u001b\\\u001b[2m:74\u001b[0m\n",
      "\u001b[2;36m          \u001b[0m\u001b[2;36m \u001b[0m\u001b[31mWARNING \u001b[0m OPUNC08G01140.\u001b[1;36m5\u001b[0m not in Opun_prot.bed                                                                                                                                               \u001b]8;id=1652356795.71146-597096;file:///Users/ra57rut/.conda/envs/lastal/lib/python3.9/site-packages/jcvi/compara/blastfilter.py\u001b\\\u001b[2mblastfilter.py\u001b[0m\u001b]8;;\u001b\\\u001b[2m:74\u001b[0m\n",
      "\u001b[2;36m          \u001b[0m\u001b[2;36m \u001b[0m\u001b[31mWARNING \u001b[0m OPUNC07G22820.\u001b[1;36m2\u001b[0m not in Opun_prot.bed                                                                                                                                               \u001b]8;id=1652356795.712843-331849;file:///Users/ra57rut/.conda/envs/lastal/lib/python3.9/site-packages/jcvi/compara/blastfilter.py\u001b\\\u001b[2mblastfilter.py\u001b[0m\u001b]8;;\u001b\\\u001b[2m:74\u001b[0m\n",
      "\u001b[2;36m          \u001b[0m\u001b[2;36m \u001b[0m\u001b[31mWARNING \u001b[0m OPUNC06G11480.\u001b[1;36m3\u001b[0m not in Opun_prot.bed                                                                                                                                               \u001b]8;id=1652356795.714018-251842;file:///Users/ra57rut/.conda/envs/lastal/lib/python3.9/site-packages/jcvi/compara/blastfilter.py\u001b\\\u001b[2mblastfilter.py\u001b[0m\u001b]8;;\u001b\\\u001b[2m:74\u001b[0m\n",
      "\u001b[2;36m          \u001b[0m\u001b[2;36m \u001b[0m\u001b[31mWARNING \u001b[0m OPUNC06G11500.\u001b[1;36m3\u001b[0m not in Opun_prot.bed                                                                                                                                               \u001b]8;id=1652356795.7149692-311908;file:///Users/ra57rut/.conda/envs/lastal/lib/python3.9/site-packages/jcvi/compara/blastfilter.py\u001b\\\u001b[2mblastfilter.py\u001b[0m\u001b]8;;\u001b\\\u001b[2m:74\u001b[0m\n",
      "\u001b[2;36m          \u001b[0m\u001b[2;36m \u001b[0m\u001b[31mWARNING \u001b[0m OPUNC06G11480.\u001b[1;36m4\u001b[0m not in Opun_prot.bed                                                                                                                                               \u001b]8;id=1652356795.7158651-880058;file:///Users/ra57rut/.conda/envs/lastal/lib/python3.9/site-packages/jcvi/compara/blastfilter.py\u001b\\\u001b[2mblastfilter.py\u001b[0m\u001b]8;;\u001b\\\u001b[2m:74\u001b[0m\n",
      "\u001b[2;36m          \u001b[0m\u001b[2;36m \u001b[0m\u001b[31mWARNING \u001b[0m OPUNC06G11500.\u001b[1;36m4\u001b[0m not in Opun_prot.bed                                                                                                                                               \u001b]8;id=1652356795.716894-89825;file:///Users/ra57rut/.conda/envs/lastal/lib/python3.9/site-packages/jcvi/compara/blastfilter.py\u001b\\\u001b[2mblastfilter.py\u001b[0m\u001b]8;;\u001b\\\u001b[2m:74\u001b[0m\n",
      "\u001b[2;36m          \u001b[0m\u001b[2;36m \u001b[0m\u001b[31mWARNING \u001b[0m OPUNC08G13480.\u001b[1;36m1\u001b[0m not in Opun_prot.bed                                                                                                                                               \u001b]8;id=1652356795.717807-751597;file:///Users/ra57rut/.conda/envs/lastal/lib/python3.9/site-packages/jcvi/compara/blastfilter.py\u001b\\\u001b[2mblastfilter.py\u001b[0m\u001b]8;;\u001b\\\u001b[2m:74\u001b[0m\n",
      "\u001b[2;36m          \u001b[0m\u001b[2;36m \u001b[0m\u001b[31mWARNING \u001b[0m OPUNC01G13380.\u001b[1;36m2\u001b[0m not in Opun_prot.bed                                                                                                                                               \u001b]8;id=1652356795.719074-734021;file:///Users/ra57rut/.conda/envs/lastal/lib/python3.9/site-packages/jcvi/compara/blastfilter.py\u001b\\\u001b[2mblastfilter.py\u001b[0m\u001b]8;;\u001b\\\u001b[2m:74\u001b[0m\n",
      "\u001b[2;36m          \u001b[0m\u001b[2;36m \u001b[0m\u001b[31mWARNING \u001b[0m OPUNC07G24210.\u001b[1;36m2\u001b[0m not in Opun_prot.bed                                                                                                                                               \u001b]8;id=1652356795.720181-156040;file:///Users/ra57rut/.conda/envs/lastal/lib/python3.9/site-packages/jcvi/compara/blastfilter.py\u001b\\\u001b[2mblastfilter.py\u001b[0m\u001b]8;;\u001b\\\u001b[2m:74\u001b[0m\n",
      "\u001b[2;36m          \u001b[0m\u001b[2;36m \u001b[0m\u001b[31mWARNING \u001b[0m OPUNC01G21410.\u001b[1;36m2\u001b[0m not in Opun_prot.bed                                                                                                                                               \u001b]8;id=1652356795.72115-670780;file:///Users/ra57rut/.conda/envs/lastal/lib/python3.9/site-packages/jcvi/compara/blastfilter.py\u001b\\\u001b[2mblastfilter.py\u001b[0m\u001b]8;;\u001b\\\u001b[2m:74\u001b[0m\n",
      "\u001b[2;36m          \u001b[0m\u001b[2;36m \u001b[0m\u001b[31mWARNING \u001b[0m OPUNC03G07920.\u001b[1;36m1\u001b[0m not in Opun_prot.bed                                                                                                                                               \u001b]8;id=1652356795.722273-763664;file:///Users/ra57rut/.conda/envs/lastal/lib/python3.9/site-packages/jcvi/compara/blastfilter.py\u001b\\\u001b[2mblastfilter.py\u001b[0m\u001b]8;;\u001b\\\u001b[2m:74\u001b[0m\n",
      "\u001b[2;36m          \u001b[0m\u001b[2;36m \u001b[0m\u001b[31mWARNING \u001b[0m OPUNC03G07920.\u001b[1;36m3\u001b[0m not in Opun_prot.bed                                                                                                                                               \u001b]8;id=1652356795.723246-728370;file:///Users/ra57rut/.conda/envs/lastal/lib/python3.9/site-packages/jcvi/compara/blastfilter.py\u001b\\\u001b[2mblastfilter.py\u001b[0m\u001b]8;;\u001b\\\u001b[2m:74\u001b[0m\n",
      "\u001b[2;36m          \u001b[0m\u001b[2;36m \u001b[0m\u001b[31mWARNING \u001b[0m OPUNC05G01900.\u001b[1;36m2\u001b[0m not in Opun_prot.bed                                                                                                                                               \u001b]8;id=1652356795.724172-620411;file:///Users/ra57rut/.conda/envs/lastal/lib/python3.9/site-packages/jcvi/compara/blastfilter.py\u001b\\\u001b[2mblastfilter.py\u001b[0m\u001b]8;;\u001b\\\u001b[2m:74\u001b[0m\n",
      "\u001b[2;36m          \u001b[0m\u001b[2;36m \u001b[0m\u001b[31mWARNING \u001b[0m OPUNC01G05000.\u001b[1;36m2\u001b[0m not in Opun_prot.bed                                                                                                                                               \u001b]8;id=1652356795.725064-529005;file:///Users/ra57rut/.conda/envs/lastal/lib/python3.9/site-packages/jcvi/compara/blastfilter.py\u001b\\\u001b[2mblastfilter.py\u001b[0m\u001b]8;;\u001b\\\u001b[2m:74\u001b[0m\n",
      "\u001b[2;36m          \u001b[0m\u001b[2;36m \u001b[0m\u001b[31mWARNING \u001b[0m OPUNC03G00120.\u001b[1;36m3\u001b[0m not in Opun_prot.bed                                                                                                                                               \u001b]8;id=1652356795.725983-845876;file:///Users/ra57rut/.conda/envs/lastal/lib/python3.9/site-packages/jcvi/compara/blastfilter.py\u001b\\\u001b[2mblastfilter.py\u001b[0m\u001b]8;;\u001b\\\u001b[2m:74\u001b[0m\n",
      "\u001b[2;36m          \u001b[0m\u001b[2;36m \u001b[0m\u001b[31mWARNING \u001b[0m OPUNC01G25990.\u001b[1;36m2\u001b[0m not in Opun_prot.bed                                                                                                                                               \u001b]8;id=1652356795.7268999-605912;file:///Users/ra57rut/.conda/envs/lastal/lib/python3.9/site-packages/jcvi/compara/blastfilter.py\u001b\\\u001b[2mblastfilter.py\u001b[0m\u001b]8;;\u001b\\\u001b[2m:74\u001b[0m\n",
      "\u001b[2;36m          \u001b[0m\u001b[2;36m \u001b[0m\u001b[31mWARNING \u001b[0m OPUNC06G05110.\u001b[1;36m3\u001b[0m not in Opun_prot.bed                                                                                                                                               \u001b]8;id=1652356795.727802-747012;file:///Users/ra57rut/.conda/envs/lastal/lib/python3.9/site-packages/jcvi/compara/blastfilter.py\u001b\\\u001b[2mblastfilter.py\u001b[0m\u001b]8;;\u001b\\\u001b[2m:74\u001b[0m\n",
      "\u001b[2;36m          \u001b[0m\u001b[2;36m \u001b[0m\u001b[31mWARNING \u001b[0m OPUNC05G19710.\u001b[1;36m2\u001b[0m not in Opun_prot.bed                                                                                                                                               \u001b]8;id=1652356795.728749-29773;file:///Users/ra57rut/.conda/envs/lastal/lib/python3.9/site-packages/jcvi/compara/blastfilter.py\u001b\\\u001b[2mblastfilter.py\u001b[0m\u001b]8;;\u001b\\\u001b[2m:74\u001b[0m\n",
      "\u001b[2;36m          \u001b[0m\u001b[2;36m \u001b[0m\u001b[31mWARNING \u001b[0m OPUNC01G20940.\u001b[1;36m2\u001b[0m not in Opun_prot.bed                                                                                                                                               \u001b]8;id=1652356795.729645-183384;file:///Users/ra57rut/.conda/envs/lastal/lib/python3.9/site-packages/jcvi/compara/blastfilter.py\u001b\\\u001b[2mblastfilter.py\u001b[0m\u001b]8;;\u001b\\\u001b[2m:74\u001b[0m\n",
      "\u001b[2;36m          \u001b[0m\u001b[2;36m \u001b[0m\u001b[31mWARNING \u001b[0m OPUNC03G21520.\u001b[1;36m2\u001b[0m not in Opun_prot.bed                                                                                                                                               \u001b]8;id=1652356795.730736-675463;file:///Users/ra57rut/.conda/envs/lastal/lib/python3.9/site-packages/jcvi/compara/blastfilter.py\u001b\\\u001b[2mblastfilter.py\u001b[0m\u001b]8;;\u001b\\\u001b[2m:74\u001b[0m\n",
      "\u001b[2;36m          \u001b[0m\u001b[2;36m \u001b[0m\u001b[31mWARNING \u001b[0m OPUNC02G07330.\u001b[1;36m2\u001b[0m not in Opun_prot.bed                                                                                                                                               \u001b]8;id=1652356795.731828-286178;file:///Users/ra57rut/.conda/envs/lastal/lib/python3.9/site-packages/jcvi/compara/blastfilter.py\u001b\\\u001b[2mblastfilter.py\u001b[0m\u001b]8;;\u001b\\\u001b[2m:74\u001b[0m\n",
      "\u001b[2;36m          \u001b[0m\u001b[2;36m \u001b[0m\u001b[31mWARNING \u001b[0m OPUNC06G14140.\u001b[1;36m1\u001b[0m not in Opun_prot.bed                                                                                                                                               \u001b]8;id=1652356795.732786-176798;file:///Users/ra57rut/.conda/envs/lastal/lib/python3.9/site-packages/jcvi/compara/blastfilter.py\u001b\\\u001b[2mblastfilter.py\u001b[0m\u001b]8;;\u001b\\\u001b[2m:74\u001b[0m\n",
      "\u001b[2;36m          \u001b[0m\u001b[2;36m \u001b[0m\u001b[31mWARNING \u001b[0m OPUNC10G06840.\u001b[1;36m2\u001b[0m not in Opun_prot.bed                                                                                                                                               \u001b]8;id=1652356795.733717-470272;file:///Users/ra57rut/.conda/envs/lastal/lib/python3.9/site-packages/jcvi/compara/blastfilter.py\u001b\\\u001b[2mblastfilter.py\u001b[0m\u001b]8;;\u001b\\\u001b[2m:74\u001b[0m\n",
      "\u001b[2;36m          \u001b[0m\u001b[2;36m \u001b[0m\u001b[31mWARNING \u001b[0m OPUNC02G02780.\u001b[1;36m3\u001b[0m not in Opun_prot.bed                                                                                                                                               \u001b]8;id=1652356795.7346141-250481;file:///Users/ra57rut/.conda/envs/lastal/lib/python3.9/site-packages/jcvi/compara/blastfilter.py\u001b\\\u001b[2mblastfilter.py\u001b[0m\u001b]8;;\u001b\\\u001b[2m:74\u001b[0m\n",
      "\u001b[2;36m          \u001b[0m\u001b[2;36m \u001b[0m\u001b[31mWARNING \u001b[0m OPUNC04G23300.\u001b[1;36m2\u001b[0m not in Opun_prot.bed                                                                                                                                               \u001b]8;id=1652356795.735486-482229;file:///Users/ra57rut/.conda/envs/lastal/lib/python3.9/site-packages/jcvi/compara/blastfilter.py\u001b\\\u001b[2mblastfilter.py\u001b[0m\u001b]8;;\u001b\\\u001b[2m:74\u001b[0m\n",
      "\u001b[2;36m          \u001b[0m\u001b[2;36m \u001b[0m\u001b[31mWARNING \u001b[0m OPUNC02G02780.\u001b[1;36m2\u001b[0m not in Opun_prot.bed                                                                                                                                               \u001b]8;id=1652356795.7364202-998933;file:///Users/ra57rut/.conda/envs/lastal/lib/python3.9/site-packages/jcvi/compara/blastfilter.py\u001b\\\u001b[2mblastfilter.py\u001b[0m\u001b]8;;\u001b\\\u001b[2m:74\u001b[0m\n",
      "\u001b[2;36m          \u001b[0m\u001b[2;36m \u001b[0m\u001b[31mWARNING \u001b[0m OPUNC05G00250.\u001b[1;36m2\u001b[0m not in Opun_prot.bed                                                                                                                                               \u001b]8;id=1652356795.737345-210827;file:///Users/ra57rut/.conda/envs/lastal/lib/python3.9/site-packages/jcvi/compara/blastfilter.py\u001b\\\u001b[2mblastfilter.py\u001b[0m\u001b]8;;\u001b\\\u001b[2m:74\u001b[0m\n",
      "\u001b[2;36m          \u001b[0m\u001b[2;36m \u001b[0m\u001b[31mWARNING \u001b[0m OPUNC04G16040.\u001b[1;36m4\u001b[0m not in Opun_prot.bed                                                                                                                                               \u001b]8;id=1652356795.738317-369150;file:///Users/ra57rut/.conda/envs/lastal/lib/python3.9/site-packages/jcvi/compara/blastfilter.py\u001b\\\u001b[2mblastfilter.py\u001b[0m\u001b]8;;\u001b\\\u001b[2m:74\u001b[0m\n",
      "\u001b[2;36m          \u001b[0m\u001b[2;36m \u001b[0m\u001b[31mWARNING \u001b[0m too many warnings.. suppressed                                                                                                                                                     \u001b]8;id=1652356795.73926-817466;file:///Users/ra57rut/.conda/envs/lastal/lib/python3.9/site-packages/jcvi/compara/blastfilter.py\u001b\\\u001b[2mblastfilter.py\u001b[0m\u001b]8;;\u001b\\\u001b[2m:76\u001b[0m\n",
      "\u001b[2;36m[13:59:57]\u001b[0m\u001b[2;36m \u001b[0m\u001b[32mDEBUG   \u001b[0m running the cscore filter \u001b[1m(\u001b[0mcscore>=\u001b[1;36m0.70\u001b[0m\u001b[1m)\u001b[0m ..                                                                                                                                       \u001b]8;id=1652356797.5092149-993974;file:///Users/ra57rut/.conda/envs/lastal/lib/python3.9/site-packages/jcvi/compara/blastfilter.py\u001b\\\u001b[2mblastfilter.py\u001b[0m\u001b]8;;\u001b\\\u001b[2m:110\u001b[0m\n",
      "\u001b[2;36m[13:59:58]\u001b[0m\u001b[2;36m \u001b[0m\u001b[32mDEBUG   \u001b[0m after filter \u001b[1m(\u001b[0m\u001b[1;36m464447\u001b[0m->\u001b[1;36m39007\u001b[0m\u001b[1m)\u001b[0m ..                                                                                                                                                   \u001b]8;id=1652356798.379126-51931;file:///Users/ra57rut/.conda/envs/lastal/lib/python3.9/site-packages/jcvi/compara/blastfilter.py\u001b\\\u001b[2mblastfilter.py\u001b[0m\u001b]8;;\u001b\\\u001b[2m:112\u001b[0m\n",
      "\u001b[2;36m          \u001b[0m\u001b[2;36m \u001b[0m\u001b[32mDEBUG   \u001b[0m running the local dups filter \u001b[1m(\u001b[0m\u001b[33mtandem_Nmax\u001b[0m=\u001b[1;36m10\u001b[0m\u001b[1m)\u001b[0m ..                                                                                                                                 \u001b]8;id=1652356798.380457-528487;file:///Users/ra57rut/.conda/envs/lastal/lib/python3.9/site-packages/jcvi/compara/blastfilter.py\u001b\\\u001b[2mblastfilter.py\u001b[0m\u001b]8;;\u001b\\\u001b[2m:117\u001b[0m\n",
      "\u001b[2;36m          \u001b[0m\u001b[2;36m \u001b[0m\u001b[32mDEBUG   \u001b[0m after filter \u001b[1m(\u001b[0m\u001b[1;36m39007\u001b[0m->\u001b[1;36m32383\u001b[0m\u001b[1m)\u001b[0m ..                                                                                                                                                    \u001b]8;id=1652356798.650024-339436;file:///Users/ra57rut/.conda/envs/lastal/lib/python3.9/site-packages/jcvi/compara/blastfilter.py\u001b\\\u001b[2mblastfilter.py\u001b[0m\u001b]8;;\u001b\\\u001b[2m:161\u001b[0m\n",
      "\u001b[2;36m          \u001b[0m\u001b[2;36m \u001b[0m\u001b[32mDEBUG   \u001b[0m Assuming --\u001b[33mqbed\u001b[0m=\u001b[35mrice_prot\u001b[0m.bed --\u001b[33msbed\u001b[0m=\u001b[35mOpun_prot\u001b[0m.bed                                                                                                                                    \u001b]8;id=1652356798.925843-175833;file:///Users/ra57rut/.conda/envs/lastal/lib/python3.9/site-packages/jcvi/compara/synteny.py\u001b\\\u001b[2msynteny.py\u001b[0m\u001b]8;;\u001b\\\u001b[2m:500\u001b[0m\n",
      "\u001b[2;36m          \u001b[0m\u001b[2;36m \u001b[0m\u001b[32mDEBUG   \u001b[0m Load file `rice_prot.bed`                                                                                                                                                                 \u001b]8;id=1652356798.926954-75032;file:///Users/ra57rut/.conda/envs/lastal/lib/python3.9/site-packages/jcvi/formats/base.py\u001b\\\u001b[2mbase.py\u001b[0m\u001b]8;;\u001b\\\u001b[2m:37\u001b[0m\n",
      "\u001b[2;36m[13:59:59]\u001b[0m\u001b[2;36m \u001b[0m\u001b[32mDEBUG   \u001b[0m Load file `Opun_prot.bed`                                                                                                                                                                 \u001b]8;id=1652356799.167317-760804;file:///Users/ra57rut/.conda/envs/lastal/lib/python3.9/site-packages/jcvi/formats/base.py\u001b\\\u001b[2mbase.py\u001b[0m\u001b]8;;\u001b\\\u001b[2m:37\u001b[0m\n",
      "\u001b[2;36m          \u001b[0m\u001b[2;36m \u001b[0m\u001b[32mDEBUG   \u001b[0m Load file `rice_prot.Opun_prot.last.filtered`                                                                                                                                             \u001b]8;id=1652356799.41754-272288;file:///Users/ra57rut/.conda/envs/lastal/lib/python3.9/site-packages/jcvi/formats/base.py\u001b\\\u001b[2mbase.py\u001b[0m\u001b]8;;\u001b\\\u001b[2m:37\u001b[0m\n",
      "\u001b[2;36m          \u001b[0m\u001b[2;36m \u001b[0m\u001b[32mDEBUG   \u001b[0m A total of \u001b[1;36m32383\u001b[0m BLAST imported from `rice_prot.Opun_prot.last.filtered`.                                                                                                             \u001b]8;id=1652356799.798648-846032;file:///Users/ra57rut/.conda/envs/lastal/lib/python3.9/site-packages/jcvi/compara/synteny.py\u001b\\\u001b[2msynteny.py\u001b[0m\u001b]8;;\u001b\\\u001b[2m:386\u001b[0m\n",
      "\u001b[2;36m          \u001b[0m\u001b[2;36m \u001b[0m\u001b[32mDEBUG   \u001b[0m Chaining distance = \u001b[1;36m20\u001b[0m                                                                                                                                                               \u001b]8;id=1652356799.803494-40590;file:///Users/ra57rut/.conda/envs/lastal/lib/python3.9/site-packages/jcvi/compara/synteny.py\u001b\\\u001b[2msynteny.py\u001b[0m\u001b]8;;\u001b\\\u001b[2m:1933\u001b[0m\n",
      "\u001b[2;36m[14:00:01]\u001b[0m\u001b[2;36m \u001b[0m\u001b[32mDEBUG   \u001b[0m Load file `rice_prot.Opun_prot.anchors`                                                                                                                                                   \u001b]8;id=1652356801.425389-897552;file:///Users/ra57rut/.conda/envs/lastal/lib/python3.9/site-packages/jcvi/formats/base.py\u001b\\\u001b[2mbase.py\u001b[0m\u001b]8;;\u001b\\\u001b[2m:37\u001b[0m\n",
      "A total of 23365 (NR:23145) anchors found in 258 clusters.\n",
      "Stats: Min=4 Max=1684 N=258 Mean=90.56 SD=252.84 Median=6.0 Sum=23365\n",
      "NR stats: Min=4 Max=1677 N=258 Mean=89.71 SD=251.22 Median=6.0 Sum=23145\n",
      "\u001b[2;36m          \u001b[0m\u001b[2;36m \u001b[0m\u001b[32mDEBUG   \u001b[0m Load file `rice_prot.bed`                                                                                                                                                                 \u001b]8;id=1652356801.460595-495617;file:///Users/ra57rut/.conda/envs/lastal/lib/python3.9/site-packages/jcvi/formats/base.py\u001b\\\u001b[2mbase.py\u001b[0m\u001b]8;;\u001b\\\u001b[2m:37\u001b[0m\n",
      "\u001b[2;36m          \u001b[0m\u001b[2;36m \u001b[0m\u001b[32mDEBUG   \u001b[0m Load file `Opun_prot.bed`                                                                                                                                                                 \u001b]8;id=1652356801.805181-650473;file:///Users/ra57rut/.conda/envs/lastal/lib/python3.9/site-packages/jcvi/formats/base.py\u001b\\\u001b[2mbase.py\u001b[0m\u001b]8;;\u001b\\\u001b[2m:37\u001b[0m\n",
      "\u001b[2;36m[14:00:02]\u001b[0m\u001b[2;36m \u001b[0m\u001b[32mDEBUG   \u001b[0m Load file `rice_prot.Opun_prot.last`                                                                                                                                                      \u001b]8;id=1652356802.104085-786409;file:///Users/ra57rut/.conda/envs/lastal/lib/python3.9/site-packages/jcvi/formats/base.py\u001b\\\u001b[2mbase.py\u001b[0m\u001b]8;;\u001b\\\u001b[2m:37\u001b[0m\n",
      "\u001b[2;36m[14:00:04]\u001b[0m\u001b[2;36m \u001b[0m\u001b[32mDEBUG   \u001b[0m A total of \u001b[1;36m464447\u001b[0m BLAST imported from `rice_prot.Opun_prot.last`.                                                                                                                     \u001b]8;id=1652356804.620249-325163;file:///Users/ra57rut/.conda/envs/lastal/lib/python3.9/site-packages/jcvi/compara/synteny.py\u001b\\\u001b[2msynteny.py\u001b[0m\u001b]8;;\u001b\\\u001b[2m:386\u001b[0m\n",
      "\u001b[2;36m[14:00:05]\u001b[0m\u001b[2;36m \u001b[0m\u001b[32mDEBUG   \u001b[0m Load file `rice_prot.Opun_prot.anchors`                                                                                                                                                   \u001b]8;id=1652356805.2619991-117179;file:///Users/ra57rut/.conda/envs/lastal/lib/python3.9/site-packages/jcvi/formats/base.py\u001b\\\u001b[2mbase.py\u001b[0m\u001b]8;;\u001b\\\u001b[2m:37\u001b[0m\n",
      "\u001b[2;36m          \u001b[0m\u001b[2;36m \u001b[0m\u001b[32mDEBUG   \u001b[0m A total of \u001b[1;36m23365\u001b[0m anchors imported.                                                                                                                                                    \u001b]8;id=1652356805.516005-673228;file:///Users/ra57rut/.conda/envs/lastal/lib/python3.9/site-packages/jcvi/compara/synteny.py\u001b\\\u001b[2msynteny.py\u001b[0m\u001b]8;;\u001b\\\u001b[2m:412\u001b[0m\n",
      "\u001b[2;36m          \u001b[0m\u001b[2;36m \u001b[0m\u001b[32mDEBUG   \u001b[0m \u001b[1;36m15368\u001b[0m new pairs found \u001b[1m(\u001b[0m\u001b[33mdist\u001b[0m=\u001b[1;36m5\u001b[0m\u001b[1m)\u001b[0m.                                                                                                                                                      \u001b]8;id=1652356805.877938-260064;file:///Users/ra57rut/.conda/envs/lastal/lib/python3.9/site-packages/jcvi/compara/synteny.py\u001b\\\u001b[2msynteny.py\u001b[0m\u001b]8;;\u001b\\\u001b[2m:2011\u001b[0m\n",
      "\u001b[2;36m          \u001b[0m\u001b[2;36m \u001b[0m\u001b[32mDEBUG   \u001b[0m Removed \u001b[1;36m15\u001b[0m existing anchors.                                                                                                                                                           \u001b]8;id=1652356805.9380789-60823;file:///Users/ra57rut/.conda/envs/lastal/lib/python3.9/site-packages/jcvi/compara/synteny.py\u001b\\\u001b[2msynteny.py\u001b[0m\u001b]8;;\u001b\\\u001b[2m:93\u001b[0m\n",
      "\u001b[2;36m          \u001b[0m\u001b[2;36m \u001b[0m\u001b[32mDEBUG   \u001b[0m Corrected scores for \u001b[1;36m1035\u001b[0m anchors.                                                                                                                                                     \u001b]8;id=1652356805.9392588-626106;file:///Users/ra57rut/.conda/envs/lastal/lib/python3.9/site-packages/jcvi/compara/synteny.py\u001b\\\u001b[2msynteny.py\u001b[0m\u001b]8;;\u001b\\\u001b[2m:94\u001b[0m\n",
      "\u001b[2;36m          \u001b[0m\u001b[2;36m \u001b[0m\u001b[32mDEBUG   \u001b[0m Anchors written to `rice_prot.Opun_prot.lifted.anchors`.                                                                                                                               \u001b]8;id=1652356805.940511-355879;file:///Users/ra57rut/.conda/envs/lastal/lib/python3.9/site-packages/jcvi/compara/synteny.py\u001b\\\u001b[2msynteny.py\u001b[0m\u001b]8;;\u001b\\\u001b[2m:95\u001b[0m\n",
      "\u001b[2;36m          \u001b[0m\u001b[2;36m \u001b[0m\u001b[32mDEBUG   \u001b[0m Load file `rice_prot.Opun_prot.lifted.anchors`                                                                                                                                            \u001b]8;id=1652356805.94182-210506;file:///Users/ra57rut/.conda/envs/lastal/lib/python3.9/site-packages/jcvi/formats/base.py\u001b\\\u001b[2mbase.py\u001b[0m\u001b]8;;\u001b\\\u001b[2m:37\u001b[0m\n",
      "A total of 38718 (NR:26932) anchors found in 258 clusters.\n",
      "Stats: Min=4 Max=2546 N=258 Mean=150.07 SD=399.08 Median=11.0 Sum=38718\n",
      "NR stats: Min=4 Max=1857 N=258 Mean=104.39 SD=282.19 Median=10.0 Sum=26932\n",
      "\u001b[2;36m[14:00:06]\u001b[0m\u001b[2;36m \u001b[0m\u001b[32mDEBUG   \u001b[0m Assuming --\u001b[33mqbed\u001b[0m=\u001b[35mrice_prot\u001b[0m.bed --\u001b[33msbed\u001b[0m=\u001b[35mOpun_prot\u001b[0m.bed                                                                                                                                    \u001b]8;id=1652356806.5086038-554581;file:///Users/ra57rut/.conda/envs/lastal/lib/python3.9/site-packages/jcvi/compara/synteny.py\u001b\\\u001b[2msynteny.py\u001b[0m\u001b]8;;\u001b\\\u001b[2m:500\u001b[0m\n",
      "\u001b[2;36m          \u001b[0m\u001b[2;36m \u001b[0m\u001b[32mDEBUG   \u001b[0m Load file `rice_prot.bed`                                                                                                                                                                 \u001b]8;id=1652356806.50966-802282;file:///Users/ra57rut/.conda/envs/lastal/lib/python3.9/site-packages/jcvi/formats/base.py\u001b\\\u001b[2mbase.py\u001b[0m\u001b]8;;\u001b\\\u001b[2m:37\u001b[0m\n",
      "\u001b[2;36m          \u001b[0m\u001b[2;36m \u001b[0m\u001b[32mDEBUG   \u001b[0m Load file `Opun_prot.bed`                                                                                                                                                                 \u001b]8;id=1652356806.743336-616120;file:///Users/ra57rut/.conda/envs/lastal/lib/python3.9/site-packages/jcvi/formats/base.py\u001b\\\u001b[2mbase.py\u001b[0m\u001b]8;;\u001b\\\u001b[2m:37\u001b[0m\n",
      "\u001b[2;36m[14:00:07]\u001b[0m\u001b[2;36m \u001b[0m\u001b[32mDEBUG   \u001b[0m Showing a random subset of \u001b[1;36m10000\u001b[0m data points \u001b[1m(\u001b[0mtotal \u001b[1;36m23365\u001b[0m\u001b[1m)\u001b[0m for clarity.                                                                                                               \u001b]8;id=1652356807.0784068-921900;file:///Users/ra57rut/.conda/envs/lastal/lib/python3.9/site-packages/jcvi/graphics/dotplot.py\u001b\\\u001b[2mdotplot.py\u001b[0m\u001b]8;;\u001b\\\u001b[2m:226\u001b[0m\n",
      "\u001b[2;36m          \u001b[0m\u001b[2;36m \u001b[0m\u001b[32mDEBUG   \u001b[0m \u001b[33mxsize\u001b[0m=\u001b[1;36m42189\u001b[0m \u001b[33mysize\u001b[0m=\u001b[1;36m31762\u001b[0m                                                                                                                                                               \u001b]8;id=1652356807.239757-6375;file:///Users/ra57rut/.conda/envs/lastal/lib/python3.9/site-packages/jcvi/graphics/dotplot.py\u001b\\\u001b[2mdotplot.py\u001b[0m\u001b]8;;\u001b\\\u001b[2m:336\u001b[0m\n",
      "\u001b[2;36m[14:00:09]\u001b[0m\u001b[2;36m \u001b[0m\u001b[32mDEBUG   \u001b[0m Dot plot title: Inter-genomic comparison: rice\\_prot vs Opun\\_prot \u001b[1m(\u001b[0m\u001b[1;36m23\u001b[0m,\u001b[1;36m365\u001b[0m gene pairs\u001b[1m)\u001b[0m                                                                                                \u001b]8;id=1652356809.321066-275931;file:///Users/ra57rut/.conda/envs/lastal/lib/python3.9/site-packages/jcvi/graphics/dotplot.py\u001b\\\u001b[2mdotplot.py\u001b[0m\u001b]8;;\u001b\\\u001b[2m:379\u001b[0m\n",
      "\u001b[2;36m[14:00:12]\u001b[0m\u001b[2;36m \u001b[0m\u001b[32mDEBUG   \u001b[0m Figure saved to `rice_prot.Opun_prot.pdf` \u001b[1m(\u001b[0m810px x 810px\u001b[1m)\u001b[0m                                                                                                                                \u001b]8;id=1652356812.6884859-344551;file:///Users/ra57rut/.conda/envs/lastal/lib/python3.9/site-packages/jcvi/graphics/base.py\u001b\\\u001b[2mbase.py\u001b[0m\u001b]8;;\u001b\\\u001b[2m:295\u001b[0m\n"
     ]
    }
   ],
   "source": [
    "!python3.9 -m jcvi.compara.catalog ortholog rice_prot Opun_prot --dbtype=prot --no_strip_names --liftover_dist=5"
   ]
  },
  {
   "cell_type": "markdown",
   "id": "812a7ad2",
   "metadata": {},
   "source": [
    "## Create synteny files running MCscan"
   ]
  },
  {
   "cell_type": "markdown",
   "id": "f3ae0189",
   "metadata": {},
   "source": [
    "### O. sativa vs O. officinalis (Chr4)"
   ]
  },
  {
   "cell_type": "code",
   "execution_count": 102,
   "id": "caf1e3ef",
   "metadata": {
    "collapsed": true,
    "jupyter": {
     "outputs_hidden": true
    },
    "tags": []
   },
   "outputs": [
    {
     "name": "stdout",
     "output_type": "stream",
     "text": [
      "\u001b[2;36m[16:27:24]\u001b[0m\u001b[2;36m \u001b[0m\u001b[32mDEBUG   \u001b[0m Load file `rice_prot.bed`                                                                                                     \u001b]8;id=1639063644.144017-599402;file:///Users/ra57rut/.conda/envs/lastal/lib/python3.9/site-packages/jcvi/formats/base.py\u001b\\\u001b[2mbase.py\u001b[0m\u001b]8;;\u001b\\\u001b[2m:37\u001b[0m\n",
      "\u001b[2;36m          \u001b[0m\u001b[2;36m \u001b[0m\u001b[32mDEBUG   \u001b[0m Load file `rice_prot.ooffi_prot_chr4.lifted.anchors`                                                                          \u001b]8;id=1639063644.432248-732412;file:///Users/ra57rut/.conda/envs/lastal/lib/python3.9/site-packages/jcvi/formats/base.py\u001b\\\u001b[2mbase.py\u001b[0m\u001b]8;;\u001b\\\u001b[2m:37\u001b[0m\n",
      "Chain started: 40 blocks\n",
      "Chain 0: score=2150 done!\n",
      "\u001b[2;36m          \u001b[0m\u001b[2;36m \u001b[0m\u001b[32mDEBUG   \u001b[0m MCscan blocks written to `rice_prot.ooffi_prot_chr4.i1.blocks`.                                                          \u001b]8;id=1639063644.743928-61502;file:///Users/ra57rut/.conda/envs/lastal/lib/python3.9/site-packages/jcvi/compara/synteny.py\u001b\\\u001b[2msynteny.py\u001b[0m\u001b]8;;\u001b\\\u001b[2m:1696\u001b[0m\n"
     ]
    }
   ],
   "source": [
    "!python3.9 -m jcvi.compara.synteny mcscan rice_prot.bed rice_prot.ooffi_prot_chr4.lifted.anchors --iter=1 -o rice_prot.ooffi_prot_chr4.i1.blocks"
   ]
  },
  {
   "cell_type": "markdown",
   "id": "d5207caa",
   "metadata": {},
   "source": [
    "### O. sativa vs O. alta (C)"
   ]
  },
  {
   "cell_type": "code",
   "execution_count": 82,
   "id": "f579dbd8",
   "metadata": {
    "collapsed": true,
    "jupyter": {
     "outputs_hidden": true
    },
    "tags": []
   },
   "outputs": [
    {
     "name": "stdout",
     "output_type": "stream",
     "text": [
      "\u001b[2;36m[15:23:19]\u001b[0m\u001b[2;36m \u001b[0m\u001b[32mDEBUG   \u001b[0m Load file `rice_prot.bed`                                                                                                     \u001b]8;id=1639059799.41785-362945;file:///Users/ra57rut/.conda/envs/lastal/lib/python3.9/site-packages/jcvi/formats/base.py\u001b\\\u001b[2mbase.py\u001b[0m\u001b]8;;\u001b\\\u001b[2m:37\u001b[0m\n",
      "\u001b[2;36m          \u001b[0m\u001b[2;36m \u001b[0m\u001b[32mDEBUG   \u001b[0m Load file `rice_prot.oalta_prot_ChrC.lifted.anchors`                                                                          \u001b]8;id=1639059799.782197-360496;file:///Users/ra57rut/.conda/envs/lastal/lib/python3.9/site-packages/jcvi/formats/base.py\u001b\\\u001b[2mbase.py\u001b[0m\u001b]8;;\u001b\\\u001b[2m:37\u001b[0m\n",
      "Chain started: 278 blocks\n",
      "Chain 0: score=24292 141 blocks remained..\n",
      "\u001b[2;36m[15:23:20]\u001b[0m\u001b[2;36m \u001b[0m\u001b[32mDEBUG   \u001b[0m MCscan blocks written to `rice_prot.oalta_prot_ChrC.i1.blocks`.                                                          \u001b]8;id=1639059800.808883-950451;file:///Users/ra57rut/.conda/envs/lastal/lib/python3.9/site-packages/jcvi/compara/synteny.py\u001b\\\u001b[2msynteny.py\u001b[0m\u001b]8;;\u001b\\\u001b[2m:1696\u001b[0m\n"
     ]
    }
   ],
   "source": [
    "!python3.9 -m jcvi.compara.synteny mcscan rice_prot.bed rice_prot.oalta_prot_ChrC.lifted.anchors --iter=1 -o rice_prot.oalta_prot_ChrC.i1.blocks"
   ]
  },
  {
   "cell_type": "markdown",
   "id": "595f7b6e",
   "metadata": {},
   "source": [
    "### O. sativa vs O. coarctata (scaffold 26)"
   ]
  },
  {
   "cell_type": "code",
   "execution_count": 31,
   "id": "f3690a0d",
   "metadata": {
    "collapsed": true,
    "jupyter": {
     "outputs_hidden": true
    },
    "tags": []
   },
   "outputs": [
    {
     "name": "stdout",
     "output_type": "stream",
     "text": [
      "\u001b[2;36m[13:58:33]\u001b[0m\u001b[2;36m \u001b[0m\u001b[32mDEBUG   \u001b[0m Load file `rice_prot.bed`                                                                                                     \u001b]8;id=1639054713.5416908-887897;file:///Users/ra57rut/.conda/envs/lastal/lib/python3.9/site-packages/jcvi/formats/base.py\u001b\\\u001b[2mbase.py\u001b[0m\u001b]8;;\u001b\\\u001b[2m:37\u001b[0m\n",
      "\u001b[2;36m          \u001b[0m\u001b[2;36m \u001b[0m\u001b[32mDEBUG   \u001b[0m Load file `rice_prot.ocoarc_prot.lifted.anchors`                                                                              \u001b]8;id=1639054713.852965-227928;file:///Users/ra57rut/.conda/envs/lastal/lib/python3.9/site-packages/jcvi/formats/base.py\u001b\\\u001b[2mbase.py\u001b[0m\u001b]8;;\u001b\\\u001b[2m:37\u001b[0m\n",
      "Chain started: 6 blocks\n",
      "Chain 0: score=203 done!\n",
      "\u001b[2;36m          \u001b[0m\u001b[2;36m \u001b[0m\u001b[32mDEBUG   \u001b[0m MCscan blocks written to `rice_prot.ocoarc_prot.i1.blocks`.                                                              \u001b]8;id=1639054713.980151-188378;file:///Users/ra57rut/.conda/envs/lastal/lib/python3.9/site-packages/jcvi/compara/synteny.py\u001b\\\u001b[2msynteny.py\u001b[0m\u001b]8;;\u001b\\\u001b[2m:1696\u001b[0m\n"
     ]
    }
   ],
   "source": [
    "!python3.9 -m jcvi.compara.synteny mcscan rice_prot.bed rice_prot.ocoarc_prot.lifted.anchors --iter=1 -o rice_prot.ocoarc_prot.i1.blocks"
   ]
  },
  {
   "cell_type": "markdown",
   "id": "172f3abc",
   "metadata": {},
   "source": [
    "### O. sativa vs O. brachyantha"
   ]
  },
  {
   "cell_type": "code",
   "execution_count": 32,
   "id": "52dca21c",
   "metadata": {
    "collapsed": true,
    "jupyter": {
     "outputs_hidden": true
    },
    "tags": []
   },
   "outputs": [
    {
     "name": "stdout",
     "output_type": "stream",
     "text": [
      "\u001b[2;36m[13:59:02]\u001b[0m\u001b[2;36m \u001b[0m\u001b[32mDEBUG   \u001b[0m Load file `rice_prot.bed`                                                                                                     \u001b]8;id=1639054742.979031-861272;file:///Users/ra57rut/.conda/envs/lastal/lib/python3.9/site-packages/jcvi/formats/base.py\u001b\\\u001b[2mbase.py\u001b[0m\u001b]8;;\u001b\\\u001b[2m:37\u001b[0m\n",
      "\u001b[2;36m[13:59:03]\u001b[0m\u001b[2;36m \u001b[0m\u001b[32mDEBUG   \u001b[0m Load file `rice_prot.obra_prot.lifted.anchors`                                                                                \u001b]8;id=1639054743.358023-870037;file:///Users/ra57rut/.conda/envs/lastal/lib/python3.9/site-packages/jcvi/formats/base.py\u001b\\\u001b[2mbase.py\u001b[0m\u001b]8;;\u001b\\\u001b[2m:37\u001b[0m\n",
      "Chain started: 283 blocks\n",
      "Chain 0: score=22958 200 blocks remained..\n",
      "\u001b[2;36m[13:59:04]\u001b[0m\u001b[2;36m \u001b[0m\u001b[32mDEBUG   \u001b[0m MCscan blocks written to `rice_prot.obra_prot.i1.blocks`.                                                                \u001b]8;id=1639054744.052259-119468;file:///Users/ra57rut/.conda/envs/lastal/lib/python3.9/site-packages/jcvi/compara/synteny.py\u001b\\\u001b[2msynteny.py\u001b[0m\u001b]8;;\u001b\\\u001b[2m:1696\u001b[0m\n"
     ]
    }
   ],
   "source": [
    "!python3.9 -m jcvi.compara.synteny mcscan rice_prot.bed rice_prot.obra_prot.lifted.anchors --iter=1 -o rice_prot.obra_prot.i1.blocks"
   ]
  },
  {
   "cell_type": "markdown",
   "id": "97175975",
   "metadata": {},
   "source": [
    "### O. sativa vs L. perrieri"
   ]
  },
  {
   "cell_type": "code",
   "execution_count": 5,
   "id": "380f9fbc",
   "metadata": {
    "collapsed": true,
    "jupyter": {
     "outputs_hidden": true
    },
    "tags": []
   },
   "outputs": [
    {
     "name": "stdout",
     "output_type": "stream",
     "text": [
      "\u001b[2;36m[15:50:53]\u001b[0m\u001b[2;36m \u001b[0m\u001b[32mDEBUG   \u001b[0m Load file `rice_prot.bed`                                                           \u001b]8;id=1640098253.798555-462988;file:///Users/ra57rut/.conda/envs/lastal/lib/python3.9/site-packages/jcvi/formats/base.py\u001b\\\u001b[2mbase.py\u001b[0m\u001b]8;;\u001b\\\u001b[2m:37\u001b[0m\n",
      "\u001b[2;36m[15:50:54]\u001b[0m\u001b[2;36m \u001b[0m\u001b[32mDEBUG   \u001b[0m Load file `rice_prot.lpe_prot.lifted.anchors`                                       \u001b]8;id=1640098254.107216-894549;file:///Users/ra57rut/.conda/envs/lastal/lib/python3.9/site-packages/jcvi/formats/base.py\u001b\\\u001b[2mbase.py\u001b[0m\u001b]8;;\u001b\\\u001b[2m:37\u001b[0m\n",
      "Chain started: 295 blocks\n",
      "Chain 0: score=24052 206 blocks remained..\n",
      "\u001b[2;36m          \u001b[0m\u001b[2;36m \u001b[0m\u001b[32mDEBUG   \u001b[0m MCscan blocks written to `rice_prot.lpe_prot.i1.blocks`.                       \u001b]8;id=1640098254.710124-129916;file:///Users/ra57rut/.conda/envs/lastal/lib/python3.9/site-packages/jcvi/compara/synteny.py\u001b\\\u001b[2msynteny.py\u001b[0m\u001b]8;;\u001b\\\u001b[2m:1696\u001b[0m\n"
     ]
    }
   ],
   "source": [
    "!python3.9 -m jcvi.compara.synteny mcscan rice_prot.bed rice_prot.lpe_prot.lifted.anchors --iter=1 -o rice_prot.lpe_prot.i1.blocks"
   ]
  },
  {
   "cell_type": "markdown",
   "id": "64db2172",
   "metadata": {},
   "source": [
    "### O. sativa vs O. punctata"
   ]
  },
  {
   "cell_type": "code",
   "execution_count": 4,
   "id": "85438126-5dff-497f-8c39-3557d17d19fe",
   "metadata": {
    "tags": []
   },
   "outputs": [
    {
     "name": "stdout",
     "output_type": "stream",
     "text": [
      "\u001b[2;36m[16:00:22]\u001b[0m\u001b[2;36m \u001b[0m\u001b[32mDEBUG   \u001b[0m Load file `rice_prot.bed`                                                                                                                                                                 \u001b]8;id=1652364022.327165-924931;file:///Users/ra57rut/.conda/envs/lastal/lib/python3.9/site-packages/jcvi/formats/base.py\u001b\\\u001b[2mbase.py\u001b[0m\u001b]8;;\u001b\\\u001b[2m:37\u001b[0m\n",
      "\u001b[2;36m          \u001b[0m\u001b[2;36m \u001b[0m\u001b[32mDEBUG   \u001b[0m Load file `rice_prot.Opun_prot.lifted.anchors`                                                                                                                                            \u001b]8;id=1652364022.625962-799876;file:///Users/ra57rut/.conda/envs/lastal/lib/python3.9/site-packages/jcvi/formats/base.py\u001b\\\u001b[2mbase.py\u001b[0m\u001b]8;;\u001b\\\u001b[2m:37\u001b[0m\n",
      "Chain started: 258 blocks\n",
      "Chain 0: score=25857 190 blocks remained..\n",
      "\u001b[2;36m[16:00:23]\u001b[0m\u001b[2;36m \u001b[0m\u001b[32mDEBUG   \u001b[0m MCscan blocks written to `rice_prot.Opun_prot.i1.blocks`.                                                                                                                            \u001b]8;id=1652364023.143114-651234;file:///Users/ra57rut/.conda/envs/lastal/lib/python3.9/site-packages/jcvi/compara/synteny.py\u001b\\\u001b[2msynteny.py\u001b[0m\u001b]8;;\u001b\\\u001b[2m:1696\u001b[0m\n"
     ]
    }
   ],
   "source": [
    "!python3.9 -m jcvi.compara.synteny mcscan rice_prot.bed rice_prot.Opun_prot.lifted.anchors --iter=1 -o rice_prot.Opun_prot.i1.blocks"
   ]
  },
  {
   "cell_type": "markdown",
   "id": "3ce6cbd0",
   "metadata": {},
   "source": [
    "## Joined syntenic blocks"
   ]
  },
  {
   "cell_type": "markdown",
   "id": "af8f676c",
   "metadata": {},
   "source": [
    "Generate a consolidated file containing all syntenic blocks obtained from pairwise comparisons of O. sativa with the rest of the Oryza species.\n",
    "The first column comprises all O. sativa proteins in sequential order. The subsequent columns represent the best ortholog match to each O. sativa protein in the remaining Oryza species "
   ]
  },
  {
   "cell_type": "code",
   "execution_count": 11,
   "id": "1eeeb557-4516-4996-9c82-91ddb6b81aa1",
   "metadata": {
    "tags": []
   },
   "outputs": [
    {
     "name": "stdout",
     "output_type": "stream",
     "text": [
      "\u001b[2;36m[14:11:09]\u001b[0m\u001b[2;36m \u001b[0m\u001b[32mDEBUG   \u001b[0m Load file `rice_prot.Opun_prot.i1.blocks`                                                                                                                                                 \u001b]8;id=1652357469.696671-834029;file:///Users/ra57rut/.conda/envs/lastal/lib/python3.9/site-packages/jcvi/formats/base.py\u001b\\\u001b[2mbase.py\u001b[0m\u001b]8;;\u001b\\\u001b[2m:37\u001b[0m\n",
      "\u001b[2;36m          \u001b[0m\u001b[2;36m \u001b[0m\u001b[32mDEBUG   \u001b[0m Imported \u001b[1;36m42189\u001b[0m records from `rice_prot.Opun_prot.i1.blocks`.                                                                                                                             \u001b]8;id=1652357469.7647831-627928;file:///Users/ra57rut/.conda/envs/lastal/lib/python3.9/site-packages/jcvi/formats/base.py\u001b\\\u001b[2mbase.py\u001b[0m\u001b]8;;\u001b\\\u001b[2m:106\u001b[0m\n",
      "\u001b[2;36m          \u001b[0m\u001b[2;36m \u001b[0m\u001b[32mDEBUG   \u001b[0m Load file `rice_prot.ooffi_prot_chr4.i1.blocks`                                                                                                                                           \u001b]8;id=1652357469.7661061-824266;file:///Users/ra57rut/.conda/envs/lastal/lib/python3.9/site-packages/jcvi/formats/base.py\u001b\\\u001b[2mbase.py\u001b[0m\u001b]8;;\u001b\\\u001b[2m:37\u001b[0m\n",
      "\u001b[2;36m          \u001b[0m\u001b[2;36m \u001b[0m\u001b[32mDEBUG   \u001b[0m Imported \u001b[1;36m42189\u001b[0m records from `rice_prot.ooffi_prot_chr4.i1.blocks`.                                                                                                                       \u001b]8;id=1652357469.812586-444655;file:///Users/ra57rut/.conda/envs/lastal/lib/python3.9/site-packages/jcvi/formats/base.py\u001b\\\u001b[2mbase.py\u001b[0m\u001b]8;;\u001b\\\u001b[2m:106\u001b[0m\n",
      "\u001b[2;36m          \u001b[0m\u001b[2;36m \u001b[0m\u001b[32mDEBUG   \u001b[0m Load file `rice_prot.oalta_prot_ChrC.i1.blocks`                                                                                                                                           \u001b]8;id=1652357469.813688-224573;file:///Users/ra57rut/.conda/envs/lastal/lib/python3.9/site-packages/jcvi/formats/base.py\u001b\\\u001b[2mbase.py\u001b[0m\u001b]8;;\u001b\\\u001b[2m:37\u001b[0m\n",
      "\u001b[2;36m          \u001b[0m\u001b[2;36m \u001b[0m\u001b[32mDEBUG   \u001b[0m Imported \u001b[1;36m42189\u001b[0m records from `rice_prot.oalta_prot_ChrC.i1.blocks`.                                                                                                                       \u001b]8;id=1652357469.8941288-219875;file:///Users/ra57rut/.conda/envs/lastal/lib/python3.9/site-packages/jcvi/formats/base.py\u001b\\\u001b[2mbase.py\u001b[0m\u001b]8;;\u001b\\\u001b[2m:106\u001b[0m\n",
      "\u001b[2;36m          \u001b[0m\u001b[2;36m \u001b[0m\u001b[32mDEBUG   \u001b[0m Load file `rice_prot.ocoarc_prot.i1.blocks`                                                                                                                                               \u001b]8;id=1652357469.896447-427765;file:///Users/ra57rut/.conda/envs/lastal/lib/python3.9/site-packages/jcvi/formats/base.py\u001b\\\u001b[2mbase.py\u001b[0m\u001b]8;;\u001b\\\u001b[2m:37\u001b[0m\n",
      "\u001b[2;36m          \u001b[0m\u001b[2;36m \u001b[0m\u001b[32mDEBUG   \u001b[0m Imported \u001b[1;36m42189\u001b[0m records from `rice_prot.ocoarc_prot.i1.blocks`.                                                                                                                           \u001b]8;id=1652357469.949641-997558;file:///Users/ra57rut/.conda/envs/lastal/lib/python3.9/site-packages/jcvi/formats/base.py\u001b\\\u001b[2mbase.py\u001b[0m\u001b]8;;\u001b\\\u001b[2m:106\u001b[0m\n",
      "\u001b[2;36m          \u001b[0m\u001b[2;36m \u001b[0m\u001b[32mDEBUG   \u001b[0m Load file `rice_prot.obra_prot.i1.blocks`                                                                                                                                                 \u001b]8;id=1652357469.9512792-371089;file:///Users/ra57rut/.conda/envs/lastal/lib/python3.9/site-packages/jcvi/formats/base.py\u001b\\\u001b[2mbase.py\u001b[0m\u001b]8;;\u001b\\\u001b[2m:37\u001b[0m\n",
      "\u001b[2;36m[14:11:10]\u001b[0m\u001b[2;36m \u001b[0m\u001b[32mDEBUG   \u001b[0m Imported \u001b[1;36m42189\u001b[0m records from `rice_prot.obra_prot.i1.blocks`.                                                                                                                             \u001b]8;id=1652357470.039-390462;file:///Users/ra57rut/.conda/envs/lastal/lib/python3.9/site-packages/jcvi/formats/base.py\u001b\\\u001b[2mbase.py\u001b[0m\u001b]8;;\u001b\\\u001b[2m:106\u001b[0m\n",
      "\u001b[2;36m          \u001b[0m\u001b[2;36m \u001b[0m\u001b[32mDEBUG   \u001b[0m Load file `rice_prot.lpe_prot.i1.blocks`                                                                                                                                                  \u001b]8;id=1652357470.040551-494786;file:///Users/ra57rut/.conda/envs/lastal/lib/python3.9/site-packages/jcvi/formats/base.py\u001b\\\u001b[2mbase.py\u001b[0m\u001b]8;;\u001b\\\u001b[2m:37\u001b[0m\n",
      "\u001b[2;36m          \u001b[0m\u001b[2;36m \u001b[0m\u001b[32mDEBUG   \u001b[0m Imported \u001b[1;36m42189\u001b[0m records from `rice_prot.lpe_prot.i1.blocks`.                                                                                                                              \u001b]8;id=1652357470.09762-361040;file:///Users/ra57rut/.conda/envs/lastal/lib/python3.9/site-packages/jcvi/formats/base.py\u001b\\\u001b[2mbase.py\u001b[0m\u001b]8;;\u001b\\\u001b[2m:106\u001b[0m\n"
     ]
    }
   ],
   "source": [
    "!python3.9 -m jcvi.formats.base join rice_prot.Opun_prot.i1.blocks rice_prot.ooffi_prot_chr4.i1.blocks rice_prot.oalta_prot_ChrC.i1.blocks rice_prot.ocoarc_prot.i1.blocks rice_prot.obra_prot.i1.blocks rice_prot.lpe_prot.i1.blocks --noheader | cut -f1,2,4,6,8,10,12 > rice_oryza_lpe_Opun.blocks"
   ]
  },
  {
   "cell_type": "markdown",
   "id": "940bae27",
   "metadata": {},
   "source": [
    "## Microsynteny plot"
   ]
  },
  {
   "cell_type": "markdown",
   "id": "c730ee9b",
   "metadata": {},
   "source": [
    "Select the genomic region of our interest. In this case, the genomic region span around 300 genes that include the momilactones cluster (I tried to have it in the middle of the region)"
   ]
  },
  {
   "cell_type": "code",
   "execution_count": 1,
   "id": "f2b073e2",
   "metadata": {},
   "outputs": [],
   "source": [
    "!sed -n 14658,14947p rice_oryza_lpe_Opun.blocks > rice_oryza_lpe_Opun_blocks"
   ]
  },
  {
   "cell_type": "markdown",
   "id": "1a4795ca",
   "metadata": {},
   "source": [
    "Design the layout of our plot and write a file with this layout"
   ]
  },
  {
   "cell_type": "code",
   "execution_count": 88,
   "id": "d972ccd2",
   "metadata": {
    "jupyter": {
     "source_hidden": true
    },
    "tags": []
   },
   "outputs": [],
   "source": [
    "oryza_lpe_Opun_blocks='''# x,   y, rotation,     ha,     va, color, ratio,            label\n",
    "0.5, 0.7,        0, right,    left,      ,     1,       Osativa Chr4\n",
    "0.5, 0.6,        0, right, left,      ,    .5, Opun Chr4\n",
    "0.5, 0.5,        0, right, left,      ,    .5, Ooff Chr4\n",
    "0.5, 0.4,        0, right, left,      ,    .5, Oalta Chr4\n",
    "0.5, 0.3,        0, right, left,      ,    .5, Ocoarc Scaffold26\n",
    "0.5, 0.2,        0, right, left,      ,    .5, Obra Chr4\n",
    "0.5, 0.1,        0, right, left,      ,    .5, Lperr Chr4\n",
    "# edges\n",
    "e, 0, 1\n",
    "e, 1, 2\n",
    "e, 2, 3\n",
    "e, 3, 4\n",
    "e, 4, 5\n",
    "e, 5, 6'''\n",
    "!echo \"{oryza_lpe_Opun_blocks}\">oryza_lpe_Opun_blocks.layout"
   ]
  },
  {
   "cell_type": "markdown",
   "id": "7db684ab",
   "metadata": {},
   "source": [
    "Combine all the annotation files of each species"
   ]
  },
  {
   "cell_type": "code",
   "execution_count": 13,
   "id": "3e33702f",
   "metadata": {},
   "outputs": [],
   "source": [
    "!cat rice_prot.bed ooffi_prot.bed oalta_prot_ChrC.bed ocoarc_prot.bed obra_prot.bed lpe_prot.bed Opun_prot.bed > oryza_lpe_Opun.bed"
   ]
  },
  {
   "cell_type": "markdown",
   "id": "72e4a501",
   "metadata": {},
   "source": [
    "Add missing orthologs and color edges"
   ]
  },
  {
   "cell_type": "markdown",
   "id": "e381e05e",
   "metadata": {},
   "source": [
    "In this step, we need to add some missing information and assign colors to our momilactones genes in the plot. It's a bit tricky because given the nature of the software, it won't draw lines from one of your gene of interests in your reference genome and paralogs in the other species. For example, O. sativa has only one CPS4 copy, but O. alta has three, the software will only show the line for the O. alta copy that is more similar to the O. sativa CPS4. \n",
    "\n",
    "Same occurs with KSL4. There are two paralogs in O. officinalis but the software by default only will represent one. I added the second manually\n",
    "\n",
    "To fix this, I copied the row with O. sativa CPS4 and pasted it twice. Then, in each of the added rows and in the column for O. alta CPS4, I added one of the two missing CPS4 copies, respectively."
   ]
  },
  {
   "cell_type": "markdown",
   "id": "9f2e6eb7-382b-493d-808d-4a7a10c84159",
   "metadata": {},
   "source": [
    "#### To color the lines:  \n",
    "\n",
    "Add at the beggining of you row of interest the color code follow by *. This is how it looks like in the case of figure 1A after adding all the missing connections to the paralogs: \n",
    "\n",
    "```\n",
    "#a6611a*LOC_Os04g09900.1\tOPUNC04G02770.1\tOoffiChr04g00263.1\tOalC04g148720.1\tWLYV01017775.1.g81.t1\t.\t.\n",
    "#a6611a*LOC_Os04g09900.1\tOPUNC04G02770.1\tOoffiChr04g00263.1\tOalC04g148840.1\tWLYV01017775.1.g81.t1\t.\t.\n",
    "#a6611a*LOC_Os04g09900.1\tOPUNC04G02770.1\tOoffiChr04g00263.1\tOalC04g148650.1\tWLYV01017775.1.g81.t1\t.\t.\n",
    "#018571*LOC_Os04g09920.1\tOPUNC04G02780.1\tOoffiChr04g00264.1\tOalC04g148580.1\tWLYV01017775.1.g76.t1\trna-XM_006653110.3\t.\n",
    "LOC_Os04g09950.1\t.\t.\t.\t.\t.\t.\n",
    "LOC_Os04g09960.1\t.\t.\t.\t.\t.\t.\n",
    "LOC_Os04g09990.1\t.\t.\t.\t.\t.\t.\n",
    "#80cdc1*LOC_Os04g10000.1\tOPUNC04G02800.1\tOoffiChr04g00266.1\tOalC04g148820.1\tWLYV01017775.1.g80.t1\t.\t.\n",
    "#80cdc1*LOC_Os04g10010.1\tOPUNC04G02820.1\tOoffiChr04g00266.1\tOalC04g148820.1\tWLYV01017775.1.g80.t1\t.\t.\n",
    "LOC_Os04g10020.1\t.\t.\t.\tWLYV01017775.1.g82.t1\t.\t.\n",
    "LOC_Os04g10050.1\t.\t.\t.\t.\t.\t.\n",
    "#dfc27d*LOC_Os04g10060.1\tOPUNC04G02860.2\tOoffiChr04g00269.2\tOalC04g148800.1\tWLYV01017775.1.g77.t1\t.\t.\n",
    "#dfc27d*LOC_Os04g10060.1\tOPUNC04G02860.2\tOoffiChr04g00265.2\tOalC04g148800.1\tWLYV01017775.1.g77.t1\t.\t.\n",
    "LOC_Os04g10080.1\t.\t.\t.\t.\t.\t.\n",
    "LOC_Os04g10140.1\t.\t.\t.\t.\t.\t.\n",
    "LOC_Os04g10150.1\t.\t.\t.\t.\t.\t.\n",
    "#018571*LOC_Os04g10160.1\tOPUNC04G02870.1\tOoffiChr04g00264.1\tOalC04g148580.1\tWLYV01017775.1.g76.t1\trna-XM_040523537.1\t.\n",
    "LOC_Os04g10170.1\t.\t.\t.\t.\t.\t.\n",
    "```"
   ]
  },
  {
   "cell_type": "code",
   "execution_count": 18,
   "id": "8f48ab23-d44e-4cf1-a6be-b60133466350",
   "metadata": {},
   "outputs": [
    {
     "name": "stdout",
     "output_type": "stream",
     "text": [
      "\u001b[2;36m[14:24:48]\u001b[0m\u001b[2;36m \u001b[0m\u001b[32mDEBUG   \u001b[0m Load file `oryza_lpe_Opun.bed`                                                                                                                                                            \u001b]8;id=1652358288.425579-637113;file:///Users/ra57rut/.conda/envs/lastal/lib/python3.9/site-packages/jcvi/formats/base.py\u001b\\\u001b[2mbase.py\u001b[0m\u001b]8;;\u001b\\\u001b[2m:37\u001b[0m\n",
      "\u001b[2;36m[14:24:50]\u001b[0m\u001b[2;36m \u001b[0m\u001b[32mDEBUG   \u001b[0m Load file `rice_oryza_lpe_Opun_momi_dup_blocks`                                                                                                                                           \u001b]8;id=1652358290.5035882-725421;file:///Users/ra57rut/.conda/envs/lastal/lib/python3.9/site-packages/jcvi/formats/base.py\u001b\\\u001b[2mbase.py\u001b[0m\u001b]8;;\u001b\\\u001b[2m:37\u001b[0m\n",
      "\u001b[2;36m          \u001b[0m\u001b[2;36m \u001b[0m\u001b[32mDEBUG   \u001b[0m Load file `oryza_lpe_Opun_blocks.layout`                                                                                                                                                  \u001b]8;id=1652358290.507841-869282;file:///Users/ra57rut/.conda/envs/lastal/lib/python3.9/site-packages/jcvi/formats/base.py\u001b\\\u001b[2mbase.py\u001b[0m\u001b]8;;\u001b\\\u001b[2m:37\u001b[0m\n",
      "Column 0: LOC_Os04g07250.1 - LOC_Os04g13010.1 (Chr4:3847605-7178541)\n",
      "  Chr4 .. 290 (293) features .. +\n",
      "Column 1: OPUNC04G01960.1 - OPUNC04G03750.1 (4:3118125-6489688)\n",
      "  4 .. 418 (127) features .. +\n",
      "Column 2: OoffiChr04g00164.1 - OoffiChr04g00281.1 (OoffiChr04:4353045-8599270)\n",
      "  OoffiChr04 .. 118 (67) features .. +\n",
      "Column 3: OalC04g150570.1 - OalC04g145810.1 (GWHAZTO00000004:2426888-7448850)\n",
      "  GWHAZTO00000004 .. 374 (110) features .. +\n",
      "Column 4: WLYV01017775.1.g28.t1 - WLYV01017775.1.g153.t1 (WLYV01017775.1:515128-2199337)\n",
      "  WLYV01017775.1 .. 126 (80) features .. -\n",
      "Column 5: rna-XM_015836468.1 - rna-XM_040522996.1 (NC_023166.2:1717836-3351189)\n",
      "  NC_023166.2 .. 78 (83) features .. +\n",
      "Column 6: LPERR04G01330.1 - LPERR04G02810.1 (4:1560725-3460851)\n",
      "  4 .. 231 (100) features .. +\n",
      "\u001b[2;36m[14:24:54]\u001b[0m\u001b[2;36m \u001b[0m\u001b[32mDEBUG   \u001b[0m Figure saved to `rice_oryza_lpe_Opun_momi_dup_blocks.pdf` \u001b[1m(\u001b[0m2400px x 2100px\u001b[1m)\u001b[0m                                                                                                              \u001b]8;id=1652358294.0724359-575140;file:///Users/ra57rut/.conda/envs/lastal/lib/python3.9/site-packages/jcvi/graphics/base.py\u001b\\\u001b[2mbase.py\u001b[0m\u001b]8;;\u001b\\\u001b[2m:295\u001b[0m\n"
     ]
    }
   ],
   "source": [
    "# Microsynteny plot\n",
    "\n",
    "!python3.9 -m jcvi.graphics.synteny rice_oryza_lpe_Opun_momi_dup_blocks oryza_lpe_Opun.bed oryza_lpe_Opun_blocks.layout"
   ]
  },
  {
   "attachments": {},
   "cell_type": "markdown",
   "id": "03f2573c",
   "metadata": {},
   "source": [
    "# Microsynteny between MBGC in O. coarctata and E. crus-galli (Figure 1C)"
   ]
  },
  {
   "attachments": {},
   "cell_type": "markdown",
   "id": "8dde9d05",
   "metadata": {},
   "source": [
    "Download E. crus-galli prot and annotation\n",
    "\n",
    "https://download.cncb.ac.cn/gwh/Plants/Echinochloa_crus-galli_ec_v3_GWHBDNR00000000/GWHBDNR00000000.Protein.faa.gz\n",
    "https://download.cncb.ac.cn/gwh/Plants/Echinochloa_crus-galli_ec_v3_GWHBDNR00000000/GWHBDNR00000000.gff.gz"
   ]
  },
  {
   "attachments": {},
   "cell_type": "markdown",
   "id": "a2a8220e",
   "metadata": {},
   "source": [
    "Formating annotation"
   ]
  },
  {
   "cell_type": "code",
   "execution_count": 36,
   "id": "469b051f",
   "metadata": {},
   "outputs": [],
   "source": [
    "# Select E. crus-galli subgenome CH where momilactones cluster is found\n",
    "\n",
    "!awk '/ID=CH/' annotation/GWHBDNR00000000.gff > annotation/GWHBDNR00000000_CH.gff"
   ]
  },
  {
   "cell_type": "code",
   "execution_count": 45,
   "id": "f5375af4",
   "metadata": {},
   "outputs": [
    {
     "name": "stdout",
     "output_type": "stream",
     "text": [
      "\u001b[2;36m[12:09:03]\u001b[0m\u001b[2;36m \u001b[0m\u001b[32mDEBUG   \u001b[0m Load file `annotation/GWHBDNR00000000_CH.gff`     \u001b]8;id=1686305343.289053-838300;file:///Users/ra57rut/.conda/envs/lastal/lib/python3.9/site-packages/jcvi/formats/base.py\u001b\\\u001b[2mbase.py\u001b[0m\u001b]8;;\u001b\\\u001b[2m:37\u001b[0m\n",
      "\u001b[2;36m[12:09:14]\u001b[0m\u001b[2;36m \u001b[0m\u001b[32mDEBUG   \u001b[0m Extracted \u001b[1;36m35806\u001b[0m features \u001b[1m(\u001b[0m\u001b[33mtype\u001b[0m=\u001b[35mmRNA\u001b[0m \u001b[33mid\u001b[0m=\u001b[35mID\u001b[0m\u001b[1m)\u001b[0m       \u001b]8;id=1686305354.896126-255163;file:///Users/ra57rut/.conda/envs/lastal/lib/python3.9/site-packages/jcvi/formats/gff.py\u001b\\\u001b[2mgff.py\u001b[0m\u001b]8;;\u001b\\\u001b[2m:3052\u001b[0m\n",
      "\u001b[2;36m          \u001b[0m\u001b[2;36m \u001b[0m\u001b[32mDEBUG   \u001b[0m Skipped non-primary: \u001b[1;36m0\u001b[0m                           \u001b]8;id=1686305354.897316-536987;file:///Users/ra57rut/.conda/envs/lastal/lib/python3.9/site-packages/jcvi/formats/gff.py\u001b\\\u001b[2mgff.py\u001b[0m\u001b]8;;\u001b\\\u001b[2m:3056\u001b[0m\n"
     ]
    }
   ],
   "source": [
    "!python3.9 -m jcvi.formats.gff bed --type=mRNA --key=ID --primary_only annotation/GWHBDNR00000000_CH.gff -o EC_CH.bed"
   ]
  },
  {
   "attachments": {},
   "cell_type": "markdown",
   "id": "78114233",
   "metadata": {},
   "source": [
    "Formating proteome"
   ]
  },
  {
   "cell_type": "code",
   "execution_count": 42,
   "id": "e6cea1a0",
   "metadata": {},
   "outputs": [],
   "source": [
    "!python3.9 -m jcvi.formats.fasta format proteomes/GWHBDNR00000000.Protein.faa EC.pep"
   ]
  },
  {
   "attachments": {},
   "cell_type": "markdown",
   "id": "092a5697",
   "metadata": {},
   "source": [
    "Proteins IDs do not match annotation. \n",
    "I will reformat them: \n",
    "We want to have the OriID (AH01.1.mRNA1) after > and not the id GWHPBDNR000001 "
   ]
  },
  {
   "cell_type": "code",
   "execution_count": 43,
   "id": "396c796c",
   "metadata": {},
   "outputs": [
    {
     "data": {
      "text/plain": [
       "104774"
      ]
     },
     "execution_count": 43,
     "metadata": {},
     "output_type": "execute_result"
    }
   ],
   "source": [
    "from Bio import SeqIO\n",
    "\n",
    "def get_GeneID(description):\n",
    "    \n",
    "    \"\"\"\"Given a SeqRecord description string, return the gene name as a string.\n",
    "    \n",
    "    \"\"\"\n",
    "    from Bio import SeqIO\n",
    "    import regex as re\n",
    "    \n",
    "    new_id = re.search(r'\\tOriID=([^\\t]+)', description).group(1)\n",
    "\n",
    "    return(new_id)\n",
    "\n",
    "# Load Proteome\n",
    "Egalli = list(SeqIO.parse(\"EC.pep\", \"fasta\"))\n",
    "\n",
    "# Change Proteins ID \n",
    "for seqs in range(len(Egalli)):\n",
    "    Egalli[seqs].id = get_GeneID(Egalli[seqs].description)\n",
    "    \n",
    "SeqIO.write(Egalli, \"EC.pep\", \"fasta\")"
   ]
  },
  {
   "attachments": {},
   "cell_type": "markdown",
   "id": "1accaf09",
   "metadata": {},
   "source": [
    "regex expression: \n",
    "\\tOriID=([^\\t]+) \n",
    "\n",
    "    \\t matches the tab character, \n",
    "    OriID= matches the literal string \"OriID=\"\n",
    "    ([^\\t]+) captures one or more characters that are not a tab and saves it in a capturing group. \n",
    "    \n",
    "    This pattern ensures that only the desired string \"AH01.2.mRNA1\" is extracted from the section between two tab characters starting with OriID"
   ]
  },
  {
   "attachments": {},
   "cell_type": "markdown",
   "id": "c5c9b759",
   "metadata": {},
   "source": [
    "We need to reformat a bit more the protein header with the next line of code.\n",
    "Explanation:\n",
    "\n",
    "1. Each protein header looks like '>CH04.2371.mRNA1 GWHPBDNR084997 mRNA=GWHTBDNR084997\tGene=GWHGBDNR084997'. This command will simplify it and remove everything after the first space.\n",
    "\n",
    "2. Linearize the fasta file to filter by line with awk\n",
    "\n",
    "3. Filter with awk each line that contains 'CH', meaning that belongs to subgenome CH\n",
    "\n",
    "4. Delinearize"
   ]
  },
  {
   "cell_type": "code",
   "execution_count": 44,
   "id": "a9a9d21a",
   "metadata": {},
   "outputs": [],
   "source": [
    "# Reformat more the proteins header\n",
    "\n",
    "\n",
    "!sed -E 's/^>([^ ]+).*/>\\1/' EC.pep | awk '{ if ((NR>1)&&($0~/^>/)) { printf(\"\\n%s\", $0); } else if (NR==1) { printf(\"%s\", $0); } else { printf(\"\\t%s\", $0); } }' | awk '/>CH/' | tr \"\\t\" \"\\n\" > EC_CH.pep\n",
    "\n",
    "\n"
   ]
  },
  {
   "attachments": {},
   "cell_type": "markdown",
   "id": "1655c343",
   "metadata": {},
   "source": [
    "Find orthologs between O. coarctata scaffold26 and E. crus-galli CH"
   ]
  },
  {
   "cell_type": "code",
   "execution_count": 48,
   "id": "32216aed",
   "metadata": {
    "collapsed": true,
    "jupyter": {
     "outputs_hidden": true
    },
    "tags": []
   },
   "outputs": [],
   "source": [
    "!python3.9 -m jcvi.compara.catalog ortholog ocoarc_prot EC_CH --dbtype=prot --no_strip_names --liftover_dist=4"
   ]
  },
  {
   "attachments": {},
   "cell_type": "markdown",
   "id": "d71d91c2",
   "metadata": {},
   "source": [
    "Running MCScan"
   ]
  },
  {
   "cell_type": "code",
   "execution_count": 50,
   "id": "1b51dd49",
   "metadata": {},
   "outputs": [
    {
     "name": "stdout",
     "output_type": "stream",
     "text": [
      "\u001b[2;36m[12:13:28]\u001b[0m\u001b[2;36m \u001b[0m\u001b[32mDEBUG   \u001b[0m Load file `ocoarc_prot.bed`                       \u001b]8;id=1686305608.023778-954824;file:///Users/ra57rut/.conda/envs/lastal/lib/python3.9/site-packages/jcvi/formats/base.py\u001b\\\u001b[2mbase.py\u001b[0m\u001b]8;;\u001b\\\u001b[2m:37\u001b[0m\n",
      "\u001b[2;36m          \u001b[0m\u001b[2;36m \u001b[0m\u001b[32mDEBUG   \u001b[0m Load file `ocoarc_prot.EC_CH.lifted.anchors`      \u001b]8;id=1686305608.027627-846633;file:///Users/ra57rut/.conda/envs/lastal/lib/python3.9/site-packages/jcvi/formats/base.py\u001b\\\u001b[2mbase.py\u001b[0m\u001b]8;;\u001b\\\u001b[2m:37\u001b[0m\n",
      "Chain started: 6 blocks\n",
      "Chain 0: score=83 1 blocks remained..\n",
      "Chain 1: score=5 done!\n",
      "\u001b[2;36m          \u001b[0m\u001b[2;36m \u001b[0m\u001b[32mDEBUG   \u001b[0m MCscan blocks written to                     \u001b]8;id=1686305608.030685-62807;file:///Users/ra57rut/.conda/envs/lastal/lib/python3.9/site-packages/jcvi/compara/synteny.py\u001b\\\u001b[2msynteny.py\u001b[0m\u001b]8;;\u001b\\\u001b[2m:1696\u001b[0m\n",
      "                    `ocoarc.EC_CH.i1.blocks`.                                   \n"
     ]
    }
   ],
   "source": [
    "!python3.9 -m jcvi.compara.synteny mcscan ocoarc_prot.bed ocoarc_prot.EC_CH.lifted.anchors --iter=6 -o ocoarc.EC_CH.i1.blocks"
   ]
  },
  {
   "cell_type": "markdown",
   "id": "34b65ad9",
   "metadata": {},
   "source": [
    "Select the region containing the MBGC. In this case, nothing else but the cluster is syntenic."
   ]
  },
  {
   "cell_type": "code",
   "execution_count": 55,
   "id": "ec0629ca",
   "metadata": {},
   "outputs": [],
   "source": [
    "!sed -n 76,81p ocoarc.EC_CH.i1.blocks | cut -f1,3 > ocoarc_EC.blocks"
   ]
  },
  {
   "cell_type": "markdown",
   "id": "ead4d58a",
   "metadata": {},
   "source": [
    "Design layout"
   ]
  },
  {
   "cell_type": "code",
   "execution_count": 52,
   "id": "c5e02fb1",
   "metadata": {},
   "outputs": [],
   "source": [
    "ocoarc_EC_layout='''# x,   y, rotation,   ha,     va,   color, ratio,            label\n",
    "0.5, 0.6,        0, left, center,       m,     1,       Ocoarctata scaffold26\n",
    "0.5, 0.4,        0, left, center, #fc8d62,     1, Ecrus-galli scaffold290\n",
    "# edges\n",
    "e, 0, 1'''\n",
    "!echo \"{ocoarc_EC_layout}\">ocoarc_EC.layout"
   ]
  },
  {
   "cell_type": "markdown",
   "id": "ee4ce2ec",
   "metadata": {},
   "source": [
    "Combine annotations"
   ]
  },
  {
   "cell_type": "code",
   "execution_count": 53,
   "id": "f3ce940e",
   "metadata": {},
   "outputs": [],
   "source": [
    "!cat ocoarc_prot.bed EC_CH.bed > ocoarc_EC.bed"
   ]
  },
  {
   "cell_type": "markdown",
   "id": "c46f0bd9",
   "metadata": {},
   "source": [
    "Draw microsynteny plot"
   ]
  },
  {
   "cell_type": "code",
   "execution_count": 59,
   "id": "867bff30",
   "metadata": {},
   "outputs": [
    {
     "name": "stdout",
     "output_type": "stream",
     "text": [
      "\u001b[2;36m[12:19:58]\u001b[0m\u001b[2;36m \u001b[0m\u001b[32mDEBUG   \u001b[0m Load file `ocoarc_EC.bed`                         \u001b]8;id=1686305998.555198-547042;file:///Users/ra57rut/.conda/envs/lastal/lib/python3.9/site-packages/jcvi/formats/base.py\u001b\\\u001b[2mbase.py\u001b[0m\u001b]8;;\u001b\\\u001b[2m:37\u001b[0m\n",
      "\u001b[2;36m          \u001b[0m\u001b[2;36m \u001b[0m\u001b[32mDEBUG   \u001b[0m Load file `ocoarc_EC.blocks`                      \u001b]8;id=1686305998.975373-794165;file:///Users/ra57rut/.conda/envs/lastal/lib/python3.9/site-packages/jcvi/formats/base.py\u001b\\\u001b[2mbase.py\u001b[0m\u001b]8;;\u001b\\\u001b[2m:37\u001b[0m\n",
      "\u001b[2;36m          \u001b[0m\u001b[2;36m \u001b[0m\u001b[32mDEBUG   \u001b[0m Load file `ocoarc_EC.layout`                      \u001b]8;id=1686305998.976962-66389;file:///Users/ra57rut/.conda/envs/lastal/lib/python3.9/site-packages/jcvi/formats/base.py\u001b\\\u001b[2mbase.py\u001b[0m\u001b]8;;\u001b\\\u001b[2m:37\u001b[0m\n",
      "Column 0: WLYV01017775.1.g76.t1 - WLYV01017775.1.g81.t1 (WLYV01017775.1:1275743-1330431)\n",
      "  WLYV01017775.1 .. 6 (6) features .. +\n",
      "Column 1: CH04.2638.mRNA1 - CH04.2643.mRNA1 (GWHBDNR00000022:40949554-40996490)\n",
      "  GWHBDNR00000022 .. 6 (5) features .. +\n",
      "\u001b[2;36m          \u001b[0m\u001b[2;36m \u001b[0m\u001b[32mDEBUG   \u001b[0m A total of \u001b[1;36m5\u001b[0m orthogroups formed               \u001b]8;id=1686305998.979093-748348;file:///Users/ra57rut/.conda/envs/lastal/lib/python3.9/site-packages/jcvi/compara/synteny.py\u001b\\\u001b[2msynteny.py\u001b[0m\u001b]8;;\u001b\\\u001b[2m:266\u001b[0m\n",
      "\u001b[2;36m[12:20:13]\u001b[0m\u001b[2;36m \u001b[0m\u001b[32mDEBUG   \u001b[0m Figure saved to `ocoarc_EC.pdf` \u001b[1m(\u001b[0m2400px x        \u001b]8;id=1686306013.5548968-236202;file:///Users/ra57rut/.conda/envs/lastal/lib/python3.9/site-packages/jcvi/graphics/base.py\u001b\\\u001b[2mbase.py\u001b[0m\u001b]8;;\u001b\\\u001b[2m:295\u001b[0m\n",
      "                    2100px\u001b[1m)\u001b[0m                                                     \n"
     ]
    }
   ],
   "source": [
    "!python3.9 -m jcvi.graphics.synteny ocoarc_EC.blocks ocoarc_EC.bed ocoarc_EC.layout --glyphcolor=orthogroup --glyphstyle=arrow --genelabelsize=4"
   ]
  },
  {
   "attachments": {},
   "cell_type": "markdown",
   "id": "0ade7f44",
   "metadata": {},
   "source": [
    "# Triticeae Oryza MBGC microsynteny (Supplementary Figure 6) "
   ]
  },
  {
   "cell_type": "markdown",
   "id": "f211d380",
   "metadata": {},
   "source": [
    "Wheat - proteome and annotation\n",
    "\n",
    "https://wheat-urgi.versailles.inrae.fr/Seq-Repository/Annotations \n",
    "From the annotation .zip file, I used the .HC.gff3 (High Confidence) and the iwgsc_refseqv2.1_annotation_200916_HC_pep.fasta\n",
    "\n",
    "H. vulgare\n",
    "\n",
    "https://data.jgi.doe.gov/refine-download/phytozome?genome_id=702&_gl=1*1wsa393*_ga*Nzc0NDYxMTE4LjE2OTUzODAyNTk.*_ga_YBLMHYR3C2*MTcwMjY0OTE3NC41LjEuMTcwMjY1MDgzOC4wLjAuMA..&expanded=Phytozome-702\n"
   ]
  },
  {
   "cell_type": "markdown",
   "id": "023b03e4",
   "metadata": {},
   "source": [
    " Reformating proteome\n"
   ]
  },
  {
   "cell_type": "code",
   "execution_count": null,
   "id": "df880366",
   "metadata": {},
   "outputs": [],
   "source": [
    "# Select Wheat Chr2A\n",
    "!awk '/^>/ {P=index($0,\"TraesCS2A\")>0} {if(P) print} ' iwgsc_refseqv2.1_annotation_200916_HC_pep.fasta > iwgsc2.1_Chr2A.HC.fasta\n",
    "# Select Wheat Chr2D\n",
    "!awk '/^>/ {P=index($0,\"TraesCS2D\")>0} {if(P) print} ' iwgsc_refseqv2.1_annotation_200916_HC_pep.fasta > iwgsc2.1_Chr2D.HC.fasta"
   ]
  },
  {
   "cell_type": "code",
   "execution_count": null,
   "id": "13d7bff1",
   "metadata": {},
   "outputs": [],
   "source": [
    "!python3.9 -m jcvi.formats.fasta format iwgsc2.1_Chr2A.HC.fasta W2A.pep\n",
    "!python3.9 -m jcvi.formats.fasta format iwgsc2.1_Chr2D.HC.fasta W2D.pep\n",
    "!python3.9 -m jcvi.formats.fasta format HvulgareMorex_702_V3.protein_primaryTranscriptOnly.fa Hvu.pep\n",
    "\n",
    "# O. sativa and O. coarctata are already formated from the code used for figure 1b"
   ]
  },
  {
   "cell_type": "markdown",
   "id": "6f4d484f",
   "metadata": {},
   "source": [
    " Reformating annotation"
   ]
  },
  {
   "cell_type": "code",
   "execution_count": null,
   "id": "057ca438",
   "metadata": {},
   "outputs": [],
   "source": [
    "# Select Wheat Chr2A gff\n",
    "! awk /\"Chr2A\"/ iwgsc_refseqv2.1_annotation_200916_HC.gff3 > iwgsc2.1_Chr2A.HC.gff3\n",
    "# Select Wheat Chr2D gff\n",
    "! awk /\"Chr2D\"/ iwgsc_refseqv2.1_annotation_200916_HC.gff3 > iwgsc2.1_Chr2D.HC.gff3"
   ]
  },
  {
   "cell_type": "code",
   "execution_count": null,
   "id": "382e2efe",
   "metadata": {},
   "outputs": [],
   "source": [
    "!python3.9 -m jcvi.formats.gff bed --type=mRNA --key=ID --primary_only iwgsc2.1_Chr2A.HC.gff3 -o W2A.bed\n",
    "!python3.9 -m jcvi.formats.gff bed --type=mRNA --key=ID --primary_only iwgsc2.1_Chr2D.HC.gff3 -o W2D.bed\n",
    "!python3.9 -m jcvi.formats.gff bed --type=mRNA --key=Name --primary_only HvulgareMorex_702_V3.gene_exons.gff3 -o Hvu.bed\n",
    "\n",
    "# O. sativa and O. coarctata are already formated from the code used for figure 1b"
   ]
  },
  {
   "cell_type": "markdown",
   "id": "cd5f2add",
   "metadata": {},
   "source": [
    " Orthologs"
   ]
  },
  {
   "cell_type": "code",
   "execution_count": null,
   "id": "1fea0722",
   "metadata": {},
   "outputs": [],
   "source": [
    "!python3.9 -m jcvi.compara.catalog ortholog W2A W2D --dbtype=prot --no_strip_names --liftover_dist=5\n",
    "!python3.9 -m jcvi.compara.catalog ortholog W2A Hvu --dbtype=prot --no_strip_names --liftover_dist=5\n",
    "!python3.9 -m jcvi.compara.catalog ortholog W2A ocoarc_prot --dbtype=prot --no_strip_names --liftover_dist=5\n",
    "!python3.9 -m jcvi.compara.catalog ortholog W2A rice_prot --dbtype=prot --no_strip_names --liftover_dist=5"
   ]
  },
  {
   "cell_type": "markdown",
   "id": "0b4d25f8",
   "metadata": {},
   "source": [
    " Synteny MCscan"
   ]
  },
  {
   "cell_type": "code",
   "execution_count": null,
   "id": "5ac44796",
   "metadata": {},
   "outputs": [],
   "source": [
    "!python3.9 -m jcvi.compara.synteny mcscan W2A.bed W2A.W2D.lifted.anchors --iter=1 -o W2A.W2D.i1.blocks\n",
    "!python3.9 -m jcvi.compara.synteny mcscan W2A.bed W2A.Hvu.lifted.anchors --iter=1 -o W2A.Hvu.i1.blocks\n",
    "!python3.9 -m jcvi.compara.synteny mcscan W2A.bed W2A.ocoarc_prot.lifted.anchors --iter=1 -o W2A.ocoar.i1.blocks\n",
    "!python3.9 -m jcvi.compara.synteny mcscan W2A.bed W2A.rice_prot.lifted.anchors --iter=1 -o W2A.rice_prot.i1.blocks"
   ]
  },
  {
   "cell_type": "markdown",
   "id": "7cfcc763",
   "metadata": {},
   "source": [
    "Join synteny blocks"
   ]
  },
  {
   "cell_type": "code",
   "execution_count": null,
   "id": "3649cf06",
   "metadata": {},
   "outputs": [],
   "source": [
    "!python3.9 -m jcvi.formats.base join W2A.W2D.i1.blocks W2A.Hvu.i1.blocks W2A.ocoar.i1.blocks W2A.rice_prot.i1.blocks --noheader | cut -f1,2,4,6,8 > W2A.blocks"
   ]
  },
  {
   "cell_type": "markdown",
   "id": "71707f01",
   "metadata": {},
   "source": [
    " Select region of interest"
   ]
  },
  {
   "cell_type": "code",
   "execution_count": null,
   "id": "db87b8eb",
   "metadata": {},
   "outputs": [],
   "source": [
    "!sed -n 1,734p W2A.blocks > W2A_blocks"
   ]
  },
  {
   "cell_type": "markdown",
   "id": "abb708de",
   "metadata": {},
   "source": [
    "Combine annotation"
   ]
  },
  {
   "cell_type": "code",
   "execution_count": null,
   "id": "caa97e0d",
   "metadata": {},
   "outputs": [],
   "source": [
    "!cat W2A.bed W2D.bed Hvu.bed ocoarc_prot.bed rice_prot.bed > W2A_blocks.bed"
   ]
  },
  {
   "cell_type": "markdown",
   "id": "284e43e0",
   "metadata": {},
   "source": [
    "Plot layout"
   ]
  },
  {
   "cell_type": "code",
   "execution_count": null,
   "id": "7c90b12e",
   "metadata": {},
   "outputs": [],
   "source": [
    "W2A_blocks='''# x,   y, rotation,     ha,     va, color, ratio,            label\n",
    "0.5, 0.7,        0, right,    left,      ,     1,       Wheat Chr2A\n",
    "0.5, 0.6,        0, right, left,      ,    .5, Wheat Chr2D\n",
    "0.5, 0.3,        0, right, left,      ,    .5, H. vulgare Chr2\n",
    "0.5, 0.2,        0, right, left,      ,    .5, O. coarctata Scf26\n",
    "0.5, 0.1,        0, right, left,      ,    .5, O. sativa Chr4\n",
    "# edges\n",
    "e, 0, 1\n",
    "e, 1, 2\n",
    "e, 2, 3\n",
    "e, 3, 4'''\n",
    "!echo \"{W2A_blocks}\">W2A_blocks.layout"
   ]
  },
  {
   "cell_type": "markdown",
   "id": "f3b555c6",
   "metadata": {},
   "source": [
    "Microsynteny plot"
   ]
  },
  {
   "cell_type": "code",
   "execution_count": null,
   "id": "02975f8b",
   "metadata": {},
   "outputs": [],
   "source": [
    "!python3.9 -m jcvi.graphics.synteny W2A_blocks W2A_blocks.bed W2A_blocks.layout --glyphcolor=orthogroup"
   ]
  }
 ],
 "metadata": {
  "kernelspec": {
   "display_name": "lastal",
   "language": "python",
   "name": "python3"
  },
  "language_info": {
   "codemirror_mode": {
    "name": "ipython",
    "version": 3
   },
   "file_extension": ".py",
   "mimetype": "text/x-python",
   "name": "python",
   "nbconvert_exporter": "python",
   "pygments_lexer": "ipython3",
   "version": "3.9.4"
  }
 },
 "nbformat": 4,
 "nbformat_minor": 5
}
