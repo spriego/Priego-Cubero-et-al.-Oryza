{
 "cells": [
  {
   "attachments": {},
   "cell_type": "markdown",
   "id": "5e4abc7a",
   "metadata": {},
   "source": [
    "# MBGC microsynteny plot in Oryza (Figure 1B)"
   ]
  },
  {
   "cell_type": "markdown",
   "id": "2b30684c",
   "metadata": {},
   "source": [
    "Download proteomes and annotations in fasta format from the sources specified in the manuscript.\n",
    "Add them into two separate folders: \n",
    "    proteomes\n",
    "    annotation\n",
    "\n",
    "Links: \n",
    "O. sativa - Annotation and proteome \n",
    "\n",
    "https://data.jgi.doe.gov/refine-download/phytozome?genome_id=323&_gl=1*d6rwwo*_ga*Nzc0NDYxMTE4LjE2OTUzODAyNTk.*_ga_YBLMHYR3C2*MTcwMjI5OTkwNi4zLjAuMTcwMjI5OTkwNi4wLjAuMA..&expanded=Phytozome-323\n",
    "\n",
    "O. punctata - Annotation and proteome \n",
    "\n",
    "https://ftp.ensemblgenomes.ebi.ac.uk/pub/plants/release-57/gff3/oryza_punctata/\n",
    "https://ftp.ensemblgenomes.ebi.ac.uk/pub/plants/release-57/fasta/oryza_punctata/pep/\n",
    "\n",
    "O. officinalis - Annotation and genome assembly \n",
    "\n",
    "https://datacommons.cyverse.org/browse/iplant/home/shared/commons_repo/curated/Shenton_OofficinalisAnnotation_2019\n",
    "https://www.ncbi.nlm.nih.gov/datasets/genome/GCA_008326285.1/\n",
    "\n",
    "Proteome (provided in the repository) obteined with gffread (see Figure_4E_SNP_calling_code.md)\n",
    "\n",
    "O. alta - Annotation and genome assembly \n",
    "\n",
    "https://download.cncb.ac.cn/gwh/Plants/Oryza_PPR1_GWHAZTO00000000/GWHAZTO00000000.Protein.faa.gz\n",
    "https://download.cncb.ac.cn/gwh/Plants/Oryza_PPR1_GWHAZTO00000000/GWHAZTO00000000.gff.gz\n",
    "\n",
    "O. coarctata - Annotation and proteome (scaffold 26) provided in the repository\n",
    "\n",
    "O. brachyantha - Annotation and proteome \n",
    "\n",
    "https://www.ncbi.nlm.nih.gov/datasets/genome/GCF_000231095.2/\n",
    "\n",
    "L. perrieri - Annotation and proteome\n",
    "\n",
    "https://ftp.gramene.org/release-68/gff3/leersia_perrieri/\n",
    "https://ftp.gramene.org/release-68/fasta/leersia_perrieri/pep/\n",
    "\n"
   ]
  },
  {
   "cell_type": "markdown",
   "id": "ff0ca88f",
   "metadata": {},
   "source": [
    "## Reformating files"
   ]
  },
  {
   "cell_type": "markdown",
   "id": "0118e51d",
   "metadata": {},
   "source": [
    "### Oryza alta"
   ]
  },
  {
   "cell_type": "markdown",
   "id": "7d4e60d8",
   "metadata": {},
   "source": [
    "Oryza alta is a tetraploid with subgenomes C and D. It is noteworthy that subgenome D lacks a Momilactone Biosynthetic Gene Cluster (MBGC). While illustrating the microsynteny pattern of both subgenomes could be informative, the inherent plot structure poses challenges. The disappearance of orthologous lines from the MBGC in the middle of the plot within subgenome D and the next genome might compromise visual clarity and aesthetics. That's why, I will only include subgenome C. \n",
    "\n",
    "The proteome file includes both subgenome C and D protein models. I will select these from subgenome C."
   ]
  },
  {
   "cell_type": "code",
   "execution_count": null,
   "id": "c10e9083",
   "metadata": {},
   "outputs": [],
   "source": [
    "# Selecting O. alta subgenome C\n",
    "\n",
    "from Bio import SeqIO\n",
    "\n",
    "\n",
    "# Load Proteome\n",
    "Oalta = list(SeqIO.parse(\"proteomes/oalta_GWHAZTO00000000.Protein.faa\", \"fasta\"))\n",
    "\n",
    "# Filter ChrC\n",
    "ChrC = []\n",
    "for seqs in range(len(Oalta)):\n",
    "    if 'ChrC' in Oalta[seqs].description:\n",
    "        ChrC.append(Oalta[seqs])\n",
    "    \n",
    "SeqIO.write(ChrC, \"Oalta_ChrC_prot\", \"fasta\")"
   ]
  },
  {
   "cell_type": "markdown",
   "id": "0fb65290",
   "metadata": {},
   "source": [
    "### Oryza officinalis"
   ]
  },
  {
   "cell_type": "markdown",
   "id": "79a71886",
   "metadata": {},
   "source": [
    "In Oryza officinalis, a difference is observed downstream of the Momilactone Biosynthetic Gene Cluster (MBGC) compared to other Oryza species, as depicted in Figure 1B. Following the MBGC in O. officinalis, there is a substantial deletion, creating a gap until the next syntenic gene with O. sativa. This deleted region in O. officinalis is found to be syntenic to a group of approximately 30 genes on O. officinalis chromosome 7 (it could be due to a translocation event).\n",
    "\n",
    "To facilitate a clearer representation of the synteny pattern in O. officinalis, I will only utilize protein models derived from O. officinalis chromosome 4. This focused approach is to prevent visual clutter in the plot that would arise as the software would include the whole chr05, 06 and part of 07 for officinalis (until the syntenic genes of o. sativa region appear in o. officinalis). \n",
    "\n",
    "The rest of O. officinalis chr4 is syntenic to rice chr04. "
   ]
  },
  {
   "cell_type": "code",
   "execution_count": null,
   "id": "a07dd484",
   "metadata": {},
   "outputs": [],
   "source": [
    "# Select O. officinalis Chromosome 4\n",
    "\n",
    "from Bio import SeqIO\n",
    "\n",
    "\n",
    "# Load Proteome\n",
    "Ooffi = list(SeqIO.parse(\"proteomes/Ooffi.prot.fa\", \"fasta\"))\n",
    "\n",
    "# Filter ChrC\n",
    "Chr4 = []\n",
    "for seqs in range(len(Ooffi)):\n",
    "    if 'Chr04' in Ooffi[seqs].description:\n",
    "        Chr4.append(Ooffi[seqs])\n",
    "    \n",
    "SeqIO.write(Chr4, \"Ooffi_Chr4_prot\", \"fasta\")"
   ]
  },
  {
   "cell_type": "markdown",
   "id": "0fc03fa4",
   "metadata": {},
   "source": [
    "## Reformating annotation for MCscan"
   ]
  },
  {
   "cell_type": "code",
   "execution_count": null,
   "id": "b9350e70",
   "metadata": {
    "collapsed": true,
    "jupyter": {
     "outputs_hidden": true
    },
    "tags": []
   },
   "outputs": [],
   "source": [
    "!python3.9 -m jcvi.formats.gff bed --type=mRNA --key=Name --primary_only Osativa_323_v7.0.gene.gff -o rice_prot.bed\n",
    "!python3.9 -m jcvi.formats.gff bed --type=mRNA --key=Name --primary_only oalta_GWHAZTO00000000.gff -o oalta_prot.bed\n",
    "!python3.9 -m jcvi.formats.gff bed --type=mRNA --key=Name --primary_only Ooffi_maker_gene_annotation.gff -o ooffi_prot.bed\n",
    "!python3.9 -m jcvi.formats.gff bed --type=transcript --key=ID --primary_only Ocoarctata_scaffold26.gff3 -o ocoarc_prot.bed\n",
    "!python3.9 -m jcvi.formats.gff bed --type=mRNA --key=ID --primary_only Obra.GCF_000231095.2_ObraRS2_genomic.gff -o obra_prot.bed\n",
    "!python3.9 -m jcvi.formats.gff bed --type=mRNA --key=transcript_id --primary_only Leersia_perrieri.Lperr_V1.4.51.gff3 -o lpe_prot.bed\n",
    "!python3.9 -m jcvi.formats.gff bed --type=mRNA --key=transcript_id --primary_only Oryza_punctata.Oryza_punctata_v1.2.53.gff3 -o Opun_prot.bed"
   ]
  },
  {
   "cell_type": "markdown",
   "id": "118722f9",
   "metadata": {},
   "source": [
    "## Reformating proteomes for MCscan"
   ]
  },
  {
   "cell_type": "code",
   "execution_count": null,
   "id": "3a8ae200",
   "metadata": {
    "collapsed": true,
    "jupyter": {
     "outputs_hidden": true
    },
    "tags": []
   },
   "outputs": [],
   "source": [
    "!python3.9 -m jcvi.formats.fasta format Osativa_323_v7.0.protein_primaryTranscriptOnly.fa rice_prot.pep\n",
    "!python3.9 -m jcvi.formats.fasta format Ooffi.prot.fa ooffi_prot.pep\n",
    "!python3.9 -m jcvi.formats.fasta format oalta_GWHAZTO00000000.Protein.faa oalta_prot.pep --sep=OriID= --index=1 --minlength=100\n",
    "!python3.9 -m jcvi.formats.fasta format Oalta_ChrC_prot oalta_prot_ChrC.pep --sep=OriID= --index=1 --minlength=100\n",
    "!python3.9 -m jcvi.formats.fasta format Ocoarc.predicted.prot.fa ocoarc_prot.pep --minlength=100\n",
    "!python3.9 -m jcvi.formats.fasta format Obra.prot.fa obra_prot.pep\n",
    "!python3.9 -m jcvi.formats.fasta format Leersia_perrieri.Lperr_V1.4.pep.all.fa lpe_prot.pep\n",
    "!python3.9 -m jcvi.formats.fasta format Oryza_punctata.Oryza_punctata_v1.2.pep.all.fa Opun_prot.pep"
   ]
  },
  {
   "cell_type": "markdown",
   "id": "caa951ee",
   "metadata": {},
   "source": [
    "## Find orthologs between species"
   ]
  },
  {
   "cell_type": "markdown",
   "id": "acd176ed",
   "metadata": {},
   "source": [
    "Take into account that the order matters. The first species is considered as your 'reference'. In figure 1A, O. sativa was alwasy the reference. "
   ]
  },
  {
   "cell_type": "markdown",
   "id": "50072107",
   "metadata": {},
   "source": [
    "### O. sativa vs O. officinalis"
   ]
  },
  {
   "cell_type": "code",
   "execution_count": null,
   "id": "e43e2e2c",
   "metadata": {
    "collapsed": true,
    "jupyter": {
     "outputs_hidden": true
    },
    "tags": []
   },
   "outputs": [],
   "source": [
    "!python3.9 -m jcvi.compara.catalog ortholog rice_prot ooffi_prot_chr4 --dbtype=prot --no_strip_names --liftover_dist=5"
   ]
  },
  {
   "cell_type": "markdown",
   "id": "e4eb418e",
   "metadata": {},
   "source": [
    "### O. sativa vs O. alta (C)"
   ]
  },
  {
   "cell_type": "code",
   "execution_count": null,
   "id": "759ca8d0",
   "metadata": {
    "collapsed": true,
    "jupyter": {
     "outputs_hidden": true
    },
    "tags": []
   },
   "outputs": [],
   "source": [
    "!python3.9 -m jcvi.compara.catalog ortholog rice_prot oalta_prot_ChrC --dbtype=prot --no_strip_names --liftover_dist=5"
   ]
  },
  {
   "cell_type": "markdown",
   "id": "5cd68d65",
   "metadata": {},
   "source": [
    "### O. sativa vs O. coarctata (scaffold 26)"
   ]
  },
  {
   "cell_type": "code",
   "execution_count": null,
   "id": "e6bd0ce5",
   "metadata": {
    "collapsed": true,
    "jupyter": {
     "outputs_hidden": true
    },
    "tags": []
   },
   "outputs": [],
   "source": [
    "!python3.9 -m jcvi.compara.catalog ortholog rice_prot ocoarc_prot --dbtype=prot --no_strip_names --liftover_dist=5"
   ]
  },
  {
   "cell_type": "markdown",
   "id": "ca1fe7fd",
   "metadata": {},
   "source": [
    "### O. sativa vs O. brachyantha"
   ]
  },
  {
   "cell_type": "code",
   "execution_count": null,
   "id": "2a39a6d5",
   "metadata": {
    "collapsed": true,
    "jupyter": {
     "outputs_hidden": true
    },
    "tags": []
   },
   "outputs": [],
   "source": [
    "!python3.9 -m jcvi.compara.catalog ortholog rice_prot obra_prot --dbtype=prot --no_strip_names --liftover_dist=5"
   ]
  },
  {
   "cell_type": "markdown",
   "id": "57eefb84",
   "metadata": {},
   "source": [
    "### O. sativa vs L. perrieri"
   ]
  },
  {
   "cell_type": "code",
   "execution_count": null,
   "id": "c6355d2c",
   "metadata": {
    "collapsed": true,
    "jupyter": {
     "outputs_hidden": true
    },
    "tags": []
   },
   "outputs": [],
   "source": [
    "!python3.9 -m jcvi.compara.catalog ortholog rice_prot lpe_prot --dbtype=prot --no_strip_names --liftover_dist=5"
   ]
  },
  {
   "cell_type": "markdown",
   "id": "2bacbc5c",
   "metadata": {},
   "source": [
    "### O. sativa vs O. punctata"
   ]
  },
  {
   "cell_type": "code",
   "execution_count": null,
   "id": "eee38e4a-413e-43be-98c5-3d8cc75d8afd",
   "metadata": {
    "collapsed": true,
    "jupyter": {
     "outputs_hidden": true
    },
    "tags": []
   },
   "outputs": [],
   "source": [
    "!python3.9 -m jcvi.compara.catalog ortholog rice_prot Opun_prot --dbtype=prot --no_strip_names --liftover_dist=5"
   ]
  },
  {
   "cell_type": "markdown",
   "id": "812a7ad2",
   "metadata": {},
   "source": [
    "## Create synteny files running MCscan"
   ]
  },
  {
   "cell_type": "markdown",
   "id": "f3ae0189",
   "metadata": {},
   "source": [
    "### O. sativa vs O. officinalis (Chr4)"
   ]
  },
  {
   "cell_type": "code",
   "execution_count": null,
   "id": "caf1e3ef",
   "metadata": {
    "collapsed": true,
    "jupyter": {
     "outputs_hidden": true
    },
    "tags": []
   },
   "outputs": [],
   "source": [
    "!python3.9 -m jcvi.compara.synteny mcscan rice_prot.bed rice_prot.ooffi_prot_chr4.lifted.anchors --iter=1 -o rice_prot.ooffi_prot_chr4.i1.blocks"
   ]
  },
  {
   "cell_type": "markdown",
   "id": "d5207caa",
   "metadata": {},
   "source": [
    "### O. sativa vs O. alta (C)"
   ]
  },
  {
   "cell_type": "code",
   "execution_count": null,
   "id": "f579dbd8",
   "metadata": {
    "collapsed": true,
    "jupyter": {
     "outputs_hidden": true
    },
    "tags": []
   },
   "outputs": [],
   "source": [
    "!python3.9 -m jcvi.compara.synteny mcscan rice_prot.bed rice_prot.oalta_prot_ChrC.lifted.anchors --iter=1 -o rice_prot.oalta_prot_ChrC.i1.blocks"
   ]
  },
  {
   "cell_type": "markdown",
   "id": "595f7b6e",
   "metadata": {},
   "source": [
    "### O. sativa vs O. coarctata (scaffold 26)"
   ]
  },
  {
   "cell_type": "code",
   "execution_count": null,
   "id": "f3690a0d",
   "metadata": {
    "collapsed": true,
    "jupyter": {
     "outputs_hidden": true
    },
    "tags": []
   },
   "outputs": [],
   "source": [
    "!python3.9 -m jcvi.compara.synteny mcscan rice_prot.bed rice_prot.ocoarc_prot.lifted.anchors --iter=1 -o rice_prot.ocoarc_prot.i1.blocks"
   ]
  },
  {
   "cell_type": "markdown",
   "id": "172f3abc",
   "metadata": {},
   "source": [
    "### O. sativa vs O. brachyantha"
   ]
  },
  {
   "cell_type": "code",
   "execution_count": null,
   "id": "52dca21c",
   "metadata": {
    "collapsed": true,
    "jupyter": {
     "outputs_hidden": true
    },
    "tags": []
   },
   "outputs": [],
   "source": [
    "!python3.9 -m jcvi.compara.synteny mcscan rice_prot.bed rice_prot.obra_prot.lifted.anchors --iter=1 -o rice_prot.obra_prot.i1.blocks"
   ]
  },
  {
   "cell_type": "markdown",
   "id": "97175975",
   "metadata": {},
   "source": [
    "### O. sativa vs L. perrieri"
   ]
  },
  {
   "cell_type": "code",
   "execution_count": null,
   "id": "380f9fbc",
   "metadata": {
    "collapsed": true,
    "jupyter": {
     "outputs_hidden": true
    },
    "tags": []
   },
   "outputs": [],
   "source": [
    "!python3.9 -m jcvi.compara.synteny mcscan rice_prot.bed rice_prot.lpe_prot.lifted.anchors --iter=1 -o rice_prot.lpe_prot.i1.blocks"
   ]
  },
  {
   "cell_type": "markdown",
   "id": "64db2172",
   "metadata": {},
   "source": [
    "### O. sativa vs O. punctata"
   ]
  },
  {
   "cell_type": "code",
   "execution_count": null,
   "id": "85438126-5dff-497f-8c39-3557d17d19fe",
   "metadata": {
    "tags": []
   },
   "outputs": [],
   "source": [
    "!python3.9 -m jcvi.compara.synteny mcscan rice_prot.bed rice_prot.Opun_prot.lifted.anchors --iter=1 -o rice_prot.Opun_prot.i1.blocks"
   ]
  },
  {
   "cell_type": "markdown",
   "id": "3ce6cbd0",
   "metadata": {},
   "source": [
    "## Joined syntenic blocks"
   ]
  },
  {
   "cell_type": "markdown",
   "id": "af8f676c",
   "metadata": {},
   "source": [
    "Generate a consolidated file containing all syntenic blocks obtained from pairwise comparisons of O. sativa with the rest of the Oryza species.\n",
    "The first column comprises all O. sativa proteins in sequential order. The subsequent columns represent the best ortholog match to each O. sativa protein in the remaining Oryza species "
   ]
  },
  {
   "cell_type": "code",
   "execution_count": null,
   "id": "1eeeb557-4516-4996-9c82-91ddb6b81aa1",
   "metadata": {
    "tags": []
   },
   "outputs": [],
   "source": [
    "!python3.9 -m jcvi.formats.base join rice_prot.Opun_prot.i1.blocks rice_prot.ooffi_prot_chr4.i1.blocks rice_prot.oalta_prot_ChrC.i1.blocks rice_prot.ocoarc_prot.i1.blocks rice_prot.obra_prot.i1.blocks rice_prot.lpe_prot.i1.blocks --noheader | cut -f1,2,4,6,8,10,12 > rice_oryza_lpe_Opun.blocks"
   ]
  },
  {
   "cell_type": "markdown",
   "id": "940bae27",
   "metadata": {},
   "source": [
    "## Microsynteny plot"
   ]
  },
  {
   "cell_type": "markdown",
   "id": "c730ee9b",
   "metadata": {},
   "source": [
    "Select the genomic region of our interest. In this case, the genomic region span around 300 genes that include the momilactones cluster (I tried to have it in the middle of the region)"
   ]
  },
  {
   "cell_type": "code",
   "execution_count": 1,
   "id": "f2b073e2",
   "metadata": {},
   "outputs": [],
   "source": [
    "!sed -n 14658,14947p rice_oryza_lpe_Opun.blocks > rice_oryza_lpe_Opun_blocks"
   ]
  },
  {
   "cell_type": "markdown",
   "id": "1a4795ca",
   "metadata": {},
   "source": [
    "Design the layout of our plot and write a file with this layout"
   ]
  },
  {
   "cell_type": "code",
   "execution_count": 88,
   "id": "d972ccd2",
   "metadata": {
    "jupyter": {
     "source_hidden": true
    },
    "tags": []
   },
   "outputs": [],
   "source": [
    "oryza_lpe_Opun_blocks='''# x,   y, rotation,     ha,     va, color, ratio,            label\n",
    "0.5, 0.7,        0, right,    left,      ,     1,       Osativa Chr4\n",
    "0.5, 0.6,        0, right, left,      ,    .5, Opun Chr4\n",
    "0.5, 0.5,        0, right, left,      ,    .5, Ooff Chr4\n",
    "0.5, 0.4,        0, right, left,      ,    .5, Oalta Chr4\n",
    "0.5, 0.3,        0, right, left,      ,    .5, Ocoarc Scaffold26\n",
    "0.5, 0.2,        0, right, left,      ,    .5, Obra Chr4\n",
    "0.5, 0.1,        0, right, left,      ,    .5, Lperr Chr4\n",
    "# edges\n",
    "e, 0, 1\n",
    "e, 1, 2\n",
    "e, 2, 3\n",
    "e, 3, 4\n",
    "e, 4, 5\n",
    "e, 5, 6'''\n",
    "!echo \"{oryza_lpe_Opun_blocks}\">oryza_lpe_Opun_blocks.layout"
   ]
  },
  {
   "cell_type": "markdown",
   "id": "7db684ab",
   "metadata": {},
   "source": [
    "Combine all the annotation files of each species"
   ]
  },
  {
   "cell_type": "code",
   "execution_count": 13,
   "id": "3e33702f",
   "metadata": {},
   "outputs": [],
   "source": [
    "!cat rice_prot.bed ooffi_prot.bed oalta_prot_ChrC.bed ocoarc_prot.bed obra_prot.bed lpe_prot.bed Opun_prot.bed > oryza_lpe_Opun.bed"
   ]
  },
  {
   "cell_type": "markdown",
   "id": "72e4a501",
   "metadata": {},
   "source": [
    "Add missing orthologs and color edges"
   ]
  },
  {
   "cell_type": "markdown",
   "id": "e381e05e",
   "metadata": {},
   "source": [
    "In this step, we need to add some missing information and assign colors to our momilactones genes in the plot. It's a bit tricky because given the nature of the software, it won't draw lines from one of your gene of interests in your reference genome and paralogs in the other species. For example, O. sativa has only one CPS4 copy, but O. alta has three, the software will only show the line for the O. alta copy that is more similar to the O. sativa CPS4. \n",
    "\n",
    "Same occurs with KSL4. There are two paralogs in O. officinalis but the software by default only will represent one. I added the second manually\n",
    "\n",
    "To fix this, I copied the row with O. sativa CPS4 and pasted it twice. Then, in each of the added rows and in the column for O. alta CPS4, I added one of the two missing CPS4 copies, respectively."
   ]
  },
  {
   "cell_type": "markdown",
   "id": "9f2e6eb7-382b-493d-808d-4a7a10c84159",
   "metadata": {},
   "source": [
    "#### To color the lines:  \n",
    "\n",
    "Add at the beggining of you row of interest the color code follow by *. This is how it looks like in the case of figure 1A after adding all the missing connections to the paralogs: \n",
    "\n",
    "```\n",
    "#a6611a*LOC_Os04g09900.1\tOPUNC04G02770.1\tOoffiChr04g00263.1\tOalC04g148720.1\tWLYV01017775.1.g81.t1\t.\t.\n",
    "#a6611a*LOC_Os04g09900.1\tOPUNC04G02770.1\tOoffiChr04g00263.1\tOalC04g148840.1\tWLYV01017775.1.g81.t1\t.\t.\n",
    "#a6611a*LOC_Os04g09900.1\tOPUNC04G02770.1\tOoffiChr04g00263.1\tOalC04g148650.1\tWLYV01017775.1.g81.t1\t.\t.\n",
    "#018571*LOC_Os04g09920.1\tOPUNC04G02780.1\tOoffiChr04g00264.1\tOalC04g148580.1\tWLYV01017775.1.g76.t1\trna-XM_006653110.3\t.\n",
    "LOC_Os04g09950.1\t.\t.\t.\t.\t.\t.\n",
    "LOC_Os04g09960.1\t.\t.\t.\t.\t.\t.\n",
    "LOC_Os04g09990.1\t.\t.\t.\t.\t.\t.\n",
    "#80cdc1*LOC_Os04g10000.1\tOPUNC04G02800.1\tOoffiChr04g00266.1\tOalC04g148820.1\tWLYV01017775.1.g80.t1\t.\t.\n",
    "#80cdc1*LOC_Os04g10010.1\tOPUNC04G02820.1\tOoffiChr04g00266.1\tOalC04g148820.1\tWLYV01017775.1.g80.t1\t.\t.\n",
    "LOC_Os04g10020.1\t.\t.\t.\tWLYV01017775.1.g82.t1\t.\t.\n",
    "LOC_Os04g10050.1\t.\t.\t.\t.\t.\t.\n",
    "#dfc27d*LOC_Os04g10060.1\tOPUNC04G02860.2\tOoffiChr04g00269.2\tOalC04g148800.1\tWLYV01017775.1.g77.t1\t.\t.\n",
    "#dfc27d*LOC_Os04g10060.1\tOPUNC04G02860.2\tOoffiChr04g00265.2\tOalC04g148800.1\tWLYV01017775.1.g77.t1\t.\t.\n",
    "LOC_Os04g10080.1\t.\t.\t.\t.\t.\t.\n",
    "LOC_Os04g10140.1\t.\t.\t.\t.\t.\t.\n",
    "LOC_Os04g10150.1\t.\t.\t.\t.\t.\t.\n",
    "#018571*LOC_Os04g10160.1\tOPUNC04G02870.1\tOoffiChr04g00264.1\tOalC04g148580.1\tWLYV01017775.1.g76.t1\trna-XM_040523537.1\t.\n",
    "LOC_Os04g10170.1\t.\t.\t.\t.\t.\t.\n",
    "```"
   ]
  },
  {
   "cell_type": "code",
   "execution_count": null,
   "id": "8f48ab23-d44e-4cf1-a6be-b60133466350",
   "metadata": {},
   "outputs": [],
   "source": [
    "# Microsynteny plot\n",
    "\n",
    "!python3.9 -m jcvi.graphics.synteny rice_oryza_lpe_Opun_momi_dup_blocks oryza_lpe_Opun.bed oryza_lpe_Opun_blocks.layout"
   ]
  },
  {
   "attachments": {},
   "cell_type": "markdown",
   "id": "03f2573c",
   "metadata": {},
   "source": [
    "# Microsynteny between MBGC in O. coarctata and E. crus-galli (Figure 1C)"
   ]
  },
  {
   "attachments": {},
   "cell_type": "markdown",
   "id": "8dde9d05",
   "metadata": {},
   "source": [
    "Download E. crus-galli prot and annotation\n",
    "\n",
    "https://download.cncb.ac.cn/gwh/Plants/Echinochloa_crus-galli_ec_v3_GWHBDNR00000000/GWHBDNR00000000.Protein.faa.gz\n",
    "https://download.cncb.ac.cn/gwh/Plants/Echinochloa_crus-galli_ec_v3_GWHBDNR00000000/GWHBDNR00000000.gff.gz"
   ]
  },
  {
   "attachments": {},
   "cell_type": "markdown",
   "id": "a2a8220e",
   "metadata": {},
   "source": [
    "Formating annotation"
   ]
  },
  {
   "cell_type": "code",
   "execution_count": 36,
   "id": "469b051f",
   "metadata": {},
   "outputs": [],
   "source": [
    "# Select E. crus-galli subgenome CH where momilactones cluster is found\n",
    "\n",
    "!awk '/ID=CH/' annotation/GWHBDNR00000000.gff > annotation/GWHBDNR00000000_CH.gff"
   ]
  },
  {
   "cell_type": "code",
   "execution_count": null,
   "id": "f5375af4",
   "metadata": {},
   "outputs": [],
   "source": [
    "!python3.9 -m jcvi.formats.gff bed --type=mRNA --key=ID --primary_only annotation/GWHBDNR00000000_CH.gff -o EC_CH.bed"
   ]
  },
  {
   "attachments": {},
   "cell_type": "markdown",
   "id": "78114233",
   "metadata": {},
   "source": [
    "Formating proteome"
   ]
  },
  {
   "cell_type": "code",
   "execution_count": 42,
   "id": "e6cea1a0",
   "metadata": {},
   "outputs": [],
   "source": [
    "!python3.9 -m jcvi.formats.fasta format proteomes/GWHBDNR00000000.Protein.faa EC.pep"
   ]
  },
  {
   "attachments": {},
   "cell_type": "markdown",
   "id": "092a5697",
   "metadata": {},
   "source": [
    "Proteins IDs do not match annotation. \n",
    "I will reformat them: \n",
    "We want to have the OriID (AH01.1.mRNA1) after > and not the id GWHPBDNR000001 "
   ]
  },
  {
   "cell_type": "code",
   "execution_count": 43,
   "id": "396c796c",
   "metadata": {},
   "outputs": [
    {
     "data": {
      "text/plain": [
       "104774"
      ]
     },
     "execution_count": 43,
     "metadata": {},
     "output_type": "execute_result"
    }
   ],
   "source": [
    "from Bio import SeqIO\n",
    "\n",
    "def get_GeneID(description):\n",
    "    \n",
    "    \"\"\"\"Given a SeqRecord description string, return the gene name as a string.\n",
    "    \n",
    "    \"\"\"\n",
    "    from Bio import SeqIO\n",
    "    import regex as re\n",
    "    \n",
    "    new_id = re.search(r'\\tOriID=([^\\t]+)', description).group(1)\n",
    "\n",
    "    return(new_id)\n",
    "\n",
    "# Load Proteome\n",
    "Egalli = list(SeqIO.parse(\"EC.pep\", \"fasta\"))\n",
    "\n",
    "# Change Proteins ID \n",
    "for seqs in range(len(Egalli)):\n",
    "    Egalli[seqs].id = get_GeneID(Egalli[seqs].description)\n",
    "    \n",
    "SeqIO.write(Egalli, \"EC.pep\", \"fasta\")"
   ]
  },
  {
   "attachments": {},
   "cell_type": "markdown",
   "id": "1accaf09",
   "metadata": {},
   "source": [
    "regex expression: \n",
    "\\tOriID=([^\\t]+) \n",
    "\n",
    "    \\t matches the tab character, \n",
    "    OriID= matches the literal string \"OriID=\"\n",
    "    ([^\\t]+) captures one or more characters that are not a tab and saves it in a capturing group. \n",
    "    \n",
    "    This pattern ensures that only the desired string \"AH01.2.mRNA1\" is extracted from the section between two tab characters starting with OriID"
   ]
  },
  {
   "attachments": {},
   "cell_type": "markdown",
   "id": "c5c9b759",
   "metadata": {},
   "source": [
    "We need to reformat a bit more the protein header with the next line of code.\n",
    "Explanation:\n",
    "\n",
    "1. Each protein header looks like '>CH04.2371.mRNA1 GWHPBDNR084997 mRNA=GWHTBDNR084997\tGene=GWHGBDNR084997'. This command will simplify it and remove everything after the first space.\n",
    "\n",
    "2. Linearize the fasta file to filter by line with awk\n",
    "\n",
    "3. Filter with awk each line that contains 'CH', meaning that belongs to subgenome CH\n",
    "\n",
    "4. Delinearize"
   ]
  },
  {
   "cell_type": "code",
   "execution_count": 44,
   "id": "a9a9d21a",
   "metadata": {},
   "outputs": [],
   "source": [
    "# Reformat more the proteins header\n",
    "\n",
    "\n",
    "!sed -E 's/^>([^ ]+).*/>\\1/' EC.pep | awk '{ if ((NR>1)&&($0~/^>/)) { printf(\"\\n%s\", $0); } else if (NR==1) { printf(\"%s\", $0); } else { printf(\"\\t%s\", $0); } }' | awk '/>CH/' | tr \"\\t\" \"\\n\" > EC_CH.pep\n",
    "\n",
    "\n"
   ]
  },
  {
   "attachments": {},
   "cell_type": "markdown",
   "id": "1655c343",
   "metadata": {},
   "source": [
    "Find orthologs between O. coarctata scaffold26 and E. crus-galli CH"
   ]
  },
  {
   "cell_type": "code",
   "execution_count": 48,
   "id": "32216aed",
   "metadata": {
    "collapsed": true,
    "jupyter": {
     "outputs_hidden": true
    },
    "tags": []
   },
   "outputs": [],
   "source": [
    "!python3.9 -m jcvi.compara.catalog ortholog ocoarc_prot EC_CH --dbtype=prot --no_strip_names --liftover_dist=4"
   ]
  },
  {
   "attachments": {},
   "cell_type": "markdown",
   "id": "d71d91c2",
   "metadata": {},
   "source": [
    "Running MCScan"
   ]
  },
  {
   "cell_type": "code",
   "execution_count": null,
   "id": "1b51dd49",
   "metadata": {},
   "outputs": [],
   "source": [
    "!python3.9 -m jcvi.compara.synteny mcscan ocoarc_prot.bed ocoarc_prot.EC_CH.lifted.anchors --iter=6 -o ocoarc.EC_CH.i1.blocks"
   ]
  },
  {
   "cell_type": "markdown",
   "id": "34b65ad9",
   "metadata": {},
   "source": [
    "Select the region containing the MBGC. In this case, nothing else but the cluster is syntenic."
   ]
  },
  {
   "cell_type": "code",
   "execution_count": 55,
   "id": "ec0629ca",
   "metadata": {},
   "outputs": [],
   "source": [
    "!sed -n 76,81p ocoarc.EC_CH.i1.blocks | cut -f1,3 > ocoarc_EC.blocks"
   ]
  },
  {
   "cell_type": "markdown",
   "id": "ead4d58a",
   "metadata": {},
   "source": [
    "Design layout"
   ]
  },
  {
   "cell_type": "code",
   "execution_count": 52,
   "id": "c5e02fb1",
   "metadata": {},
   "outputs": [],
   "source": [
    "ocoarc_EC_layout='''# x,   y, rotation,   ha,     va,   color, ratio,            label\n",
    "0.5, 0.6,        0, left, center,       m,     1,       Ocoarctata scaffold26\n",
    "0.5, 0.4,        0, left, center, #fc8d62,     1, Ecrus-galli scaffold290\n",
    "# edges\n",
    "e, 0, 1'''\n",
    "!echo \"{ocoarc_EC_layout}\">ocoarc_EC.layout"
   ]
  },
  {
   "cell_type": "markdown",
   "id": "ee4ce2ec",
   "metadata": {},
   "source": [
    "Combine annotations"
   ]
  },
  {
   "cell_type": "code",
   "execution_count": 53,
   "id": "f3ce940e",
   "metadata": {},
   "outputs": [],
   "source": [
    "!cat ocoarc_prot.bed EC_CH.bed > ocoarc_EC.bed"
   ]
  },
  {
   "cell_type": "markdown",
   "id": "c46f0bd9",
   "metadata": {},
   "source": [
    "Draw microsynteny plot"
   ]
  },
  {
   "cell_type": "code",
   "execution_count": null,
   "id": "867bff30",
   "metadata": {},
   "outputs": [],
   "source": [
    "!python3.9 -m jcvi.graphics.synteny ocoarc_EC.blocks ocoarc_EC.bed ocoarc_EC.layout --glyphcolor=orthogroup --glyphstyle=arrow --genelabelsize=4"
   ]
  },
  {
   "attachments": {},
   "cell_type": "markdown",
   "id": "0ade7f44",
   "metadata": {},
   "source": [
    "# Triticeae Oryza MBGC microsynteny (Supplementary Figure 6) "
   ]
  },
  {
   "cell_type": "markdown",
   "id": "f211d380",
   "metadata": {},
   "source": [
    "Wheat - proteome and annotation\n",
    "\n",
    "https://wheat-urgi.versailles.inrae.fr/Seq-Repository/Annotations \n",
    "From the annotation .zip file, I used the .HC.gff3 (High Confidence) and the iwgsc_refseqv2.1_annotation_200916_HC_pep.fasta\n",
    "\n",
    "H. vulgare\n",
    "\n",
    "https://data.jgi.doe.gov/refine-download/phytozome?genome_id=702&_gl=1*1wsa393*_ga*Nzc0NDYxMTE4LjE2OTUzODAyNTk.*_ga_YBLMHYR3C2*MTcwMjY0OTE3NC41LjEuMTcwMjY1MDgzOC4wLjAuMA..&expanded=Phytozome-702\n"
   ]
  },
  {
   "cell_type": "markdown",
   "id": "023b03e4",
   "metadata": {},
   "source": [
    " Reformating proteome\n"
   ]
  },
  {
   "cell_type": "code",
   "execution_count": null,
   "id": "df880366",
   "metadata": {},
   "outputs": [],
   "source": [
    "# Select Wheat Chr2A\n",
    "!awk '/^>/ {P=index($0,\"TraesCS2A\")>0} {if(P) print} ' iwgsc_refseqv2.1_annotation_200916_HC_pep.fasta > iwgsc2.1_Chr2A.HC.fasta\n",
    "# Select Wheat Chr2D\n",
    "!awk '/^>/ {P=index($0,\"TraesCS2D\")>0} {if(P) print} ' iwgsc_refseqv2.1_annotation_200916_HC_pep.fasta > iwgsc2.1_Chr2D.HC.fasta"
   ]
  },
  {
   "cell_type": "code",
   "execution_count": null,
   "id": "13d7bff1",
   "metadata": {},
   "outputs": [],
   "source": [
    "!python3.9 -m jcvi.formats.fasta format iwgsc2.1_Chr2A.HC.fasta W2A.pep\n",
    "!python3.9 -m jcvi.formats.fasta format iwgsc2.1_Chr2D.HC.fasta W2D.pep\n",
    "!python3.9 -m jcvi.formats.fasta format HvulgareMorex_702_V3.protein_primaryTranscriptOnly.fa Hvu.pep\n",
    "\n",
    "# O. sativa and O. coarctata are already formated from the code used for figure 1b"
   ]
  },
  {
   "cell_type": "markdown",
   "id": "6f4d484f",
   "metadata": {},
   "source": [
    " Reformating annotation"
   ]
  },
  {
   "cell_type": "code",
   "execution_count": null,
   "id": "057ca438",
   "metadata": {},
   "outputs": [],
   "source": [
    "# Select Wheat Chr2A gff\n",
    "! awk /\"Chr2A\"/ iwgsc_refseqv2.1_annotation_200916_HC.gff3 > iwgsc2.1_Chr2A.HC.gff3\n",
    "# Select Wheat Chr2D gff\n",
    "! awk /\"Chr2D\"/ iwgsc_refseqv2.1_annotation_200916_HC.gff3 > iwgsc2.1_Chr2D.HC.gff3"
   ]
  },
  {
   "cell_type": "code",
   "execution_count": null,
   "id": "382e2efe",
   "metadata": {},
   "outputs": [],
   "source": [
    "!python3.9 -m jcvi.formats.gff bed --type=mRNA --key=ID --primary_only iwgsc2.1_Chr2A.HC.gff3 -o W2A.bed\n",
    "!python3.9 -m jcvi.formats.gff bed --type=mRNA --key=ID --primary_only iwgsc2.1_Chr2D.HC.gff3 -o W2D.bed\n",
    "!python3.9 -m jcvi.formats.gff bed --type=mRNA --key=Name --primary_only HvulgareMorex_702_V3.gene_exons.gff3 -o Hvu.bed\n",
    "\n",
    "# O. sativa and O. coarctata are already formated from the code used for figure 1b"
   ]
  },
  {
   "cell_type": "markdown",
   "id": "cd5f2add",
   "metadata": {},
   "source": [
    " Orthologs"
   ]
  },
  {
   "cell_type": "code",
   "execution_count": null,
   "id": "1fea0722",
   "metadata": {},
   "outputs": [],
   "source": [
    "!python3.9 -m jcvi.compara.catalog ortholog W2A W2D --dbtype=prot --no_strip_names --liftover_dist=5\n",
    "!python3.9 -m jcvi.compara.catalog ortholog W2A Hvu --dbtype=prot --no_strip_names --liftover_dist=5\n",
    "!python3.9 -m jcvi.compara.catalog ortholog W2A ocoarc_prot --dbtype=prot --no_strip_names --liftover_dist=5\n",
    "!python3.9 -m jcvi.compara.catalog ortholog W2A rice_prot --dbtype=prot --no_strip_names --liftover_dist=5"
   ]
  },
  {
   "cell_type": "markdown",
   "id": "0b4d25f8",
   "metadata": {},
   "source": [
    " Synteny MCscan"
   ]
  },
  {
   "cell_type": "code",
   "execution_count": null,
   "id": "5ac44796",
   "metadata": {},
   "outputs": [],
   "source": [
    "!python3.9 -m jcvi.compara.synteny mcscan W2A.bed W2A.W2D.lifted.anchors --iter=1 -o W2A.W2D.i1.blocks\n",
    "!python3.9 -m jcvi.compara.synteny mcscan W2A.bed W2A.Hvu.lifted.anchors --iter=1 -o W2A.Hvu.i1.blocks\n",
    "!python3.9 -m jcvi.compara.synteny mcscan W2A.bed W2A.ocoarc_prot.lifted.anchors --iter=1 -o W2A.ocoar.i1.blocks\n",
    "!python3.9 -m jcvi.compara.synteny mcscan W2A.bed W2A.rice_prot.lifted.anchors --iter=1 -o W2A.rice_prot.i1.blocks"
   ]
  },
  {
   "cell_type": "markdown",
   "id": "7cfcc763",
   "metadata": {},
   "source": [
    "Join synteny blocks"
   ]
  },
  {
   "cell_type": "code",
   "execution_count": null,
   "id": "3649cf06",
   "metadata": {},
   "outputs": [],
   "source": [
    "!python3.9 -m jcvi.formats.base join W2A.W2D.i1.blocks W2A.Hvu.i1.blocks W2A.ocoar.i1.blocks W2A.rice_prot.i1.blocks --noheader | cut -f1,2,4,6,8 > W2A.blocks"
   ]
  },
  {
   "cell_type": "markdown",
   "id": "71707f01",
   "metadata": {},
   "source": [
    " Select region of interest"
   ]
  },
  {
   "cell_type": "code",
   "execution_count": null,
   "id": "db87b8eb",
   "metadata": {},
   "outputs": [],
   "source": [
    "!sed -n 1,734p W2A.blocks > W2A_blocks"
   ]
  },
  {
   "cell_type": "markdown",
   "id": "abb708de",
   "metadata": {},
   "source": [
    "Combine annotation"
   ]
  },
  {
   "cell_type": "code",
   "execution_count": null,
   "id": "caa97e0d",
   "metadata": {},
   "outputs": [],
   "source": [
    "!cat W2A.bed W2D.bed Hvu.bed ocoarc_prot.bed rice_prot.bed > W2A_blocks.bed"
   ]
  },
  {
   "cell_type": "markdown",
   "id": "284e43e0",
   "metadata": {},
   "source": [
    "Plot layout"
   ]
  },
  {
   "cell_type": "code",
   "execution_count": null,
   "id": "7c90b12e",
   "metadata": {},
   "outputs": [],
   "source": [
    "W2A_blocks='''# x,   y, rotation,     ha,     va, color, ratio,            label\n",
    "0.5, 0.7,        0, right,    left,      ,     1,       Wheat Chr2A\n",
    "0.5, 0.6,        0, right, left,      ,    .5, Wheat Chr2D\n",
    "0.5, 0.3,        0, right, left,      ,    .5, H. vulgare Chr2\n",
    "0.5, 0.2,        0, right, left,      ,    .5, O. coarctata Scf26\n",
    "0.5, 0.1,        0, right, left,      ,    .5, O. sativa Chr4\n",
    "# edges\n",
    "e, 0, 1\n",
    "e, 1, 2\n",
    "e, 2, 3\n",
    "e, 3, 4'''\n",
    "!echo \"{W2A_blocks}\">W2A_blocks.layout"
   ]
  },
  {
   "cell_type": "markdown",
   "id": "f3b555c6",
   "metadata": {},
   "source": [
    "Microsynteny plot"
   ]
  },
  {
   "cell_type": "code",
   "execution_count": null,
   "id": "02975f8b",
   "metadata": {},
   "outputs": [],
   "source": [
    "!python3.9 -m jcvi.graphics.synteny W2A_blocks W2A_blocks.bed W2A_blocks.layout --glyphcolor=orthogroup"
   ]
  }
 ],
 "metadata": {
  "kernelspec": {
   "display_name": "lastal",
   "language": "python",
   "name": "python3"
  },
  "language_info": {
   "codemirror_mode": {
    "name": "ipython",
    "version": 3
   },
   "file_extension": ".py",
   "mimetype": "text/x-python",
   "name": "python",
   "nbconvert_exporter": "python",
   "pygments_lexer": "ipython3",
   "version": "3.9.4"
  }
 },
 "nbformat": 4,
 "nbformat_minor": 5
}
